{
 "cells": [
  {
   "cell_type": "code",
   "execution_count": 1,
   "id": "a279182f",
   "metadata": {
    "scrolled": true
   },
   "outputs": [
    {
     "name": "stderr",
     "output_type": "stream",
     "text": [
      "\u001b[32m\u001b[1m  Activating\u001b[22m\u001b[39m environment at `C:\\Users\\nicot\\GitHub\\Heterogeneous Agents\\notebooks\\Project.toml`\n"
     ]
    },
    {
     "name": "stdout",
     "output_type": "stream",
     "text": [
      "\u001b[32m\u001b[1m      Status\u001b[22m\u001b[39m `D:\\GitHub\\Heterogeneous Agents\\notebooks\\Project.toml`\n",
      " \u001b[90m [336ed68f] \u001b[39mCSV v0.10.12\n",
      " \u001b[90m [17a596ad] \u001b[39mChebyshevApprox v0.3.2\n",
      " \u001b[90m [35d6a980] \u001b[39mColorSchemes v3.24.0\n",
      " \u001b[90m [1313f7d8] \u001b[39mDataFramesMeta v0.14.1\n",
      " \u001b[90m [31c24e10] \u001b[39mDistributions v0.25.107\n",
      " \u001b[90m [5789e2e9] \u001b[39mFileIO v1.16.2\n",
      " \u001b[90m [6218d12a] \u001b[39mImageMagick v1.3.0\n",
      " \u001b[90m [a98d9a8b] \u001b[39mInterpolations v0.15.1\n",
      " \u001b[90m [d2bf35a9] \u001b[39mIntervalRootFinding v0.5.11\n",
      " \u001b[90m [033835bb] \u001b[39mJLD2 v0.4.43\n",
      " \u001b[90m [0db19996] \u001b[39mNBInclude v2.3.0\n",
      " \u001b[90m [2774e3e8] \u001b[39mNLsolve v4.5.1\n",
      " \u001b[90m [429524aa] \u001b[39mOptim v1.7.8\n",
      " \u001b[90m [d96e819e] \u001b[39mParameters v0.12.3\n",
      " \u001b[90m [91a5bcdd] \u001b[39mPlots v1.39.0\n",
      " \u001b[90m [08abe8d2] \u001b[39mPrettyTables v2.3.1\n",
      " \u001b[90m [49802e3a] \u001b[39mProgressBars v1.5.1\n",
      " \u001b[90m [92933f4c] \u001b[39mProgressMeter v1.9.0\n",
      " \u001b[90m [d330b81b] \u001b[39mPyPlot v2.11.2\n",
      " \u001b[90m [f2b01f46] \u001b[39mRoots v2.1.0\n",
      " \u001b[90m [fd094767] \u001b[39mSuppressor v0.2.6\n",
      " \u001b[90m [bd369af6] \u001b[39mTables v1.11.1\n",
      " \u001b[90m [239c3e63] \u001b[39mVega v2.6.2\n",
      " \u001b[90m [fdbf4ff8] \u001b[39mXLSX v0.10.1\n",
      " \u001b[90m [8bb1440f] \u001b[39mDelimitedFiles\n",
      " \u001b[90m [37e2e46d] \u001b[39mLinearAlgebra\n"
     ]
    }
   ],
   "source": [
    "# SET UP\n",
    "using Pkg; Pkg.activate(\"C:/Users/nicot/GitHub/Heterogeneous Agents/notebooks/\")\n",
    "using Plots, Interpolations, LinearAlgebra, Optim, Roots, Parameters, JLD2, FileIO, XLSX, DelimitedFiles\n",
    "pyplot(); gr(fmt=:png);\n",
    "Pkg.status()"
   ]
  },
  {
   "cell_type": "markdown",
   "id": "2ebf1ddc",
   "metadata": {},
   "source": [
    "# Thesis Model 3\n",
    "\n",
    "- 2 Idiosyncratic shocks:\n",
    "    1. over firms possibility of changing prices\n",
    "    2. over households employment status\n",
    "- 2 Financial frictions:\n",
    "     1. limited diversification -> risky asset\n",
    "     2. debt limit\n",
    "- 2 Assets types\n",
    "    1. Risky: Capital (local)\n",
    "    2. Safe: Bond (foreign)\n",
    "- Calvo Pricing approach\n",
    "    If a firm cannot update its price, it will set the previous-period optimal price\n",
    "\n",
    "Individuals variables are in lowercase (when it's needed I will add to the notation the subindex $j$ for firms' variables and $i$ for households' variables)."
   ]
  },
  {
   "cell_type": "markdown",
   "id": "306f1edb",
   "metadata": {},
   "source": [
    "## Households\n",
    "\n",
    "There is a continuum of households of mass 1 aligned in the cartesian product $[0\\; , \\; 1] \\times [0\\; , \\; 1]$.\n",
    "\n",
    "Households are subject to an idiosyncratic employment shock, that follows a two state Markov's process $n_t\\in\\{n_e,n_u\\}$ (employed, unemployed). Households supply labor inelastically. Therefore, aggregate stationary employment is determined by the probabilities of the Markov's process:\n",
    "\\begin{equation*}\n",
    "    Pr_N^*(e)=Pr(n'=n_e|n=n_u)\\,/\\,\\big[Pr(n'=n_u|n=n_e)+Pr(n'=n_e|n=n_u)\\big] \\quad \\quad Pr_N^*(u) = 1- Pr_N^*(e)\n",
    "\\end{equation*}\n",
    "$$N = Pr_N^*(e) n_e + Pr_N^*(u) n_u $$\n",
    "\n",
    "Households can invest capital $k$ in a single firm (randomnly chosen if indeference). A single firm can (and will) recieve capital investments from more than one houshold; but a single household cannot invest in more than one firms. Threfore, for example, if houshold $i$ invests $k_t^i$ in firm $j$, in the next period she can claim a portion of firm $j$ benefits proportional to her investment, i.e. $\\Pi_{t+1} (k_t^i/k_t^j) - \\delta k_t^i$. Where $k^j_t$ is the total investment recieved by firm $j$, and $\\delta$ is the depreciation rate. Thus one can construct the capital return rate $r_{t+1} \\equiv \\Pi_{t+1}/k_t^j) - \\delta$.\n",
    "\n",
    "However, those benefits depend -among other variables- on the price shock. If firms can adjust prices the benfit will be $\\hat{\\Pi}$ ($\\hat{r})$, else $\\check{\\Pi} ($\\check{r}). This shock is i.i.d. among firms, i.e., chosing another firm will not change the investment risk.\n",
    "\n",
    "Household can buy the final good not only to use it as capital, but to consume. Consumptions preferences are defined by a CRRA instantaneous utility function with RRA parameter $\\gamma$, and by the intertemporal discount factor $\\beta$.\n",
    "\n",
    "Finally, households can borrow or lend to the rest of the world at a safe rate $R_f$ by purchasing positive or negative amounts of the safe asset $b$.\n",
    "\n",
    "$$\n",
    "c_t+k_t+b_t \\leq n_t W_t + k_{t-1}(1+r_t) + b_{t-1}(1+R_f)\n",
    "$$\n",
    "\\begin{equation*}\n",
    "c_t \\geq 0\n",
    "\\end{equation*}\n",
    "\\begin{equation*}\n",
    "k_t \\geq 0\n",
    "\\end{equation*}\n",
    "\\begin{equation*}\n",
    "b_t \\geq b_{min}\n",
    "\\end{equation*}\n"
   ]
  },
  {
   "cell_type": "markdown",
   "id": "9e6f91d9",
   "metadata": {},
   "source": [
    "## Firms\n",
    "\n",
    "The aggregate good $Y$ is produced with a continuum of intermediate goods, the technology is defined by the CES $\\rho$ and the TFP $A$.\n",
    "\n",
    "\n",
    "Each firm production function is:\n",
    "$$\n",
    "y_t=z_t k_{t-1}^\\eta l_t\n",
    "$$\n",
    "\n",
    "All firms **choose** their ideal price, but only a fraction of them can **set** prices. A firm sets prices with probability $\\lambda$ at any given period. If she cannot set prices, its price will be the previous optimal price. $P_t^j=\\hat{P}_t^j$ con probabilidad $\\lambda$; o $P_t^j=\\hat{P}_{t-1}^j$ con probabilidad $1-\\lambda$.\n",
    "\n",
    "Additionally, the firms are subject to a second idiosyncratic shock, this time a shock over their individual TFP, which is determined by the random variable $z_t$. \n",
    "\n",
    "Before the shocks each firm choses her optimal price. Once the the shocks take place, $z_t$ and $P_t$ are defined, which will determine the demanded amount $y_t$ for each firm (note that it will vary between firms). Moreover, this will determine the labor demand $l_t$ for each firm. However, this will have no impact on the capital $k_{t-1}$ required to produce, since it has been already set in the previous period.\n",
    "\n",
    "The optimal price in real terms is\n",
    "\n",
    "\\begin{equation} \\label{p_rel_opt}\n",
    "    \\hat{p}_t = \\frac{1}{\\rho} \\Big[ (1-\\alpha_t) \\frac{w_t}{\\zeta k_{t-1}^\\eta} + \\alpha_t \\frac{w_{t+1}}{\\zeta k_{t}^\\eta}(1+\\pi_t) \\Big]\n",
    "\\end{equation}\n",
    "\n",
    "Where $\\zeta \\equiv 1/E(1/z_t) \\;\\;\\; \\forall t$.\n"
   ]
  },
  {
   "cell_type": "markdown",
   "id": "372d4a51",
   "metadata": {},
   "source": [
    "## Rest of the world\n",
    "\n",
    "The rest of the world borrow (or lend) the amount $b$ to a local household at a free risk rate $r_f$.\n",
    "\n",
    "However they only lend if a collateral restriction is satisfied: $ b_{t} \\geq b_{min} $"
   ]
  },
  {
   "cell_type": "markdown",
   "id": "618f52b3",
   "metadata": {},
   "source": [
    "## Central Bank\n",
    "\n",
    "It sets the inflation rate $\\pi$."
   ]
  },
  {
   "cell_type": "code",
   "execution_count": 2,
   "id": "48bebcf0",
   "metadata": {},
   "outputs": [
    {
     "data": {
      "text/plain": [
       "Parametros\n",
       "  γ: Float64 5.0\n",
       "  β: Float64 0.993\n",
       "  c_min: Float64 0.001\n",
       "  η: Float64 0.25\n",
       "  τ: Float64 0.83\n",
       "  δ: Float64 0.017\n",
       "  ρ: Float64 0.78\n",
       "  σ: Float64 4.545454545454546\n",
       "  A: Float64 1.0\n",
       "  Pn: Array{Float64}((2, 2)) [0.9522 0.0478; 0.5 0.5]\n",
       "  n: Array{Float64}((1, 2)) [1.0 0.4]\n",
       "  Pe: Float64 0.9127418765972983\n",
       "  Pu: Float64 0.08725812340270167\n",
       "  N: Float64 0.947645125958379\n",
       "  λ: Float64 0.7\n",
       "  Pλ: Array{Float64}((1, 2)) [0.7 0.30000000000000004]\n",
       "  Z: Array{Float64}((1, 2)) [1.013 0.12]\n",
       "  Pz: Array{Float64}((1, 2)) [0.985 0.015]\n",
       "  Ez: Float64 0.999605\n",
       "  ζ: Float64 0.8823484711302116\n",
       "  Pr: Array{Float64}((4,)) [0.6895, 0.010499999999999999, 0.29550000000000004, 0.0045000000000000005]\n",
       "  ππ: Float64 0.1\n",
       "  Rf: Float64 0.007\n",
       "  b_min: Float64 -6.0\n",
       "  p: Float64 1.032638810373058\n",
       "  α: Float64 0.37370481886399426\n",
       "  golden_K: Float64 28.379258632243634\n",
       "  W_Y: Float64 0.6474\n"
      ]
     },
     "execution_count": 2,
     "metadata": {},
     "output_type": "execute_result"
    }
   ],
   "source": [
    "# STEP 1: Parameters α\n",
    "\n",
    "@with_kw struct Parametros\n",
    "    \n",
    "    # Household Parameters\n",
    "    γ = 5.0\n",
    "    β = 0.993\n",
    "    c_min = 0.001\n",
    "\n",
    "    #Firm parameters\n",
    "    η = 0.25\n",
    "    τ = 0.83\n",
    "    δ = 0.017\n",
    "    ρ = 0.78\n",
    "    σ = 1/(1-ρ)\n",
    "    A = 1.0\n",
    "\n",
    "    # n as a Markov process of two states and order 1:\n",
    "    Pn = [0.9522 0.0478; 0.5 0.5 ]  # 𝜖=1 empleado (e), 𝜖=2 desempleado (u); la fila me dice dónde estoy, la columna a dónde puedo ir\n",
    "    n = [1.0 0.4]\n",
    "    Pe=Pn[2,1]/(Pn[2,1]+Pn[1,2])\n",
    "    Pu=1-Pe\n",
    "    N=Pe*n[1]+Pu*n[2]\n",
    "\n",
    "    # Calvo Pricing probability\n",
    "    λ = 0.7\n",
    "    Pλ = [λ 1-λ]\n",
    "\n",
    "    # Production function\n",
    "    Z = [1.013 0.12]\n",
    "    Pz = [0.985 0.015]\n",
    "    Ez = (Z*Pz')[1]\n",
    "    ζ = (Z.^(-1/τ) *Pz')[1]^(-τ)\n",
    "    \n",
    "    Pr = vec(Pz'*Pλ)\n",
    "\n",
    "    # Exogenous Variables\n",
    "    ππ = 0.1\n",
    "    Rf = 0.007\n",
    "    b_min = -6.0\n",
    "    \n",
    "    # Relative Price\n",
    "    p = A * ( λ + (1-λ)*(1+ππ)^(σ-1) ) ^ (1/(σ-1))\n",
    "    # Marginal Cost Weight\n",
    "    α = ((1-λ)*(1+ππ)^(σ-1)/(1+Rf))/(λ+(1-λ)*(1+ππ)^(σ-1)/(1+Rf))\n",
    "    \n",
    "    # Golden Rule's K\n",
    "    golden_K = (  δ * (λ+(1-λ)*(1+ππ)^(σ/τ))^τ  / ( η * A^(1-σ) * N^τ * p^σ * ζ )   )^(1/(η-1))\n",
    "    \n",
    "    # Aproximate articipation of wages\n",
    "    W_Y = τ * ρ\n",
    "    \n",
    "end\n",
    "\n",
    "Para_0 = Parametros()"
   ]
  },
  {
   "cell_type": "markdown",
   "id": "bbac5988",
   "metadata": {},
   "source": [
    "## Equilibrium at Stationary State\n",
    "\n",
    "At stationary state, aggregate variables as aggregate labour supply, real wage, and aggregate capital are constant and represented by $N$, $W$ and $K$.\n",
    "\n",
    "### Intermediate Goods Market\n",
    "\n",
    "\\begin{equation}\n",
    "    \\hat{p}=\\big[ \\lambda + (1+\\lambda)(1+\\pi^*)^{\\sigma -1}   \\big]^\\frac{1}{\\sigma -1}\n",
    "\\end{equation}\n",
    "\n",
    "\\begin{equation}\n",
    "    \\alpha = \\frac{(1-\\lambda)\\frac{(1+\\pi^*)^{\\sigma-1}}{1+R}}{\\lambda+(1-\\lambda)\\frac{(1+\\pi^*)^{\\sigma-1}}{1+R}}\n",
    "\\end{equation}\n",
    "\n",
    "### Labor Market\n",
    "\n",
    "\\begin{equation} \\label{w_ee}\n",
    "    w=\\frac{ \\hat{p}^{\\frac{\\tau+(1-\\tau)\\sigma}{\\tau}} \\rho \\tau \\zeta^{1/\\tau} }{ Y^{\\frac{1-\\tau}{\\tau}} \\Big[ 1 - \\alpha + \\alpha (1+\\pi)^{\\frac{\\tau+(1-\\tau)\\sigma}{\\tau}} \\Big] } K^{\\eta/\\tau}\n",
    "\\end{equation}\n",
    "\n",
    "\\begin{equation} \n",
    "Y = \\frac{\\zeta AN^\\tau  K^\\eta\\hat{p}^\\sigma}{ \\Big[ \\lambda + (1-\\lambda) \\big(1+\\pi\\big)^{\\sigma/\\tau} \\Big]^{\\frac{\\tau+(1-\\tau)\\sigma}{\\tau}} }\n",
    "\\end{equation}\n",
    "\n",
    "### Return on capital\n",
    "\n",
    "\\begin{equation} \\label{r_ee_2}\n",
    "    r = \\left\\{ \\begin{array}{llll} \\hat{r} = \\frac{\\hat{\\Pi}(k,w,z_H) }{k} -\\delta & \\text{con probabilidad } \\lambda \\theta \\\\\n",
    "    \\hat{r} = \\frac{\\hat{\\Pi}(k,w,z_L) }{k} -\\delta & \\text{con probabilidad } \\lambda (1-\\theta) \\\\\n",
    "    \\check{r}=\\frac{\\check{\\Pi}(k,w,z_H) }{k} -\\delta & \\text{con probabilidad } 1-\\lambda \\theta \\\\\n",
    "    \\check{r}=\\frac{\\check{\\Pi}(k,w,z_L) }{k} -\\delta & \\text{con probabilidad } (1-\\lambda) (1-\\theta)\n",
    "    \\end{array} \\right.\n",
    "\\end{equation}\n",
    "\n",
    "Where $\\theta$ is the probability that $z_t=z_H$, and $z_H>z_L$.\n"
   ]
  },
  {
   "cell_type": "markdown",
   "id": "eb103641",
   "metadata": {},
   "source": [
    "### Assets grid\n",
    "\n",
    "There are lower bounds for the assets:\n",
    "\n",
    "\\begin{equation*}\n",
    "b \\geq b_{min}\n",
    "\\end{equation*}\n",
    "\n",
    "\\begin{equation*}\n",
    "k \\geq 0\n",
    "\\end{equation*}\n",
    "\n",
    "But there is no clear maximum. Usually, when we are dealing with only one asset we choose the upper bound for the grid somewhat arbitrarily.\n",
    "\n",
    "When dealing with two asset it would be useful to choose an arbitrary large upper bound for the sum of the assets, this is what Hintermaier & Koeniger (2010) did (maybe not explicitly).\n",
    "\n",
    "\\begin{equation*}\n",
    "k + b \\leq x_{max}\n",
    "\\end{equation*}\n",
    "\n",
    "So we can picture the feasible set as a triangle in the $k'$ $b'$ plane (instead of a more intuitive square).\n",
    "\n",
    "In fact, it would be useful to define $x\\equiv k + b$ and replace $b$ for $x$, for the EGM method. This is the approach followed by Hintermaier & Koeniger (2010). Re-thinking the problem in terms of $k$ and $x$ (instead of $k$ $b$) will let us handle the occasionally binding constraint easier, and iterate over a single policy function.\n",
    "\n",
    "Then, the $b$ restriction becomes:\n",
    "\\begin{equation*}\n",
    "x-k \\geq  b_{min}\n",
    "\\end{equation*}\n",
    "\n",
    "Which means:\n",
    "\\begin{equation*}\n",
    "k \\leq   x - b_{min}   \n",
    "\\end{equation*}\n",
    "\n",
    "$b$ lower bound now is an upper bound for $k$. "
   ]
  },
  {
   "cell_type": "code",
   "execution_count": 3,
   "id": "eaca3791",
   "metadata": {},
   "outputs": [
    {
     "data": {
      "text/plain": [
       "parameters_check_noshow (generic function with 1 method)"
      ]
     },
     "execution_count": 3,
     "metadata": {},
     "output_type": "execute_result"
    }
   ],
   "source": [
    "function parameters_check(P)\n",
    "    @unpack λ, ππ, σ, α, p = P\n",
    "    \n",
    "    # Optimal price\n",
    "    @show σ\n",
    "    @show (1-λ)/λ * (1+ππ)^(σ-1)\n",
    "    @show (1-λ)/λ * (1+ππ)^(σ-1) < 1\n",
    "    @show α\n",
    "    @show p\n",
    "\n",
    "    # Real Wage\n",
    "    @show (1-α)/α/(1+ππ)\n",
    "    @show (1-α)/α/(1+ππ) < 1\n",
    "    \n",
    "    return (1-λ)/λ * (1+ππ)^(σ-1), (1-α)/α/(1+ππ)\n",
    "\n",
    "end\n",
    "\n",
    "\n",
    "function parameters_check_noshow(P) \n",
    "    @unpack λ, ππ, σ, α, p = P\n",
    "    return (1-λ)/λ * (1+ππ)^(σ-1), (1-α)/α/(1+ππ)\n",
    "end"
   ]
  },
  {
   "cell_type": "code",
   "execution_count": 4,
   "id": "6b1542a1",
   "metadata": {},
   "outputs": [],
   "source": [
    "# Utility function\n",
    "u_crra(c,γ) = γ==1.0 ?  log(c)  :  (c^(1-γ)-1)/(1-γ)\n",
    "u_crra_inv(u,γ) = γ==1.0 ?  exp(u)  :  (u*(1-γ)+1)^(1/(1-γ))\n",
    "constant_term(c,γ)  = γ==1.0 ?  log(c) - 1.5 : γ*(1+γ)*c^(1-γ)*0.5/(1-γ) - 1/(1-γ)\n",
    "u(c,γ,c_min) = c>=c_min ?  u_crra(c,γ)  :  (1+γ)*c_min^(-γ)*c - γ*c_min^(-γ-1)*0.5*c^2 +  constant_term(c_min,γ)\n",
    "UMg(c,γ,c_min) = c>=c_min ?  c^(-γ)  : (1+γ)*c_min^(-γ) - γ*c_min^(-γ-1)*c  # para controlar casos de consumo negativo\n",
    "UMg_inv(umg,γ,c_min) = umg < c_min^(-γ) ? umg^(-1/γ) : ( (1+γ)*c_min^(-γ) - umg ) / ( γ*c_min^(-γ-1) )  # falta la inversa\n",
    "\n",
    "# Calvo equilibrium\n",
    "#Y(K,P) = P.ζ * P.N^P.τ * K^P.η * P.p^P.σ /  ( P.λ + (1-P.λ)*(1+P.ππ)^(P.σ/P.τ) )^P.τ \n",
    "function Y(K,P) \n",
    "    @unpack λ, ππ, σ, ζ, p, η, τ, N = P\n",
    "    return ζ * N^τ * K^η * p^σ /  ( λ + (1-λ)*(1+ππ)^(σ/τ) )^τ\n",
    "end\n",
    "\n",
    "\n",
    "#w(K,P) = P.p^((P.τ+(1-P.τ)*P.σ)/P.τ)  *  P.ζ^(1/P.τ)  * P.ρ * P.τ * K^(P.η/P.τ) / ( Y(K,P)^((1-P.τ)/P.τ) * (1+P.α+P.α*(1+P.ππ)^((P.τ+(1-P.τ)*P.σ)/P.τ) ) )\n",
    "function w(K,P) \n",
    "    @unpack λ, ππ, ρ, σ, ζ, p, η, τ, α = P\n",
    "    numerador = p^((τ+(1-τ)*σ)/τ)  *  ζ^(1/τ)  * ρ * τ * K^(η/τ)\n",
    "    denominador = Y(K,P)^((1-τ)/τ) * ( 1 - α + α *(1+ππ)^((τ+(1-τ)*σ)/τ))\n",
    "    return numerador / denominador\n",
    "end\n",
    "\n",
    "\n",
    "\n",
    "# Benefits\n",
    "#Π(Price,K,P,Z) = Y(K,P) * P.A^(P.σ-1) * Price^(-P.σ) * ( Price - w(K,P)/(Z*K^P.η))\n",
    "#Π(Price,K,P,Z) = Y(K,P) * Price^(1-P.σ) - w(K,P) * ( Y(K,P) / ( Price^P.σ * Z * K^P.η ) )^(1/P.τ)\n",
    "function Π(Price,K,P,Z) \n",
    "    @unpack λ, ππ, σ, ζ, p, η, τ = P\n",
    "    Ingresos = Y(K,P) * Price^(1-σ)\n",
    "    Costos = w(K,P) * ( Y(K,P) * Price^(-σ) / (Z * K^η) )^(1/τ)\n",
    "    return Ingresos - Costos\n",
    "end\n",
    "r_h(K,P,Z) = Π(P.p,K,P,Z)/K - P.δ\n",
    "r_l(K,P,Z) = Π(P.p/(1+P.ππ),K,P,Z)/K - P.δ\n",
    "r(K,P) = [r_h(K,P,P.Z[1]) r_h(K,P,P.Z[2]) r_l(K,P,P.Z[1]) r_l(K,P,P.Z[2])]\n",
    ";"
   ]
  },
  {
   "cell_type": "code",
   "execution_count": 5,
   "id": "d385c8fe",
   "metadata": {},
   "outputs": [
    {
     "name": "stdout",
     "output_type": "stream",
     "text": [
      "Y_ej = Y(K_ej, Para_ej) = 1.768142226714746\n",
      "W_ej = w(K_ej, Para_ej) = 1.2083074979933195\n",
      "Π_ej = Π(Para_ej.p, K_ej, Para_ej, Para_ej.Z[1]) = 0.7736349105788503\n",
      "r_ej = r(K_ej, Para_ej) = [0.02168174552894251 -0.46354006791361607 0.025840995026730554 -0.7919180178646903]\n",
      "rE_ej = (r_ej * Para_ej.Pr)[1] = 0.014154775779120667\n",
      "Investment_ej = Para_ej.δ * K_ej = 0.34\n"
     ]
    },
    {
     "data": {
      "text/plain": [
       "4.440892098500626e-16"
      ]
     },
     "execution_count": 5,
     "metadata": {},
     "output_type": "execute_result"
    }
   ],
   "source": [
    "K_ej = 20.0\n",
    "Para_ej = Parametros()\n",
    "\n",
    "@show Y_ej=Y(K_ej,Para_ej)\n",
    "@show W_ej=w(K_ej,Para_ej)\n",
    "@show Π_ej=Π(Para_ej.p,K_ej,Para_ej,Para_ej.Z[1])\n",
    "@show r_ej=r(K_ej,Para_ej)\n",
    "\n",
    "@show rE_ej = (r_ej * Para_ej.Pr)[1];\n",
    "@show Investment_ej = Para_ej.δ * K_ej\n",
    "\n",
    "rE_ej * K_ej + W_ej * Para_ej.N - ( Y_ej - Investment_ej)\n"
   ]
  },
  {
   "cell_type": "markdown",
   "id": "d8992c2e",
   "metadata": {},
   "source": [
    "### Households problem at stationary state\n",
    "\n",
    "The household problem at stationary state is:\n",
    "\n",
    "\\begin{equation*}\n",
    "\\begin{aligned}\n",
    "    V(k_{t-1},b_{t-1}|n_t,r_t) = \\max_{k_t,b_t} & \\Big\\{  \\frac{(c_t)^{1-\\gamma} -1}{1-\\gamma} + \\beta E_t V(k_{t},b_{t}|n_{t+1},r_{t+1}) \\Big\\} \\\\\n",
    "    \\text{sujeto a:   } & n_t W + k_{t-1} \\big(1+r_t\\big) + b_{t-1} \\big(1+R_f\\big) \\geq c_t + k_t + b_t \\\\\n",
    "    & k_t \\geq 0 \\\\\n",
    "    & b_t \\geq b_{min}\n",
    "\\end{aligned}\n",
    "\\end{equation*}\n",
    "\n",
    "Then, the policy correspondence that solves this problem is:\n",
    "\n",
    "\\begin{equation} \\label{g}\n",
    "\\begin{aligned}\n",
    "    g(k_{t-1},b_{t-1}|n_t,r_t) = \\text{arg}\\max_{k_t,b_t} & \\Big\\{  \\frac{(c_t)^{1-\\gamma} -1}{1-\\gamma} + \\beta E_t V(k_{t},b_{t}|n_{t+1},r_{t+1}) \\Big\\} \\\\\n",
    "    \\text{sujeto a:   } & n_t W + k_{t-1} \\big(1+r_t\\big) + b_{t-1} \\big(1+R_f\\big) \\geq c_t + k_t + b_t \\\\\n",
    "    & k_t \\geq 0 \\\\\n",
    "    & b_t \\geq b_{min}\n",
    "\\end{aligned}\n",
    "\\end{equation}\n",
    "\n",
    "To simplify notation we can say that:\n",
    "\\begin{equation*} \\label{pol}\n",
    "\\begin{aligned}\n",
    "    (k_{t},b_t) & = g(k_{t-1},b_{t-1}|r_t,n_t) \\\\\n",
    "    k_{t} & = g_k(k_{t-1},b_{t-1}|r_t,n_t) \\\\\n",
    "    b_{t} & = g_b(k_{t-1},b_{t-1}|r_t,n_t)\n",
    "\\end{aligned}\n",
    "\\end{equation*}\n",
    "\n",
    "Importantly $g$ is characterized by the FOC of the household problem's those are:\n",
    "\n",
    "$$\n",
    "    c_t^{-\\gamma}-\\eta^b_t = \\beta (1+R_f) E_t[c_{t+1}^{-\\gamma}] \\\\\n",
    "    c_t^{-\\gamma}-\\eta^k_t = \\beta E_t[(1+r_{t+1})c_{t+1}^{-\\gamma}] \\\\\n",
    "    \\eta^k_t k_t \\geq 0 \\; \\; \\; \\; \\;  k_t \\geq 0 \\\\\n",
    "    \\eta^b_t (b_t-b_{min}) \\geq 0 \\; \\; \\; \\; \\; b_t \\geq b_{min}\n",
    "$$\n",
    "\n",
    "Where $\\eta^b$ is the Lagrange's multiplier for $b$'s lower bound, and $\\eta^k$ is the Lagrange's multiplier for $k$'s one.\n",
    "\n"
   ]
  },
  {
   "cell_type": "markdown",
   "id": "9b55de79",
   "metadata": {},
   "source": [
    "The basic steps in the computation of the stationary distribution consists of an outer and inner loop. In the outer loop, we compute the aggregate capital stock and, hence, the factor prices and unemployment compensation.\n",
    "\n",
    "In the inner loop, we use the prices to compute the optimal policy function of the household using EGM. Then we compute the transition probability matrix having asset $a'$ at state $(\\epsilon',\\theta')$ at next period given that current period is $a$ $\\epsilon, \\theta$. Finally we find the stationary distribution for $a$ and the aggregate capital.\n",
    "\n",
    "Therefore we start with a first guess for $K_0$. This could be the stationary value for the representative agent problem, for example."
   ]
  },
  {
   "cell_type": "markdown",
   "id": "f661a368",
   "metadata": {},
   "source": [
    "### Basic assumptions\n",
    "\n",
    "Let $r_l \\equiv r(\\min{z})$ and $r_e \\equiv E[r(z)]$, then two senseful assumptions are:\n",
    "\n",
    "$$\n",
    "r_e>R_f>r_l\n",
    "$$\n",
    "\n",
    "(Following Hintermaier & Koeniger (2010) one should write $1+R_f>\\mu_k[1+r_l]$ and $\\mu_k$ could be different from 1, but I don't care for other cases different from $\\mu_k=1$ in this model)."
   ]
  },
  {
   "cell_type": "markdown",
   "id": "8262c69f",
   "metadata": {},
   "source": [
    "### Assets grid\n",
    "\n",
    "There are lower bounds for the assets:\n",
    "\n",
    "\\begin{equation*}\n",
    "b \\geq b_{min}\n",
    "\\end{equation*}\n",
    "\n",
    "\\begin{equation*}\n",
    "k \\geq 0\n",
    "\\end{equation*}\n",
    "\n",
    "But there is no clear maximum. Usually, when we are dealing with only one asset we choose the upper bound for the grid somewhat arbitrarily.\n",
    "\n",
    "When dealing with two asset it would be useful to choose an arbitrary large upper bound for the sum of the assets, this is what Hintermaier & Koeniger (2010) did (maybe not explicitly).\n",
    "\n",
    "\\begin{equation*}\n",
    "k + b \\leq x_{max}\n",
    "\\end{equation*}\n",
    "\n",
    "So we can picture the feasible set as a triangle in the $k'$ $b'$ plane (instead of a more intuitive square).\n",
    "\n",
    "In fact, it would be useful to define $x\\equiv k + b$ and replace $b$ for $x$, for the EGM method. This is the approach followed by Hintermaier & Koeniger (2010). Re-thinking the problem in terms of $k$ and $x$ (instead of $k$ $b$) will let us handle the occasionally binding constraint easier, and iterate over a single policy function.\n",
    "\n",
    "Then, the $b$ restriction becomes:\n",
    "\\begin{equation*}\n",
    "x-k \\geq  b_{min}\n",
    "\\end{equation*}\n",
    "\n",
    "Which means:\n",
    "\\begin{equation*}\n",
    "k \\leq   x - b_{min}   \n",
    "\\end{equation*}\n",
    "\n",
    "$b$ lower bound now is an upper bound for $k$. \n"
   ]
  },
  {
   "cell_type": "code",
   "execution_count": 5,
   "id": "7912afbe",
   "metadata": {},
   "outputs": [],
   "source": [
    "@with_kw struct Grids\n",
    "\n",
    "    # Definning the asset grid\n",
    "    b_min = -6.0  # <------------ SHOULD BE CONSISTENT WITH PARAMETROS\n",
    "    x_max = 600 # arbitrary\n",
    "    x_min = b_min \n",
    "    grid_p = 150\n",
    "\n",
    "    k_max = x_max - b_min\n",
    "    b_max = x_max\n",
    "\n",
    "\n",
    "    # Asset grid (uneven knot distributions, more at the begining)\n",
    "    X_grid = collect(range(0, stop=(x_max-x_min)^(0.5), length=grid_p)).^2 .+ x_min\n",
    "    K_grid = X_grid.-b_min\n",
    "    B_grid = X_grid\n",
    "\n",
    "\n",
    "    # Asset matrix (same rows)\n",
    "    K_mat = repeat(K_grid, outer=[1, grid_p])\n",
    "    X_mat = repeat(X_grid', outer=[grid_p, 1])\n",
    "    B_mat = repeat(B_grid', outer=[grid_p, 1])\n",
    "    \n",
    "end\n",
    "\n",
    "Grids_0 = Grids();"
   ]
  },
  {
   "cell_type": "markdown",
   "id": "38b98b30",
   "metadata": {},
   "source": [
    "## The Endogenous Grid Method\n",
    "\n",
    "Original policy functions are\n",
    "\n",
    "\\begin{equation*}\n",
    "g_k(k_t,b_t,n_{t+1},z_{t+1}) = k_{t+1}\n",
    "\\end{equation*}\n",
    "\\begin{equation*}\n",
    "g_b(k_t,b_t,n_{t+1},z_{t+1}) = b_{t+1}\n",
    "\\end{equation*}\n",
    "\n",
    "Replacing $b$ with $x$, we have (redefining $g_k$):\n",
    "\\begin{equation*}\n",
    "g_k(k_t,x_t,n_{t+1},z_{t+1}) = k_{t+1}\n",
    "\\end{equation*}\n",
    "\\begin{equation*}\n",
    "g_x(k_t,x_t,n_{t+1},z_{t+1}) = x_{t+1}\n",
    "\\end{equation*}\n",
    "\n",
    "Where $g_x$ is the sum of the previous $g_k$ and $g_b$\n",
    "\n",
    "Let suppose the economy ends at period $T$ then the policy function at period $T$ for $x$ would be $0=g_k^T(k_{T-1},x_{T-1},n_T,z_T)$\n",
    "\n",
    "The EGM method iterates backwards, that is in the first iteration it goes from $g_x^T$ to $g_x^{T-1}$. In the $m$-th iteration it goes from $g_x^{T-(m-1)}$ to $g_x^{T-m}$. Note that when $m \\to \\infty$ the resulting functions are the same and we get the policy function of some period that is infinitely away form the end period of the economy, that is $g_x$."
   ]
  },
  {
   "cell_type": "markdown",
   "id": "e7f43a7a",
   "metadata": {},
   "source": [
    "## First step of EGM\n",
    "\n",
    "The first step of the algorithm begins with the FOC-one and the budget constrain.\n",
    "\n",
    "Since\n",
    "\\begin{equation*}\n",
    "c'=C(k',x',n',z',x'')=x'+k'(r(z')-R_f) + n'W - x''\n",
    "\\end{equation*}\n",
    "Where $c'=c_{t+1}$, $k'=k_t$, $x'=x_t$, $n'=n_{t+1}$, $z'=z_{t+1}$ and $x''=x_{t+1}$.\n",
    "\n",
    "Then using $g_x'$ we get:\n",
    "\\begin{equation*}\n",
    "c'=C(k',x',n',z';g_x')=x'+k'(r(z')-R_f) + n'W - g_x'(k',x',n',z')\n",
    "\\end{equation*}\n"
   ]
  },
  {
   "cell_type": "markdown",
   "id": "b5b37cf6",
   "metadata": {},
   "source": [
    "To simplify notation, let's define $h$:\n",
    "$$\n",
    "h(k',x',n;g_x') = \\beta E\\{C(k',x',n',z';g_x')^{-\\gamma}[r(z')-R_f]\\,|\\,n\\}\n",
    "$$\n",
    "\n",
    "$h$ depends only of: $k'$, $x'$ and $n$, since the expectation operator \"replaces\" $n'$ and $z'$ for $n$.\n",
    "\n",
    "Then\n",
    "\\begin{equation*}\n",
    "\\eta_b-\\eta_k = h(k',x',n;g_x')\n",
    "\\end{equation*}"
   ]
  },
  {
   "cell_type": "markdown",
   "id": "b148aad1",
   "metadata": {},
   "source": [
    "### 4 cases\n",
    "\n",
    "If the restriction for $k'$ is not binding, that is $k'>0$, then $\\eta_k=0$.\n",
    "If the restriction for $b'$ is not binding, that is $b'>b_{min}$ or using $x$: $k'<x'-b_{min}$, then $\\eta_b=0$.\n",
    "\n",
    "Thus, there are four cases where:\n",
    "1. $0<k'<x'-b_{min}$, then $\\eta_k=\\eta_b=0$\n",
    "2. $0<k'=x'-b_{min}$, then $\\eta_k=0$\n",
    "3. $0=k'<x'-b_{min}$, then $\\eta_b=0$\n",
    "4. $0=k'=x'-b_{min}$ ($\\eta_k$ and $\\eta_b$ are indeterminate).\n",
    "\n",
    "Before hopping into each case, let me ask the following question: Given a policy function $g_x'$ and a pair $(x',n)$, what is the value of $k'$ that makes $h=0$? Let the answer be the implicit function $\\tilde{\\kappa}$, then:\n",
    "$$\n",
    "\\tilde{\\kappa}(x',n;g_x')=\\tilde{k'} \\; \\; \\; \\iff \\; \\; \\; 0 = h(x',\\tilde{k'},n;g_x')\n",
    "$$\n",
    "\n",
    "##### Case 1: inner solution\n",
    "If $\\tilde{k'}$ is in the feasible interval, that is $0 \\leq \\tilde{\\kappa}(x',n;g_x') \\leq x'-b_{min}$, then $\\tilde{k'}$ is a solution for the FOC 1, and $\\eta_b=\\eta_k=0$.\n",
    "\n",
    "If it doesn't, this means there is not feasible $k'$ that holds the FOC 1 without binding with a restriction. That is $\\forall k'\\in[0;x'-b_{min}]\\,:\\;\\; 0\\neq h(x',k',n;g_x')$. This implies, due to continuity, that given a pair $(x',n)$ there cannot coexist a feasible $k'$, say $k'_>$ that makes $h(x',k'_>,n;g_x')>0$ and another feasible $k'$, say $k'_<$ that makes $h(x',k'_<,n;g_x')<0$. Because if the latter were true, continuity would impose that there would be a intermediate feasible $k'$ such as $\\hat{k'}=\\alpha k'_> + (1-\\alpha) k'_<$ that makes $h(x',\\hat{k'},n;g_x')=0$.\n",
    "\n",
    "Simple put, if $\\tilde{k'}$ is not in the feasible interval for a given pair $(x',n)$, then for every feasible $k'$ all images of $h(x',k',n;g_x')$ are either positive or negative. That is, $\\forall k'\\in[0;x'-b_{min}]\\,:\\; 0>h(x,k',n;g_x') \\; \\; \\lor \\; \\;\\forall k'\\in[0;x'-b_{min}]\\,:\\; 0<h(x,k',n;g_x') $.\n",
    "\n",
    "Assume $x-b_{min}>0$, then $k'$ cannot be simultaneously $k'=x-b_{min}$ and $k'=0$. That is, if one restriction is binding $\\eta_i\\geq0$, the other is not $\\eta_j=0$.\n",
    "\n",
    "##### Case 2: corner solution - maximum\n",
    "If, for a given pair $(x',n)$, we have that $x-b_{min}>0$ and $h(x',k',n;g_x')>0$ for all feasible values of $k'$; then, $\\eta_b-\\eta_k>0$, then $\\eta_b>0$, then $k'=x-b_{min}$ and $\\eta_k=0$.\n",
    "\n",
    "##### Case 3: corner solution - minimum\n",
    "If, for a given pair $(x',n)$, we have that $x-b_{min}>0$ and $h(x',k',n;g_x')<0$ for all feasible values of $k'$; then, $\\eta_b-\\eta_k<0$, then $\\eta_k>0$, then $k'=0$ and $\\eta_b=0$.\n",
    "\n",
    "##### Case 4: double binding\n",
    "Finally, if $x-b_{min}=0$, this means $x-b_{min}=k'=0$ and both Lagrange's multipliers can be positive $\\eta_b\\geq0$ and $\\eta_k\\geq0$. Although we do know the value of $k'$, we do not know the value for $\\eta_b$, which is required for the next step.\n",
    "\n",
    "What does $\\eta_b\\geq0$ mean?\n",
    "It means that $c^{-\\gamma} \\geq \\beta (1+R_f) E[c'^{-\\gamma}]$. That is, $\\eta_b$ measures the deviation from the typical Euler equation. \n",
    "Since we know that $x'=b_{min}$ and $k'=0$, we can easily calculate $c'$ and $\\beta (1+R_f)E[c'^{-\\gamma}]$. Then, the above inequation becomes $c \\leq bound^{-\\frac{1}{\\gamma}} $.\n",
    "Which means, the household would love to have a higher $c$ and make the marginal utility of present consumption lower, but she cannot afford it, she is poor. How much is she going to spend in consumption when she cannot afford the optimal level? When she is poor, she will consume as much as she can and saves as little as she can (i.e., $x'=b_{min}$).\n",
    "If she has \\\\$5, she will spend \\\\$5. If she has \\\\$10, she will spend \\\\$10. There is not a unique solution for $c$, nor for $x$. In other words she could have been poor or very poor. That is, there are many values of $k$ and $x$ that would make the household poor enough to decide not to save, i.e., $x'=b_{min}$.\n",
    "\n",
    "We will use the first three cases to get a first $g_x$ and then we will adjust it by incorporating the consequences of the fourth case."
   ]
  },
  {
   "cell_type": "markdown",
   "id": "f0320dd8",
   "metadata": {},
   "source": [
    "Then, we retrieved the optimal portfolio diversification, i.e., if we know a household's employment state $n$ and how much she  wants to save ($x'$), we can calculate how she will diversify it, i.e., $k'$ and $b'$. This is what the following equation tells us. \n",
    "$$\n",
    "\\kappa(x',n;g_x')=\\text{med}\\big\\{0\\,;\\,\\tilde{\\kappa}(x',n;g_x')\\,;\\,x'-b_{min}\\big\\}\n",
    "$$\n",
    "\n",
    "Also it is possible to retrieve $\\eta_b$, recall that if $x'>b_{min}$ there cannot be simultaneously $\\eta_k=0$ and $\\eta_b=0$ (and none of them can ever be negative). Therefore:\n",
    "$$\n",
    "\\kappa_b(x',n;g_x')=\\text{max}\\big\\{0\\,;\\,h(x',\\kappa(x',n;g_x'),n;g_x')\\big\\}\n",
    "$$\n",
    "\n",
    "Note that in the case where $x'=b_{min}$, $\\kappa_b$ indicates $\\eta_b$ lower bound. That is $\\eta_b\\geq \\kappa_b(b_{min},n;g_x')$."
   ]
  },
  {
   "cell_type": "markdown",
   "id": "3bbb37e0",
   "metadata": {},
   "source": [
    "## Second step of the EGM\n",
    "\n",
    "We internalize the optimal portfolio diversification, so we no longer need to track two assets, if we know one asset we know the other asset.\n",
    "\n",
    "First, define $\\hat{g}_x'$ by combining $g$ and $\\kappa$ as:\n",
    "$$\n",
    "\\hat{g}_x'(x',n,n',r';g_x')=g_x'(x',\\kappa(x',n;g_x'),n',r')\n",
    "$$"
   ]
  },
  {
   "cell_type": "markdown",
   "id": "97e2c369",
   "metadata": {},
   "source": [
    "Recall the first FOC equation:\n",
    "\\begin{equation*}\n",
    " c^{-\\gamma}-\\eta_b = \\beta (1+R_f) E[c'^{-\\gamma}\\,|\\,n]\n",
    "\\end{equation*}\n",
    "\n",
    "To get $c$ we need $c'$ and $\\eta_b$.\n",
    "\n",
    "We already know $\\eta_b$ for almost all cases, and we can calculate $c'$ as:\n",
    "\n",
    "\\begin{equation*}\n",
    "c'=g_c(x',n,n',r';g_x')= x'(1+R_f)+\\kappa(x',n;g_x')(r'-R_f) + n'W - \\hat{g}_x'(x',n,n',r';g_x')\n",
    "\\end{equation*}"
   ]
  },
  {
   "cell_type": "markdown",
   "id": "1ef203e8",
   "metadata": {},
   "source": [
    "Then we can find $C^*(x',n;g_x')$ as:\n",
    "$$\n",
    "C^*(x',n;g_x') = \\Big\\{\\beta (1+R_f) E[C(x',n,n',z';g_x')^{-\\gamma}\\,|\\,n] + \\kappa_b(x',n;g_x')\\Big\\}^{-1/\\gamma}\n",
    "$$\n",
    "\n",
    "When $x'>b_{min}$, then we know $\\eta_b = \\kappa_b(x',n;g_x')$, so $c = C^*(x',n;g_x')$.\n",
    "However, if $x'=b_min$, then $\\eta_b \\geq \\kappa_b(x',n;g_x')$, so $c \\leq C^*(x',n;g_x')$.\n",
    "\n",
    "If a household in the previous period consumed as much as she could and saved as little as she could, i.e., $x'=b_{min}$, it means that her previous consumption was low, she would have loved to consume more by taking more debt, but incomplete markets didn't allow it. Then, there are several values of previous-period consumption that make $x'=b_{min}$.\n",
    "\n",
    "In summary:\n",
    "$$\n",
    "c = C^*(x',n;g_x') \\; \\; \\; \\text{if}    \\; x'>b_{min} \\\\\n",
    "c \\leq C^*(x',n;g_x') \\; \\; \\; \\text{if}  \\; x'=b_{min}\n",
    "$$"
   ]
  },
  {
   "cell_type": "markdown",
   "id": "8bf9874e",
   "metadata": {},
   "source": [
    "Finally, using $C^*(x',n;g_x')$ and the budget constrain, we can implicitly define the previous policy function.\n",
    "\n",
    "\\begin{equation*}\n",
    "x(1+R_f) + k[r(z)-R_f] + W n -x' =    C^*(x',n;g_x') \\; \\; \\; \\text{if}    \\; x'>b_{min} \\\\\n",
    "x(1+R_f) + k[r(z)-R_f] + W n -x' \\leq C^*(x',n;g_x') \\; \\; \\; \\text{if}    \\; x'=b_{min} \n",
    "\\end{equation*}\n",
    "\n",
    "$$\n",
    "x(1+R_f) + k[r(z)-R_f] + W n - g_x(k,x,n,z;g_x') =    C^*\\big(g_x(k,x,n,z;g_x'),n;g_x'\\big) \\; \\; \\; \\text{if}    \\; g_x(k,x,n,z;g_x')>b_{min} \\\\\n",
    "x(1+R_f) + k[r(z)-R_f] + W n - g_x(k,x,n,z;g_x') \\leq C^*\\big(g_x(k,x,n,z;g_x'),n;g_x'\\big) \\; \\; \\; \\text{if}  \\; g_x(k,x,n,z;g_x')=b_{min} \n",
    "$$\n",
    "\n",
    "\n",
    "Let define:\n",
    "\\begin{equation*}\n",
    "v_1(x',n';g_x') \\equiv C^*(x',n;g_x') + x' - W n\n",
    "\\end{equation*}\n",
    "\n",
    "\\begin{equation*}\n",
    "v_2(x,k,z) \\equiv x(1+R_f) + k[r(z)-R_f]\n",
    "\\end{equation*}\n",
    "\n",
    "\n",
    "Then $g_x$ is in $v_1\\big(x',n;g_x'\\big)=v_2(x,k,z)$. Let $y=v_1(x',n;g_x')$ then define $x'=v_3(y,n)$, therefore $x'=v_3(v_2(x,k,z),n)$\n",
    "\n",
    "Incorporating the corner solution cases (consume as much as one can and save as little as possible) we get $g_x(k,x,n,z;g_x')=\\text{max}\\{b_{min}\\,;\\, v_3(v_2(x,k,z;g_x'),n)\\}$."
   ]
  },
  {
   "cell_type": "code",
   "execution_count": 6,
   "id": "086433c5",
   "metadata": {},
   "outputs": [
    {
     "data": {
      "text/plain": [
       "root_interp (generic function with 1 method)"
      ]
     },
     "execution_count": 6,
     "metadata": {},
     "output_type": "execute_result"
    }
   ],
   "source": [
    "function root_interp(grid_x, grid_y, n)\n",
    "    j=0\n",
    "    for i in 1:(n-1)\n",
    "        if (grid_y[i]<0 && grid_y[i+1]>=0) || (grid_y[i]>0 && grid_y[i+1]<=0)\n",
    "            j=i;\n",
    "            break;\n",
    "        end\n",
    "    end\n",
    "    root = grid_x[j] - grid_y[j] * (grid_x[j+1]-grid_x[j])/(grid_y[j+1]-grid_y[j])\n",
    "    return root\n",
    "end"
   ]
  },
  {
   "cell_type": "code",
   "execution_count": 124,
   "id": "28cf5003",
   "metadata": {},
   "outputs": [
    {
     "data": {
      "text/plain": [
       "EGM (generic function with 1 method)"
      ]
     },
     "execution_count": 124,
     "metadata": {},
     "output_type": "execute_result"
    }
   ],
   "source": [
    "function EGM(gx::Array, r::Array, W::Float64, Para, Grid; all_outputs::Bool=false)\n",
    "    \n",
    "    @unpack Rf, n, Pn, Pr, β, γ, c_min = Para\n",
    "    @unpack K_grid, X_grid, K_mat, X_mat, grid_p, b_min = Grid\n",
    "    \n",
    "    ### STEP 1 ###\n",
    "    \n",
    "    C_next = similar(gx)\n",
    "    for ε in 0:1    # ε=0 empleado    ;    ε=1 desempleado\n",
    "        for z in 1:4\n",
    "            C_next[:, :, 4*ε+z] = \n",
    "            X_mat*(1+Rf) + K_mat*(r[z]-Rf) .+ W*n[ε+1] .- gx[:,:, 4*ε+z]\n",
    "        end\n",
    "    end\n",
    "    \n",
    "    h = Array{Float64}(undef, grid_p, grid_p, 2)\n",
    "    he = Array{Float64}(undef, grid_p, grid_p)\n",
    "    hu = similar(he)\n",
    "    for x in 1:grid_p\n",
    "        he[:,x] = β * ((r.-Rf) .* UMg.(C_next[:,x,1:4 ],γ,c_min) ) * Pr # empleado \n",
    "        hu[:,x] = β * ((r.-Rf) .* UMg.(C_next[:,x,5:8],γ,c_min) ) * Pr # desempleado \n",
    "        h[:,x,:] = [he[:,x] hu[:,x]] * Pn'\n",
    "    end\n",
    "\n",
    "    K_opt = Array{Float64}(undef, grid_p, 2)\n",
    "    η_b = fill(0.0,size(K_opt))\n",
    "    K_opt[1,:] = [0.0, 0.0]\n",
    "    η_b[1,:] = h[1,1,:] # según la función kappa_b\n",
    "    for ε in 1:2    # ε=1 empleado    ;    ε=2 desempleado\n",
    "        for x in grid_p:-1:2  # Itero al revés desde \n",
    "            domain = K_grid[1:x]\n",
    "            image = h[1:x,x,ε]\n",
    "            if any(image .> 0.0)\n",
    "                if any(image .< 0.0) # RAIZ INTERIOR (si hay valores pos y neg para h, entonces tiene que cruzar 0)\n",
    "                    # inverting by interpolation\n",
    "                    perm =  sortperm(image)\n",
    "                    image_o = image[perm]\n",
    "                    image_o=Interpolations.deduplicate_knots!(image_o)\n",
    "                    if length(image)==length(unique(image_o))\n",
    "                        K_opt[x,ε] = LinearInterpolation(image_o, domain[perm], extrapolation_bc=Line())(0) #<-\n",
    "                    else\n",
    "                        K_opt[x,ε] = root_interp(domain, image, length(image))\n",
    "                    end\n",
    "                else # TODOS LOS VALORES POSITIVOS\n",
    "                    K_opt[x,ε] = K_grid[x]\n",
    "                    η_b[x,ε] = h[x,x,ε]\n",
    "                end\n",
    "            else # TODOS LOS VALORES NEGATIVOS\n",
    "                K_opt[x,ε] = 0.0\n",
    "            end\n",
    "        end\n",
    "    end\n",
    "    \n",
    "    ### STEP 2 ###\n",
    "    \n",
    "    gxn = Array{Float64}(undef, grid_p, 2, 8)\n",
    "    for ε_next in 0:1    # ε=0 empleado ; ε=1 desempleado    en t+1\n",
    "        for z_next in 1:4\n",
    "            for x in 1:grid_p\n",
    "                dominio = K_grid\n",
    "                imagen = gx[:,x,ε_next*4+z_next]\n",
    "                #imagen = Interpolations.deduplicate_knots!(imagen)\n",
    "                for ε_now in 1:2\n",
    "                    gxn[x,ε_now,ε_next*4+z_next] = LinearInterpolation(dominio, imagen, extrapolation_bc=Line())(K_opt[x,ε_now])\n",
    "                end\n",
    "            end\n",
    "        end\n",
    "    end\n",
    "\n",
    "    C_next_opt = Array{Float64}(undef, grid_p, 2, 8)\n",
    "    for ε_next in 0:1    # ε=0 empleado ; ε=1 desempleado    en t+1\n",
    "        for z_next in 1:4\n",
    "            for ε_now in 1:2   # ε=1 empleado ; ε=2 desempleado   en t\n",
    "                C_next_opt[:, ε_now, 4*ε_next+z_next] = \n",
    "                X_grid*(1+Rf) + K_opt[:,ε_now] * (r[z_next]-Rf) .+ W*n[ε_next+1] .- gxn[:,ε_now,4*ε_next+z_next]\n",
    "            end\n",
    "        end\n",
    "    end\n",
    "    # C_next_opt = max.(C_next_opt,1e-10); It might be the case that you have debt a negatve return on capital and Inada's condition guarantees this, but just in case\n",
    "\n",
    "    E_UMg = similar(K_opt); E_UMge = similar(K_opt); E_UMgu = similar(K_opt); \n",
    "    for ε in 1:2 # estado laboral en t\n",
    "        E_UMge[:,ε] = UMg.(C_next_opt[:,ε,1:4],γ,c_min) * Pr # empleado en t+1\n",
    "        E_UMgu[:,ε] = UMg.(C_next_opt[:,ε,5:8],γ,c_min) * Pr # desempleado en t+1\n",
    "        E_UMg[:,ε] = Pn[ε,1] * E_UMge[:,ε] + Pn[ε,2] * E_UMgu[:,ε]\n",
    "    end\n",
    "    C_current = UMg_inv.( β*(1+Rf)*E_UMg + η_b ,γ,c_min);\n",
    "    \n",
    "    V_1 = C_current + repeat(X_grid, outer=[1,2]) - repeat(W*n, outer=[grid_p,1]) #<-\n",
    "    perm_e =  sortperm(V_1[:,1])\n",
    "    V_1e = V_1[perm_e,1]\n",
    "    V_1e=Interpolations.deduplicate_knots!(V_1e)\n",
    "    V_3e = LinearInterpolation(V_1e, X_grid[perm_e], extrapolation_bc=Line())\n",
    "    perm_u =  sortperm(V_1[:,2])\n",
    "    V_1u = V_1[perm_u,2]\n",
    "    V_1u=Interpolations.deduplicate_knots!(V_1u)\n",
    "    V_3u = LinearInterpolation(V_1u, X_grid[perm_u], extrapolation_bc=Line())\n",
    "\n",
    "    V_2 = Array{Float64}(undef, grid_p, grid_p, 4)\n",
    "    for z in 1:4 \n",
    "        V_2[:,:,z] =  X_mat*(1+Rf) + K_mat * (r[z]-Rf)\n",
    "    end\n",
    "      \n",
    "    gx_new = similar(gx)\n",
    "    for z in 1:4\n",
    "        gx_new[:, :,z  ] =  V_3e.(V_2[:,:,z])\n",
    "        gx_new[:, :,4+z] =  V_3u.(V_2[:,:,z])\n",
    "    end\n",
    "    \n",
    "    gx_new = max.(gx_new,b_min);\n",
    "\n",
    "    if all_outputs==false\n",
    "        return gx_new\n",
    "    else\n",
    "        return gx_new, K_opt, gxn, C_next_opt\n",
    "    end\n",
    "    \n",
    "end"
   ]
  },
  {
   "cell_type": "markdown",
   "id": "c2ac674d",
   "metadata": {},
   "source": [
    "We need to come up with an initial guess for the value function. One natural guess is to use the values for the value function that are implied by a household behavior where he/she simply consumes their current income forever. "
   ]
  },
  {
   "cell_type": "markdown",
   "id": "fb4799c0",
   "metadata": {},
   "source": [
    "## Distributions\n",
    "\n",
    "Following [Young 2010](https://www.sciencedirect.com/science/article/abs/pii/S0165188909001316) we can get the stationary distribution associated with the policy function. Since EGM was done with $x$ instead of $b$, it is easier to continue this way, and change to $b$ once the stationary distribution is retrieved. \n",
    "\n",
    "First, notice that the stationary conditional joint distribution for $(x,k)$ could be simplify if we take into account the relationship between $x_t$ and $k_t$ given the employment state $n_t$. Thus, it is simpler to get the stationary distribution of $x$ conditional on the employment state $f(x|n)$. Let discretized it as 2 histograms grouped in a single vector $d$ of dimension $2N_X\\times1$, where $N_X$ is the number of grid points in the total asset grid $X$ and 2 are the number of employment states.\n",
    "\n",
    "\\begin{equation*}d=\\begin{bmatrix} \\; F(x_1|e) \\\\ \\Delta F(x_2|e) \\\\ \\Delta F(x_3|e) \\\\ \\vdots \\\\ \\Delta F(x_{N-2}|e) \\\\ \\Delta F(x_{N-1}|e)  \\\\ 1-F(x_{N-1}|e) \\\\ \\; F(x_1|u) \\\\ \\Delta F(x_2|u) \\\\ \\Delta F(x_3|u) \\\\ \\vdots \\\\ \\Delta F(x_{N-2}|u) \\\\ \\Delta F(x_{N-1}|u)  \\\\ 1-F(x_{N-1}|u) \\end{bmatrix}\\end{equation*}\n",
    "\n",
    "Where $F(x_m|n)=\\int_0^{x_m} f(x_m|n)\\, dx$ and  $\\Delta F(x_m|n) = F(x_m|n)-F(x_{m-1}|n)$.\n",
    "\n",
    "There is no need to condition on $r$, because it $r'$ is not correlated with its past ($r$), thus $f(x|n,r)=f(x|n)$."
   ]
  },
  {
   "cell_type": "markdown",
   "id": "9d9a7c3c",
   "metadata": {},
   "source": [
    "Given the discretized conditional distribution $d$ and the policy function $\\hat{g}_x$ we can construct a transition matrix $T$ such that $d'=Td$. Where $T_{i,j}$ indicates how much of the mass located at $j$, that is $d_j$, should be transferred to position $i$ in the next distribution $d'$.\n",
    "\n",
    "First, we apply the policy function $\\hat{g}_x$ for every $r'$ and for every $n'$ to position $j$, where $j\\in\\{1,2,...2N_X\\}$ represents a pair $(x,n)$. We get four values for $x'$. That is for every pair $(x,n)$ there are 4 ideal next position for transition:\n",
    "\n",
    "\\begin{equation*}\\hat{g}_x(x,n)=\\begin{pmatrix} \\hat{g}_x(x,n,e,r_h) & \\text{with probability: } \\, Pr(n'=e|n) Pr(r'=r_h)   \\\\ \\hat{g}_x(x,n,e,r_l) & \\text{with probability: } \\, Pr(n'=e|n) Pr(r'=r_l) \\\\\n",
    "\\hat{g}_x(x,n,e,r_h) & \\text{with probability: } \\, Pr(n'=u|n) Pr(r'=r_h) \\\\\n",
    "\\hat{g}_x(x,n,u,r_l) & \\text{with probability: } \\, Pr(n'=u|n) Pr(r'=r_l) \n",
    "\\end{pmatrix}\\end{equation*}"
   ]
  },
  {
   "cell_type": "markdown",
   "id": "1a78268c",
   "metadata": {},
   "source": [
    "Values for $\\hat{g}_x(x,n,n',r')$ may not be on the grid. For example, if the grid for $x$ is $[-2,\\;-1,\\;0,\\;1,\\;2,\\;3,\\;4,\\;...]$ and the policy function $\\hat{g}_x$ of a household returns a value of $2.25$... Where should we allocate the mass of this household? Let say that this household has mass $m$, therefore the intuitive approach is to allocate $0.75m$ to the grid point $2$ and $0.25m$ to the grid point $3$. This is the core of Young's method (2010).\n",
    "\n",
    "That means that (almost) every $x'=\\hat{g}_x(x,n,n',r')$ is allocated in two points. Suppose $x'$ is between grid points $i$ and $i+1$, that is $x_i<x'<x_{i+1}$. Then part of the mass that we would like assigned to $x'$ must be relocated to  $x_i$, and the other part to $x_{i+1}$. Specifically, a proportion $\\omega$ will be assigned to $x_i$ and $(1-\\omega)$ to $x_{i+1}$. Where $\\omega = (x_{i+1}-x')/(x_{i+1}-x_i)$.\n",
    "\n",
    "But not only we have to look at the destination for $x'$, we also have to take into consideration the future employment state $n'$. For a given $T_{i,\\, j}$, the index $j$ indicates the original $(x,n)$ and $i$ the destination $(x',n')$. If $j \\leq X_p$ then $n=e$, otherwise $n=u$, the same goes for $i$, if $i \\leq X_p$ then $n'=e$, otherwise $n'=u$.\n",
    "\n",
    "Following the above explanation, we construct $T$. I used a very similar implementation of [Julien Pascal's code](https://julienpascal.github.io/post/aiyagariaggregateuncertainty/)."
   ]
  },
  {
   "cell_type": "code",
   "execution_count": 8,
   "id": "99442c55",
   "metadata": {},
   "outputs": [
    {
     "data": {
      "text/plain": [
       "allocate_mass (generic function with 1 method)"
      ]
     },
     "execution_count": 8,
     "metadata": {},
     "output_type": "execute_result"
    }
   ],
   "source": [
    "function allocate_mass(y_n, y_grid, grid_size)\n",
    "       \n",
    "    m = searchsortedfirst(y_grid, y_n)  # y_m > y_n > y_{m-1}\n",
    "    m = min(m, grid_size)  # max = grid size.   If y_n > x_max => the above function returns max+1.  We don't wnat that \n",
    "    \n",
    "    if isone(m)               # if y_n is too small that y_1 > y_n\n",
    "        return 2, 0           # then we force m=2 and assign 0 weight  ( m-1 = 1 and its weight is 1)\n",
    "    end\n",
    "    \n",
    "    y_m = y_grid[m]\n",
    "    y_m_1 = y_grid[m-1]\n",
    "    \n",
    "    D_y = y_m - y_m_1\n",
    "    \n",
    "    peso_m = (y_n - y_m_1) / D_y      \n",
    "    peso_m = min(max(peso_m, 0.0), 1.0)  # Por las dudas \n",
    "\n",
    "    return m, peso_m\n",
    "end"
   ]
  },
  {
   "cell_type": "code",
   "execution_count": 9,
   "id": "b815f5d6",
   "metadata": {},
   "outputs": [
    {
     "data": {
      "text/plain": [
       "transition_mat (generic function with 1 method)"
      ]
     },
     "execution_count": 9,
     "metadata": {},
     "output_type": "execute_result"
    }
   ],
   "source": [
    "function transition_mat(gxn::Array, Para, Grid)\n",
    "    @unpack X_grid, grid_p = Grid\n",
    "    @unpack Pn, Pr = Para\n",
    "    \n",
    "    T = fill(0.0,(2*grid_p,2*grid_p))\n",
    "    \n",
    "    # Loop current period t risky asset holding:\n",
    "    for x_j = 1:grid_p\n",
    "\n",
    "        # Loop over current period t employment state:\n",
    "        for ε_j = 0:1\n",
    "                \n",
    "            # Loop over possible next period t+1 business state:\n",
    "            for  z in 1:4\n",
    "              \n",
    "                # Loop over possible next period t+1 employment state:\n",
    "                for ε_i in 0:1\n",
    "                    \n",
    "                    x_prime = gxn[x_j, ε_j+1, 4*ε_i+z]  # x_prime\n",
    "                    x_i, peso_x_i = allocate_mass(x_prime, X_grid, grid_p)      #  a_i > x' > a_{i-1}\n",
    "\n",
    "                    j = ε_j*grid_p + x_j # current position\n",
    "                    i = ε_i*grid_p + x_i # next position\n",
    "                    \n",
    "                    T[i  , j] +=    peso_x_i  * Pn[ε_j+1 ,ε_i+1] * Pr[z]\n",
    "                    T[i-1, j] += (1-peso_x_i) * Pn[ε_j+1 ,ε_i+1] * Pr[z]\n",
    "                    \n",
    "                end\n",
    "            end\n",
    "        end\n",
    "    end\n",
    "    return T\n",
    "end"
   ]
  },
  {
   "cell_type": "markdown",
   "id": "33b92d7c",
   "metadata": {},
   "source": [
    "Since $T$ is a discrete transition matrix of a Markov chain, we can compute the stationary distribution $d^*$, given by the Eigen-vector of $T$ associated with the unit Eigen-value normalized to sum to one."
   ]
  },
  {
   "cell_type": "code",
   "execution_count": 10,
   "id": "744f6d5f",
   "metadata": {},
   "outputs": [
    {
     "data": {
      "text/plain": [
       "nearest (generic function with 1 method)"
      ]
     },
     "execution_count": 10,
     "metadata": {},
     "output_type": "execute_result"
    }
   ],
   "source": [
    "# Function to find the index corresponding to the closest value on a grid:\n",
    "# Source: https://discourse.julialang.org/t/findnearest-function/4143/4\n",
    "function nearest(x,grid)\n",
    "    idx = searchsortedfirst(grid,x)\n",
    "    if (idx==1); return idx; end\n",
    "    if (idx>length(grid)); return length(grid); end\n",
    "    if (grid[idx]==x); return idx; end\n",
    "    if (abs(grid[idx]-x) < abs(grid[idx-1]-x))\n",
    "      return idx\n",
    "    else\n",
    "      return idx-1\n",
    "    end\n",
    "end"
   ]
  },
  {
   "cell_type": "code",
   "execution_count": 11,
   "id": "dc939edf",
   "metadata": {},
   "outputs": [
    {
     "data": {
      "text/plain": [
       "stationary_dist (generic function with 1 method)"
      ]
     },
     "execution_count": 11,
     "metadata": {},
     "output_type": "execute_result"
    }
   ],
   "source": [
    "function stationary_dist(T)\n",
    "    \n",
    "    grid_p = floor(Int,size(T)[1]/2)\n",
    "\n",
    "    T_eigen = eigen(T) # eigen values and eigen vectors\n",
    "    \n",
    "    eigenvalues_real = real(T_eigen.values) # take the real part of the eigen-values\n",
    "    \n",
    "    i = nearest(1.0, eigenvalues_real) # where is the nearest eigen value to 1 ?\n",
    "    \n",
    "    eigenvector_real = real(T_eigen.vectors[:,i]) # Select the corresponding eigenvector\n",
    "    \n",
    "    D = eigenvector_real/sum(eigenvector_real) # Normalize it\n",
    "    de = D[1:grid_p]\n",
    "    du = D[(grid_p+1):(2*grid_p)]\n",
    "\n",
    "    return de, du\n",
    "    \n",
    "end"
   ]
  },
  {
   "cell_type": "markdown",
   "id": "2c79f8e0",
   "metadata": {},
   "source": [
    "To calculate next-period's the aggregate consumption $C'$, we will leverage on $c'=g_c(x',n,n',r';g_x')$ and $f(x',n)$.\n",
    "\n",
    "$$\n",
    "C'=\\int_{b_{min}}^\\infty \\sum_{n} \\sum_{n'} \\sum_{r'} \\; g_c(x',n,n',r';g_x') \\; f(x',n) \\; Pr(r') \\; Pr(n'|n) \\; \\text{d}x' \n",
    "$$"
   ]
  },
  {
   "cell_type": "markdown",
   "id": "3a80f7b1",
   "metadata": {},
   "source": [
    "Once we have the stationary distribution we should check if the guessed valued for $K_0$ corresponds with the resulting value for $K_0'$ acording to the distribution."
   ]
  },
  {
   "cell_type": "markdown",
   "id": "14894c18",
   "metadata": {},
   "source": [
    "Before calculating the stationary value of $K$, we will calculate aggregate consumption."
   ]
  },
  {
   "cell_type": "markdown",
   "id": "11e9f860",
   "metadata": {},
   "source": [
    "### Finding Aggregate Capital\n",
    "\n",
    "We do it with the Brent Method implemented by ```Omptim``` Package"
   ]
  },
  {
   "cell_type": "code",
   "execution_count": 12,
   "id": "443ddea6",
   "metadata": {},
   "outputs": [
    {
     "data": {
      "text/plain": [
       "Exeso_DK_cuadrado (generic function with 1 method)"
      ]
     },
     "execution_count": 12,
     "metadata": {},
     "output_type": "execute_result"
    }
   ],
   "source": [
    "function K_demand(K_in, max_iter, tol, gx_0, Para, Grid)\n",
    "    \n",
    "    # Prices\n",
    "    W_in = w(K_in,Para); r_in = r(K_in,Para); \n",
    "    \n",
    "    # Policy function g_x(k,x,n',z') \n",
    "    gx_old = gx_0\n",
    "    for it in 1:max_iter\n",
    "        global gx_new = EGM(gx_old, r_in, W_in, Para, Grid)\n",
    "        distance = norm(gx_new - gx_old, Inf)\n",
    "        if distance < tol ; break; end\n",
    "        gx_old = copy(gx_new) \n",
    "    end\n",
    "    gx, K_opt, gxn, gc = EGM(gx_new, r_in, W_in, Para, Grid, all_outputs=true);\n",
    "\n",
    "    # Stationary joint conditional distribution\n",
    "    T = transition_mat(gxn,Para,Grid);    de, du = stationary_dist(T);\n",
    "\n",
    "    # Agregate Capital\n",
    "    K_out = K_opt[:,1]'*de + K_opt[:,2]'*du\n",
    "\n",
    "    return K_out\n",
    "    \n",
    "end\n",
    "\n",
    "\n",
    "function Exeso_DK_cuadrado(K_in, max_iter, tol, gx_0, Para, Grid)\n",
    "    return 0.5*(K_demand(K_in, max_iter, tol, gx_0, Para, Grid)-K_in)^2\n",
    "end"
   ]
  },
  {
   "cell_type": "code",
   "execution_count": 13,
   "id": "c4e3ef1c",
   "metadata": {},
   "outputs": [
    {
     "data": {
      "text/plain": [
       "solve_model (generic function with 1 method)"
      ]
     },
     "execution_count": 13,
     "metadata": {},
     "output_type": "execute_result"
    }
   ],
   "source": [
    "function solve_model(max_iter, tol, gx_0, Para, Grids, K_upper, K_lower)\n",
    "    \n",
    "    #t1, t2 = parameters_check_noshow(Para)\n",
    "    #if t1>1 #|| t2>1\n",
    "    #    print(\"Parameters are not consistent\")\n",
    "    #    parameters_check(Para)\n",
    "    #    return [1.0, 0.0, 0.0, 0.0, 0.0, 0.0, 0.0, 0.0, 0.0, 0.0, 0.0, 0.0, 0.0, 0.0, 1.0, 1.0, 0.0], (0.0, 0.0, 0.0, 0.0, 0.0, 0.0, 0.0)\n",
    "    #end\n",
    "        \n",
    "    # K_guess = ((1+Para.Rf-Para.δ)/(Para.N*Para.η))^(1/(Para.η-1))\n",
    "    # K_upper = fzero(K -> (r(K,Para) * Para.Pr)[1]-Para.Rf, K_guess)\n",
    "    # K_lower = K_upper * 0.95\n",
    "    \n",
    "    println(\"- - - - - - - - - - - - - - - - - - - - - - - - - - - - - - - - - - \")\n",
    "    println(\"Upper bound: $(round(K_upper,digits=4)),   Lower bound: $(round(K_lower,digits=4))\")\n",
    "    @time eq_stacionario = optimize(K -> Exeso_DK_cuadrado(K, max_iter, tol, gx_0, Para, Grids), K_lower, K_upper, Brent())\n",
    "    K_ss = eq_stacionario.minimizer\n",
    "    println(\"Steady-state value of capital K* = $(round(K_ss,digits=4)), excess demand $(round(sqrt(eq_stacionario.minimum),digits=4))\")\n",
    "    if sqrt(eq_stacionario.minimum)/K_ss > 0.05\n",
    "        println(\"HIGH EXCESS DEMAND !!!\")\n",
    "    end\n",
    "    println(\"- - - - - - - - - - - - - - - - - - - - - - - - - - - - - - - - - - \")\n",
    "    \n",
    "    r_ss = r(K_ss,Para)\n",
    "    W_ss = w(K_ss,Para)\n",
    "    # Policy function g_x(k,x,n',z') \n",
    "    gx_old = gx_0\n",
    "    for it in 1:max_iter\n",
    "        global gx_new = EGM(gx_old, r_ss, W_ss, Para, Grids)\n",
    "        distance = norm(gx_new - gx_old, Inf)\n",
    "        if distance < tol ; break; end\n",
    "        gx_old = copy(gx_new) \n",
    "    end\n",
    "    gx, K_opt, gxn, gc = EGM(gx_new, r_ss, W_ss, Para, Grids, all_outputs=true)\n",
    "    # Stationary joint conditional distribution\n",
    "    T = transition_mat(gxn,Para,Grids);    de_ss, du_ss = stationary_dist(T)\n",
    "    # Agregate Capital\n",
    "    K_out_ss = K_opt[:,1]'*de_ss + K_opt[:,2]'*du_ss\n",
    "    \n",
    "    # Prices\n",
    "    #@show r_ss\n",
    "    rE_ss = (r_ss * Para.Pr)[1]\n",
    "    rd_ss = sqrt( (r_ss.^2 * Para.Pr)[1]-rE_ss^2 )\n",
    "    #println(\"Expected real rate = $(rE_ss)    s.d. real rate = $(rd_ss)    risk free rate $(Para.Rf)\")\n",
    "    #@show W_ss\n",
    "    \n",
    "    # Aggregate Bonds\n",
    "    B_opt = similar(K_opt)\n",
    "    B_opt[:,1] = Grids.X_grid - K_opt[:,1]\n",
    "    B_opt[:,2] = Grids.X_grid - K_opt[:,2]\n",
    "    B_ss = B_opt[:,1]'*de_ss +  B_opt[:,2]'*du_ss\n",
    "    println(\"K: $(round(K_ss,digits=4))    K': $(round(K_out_ss,digits=4))    Diff: $(round((K_ss/K_out_ss-1)*100,digits=4))%    B: $(round(B_ss,digits=4))\")\n",
    "    \n",
    "    # Total Assets\n",
    "    X_ss = Grids.X_grid' * de_ss + Grids.X_grid' * du_ss\n",
    "    #println(\"Assets: K=$(K_ss), B=$(B_ss)\")\n",
    "    \n",
    "    # Total Production\n",
    "    Y_ss = Y(K_ss,Para)\n",
    "    KY_ratio = K_ss/(Y_ss*4)\n",
    "    \n",
    "    # Investment\n",
    "    Investment = Para.δ * K_ss\n",
    "    \n",
    "    # Consumption\n",
    "    gc2 = Array{Float64}(undef,size(gc)[1:2])\n",
    "    fill!(gc2, 0.0)\n",
    "    for ε_now in 1:2    # ε=0 empleado ; ε=1 desempleado    en t+1\n",
    "        for z_now in 1:4\n",
    "            for ε_past in 1:2   # ε=1 empleado ; ε=2 desempleado   en t\n",
    "                gc2[:,ε_past] += gc[:, ε_past, 4*(ε_now-1)+z_now] * Para.Pr[z_now] * Para.Pn[ε_past,ε_now]\n",
    "            end\n",
    "        end\n",
    "    end    \n",
    "    C_ss = gc2[:,1]'*de_ss + gc2[:,2]'*du_ss\n",
    "    \n",
    "    #Varianza del consumo\n",
    "    gc22 = gc2.^2\n",
    "    EC2 = gc22[:,1]'*de_ss + gc22[:,2]'*du_ss\n",
    "    VarC = EC2 - C_ss^2\n",
    "\n",
    "    # Funcion de valor\n",
    "    V_ss = u.(gc2,Para.γ,0.001) # cambiar 0.001 por Para.c_min\n",
    "    Bernouli_E = V_ss[:,1]'*de_ss + V_ss[:,2]'*du_ss\n",
    "    Welfare = Bernouli_E / (1-Para.β)\n",
    "    C_rep = u_crra_inv(Bernouli_E,Para.γ)\n",
    "    \n",
    "    id1 = rE_ss * K_ss + W_ss * Para.N + B_ss * Para.Rf - C_ss\n",
    "    id2 = rE_ss * K_ss + W_ss * Para.N - ( Y_ss - Investment)\n",
    "    println(\"Ratio: $(round(K_ss/(Y_ss*4),digits=4))   Check1: $(round(id1,digits=4))    Check2: $(round(id2,digits=4))\")\n",
    "    \n",
    "    return [K_ss, K_out_ss, B_ss, X_ss, r_ss[1], r_ss[2], r_ss[3], r_ss[4], rE_ss, rd_ss, W_ss, Y_ss, Investment, C_ss, VarC, Welfare, C_rep, id1, id2, KY_ratio], (gx, K_opt, gxn, gc, gc2, de_ss, du_ss), (Para, Grids)\n",
    "end"
   ]
  },
  {
   "cell_type": "code",
   "execution_count": 14,
   "id": "c6da66c8",
   "metadata": {},
   "outputs": [
    {
     "data": {
      "text/plain": [
       "calcular_momentos (generic function with 1 method)"
      ]
     },
     "execution_count": 14,
     "metadata": {},
     "output_type": "execute_result"
    }
   ],
   "source": [
    "function z_errors(X,Ez,varianza,zeta,τ)\n",
    "    x1=X[1]; x2=X[2]; p1=X[3]; p2=X[4]\n",
    "    Y =  100*(p1+p2-1)^2 + \n",
    "         100*(p1*x1+p2*x2-Ez)^2 +\n",
    "         10*(p1*(x1-Ez)^2+p2*(x2-Ez)^2-varianza)^2 +\n",
    "         ( (p1*x1^(-1/τ) + p2*x2^(-1/τ) )^(-τ) - zeta)^2\n",
    "    return Y\n",
    "end\n",
    "\n",
    "function z_dist(Ez,varianza,zeta,τ)\n",
    "    to_solve(X) = z_errors(X,Ez,varianza,zeta,τ)\n",
    "    lower = [Ez, 0.0, 0.0, 0.0]\n",
    "    upper = [Inf, Ez, 1.0, 1.0]\n",
    "    initial_x = [1.2*Ez, 0.2*Ez, 0.8, 0.2]\n",
    "    sol = optimize(to_solve, lower, upper, initial_x).minimizer\n",
    "    p1 = sol[3]\n",
    "    p2 = 1 - sol[3]\n",
    "    z1 = sol[1]\n",
    "    z2 = (Ez - z1*p1)/p2\n",
    "    return [z1 z2], [p1 p2]\n",
    "end\n",
    "\n",
    "function z_dist_show(Ez,varianza,zeta,τ)\n",
    "    to_solve(X) = z_errors(X,Ez,varianza,zeta,τ)\n",
    "    lower = [Ez, 0.0, 0.0, 0.0]\n",
    "    upper = [Inf, Ez, 1.0, 1.0]\n",
    "    initial_x = [1.2*Ez, 0.2*Ez, 0.8, 0.2]\n",
    "    sol = optimize(to_solve, lower, upper, initial_x).minimizer\n",
    "    p1 = sol[3]\n",
    "    p2 = 1 - sol[3]\n",
    "    @show p2 - sol[4]\n",
    "    z1 = sol[1]\n",
    "    z2 = (Ez - z1*p1)/p2\n",
    "    @show z2 - sol[2]\n",
    "    return [z1 z2], [p1 p2]\n",
    "end\n",
    "\n",
    "function calcular_momentos(Z,Pz,τ)\n",
    "    p1,p2 = Pz\n",
    "    x1,x2 = Z\n",
    "    Ez= p1*x1+p2*x2\n",
    "    \n",
    "    M=[p1+p2         \n",
    "    Ez     \n",
    "    p1*(x1-Ez)^2+p2*(x2-Ez)^2\n",
    "    (p1*x1^(-1/τ) + p2*x2^(-1/τ) )^(-τ)]\n",
    "    \n",
    "    return M\n",
    "end"
   ]
  },
  {
   "cell_type": "markdown",
   "id": "4e515568",
   "metadata": {},
   "source": [
    "## El capital según la regla de oro\n",
    "\n",
    "En el modelo de Solow Swan, la regla de oro es la que maximiza el consumo. Pra crear este benchmark en el contexto del modelo, puedo enfocarme en maximizar el ingreso menos la inversión, ignorando el rol de los bonos.\n",
    "\n",
    "\\begin{equation*}\n",
    "    \\max_K \\Big\\{ Y - \\delta K \\Big\\}\n",
    "\\end{equation*}\n",
    "\n",
    "Lo cual puede ser resuelto analíticamente como\n",
    "\n",
    "\\begin{equation*}\n",
    "    K_{oro} = \\Big\\{ \\frac{\\delta[\\lambda + (1-\\lambda)(1+\\pi^*)^\\sigma]}{\\eta N \\hat{p}^\\sigma} \\Big\\} ^{\\frac{1}{\\eta-1}}\n",
    "\\end{equation*}"
   ]
  },
  {
   "cell_type": "code",
   "execution_count": 15,
   "id": "36b1473a",
   "metadata": {},
   "outputs": [
    {
     "data": {
      "text/plain": [
       "pseudo_C (generic function with 1 method)"
      ]
     },
     "execution_count": 15,
     "metadata": {},
     "output_type": "execute_result"
    }
   ],
   "source": [
    "golden_K(P) = (  P.δ*(P.λ+(1-P.λ)*(1+P.ππ)^(P.σ/P.τ))^P.τ   / (  P.η * P.N^P.τ * P.p^P.σ * P.ζ  )   )^(1/(P.η-1))\n",
    "\n",
    "pseudo_C(K,P) = Y(K,P) - P.δ*K"
   ]
  },
  {
   "cell_type": "code",
   "execution_count": 37,
   "id": "08396963",
   "metadata": {},
   "outputs": [
    {
     "data": {
      "image/png": "[encoded data removed]"
     },
     "execution_count": 37,
     "metadata": {},
     "output_type": "execute_result"
    }
   ],
   "source": [
    "pseudo_C2(K) = pseudo_C(K,Para_ej)\n",
    "plot( 0.5:0.5:30,pseudo_C2.(0.5:0.5:30)) #, xlim=(0,1000)) # xlim=(a_min_0,500)"
   ]
  },
  {
   "cell_type": "code",
   "execution_count": 17,
   "id": "42e18ff4",
   "metadata": {},
   "outputs": [
    {
     "data": {
      "text/plain": [
       "28.379258632243634"
      ]
     },
     "execution_count": 17,
     "metadata": {},
     "output_type": "execute_result"
    }
   ],
   "source": [
    "golden_K(Para_ej)"
   ]
  },
  {
   "cell_type": "code",
   "execution_count": 63,
   "id": "9669a643",
   "metadata": {},
   "outputs": [
    {
     "data": {
      "text/plain": [
       "10.528737296380545"
      ]
     },
     "execution_count": 63,
     "metadata": {},
     "output_type": "execute_result"
    }
   ],
   "source": [
    "pseudo_C3(K) = -pseudo_C(K,Para_ej)\n",
    "\n",
    "K_oro2_sol = optimize(pseudo_C3, 0.5, 30.0, Brent())\n",
    "K_oro2 = K_oro2_sol.minimizer\n",
    "K_oro2"
   ]
  },
  {
   "cell_type": "code",
   "execution_count": 64,
   "id": "5af52941",
   "metadata": {},
   "outputs": [
    {
     "data": {
      "text/plain": [
       "0.9475863415943114"
      ]
     },
     "execution_count": 64,
     "metadata": {},
     "output_type": "execute_result"
    }
   ],
   "source": [
    "pseudo_C2(K_oro2)"
   ]
  },
  {
   "cell_type": "code",
   "execution_count": 68,
   "id": "7de9e0db",
   "metadata": {},
   "outputs": [
    {
     "data": {
      "text/plain": [
       "0.9475863415943112"
      ]
     },
     "execution_count": 68,
     "metadata": {},
     "output_type": "execute_result"
    }
   ],
   "source": [
    "pseudo_C2(golden_K(Para_ej))"
   ]
  },
  {
   "cell_type": "markdown",
   "id": "17d88473",
   "metadata": {},
   "source": [
    "## K de hogares neutrales al riesgo\n",
    "\n",
    "Es el nivel de capital $K_R$ tal que $E(r)=R_f$"
   ]
  },
  {
   "cell_type": "code",
   "execution_count": 17,
   "id": "ad1e2f51",
   "metadata": {},
   "outputs": [
    {
     "data": {
      "text/plain": [
       "K_R (generic function with 1 method)"
      ]
     },
     "execution_count": 17,
     "metadata": {},
     "output_type": "execute_result"
    }
   ],
   "source": [
    "function K_R(P)\n",
    "    K_guess = ((P.Rf+P.δ)/(P.N*P.η))^(1/(P.η-1))\n",
    "    sol = fzero(K -> (r(K,P) * P.Pr)[1]-P.Rf, K_guess)\n",
    "    return sol\n",
    "end"
   ]
  },
  {
   "cell_type": "code",
   "execution_count": 34,
   "id": "b6682c1a",
   "metadata": {},
   "outputs": [
    {
     "name": "stdout",
     "output_type": "stream",
     "text": [
      "K_ej = K_R(Para_ej2) * 0.95 = 67.03602604259345\n",
      "golden_K(Para_ej2) = 15.476637858227793\n",
      "K_ej / (4 * Y(K_ej, Para_ej2)) = 12.38080231439847\n"
     ]
    }
   ],
   "source": [
    "Z_ej, Pz_ej = z_dist(1.0,0.01,0.95,0.65)\n",
    "Para_ej2 = Parametros(ππ = 0.1, Z = Z_ej, Pz = Pz_ej, Rf = 0.0067, ρ = 0.75, λ = 0.75, γ = 2.0, η = 0.25)\n",
    "\n",
    "@show K_ej = K_R(Para_ej2)*0.95\n",
    "@show golden_K(Para_ej2)\n",
    "@show K_ej/(4*Y(K_ej,Para_ej2))\n",
    ";"
   ]
  },
  {
   "cell_type": "code",
   "execution_count": 20,
   "id": "421406fb",
   "metadata": {},
   "outputs": [
    {
     "data": {
      "text/plain": [
       "7.713210145635379"
      ]
     },
     "execution_count": 20,
     "metadata": {},
     "output_type": "execute_result"
    }
   ],
   "source": [
    "4*Y(K_ej,Para_ej2)"
   ]
  },
  {
   "cell_type": "code",
   "execution_count": 72,
   "id": "6400c13e",
   "metadata": {},
   "outputs": [
    {
     "data": {
      "text/plain": [
       "([1.0 1.0], [0.5 0.5])"
      ]
     },
     "execution_count": 72,
     "metadata": {},
     "output_type": "execute_result"
    }
   ],
   "source": [
    "Z_ej = [1.0 1.0]\n",
    "Pz_ej = [0.5 0.5]\n",
    "Z_ej, Pz_ej"
   ]
  },
  {
   "cell_type": "markdown",
   "id": "fcc6bd15",
   "metadata": {},
   "source": [
    "## El ratio Beneficios/Salarios"
   ]
  },
  {
   "cell_type": "code",
   "execution_count": 47,
   "id": "a9827c58",
   "metadata": {},
   "outputs": [
    {
     "data": {
      "text/plain": [
       "part_w2 (generic function with 1 method)"
      ]
     },
     "execution_count": 47,
     "metadata": {},
     "output_type": "execute_result"
    }
   ],
   "source": [
    "function part_w(P)\n",
    "    @unpack λ, ππ, σ, α, ρ, p, A = P\n",
    "    ratio = (λ+(1-λ)*(1+ππ)^σ) * ρ * A^(σ-1) * p^(1-σ) / (1+α*ππ) \n",
    "    return ratio\n",
    "end\n",
    "\n",
    "function part_w2(K,P)\n",
    "    ratio = (P.N*w(K,P))/Y(K,P)\n",
    "    return ratio\n",
    "end"
   ]
  },
  {
   "cell_type": "code",
   "execution_count": 36,
   "id": "e133b89f",
   "metadata": {},
   "outputs": [
    {
     "data": {
      "text/plain": [
       "0.3"
      ]
     },
     "execution_count": 36,
     "metadata": {},
     "output_type": "execute_result"
    }
   ],
   "source": [
    "round(1-0.7,digits=7)"
   ]
  },
  {
   "cell_type": "code",
   "execution_count": 37,
   "id": "7652f242",
   "metadata": {},
   "outputs": [
    {
     "data": {
      "text/plain": [
       "Parametros\n",
       "  γ: Float64 5.0\n",
       "  β: Float64 0.993\n",
       "  c_min: Float64 0.001\n",
       "  η: Float64 0.3\n",
       "  τ: Float64 0.7\n",
       "  δ: Float64 0.017\n",
       "  ρ: Float64 0.9\n",
       "  σ: Float64 10.000000000000002\n",
       "  A: Float64 1.0\n",
       "  Pn: Array{Float64}((2, 2)) [0.9522 0.0478; 0.5 0.5]\n",
       "  n: Array{Float64}((1, 2)) [1.0 0.4]\n",
       "  Pe: Float64 0.9127418765972983\n",
       "  Pu: Float64 0.08725812340270167\n",
       "  N: Float64 0.947645125958379\n",
       "  λ: Float64 0.7\n",
       "  Pλ: Array{Float64}((1, 2)) [0.7 0.30000000000000004]\n",
       "  Z: Array{Float64}((1, 2)) [1.013629594629953 0.1562472393010309]\n",
       "  Pz: Array{Float64}((1, 2)) [0.9841032480488543 0.015896751951145704]\n",
       "  Ez: Float64 1.0\n",
       "  ζ: Float64 0.8850000112127061\n",
       "  Pr: Array{Float64}((4,)) [0.688872273634198, 0.011127726365801992, 0.29523097441465634, 0.004769025585343712]\n",
       "  ππ: Float64 0.1\n",
       "  Rf: Float64 0.002\n",
       "  b_min: Float64 -6.0\n",
       "  p: Float64 1.038700403833769\n",
       "  α: Float64 0.5021239260222419\n",
       "  golden_K: Float64 44.19596753828646\n",
       "  W_Y: Float64 0.63\n"
      ]
     },
     "execution_count": 37,
     "metadata": {},
     "output_type": "execute_result"
    }
   ],
   "source": [
    "tau=0.7\n",
    "eta=round(1-tau,digits=7)\n",
    "Z_ej, Pz_ej = z_dist(1.0,0.0115,0.885,tau)\n",
    "Para_ej = Parametros(ππ = 0.1, Z = Z_ej, Pz = Pz_ej, Rf = 0.002, \n",
    "    ρ = 0.9, λ = 0.7, η = eta, b_min = -6.0, τ = tau, δ = 0.017, γ = 5.0)"
   ]
  },
  {
   "cell_type": "markdown",
   "id": "d231f92d",
   "metadata": {},
   "source": [
    "## Corriendo el Modelo"
   ]
  },
  {
   "cell_type": "code",
   "execution_count": 376,
   "id": "578334a1",
   "metadata": {},
   "outputs": [
    {
     "name": "stdout",
     "output_type": "stream",
     "text": [
      "- - - - - - - - - - - - - - - - - - - - - - - - - - - - - - - - - - \n",
      "Upper bound: 33.5071,   Lower bound: 3.723\n",
      "436.804362 seconds (1.01 G allocations: 398.959 GiB, 7.41% gc time)\n",
      "Steady-state value of capital K* = 20.6401, excess demand 0.0\n",
      "- - - - - - - - - - - - - - - - - - - - - - - - - - - - - - - - - - \n",
      "K: 20.6401    K': 20.6401    Diff: -0.0%    B: 11.5798\n",
      "Ratio: 3.3998   Check1: 0.0006    Check2: -0.0\n",
      "Parametros\n",
      "  γ: Float64 5.0\n",
      "  β: Float64 0.993\n",
      "  c_min: Float64 0.001\n",
      "  η: Float64 0.3\n",
      "  τ: Float64 0.7\n",
      "  δ: Float64 0.017\n",
      "  ρ: Float64 0.9\n",
      "  σ: Float64 10.000000000000002\n",
      "  A: Float64 1.0\n",
      "  Pn: Array{Float64}((2, 2)) [0.9522 0.0478; 0.5 0.5]\n",
      "  n: Array{Float64}((1, 2)) [1.0 0.185]\n",
      "  Pe: Float64 0.9127418765972983\n",
      "  Pu: Float64 0.08725812340270167\n",
      "  N: Float64 0.9288846294267982\n",
      "  λ: Float64 0.7\n",
      "  Pλ: Array{Float64}((1, 2)) [0.7 0.30000000000000004]\n",
      "  Z: Array{Float64}((1, 2)) [1.0259308126288593 0.22871668566248238]\n",
      "  Pz: Array{Float64}((1, 2)) [0.9674732148468902 0.032526785153109805]\n",
      "  Ez: Float64 1.0\n",
      "  ζ: Float64 0.8800000076791045\n",
      "  Pr: Array{Float64}((4,)) [0.6772312503928231, 0.022768749607176862, 0.2902419644540671, 0.009758035545932943]\n",
      "  ππ: Float64 0.3\n",
      "  Rf: Float64 0.001\n",
      "  b_min: Float64 -6.0\n",
      "  p: Float64 1.1626326948688583\n",
      "  α: Float64 0.8195025736526925\n",
      "  golden_K: Float64 29.9486278428501\n",
      "  W_Y: Float64 0.63\n"
     ]
    },
    {
     "data": {
      "image/png": "[encoded data removed]"
     },
     "execution_count": 376,
     "metadata": {},
     "output_type": "execute_result"
    }
   ],
   "source": [
    "max_iter=1200\n",
    "tol=1e-5\n",
    "\n",
    "tau=0.7\n",
    "eta=round(1-tau,digits=7)\n",
    "Z_ej, Pz_ej = z_dist(1.0,0.02,0.88,tau)\n",
    "#Z_ej = [1.0 1.0] ; Pz_ej = [0.5 0.5]\n",
    "# ρ λ η ππ b_min Rf β δ\n",
    "Para_ej = Parametros(ππ = 0.3, Z = Z_ej, Pz = Pz_ej, Rf = 0.001, n = [1.0 0.185], \n",
    "    ρ = 0.9, λ = 0.7, η = eta, b_min = -6.0, τ = tau, δ = 0.017, γ = 5.0)\n",
    "\n",
    "Grids_ej = Grids(b_min = -6.0, x_max = 700, grid_p = 120) \n",
    "#gx_0 = repeat(Grids_ej.X_grid', outer=[Grids_ej.grid_p, 1, 8])\n",
    "gx_0 = gx\n",
    "\n",
    "K_guess = ((Para_ej.Rf+Para_ej.δ)/(Para_ej.N*Para_ej.η))^(1/(Para_ej.η-1))\n",
    "K_R_ej = fzero(K -> (r(K,Para_ej) * Para_ej.Pr)[1]-Para_ej.Rf, K_guess)\n",
    "K_upper = K_R_ej * 0.9\n",
    "K_lower = K_R_ej * 0.1 # <------------------\n",
    "\n",
    "results, (gx, K_opt, gxn, gc, gc2, de_ss, du_ss), (Para_used, Grids_used) = solve_model(max_iter, tol, gx_0, Para_ej, Grids_ej, K_upper, K_lower)\n",
    "K_ss, K_out_ss, B_ss, X_ss, r_ss1, r_ss2, r_ss3, r_ss4, rE_ss, rd_ss, W_ss, Y_ss, Investment, C_ss, VarC, Welfare, C_rep, id1, id2, KY_ratio = results\n",
    "\n",
    "print(Para_ej)\n",
    "#@show K_ss/(4*Y_ss)\n",
    "\n",
    "n_ej = 1:Grids_ej.grid_p\n",
    "plot( Grids_ej.X_grid[n_ej],de_ss[n_ej],label=\"employed\", title=\"Total asset distribution\") #, xlim=(0,1000)) # xlim=(a_min_0,500)\n",
    "plot!(Grids_ej.X_grid[n_ej],du_ss[n_ej],label=\"unemployed\")"
   ]
  },
  {
   "cell_type": "code",
   "execution_count": 377,
   "id": "dc6c6587",
   "metadata": {},
   "outputs": [
    {
     "data": {
      "text/plain": [
       "20-element Vector{Float64}:\n",
       " 20.64011976767031\n",
       " 20.640119828978392\n",
       " 11.579847419557105\n",
       " 32.21996724853549\n",
       " -0.0008248809712277268\n",
       " -0.02169932265787675\n",
       "  0.06633043933359119\n",
       " -0.8195539409481207\n",
       "  0.010201938911889303\n",
       "  0.08796734790625589\n",
       "  1.0295314990431577\n",
       "  1.517767262026167\n",
       "  0.3508820360503953\n",
       "  1.1779087838028814\n",
       "  0.098865571771799\n",
       "  7.773733242178823\n",
       "  1.0632900377113148\n",
       "  0.0005562895924464684\n",
       " -1.1102230246251565e-15\n",
       "  3.3997504564890373"
      ]
     },
     "execution_count": 377,
     "metadata": {},
     "output_type": "execute_result"
    }
   ],
   "source": [
    "results"
   ]
  },
  {
   "cell_type": "code",
   "execution_count": 378,
   "id": "8c7faa72",
   "metadata": {},
   "outputs": [
    {
     "data": {
      "text/plain": [
       "37.23009547789097"
      ]
     },
     "execution_count": 378,
     "metadata": {},
     "output_type": "execute_result"
    }
   ],
   "source": [
    "fzero(K -> (r(K,Para_ej) * Para_ej.Pr)[1]-Para_ej.Rf, K_guess)"
   ]
  },
  {
   "cell_type": "code",
   "execution_count": 359,
   "id": "77ad3560",
   "metadata": {},
   "outputs": [
    {
     "data": {
      "text/plain": [
       "29.9486278428501"
      ]
     },
     "execution_count": 359,
     "metadata": {},
     "output_type": "execute_result"
    }
   ],
   "source": [
    "K_oro = golden_K(Para_ej)\n",
    "K_oro"
   ]
  },
  {
   "cell_type": "code",
   "execution_count": 292,
   "id": "8ca6e0e3",
   "metadata": {},
   "outputs": [
    {
     "data": {
      "text/plain": [
       "1×2 Matrix{Float64}:\n",
       " 1.0254  0.212562"
      ]
     },
     "execution_count": 292,
     "metadata": {},
     "output_type": "execute_result"
    }
   ],
   "source": [
    "Z_ej"
   ]
  },
  {
   "cell_type": "code",
   "execution_count": 293,
   "id": "ac0cc963",
   "metadata": {},
   "outputs": [
    {
     "data": {
      "text/plain": [
       "1×2 Matrix{Float64}:\n",
       " 0.968753  0.0312472"
      ]
     },
     "execution_count": 293,
     "metadata": {},
     "output_type": "execute_result"
    }
   ],
   "source": [
    "Pz_ej"
   ]
  },
  {
   "cell_type": "code",
   "execution_count": 79,
   "id": "8bdce065",
   "metadata": {},
   "outputs": [
    {
     "data": {
      "text/plain": [
       "([1.0265776021324269 0.24748652184019826], [0.9658863991582884 0.034113600841711555])"
      ]
     },
     "execution_count": 79,
     "metadata": {},
     "output_type": "execute_result"
    }
   ],
   "source": [
    "tau=0.7\n",
    "Z_ej, Pz_ej = z_dist(1.0,0.02,0.89,tau)"
   ]
  },
  {
   "cell_type": "code",
   "execution_count": 46,
   "id": "7183fb35",
   "metadata": {},
   "outputs": [
    {
     "data": {
      "text/plain": [
       "0.9476451259583789"
      ]
     },
     "execution_count": 46,
     "metadata": {},
     "output_type": "execute_result"
    }
   ],
   "source": [
    "sum(de_ss)*Para_ej.n[1]+sum(du_ss)*Para_ej.n[2]"
   ]
  },
  {
   "cell_type": "code",
   "execution_count": 23,
   "id": "90eb86c2",
   "metadata": {},
   "outputs": [
    {
     "data": {
      "image/png": "[encoded data removed]"
     },
     "execution_count": 23,
     "metadata": {},
     "output_type": "execute_result"
    }
   ],
   "source": [
    "n_ej = 1:17\n",
    "x_ej = Grids_ej.X_grid[n_ej]\n",
    "\n",
    "plot( x_ej,K_opt[n_ej,1],label=\"n=e\", title=\"k(x',n)\", legend=:bottomright, xlabel=\"x'\", ylabel=\"k'\")\n",
    "plot!(x_ej,K_opt[n_ej,2],label=\"n=u\")"
   ]
  },
  {
   "cell_type": "code",
   "execution_count": 43,
   "id": "3bbc3c2b",
   "metadata": {},
   "outputs": [
    {
     "data": {
      "image/png": "[encoded data removed]"
     },
     "execution_count": 43,
     "metadata": {},
     "output_type": "execute_result"
    }
   ],
   "source": [
    "n_ej = 1:Grids_ej.grid_p\n",
    "plot( gc2[n_ej,1],de_ss[n_ej],label=\"employed\", title=\"Consumption distribution\") #, xlim=(0,1000)) # xlim=(a_min_0,500)\n",
    "plot!(gc2[n_ej,2],du_ss[n_ej],label=\"unemployed\")"
   ]
  },
  {
   "cell_type": "code",
   "execution_count": 89,
   "id": "fcd444ba",
   "metadata": {},
   "outputs": [
    {
     "data": {
      "text/plain": [
       "0.12785792151440933"
      ]
     },
     "execution_count": 89,
     "metadata": {},
     "output_type": "execute_result"
    }
   ],
   "source": [
    "minimum(gc2)"
   ]
  },
  {
   "cell_type": "code",
   "execution_count": 92,
   "id": "6e67c0f9",
   "metadata": {},
   "outputs": [
    {
     "data": {
      "image/png": "[encoded data removed]"
     },
     "execution_count": 92,
     "metadata": {},
     "output_type": "execute_result"
    }
   ],
   "source": [
    "V_ss = u.(gc2,Para_ej.γ,0.001) # cambiar 0.001 por Para.c_min\n",
    "n_ej = 1:Grids_0.grid_p\n",
    "plot( V_ss[n_ej,1],de_ss[n_ej],label=\"employed\", title=\"Utility distribution\") #, xlim=(0,1000)) # xlim=(a_min_0,500)\n",
    "plot!(V_ss[n_ej,2],du_ss[n_ej],label=\"unemployed\",xlim=(-10,0.5))"
   ]
  },
  {
   "cell_type": "markdown",
   "id": "86ee54d7",
   "metadata": {},
   "source": [
    "## Loading Results"
   ]
  },
  {
   "cell_type": "code",
   "execution_count": 105,
   "id": "ccd884f9",
   "metadata": {},
   "outputs": [
    {
     "data": {
      "text/plain": [
       "1-element Vector{Symbol}:\n",
       " :results_f"
      ]
     },
     "execution_count": 105,
     "metadata": {},
     "output_type": "execute_result"
    }
   ],
   "source": [
    "@load \"result_1.jld2\"\n",
    "@load \"result_f_2.jld2\""
   ]
  },
  {
   "cell_type": "code",
   "execution_count": 51,
   "id": "26c9741c",
   "metadata": {},
   "outputs": [],
   "source": [
    "gx = results_f[1]\n",
    "K_opt  = results_f[2]\n",
    "gxn = results_f[3]\n",
    "gc = results_f[4]\n",
    "gc2 = results_f[5]\n",
    "de_ss = results_f[6]\n",
    "du_ss = results_f[7] \n",
    "results_f;"
   ]
  },
  {
   "cell_type": "code",
   "execution_count": 19,
   "id": "264083ae",
   "metadata": {},
   "outputs": [
    {
     "data": {
      "text/plain": [
       "17-element Vector{Float64}:\n",
       "  19.44533902847715\n",
       "  19.445349585123385\n",
       " 338.4913324741109\n",
       " 357.9366820592343\n",
       "   0.01147918021042592\n",
       "  -0.3346286478494982\n",
       "   0.012654436965332706\n",
       "  -0.4628855474477452\n",
       "   0.007285090603157228\n",
       "   0.040737619136292466\n",
       "   0.8454930801693598\n",
       "   1.1207040237027523\n",
       "   3.2955452867067123\n",
       "   0.19445339028477152\n",
       "   0.00014467403004436719\n",
       "  -4.440892098500626e-16\n",
       "   4.337750783706184"
      ]
     },
     "execution_count": 19,
     "metadata": {},
     "output_type": "execute_result"
    }
   ],
   "source": [
    "K_ss, K_out_ss, B_ss, X_ss, r_ss1, r_ss2, r_ss3, r_ss4, rE_ss, rd_ss, W_ss, Y_ss, Investment, C_ss, Welfare, C_rep, id1, id2, KY_ratio = results;"
   ]
  },
  {
   "cell_type": "code",
   "execution_count": 25,
   "id": "9a6d7209",
   "metadata": {},
   "outputs": [],
   "source": [
    "Para_ej = Para_used[1]\n",
    "Grids_ej = Para_used[2]\n",
    ";"
   ]
  },
  {
   "cell_type": "markdown",
   "id": "804a70fd",
   "metadata": {},
   "source": [
    "## Buscando el ratio K/Y"
   ]
  },
  {
   "cell_type": "code",
   "execution_count": 23,
   "id": "15c0a885",
   "metadata": {},
   "outputs": [
    {
     "data": {
      "text/plain": [
       "solve_pseudo_model (generic function with 1 method)"
      ]
     },
     "execution_count": 23,
     "metadata": {},
     "output_type": "execute_result"
    }
   ],
   "source": [
    "function solve_pseudo_model(Para)\n",
    "        \n",
    "    # Capital\n",
    "    K_guess = ((Para.Rf+Para.δ)/(Para.N*Para.η))^(1/(Para.η-1))\n",
    "    try\n",
    "        K_ss = fzero(K -> (r(K,Para) * Para.Pr)[1]-Para.Rf, K_guess) * 0.99\n",
    "    catch e\n",
    "        return [0.0, 0, 0, 0, 0, 0, 0, 0, 0, 0, 0, 0, 0]\n",
    "    end\n",
    "\n",
    "    K_ss = fzero(K -> (r(K,Para) * Para.Pr)[1]-Para.Rf, K_guess) * 0.99\n",
    "\n",
    "    # Prices\n",
    "    r_ss = r(K_ss,Para)\n",
    "    rE_ss = (r_ss * Para.Pr)[1];\n",
    "    rd_ss = sqrt( (r_ss.^2 * Para.Pr)[1]-rE_ss^2 )\n",
    "    W_ss = w(K_ss,Para)\n",
    "        \n",
    "    # Income\n",
    "    Y_ss = Y(K_ss,Para)\n",
    "\n",
    "    # Investment\n",
    "    Investment = Para.δ * K_ss\n",
    "\n",
    "    # Check\n",
    "    Identity_error = rE_ss * K_ss + W_ss * Para.N - ( Y_ss - Investment)\n",
    "    if Identity_error/Y_ss > 0.005\n",
    "        println(\"Identity error: \",Identity_error)\n",
    "    end\n",
    "        \n",
    "    # Target Ratio\n",
    "    KY_ratio = K_ss/(Y_ss*4)\n",
    "    #println(round(KY_ratio,digits=2))\n",
    "    NWY_ratio = W_ss*Para.N/Y_ss\n",
    "    #println(round(NWY_ratio,digits=4))\n",
    "        \n",
    "    return [K_ss, r_ss[1], r_ss[2], r_ss[3], r_ss[4], rE_ss, rd_ss, W_ss, Y_ss, Investment, Identity_error, KY_ratio, NWY_ratio]\n",
    "end"
   ]
  },
  {
   "cell_type": "code",
   "execution_count": 35,
   "id": "5a809e98",
   "metadata": {},
   "outputs": [
    {
     "data": {
      "text/plain": [
       "K_R2 (generic function with 1 method)"
      ]
     },
     "execution_count": 35,
     "metadata": {},
     "output_type": "execute_result"
    }
   ],
   "source": [
    "function K_R2(P)\n",
    "    K_guess = ((P.Rf+P.δ)/(P.N*P.η))^(1/(P.η-1))\n",
    "    sol = fzero(K -> (r(K,P) * P.Pr)[1]-P.Rf, K_guess)\n",
    "    return sol\n",
    "end"
   ]
  },
  {
   "cell_type": "code",
   "execution_count": 19,
   "id": "011560c9",
   "metadata": {},
   "outputs": [
    {
     "data": {
      "text/plain": [
       "K_R (generic function with 1 method)"
      ]
     },
     "execution_count": 19,
     "metadata": {},
     "output_type": "execute_result"
    }
   ],
   "source": [
    "function K_R(P)\n",
    "    K_guess = ((P.Rf+P.δ)/(P.N*P.η))^(1/(P.η-1))\n",
    "    f_obj(K) = ((r(K,P) * P.Pr)[1]-P.Rf)^2\n",
    "    sol = Optim.optimize(f_obj, 0.0, 200.0, Brent()).minimizer\n",
    "    return max(sol,0.01)\n",
    "end"
   ]
  },
  {
   "cell_type": "code",
   "execution_count": 49,
   "id": "f23dd3bb",
   "metadata": {},
   "outputs": [
    {
     "data": {
      "text/plain": [
       "48.58107371777433"
      ]
     },
     "execution_count": 49,
     "metadata": {},
     "output_type": "execute_result"
    }
   ],
   "source": [
    "K_R(Para_ej)"
   ]
  },
  {
   "cell_type": "code",
   "execution_count": null,
   "id": "31bf0b8c",
   "metadata": {},
   "outputs": [],
   "source": [
    "K_R(Para_ej)"
   ]
  },
  {
   "cell_type": "code",
   "execution_count": 79,
   "id": "093f58bc",
   "metadata": {},
   "outputs": [
    {
     "data": {
      "text/plain": [
       "solve_pseudo_model2 (generic function with 1 method)"
      ]
     },
     "execution_count": 79,
     "metadata": {},
     "output_type": "execute_result"
    }
   ],
   "source": [
    "function solve_pseudo_model2(Para)\n",
    "        \n",
    "    #K_guess = ((Para.Rf+Para.δ)/(Para.N*Para.η))^(1/(Para.η-1))\n",
    "    try\n",
    "        K_ss = K_R(Para)\n",
    "    catch e\n",
    "        return 10.0, 2.0\n",
    "    end\n",
    "    K_ss = K_R(Para)\n",
    "\n",
    "    W_ss = w(K_ss,Para)\n",
    "    Y_ss = Y(K_ss,Para)\n",
    "\n",
    "    KY_ratio = K_ss/(Y_ss*4)\n",
    "    NWY_ratio = W_ss*Para.N/Y_ss\n",
    "    \n",
    "    #if KY_ratio < 0\n",
    "    #    return 10.0, 2.0\n",
    "    #end\n",
    "    #if NWY_ratio < 0\n",
    "    #    return 10.0, 2.0\n",
    "    #end\n",
    "        \n",
    "    return KY_ratio, NWY_ratio\n",
    "end"
   ]
  },
  {
   "cell_type": "code",
   "execution_count": 55,
   "id": "93fd141f",
   "metadata": {},
   "outputs": [
    {
     "data": {
      "text/plain": [
       "5-element Vector{Float64}:\n",
       " 0.75\n",
       " 0.75\n",
       " 0.75\n",
       " 0.005\n",
       " 0.95"
      ]
     },
     "execution_count": 55,
     "metadata": {},
     "output_type": "execute_result"
    }
   ],
   "source": [
    "tau1,rho1,lambda1,var_z1,zeta1 = [0.75,0.75,0.75,0.005,0.95]"
   ]
  },
  {
   "cell_type": "code",
   "execution_count": 56,
   "id": "369b94e5",
   "metadata": {},
   "outputs": [
    {
     "data": {
      "text/plain": [
       "0.75"
      ]
     },
     "execution_count": 56,
     "metadata": {},
     "output_type": "execute_result"
    }
   ],
   "source": [
    "tau1"
   ]
  },
  {
   "cell_type": "code",
   "execution_count": 155,
   "id": "bfe54f1a",
   "metadata": {},
   "outputs": [
    {
     "data": {
      "text/plain": [
       "loss_pseudo_model (generic function with 2 methods)"
      ]
     },
     "execution_count": 155,
     "metadata": {},
     "output_type": "execute_result"
    }
   ],
   "source": [
    "function loss_pseudo_model(x::Vector)\n",
    "    tau, rho, lambda, eta = x\n",
    "    \n",
    "    Z_ej, Pz_ej = z_dist(1.0,0.005,0.97,tau)\n",
    "    Para_ej = Parametros(\n",
    "        β = 0.993,\n",
    "        η = eta,\n",
    "        τ = tau,\n",
    "        δ = 0.017,\n",
    "        ρ = rho,\n",
    "        Pn = [0.9522 0.0478; 0.5 0.5],\n",
    "        n = [1.0 0.4],\n",
    "        λ = lambda,\n",
    "        Z = Z_ej,\n",
    "        Pz = Pz_ej,\n",
    "        Rf = 0.007)\n",
    "    \n",
    "    try\n",
    "        KY_ratio, NWY_ratio = solve_pseudo_model2(Para_ej)\n",
    "    catch e\n",
    "        return 999999\n",
    "    end    \n",
    "    KY_ratio, NWY_ratio = solve_pseudo_model2(Para_ej)\n",
    "    \n",
    "    return ((KY_ratio-3)/9)^2 + ((NWY_ratio-0.46)/0.46)^2\n",
    "end\n",
    "                              \n"
   ]
  },
  {
   "cell_type": "code",
   "execution_count": 34,
   "id": "acf69ed1",
   "metadata": {},
   "outputs": [
    {
     "data": {
      "text/plain": [
       "375961.6873323825"
      ]
     },
     "execution_count": 34,
     "metadata": {},
     "output_type": "execute_result"
    }
   ],
   "source": [
    "loss_pseudo_model(0.75,0.75,0.75,0.005,0.95)"
   ]
  },
  {
   "cell_type": "code",
   "execution_count": 156,
   "id": "1caff9f5",
   "metadata": {},
   "outputs": [
    {
     "data": {
      "text/plain": [
       " * Status: success\n",
       "\n",
       " * Candidate solution\n",
       "    Final objective value:     6.628146e-02\n",
       "\n",
       " * Found with\n",
       "    Algorithm:     Fminbox with L-BFGS\n",
       "\n",
       " * Convergence measures\n",
       "    |x - x'|               = 6.20e-09 ≰ 0.0e+00\n",
       "    |x - x'|/|x'|          = 4.71e-09 ≰ 0.0e+00\n",
       "    |f(x) - f(x')|         = 0.00e+00 ≤ 0.0e+00\n",
       "    |f(x) - f(x')|/|f(x')| = 0.00e+00 ≤ 0.0e+00\n",
       "    |g(x)|                 = 3.73e-09 ≤ 1.0e-08\n",
       "\n",
       " * Work counters\n",
       "    Seconds run:   1  (vs limit Inf)\n",
       "    Iterations:    3\n",
       "    f(x) calls:    49\n",
       "    ∇f(x) calls:   49\n"
      ]
     },
     "execution_count": 156,
     "metadata": {},
     "output_type": "execute_result"
    }
   ],
   "source": [
    "# loss_pseudo_model(tau,rho,lambda,eta)\n",
    "\n",
    "ll = [0.2,0.1,0.6,0.05]\n",
    "uu = [0.95,1.0,0.9,0.7]\n",
    "x0 = [0.75,0.75,0.75,0.25]\n",
    "sol1 = optimize(loss_pseudo_model, ll, uu, x0, Fminbox())\n",
    "\n",
    "\n",
    "#@time calibracion = optimize(loss_pseudo_model, [0.01,0.1,0.51,0.00001,0.1], [0.99,0.99,0.99,1.0,0.999])"
   ]
  },
  {
   "cell_type": "code",
   "execution_count": 157,
   "id": "9ae1f3dd",
   "metadata": {},
   "outputs": [
    {
     "data": {
      "text/plain": [
       "4-element Vector{Float64}:\n",
       " 0.7074798390347395\n",
       " 0.7285938379431599\n",
       " 0.7499881697897361\n",
       " 0.37499277734624986"
      ]
     },
     "execution_count": 157,
     "metadata": {},
     "output_type": "execute_result"
    }
   ],
   "source": [
    "results4 = sol1.minimizer"
   ]
  },
  {
   "cell_type": "code",
   "execution_count": 160,
   "id": "1e532229",
   "metadata": {},
   "outputs": [
    {
     "data": {
      "text/plain": [
       "loss_pseudo_model2 (generic function with 1 method)"
      ]
     },
     "execution_count": 160,
     "metadata": {},
     "output_type": "execute_result"
    }
   ],
   "source": [
    "function loss_pseudo_model2(x::Vector)\n",
    "    rho, lambda = x\n",
    "    tau = 0.5/rho\n",
    "    eta = 1 - tau\n",
    "    \n",
    "    Z_ej, Pz_ej = z_dist(1.0,0.005,0.97,tau)\n",
    "    Para_ej = Parametros(\n",
    "        β = 0.993,\n",
    "        η = eta,\n",
    "        τ = tau,\n",
    "        δ = 0.017,\n",
    "        ρ = rho,\n",
    "        Pn = [0.9522 0.0478; 0.5 0.5],\n",
    "        n = [1.0 0.4],\n",
    "        λ = lambda,\n",
    "        Z = Z_ej,\n",
    "        Pz = Pz_ej)\n",
    "    \n",
    "    try\n",
    "        KY_ratio, NWY_ratio = solve_pseudo_model2(Para_ej)\n",
    "    catch e\n",
    "        return 999999\n",
    "    end    \n",
    "    KY_ratio, NWY_ratio = solve_pseudo_model2(Para_ej)\n",
    "    \n",
    "    return exp(KY_ratio-3)\n",
    "end\n",
    "     "
   ]
  },
  {
   "cell_type": "code",
   "execution_count": 161,
   "id": "751ae283",
   "metadata": {},
   "outputs": [
    {
     "data": {
      "text/plain": [
       " * Status: success (objective increased between iterations)\n",
       "\n",
       " * Candidate solution\n",
       "    Final objective value:     8.966413e+00\n",
       "\n",
       " * Found with\n",
       "    Algorithm:     Fminbox with L-BFGS\n",
       "\n",
       " * Convergence measures\n",
       "    |x - x'|               = 1.94e-11 ≰ 0.0e+00\n",
       "    |x - x'|/|x'|          = 1.48e-11 ≰ 0.0e+00\n",
       "    |f(x) - f(x')|         = 0.00e+00 ≤ 0.0e+00\n",
       "    |f(x) - f(x')|/|f(x')| = 0.00e+00 ≤ 0.0e+00\n",
       "    |g(x)|                 = 3.96e-09 ≤ 1.0e-08\n",
       "\n",
       " * Work counters\n",
       "    Seconds run:   5  (vs limit Inf)\n",
       "    Iterations:    4\n",
       "    f(x) calls:    453\n",
       "    ∇f(x) calls:   453\n"
      ]
     },
     "execution_count": 161,
     "metadata": {},
     "output_type": "execute_result"
    }
   ],
   "source": [
    "ll = [0.52,0.6]\n",
    "uu = [1.0,0.9]\n",
    "x0 = [0.75,0.75]\n",
    "sol2 = optimize(loss_pseudo_model2, ll, uu, x0, Fminbox())"
   ]
  },
  {
   "cell_type": "code",
   "execution_count": 162,
   "id": "f14f23f2",
   "metadata": {},
   "outputs": [
    {
     "data": {
      "text/plain": [
       "2-element Vector{Float64}:\n",
       " 0.9542854044028092\n",
       " 0.8999999999999831"
      ]
     },
     "execution_count": 162,
     "metadata": {},
     "output_type": "execute_result"
    }
   ],
   "source": [
    "results24 = sol2.minimizer"
   ]
  },
  {
   "cell_type": "code",
   "execution_count": 163,
   "id": "6d98d2f7",
   "metadata": {},
   "outputs": [
    {
     "data": {
      "text/plain": [
       "2-element Vector{Float64}:\n",
       " 0.9542854044234734\n",
       " 0.8999999999832496"
      ]
     },
     "execution_count": 163,
     "metadata": {},
     "output_type": "execute_result"
    }
   ],
   "source": [
    "results23"
   ]
  },
  {
   "cell_type": "code",
   "execution_count": 164,
   "id": "5373604d",
   "metadata": {},
   "outputs": [
    {
     "data": {
      "text/plain": [
       "0.5241090146750524"
      ]
     },
     "execution_count": 164,
     "metadata": {},
     "output_type": "execute_result"
    }
   ],
   "source": [
    "0.5/0.954"
   ]
  },
  {
   "cell_type": "code",
   "execution_count": 130,
   "id": "f0b6db81",
   "metadata": {},
   "outputs": [
    {
     "data": {
      "text/plain": [
       "13-element Vector{Float64}:\n",
       " 1896.7211254230256\n",
       "    0.012838880483878951\n",
       "   -0.0026681991792152984\n",
       "   -0.003940657215876249\n",
       "   -0.003988728135732577\n",
       "    0.007108789450147917\n",
       "    0.00783514726190647\n",
       "    9.63021719321971\n",
       "   54.85367864354651\n",
       "   32.24425913219144\n",
       "    5.684341886080802e-14\n",
       "    8.644457273998038\n",
       "    0.16637039868152778"
      ]
     },
     "execution_count": 130,
     "metadata": {},
     "output_type": "execute_result"
    }
   ],
   "source": [
    "rho = 1.11\n",
    "tau=0.15\n",
    "eta = 0.55\n",
    "lambda=0.75\n",
    "\n",
    "Z_ej, Pz_ej = z_dist(1.0,0.005,0.97,tau)\n",
    "    Para_ej = Parametros(\n",
    "        β = 0.993,\n",
    "        η = eta,\n",
    "        τ = tau,\n",
    "        δ = 0.017,\n",
    "        ρ = rho,\n",
    "        Pn = [0.9522 0.0478; 0.5 0.5],\n",
    "        n = [1.0 0.4],\n",
    "        λ = lambda,\n",
    "        Z = Z_ej,\n",
    "        Pz = Pz_ej)\n",
    "resultsM1 = solve_pseudo_model(Para_ej)"
   ]
  },
  {
   "cell_type": "code",
   "execution_count": null,
   "id": "31431064",
   "metadata": {},
   "outputs": [],
   "source": [
    "resultsM1"
   ]
  },
  {
   "cell_type": "code",
   "execution_count": 131,
   "id": "3ab67a0a",
   "metadata": {},
   "outputs": [
    {
     "data": {
      "text/plain": [
       "13-element Vector{Float64}:\n",
       " 70.82711992459768\n",
       "  0.01167492847601221\n",
       " -0.2761214071242462\n",
       "  0.0013634698912466901\n",
       " -0.061574806130945445\n",
       "  0.007150015902261861\n",
       "  0.027235663837801703\n",
       "  3.1073371799403593\n",
       "  4.655129005770181\n",
       "  1.2040610387181607\n",
       " -3.552713678800501e-15\n",
       "  3.8037141310587312\n",
       "  0.6325609729890933"
      ]
     },
     "execution_count": 131,
     "metadata": {},
     "output_type": "execute_result"
    }
   ],
   "source": [
    "rho = 1.11\n",
    "tau=0.57\n",
    "eta = 0.38\n",
    "lambda=0.82\n",
    "Z_ej, Pz_ej = z_dist(1.0,0.005,0.97,tau)\n",
    "    Para_ej = Parametros(\n",
    "        β = 0.993,\n",
    "        η = eta,\n",
    "        τ = tau,\n",
    "        δ = 0.017,\n",
    "        ρ = rho,\n",
    "        Pn = [0.9522 0.0478; 0.5 0.5],\n",
    "        n = [1.0 0.4],\n",
    "        λ = lambda,\n",
    "        Z = Z_ej,\n",
    "        Pz = Pz_ej)\n",
    "resultsM2 = solve_pseudo_model(Para_ej)"
   ]
  },
  {
   "cell_type": "code",
   "execution_count": null,
   "id": "57bb8132",
   "metadata": {},
   "outputs": [],
   "source": [
    "Z_ej, Pz_ej = z_dist(1.0,0.005,0.97,tau)\n",
    "    Para_ej = Parametros(\n",
    "        β = 0.993,\n",
    "        η = eta,\n",
    "        τ = tau,\n",
    "        δ = 0.017,\n",
    "        ρ = rho,\n",
    "        Pn = [0.9522 0.0478; 0.5 0.5],\n",
    "        n = [1.0 0.4],\n",
    "        λ = lambda,\n",
    "        Z = Z_ej,\n",
    "        Pz = Pz_ej)"
   ]
  },
  {
   "cell_type": "code",
   "execution_count": 20,
   "id": "0203b383",
   "metadata": {},
   "outputs": [],
   "source": [
    "using ProgressMeter"
   ]
  },
  {
   "cell_type": "code",
   "execution_count": 27,
   "id": "fe6277a1",
   "metadata": {},
   "outputs": [
    {
     "data": {
      "text/plain": [
       "441"
      ]
     },
     "execution_count": 27,
     "metadata": {},
     "output_type": "execute_result"
    }
   ],
   "source": [
    "count_i=0\n",
    "for tau in 0.6:0.005:0.7 #11\n",
    "    for zeta in 0.97:0.01:0.97 #1\n",
    "        for var_z in 0.005:0.005 #1\n",
    "            Z_ej, Pz_ej = z_dist(1.0,var_z,zeta,tau)\n",
    "            for rho in 0.7:0.01:0.9 #11\n",
    "                for lambda in 0.7:0.7 #1\n",
    "                    for delta in 0.017:0.017 #2\n",
    "                        for rate in 0.0065:0.0065 #3\n",
    "                            for infla in 0.1:0.1 #1\n",
    "                                \n",
    "                                \n",
    "                                count_i += 1\n",
    "                                \n",
    "                            end\n",
    "                        end\n",
    "                    end\n",
    "                end\n",
    "            end\n",
    "        end\n",
    "    end\n",
    "end\n",
    "count_i"
   ]
  },
  {
   "cell_type": "code",
   "execution_count": 28,
   "id": "400ca9ed",
   "metadata": {},
   "outputs": [],
   "source": [
    "count_i = 0\n",
    "results = Array{Float64}(undef, (1,28))\n",
    "#p = ProgressMeter.Progress(176)\n",
    "\n",
    "for tau in 0.6:0.005:0.7 #11\n",
    "    for zeta in 0.97:0.01:0.97 #1\n",
    "        for var_z in 0.005:0.005 #1\n",
    "            Z_ej, Pz_ej = z_dist(1.0,var_z,zeta,tau)\n",
    "            for rho in 0.7:0.01:0.9 #11\n",
    "                for lambda in 0.7:0.7 #1\n",
    "                    for delta in 0.017:0.017 #2\n",
    "                        for rate in 0.0065:0.0065 #3\n",
    "                            for infla in 0.1:0.1 #1\n",
    "                                #ProgressMeter.next!(p)\n",
    "                            \n",
    "                                count_i += 1\n",
    "                                #println(\"Iteration $(count_i): tau=($tau) z=$(zeta), V(z)=$(var_z), ρ=$(rho), λ=$(lambda), η=$(eta),  R_f=$(rate), π=$(infla)\")\n",
    "                                \n",
    "                                eta = 1 - tau\n",
    "                                \n",
    "                                Para_ej = Parametros(Z = Z_ej, Pz = Pz_ej, ρ = rho, λ = lambda, δ = delta,\n",
    "                                                     Rf = rate,  ππ = infla,  τ=tau, η = eta) # β = 0.97    \n",
    "                                result = solve_pseudo_model(Para_ej)\n",
    "                                \n",
    "                                K_oro = golden_K(Para_ej)\n",
    "                                \n",
    "                                vec_para = [count_i, tau, zeta, var_z, Z_ej[1], Z_ej[2], Pz_ej[1], Pz_ej[2], rho, lambda, delta, eta, rate, infla, K_oro]\n",
    "                                result = [vec_para; result]\n",
    "                                results = [results ; result']\n",
    "\n",
    "                            end\n",
    "                        end\n",
    "                    end\n",
    "                end\n",
    "            end\n",
    "        end\n",
    "    end\n",
    "end"
   ]
  },
  {
   "cell_type": "code",
   "execution_count": 29,
   "id": "13654784",
   "metadata": {},
   "outputs": [
    {
     "data": {
      "text/plain": [
       "442×28 Matrix{Float64}:\n",
       "   1.2969e-315  1.2969e-315  1.29691e-315  …  1.29586e-315  1.29577e-315\n",
       "   1.0          0.6          0.97             6.13103       0.420197\n",
       "   2.0          0.6          0.97             6.0675        0.426206\n",
       "   3.0          0.6          0.97             6.00396       0.432214\n",
       "   4.0          0.6          0.97             5.94041       0.438224\n",
       "   5.0          0.6          0.97          …  5.87686       0.444234\n",
       "   6.0          0.6          0.97             5.8133        0.450245\n",
       "   7.0          0.6          0.97             5.74973       0.456257\n",
       "   8.0          0.6          0.97             5.68615       0.462269\n",
       "   9.0          0.6          0.97             5.62256       0.468283\n",
       "  10.0          0.6          0.97          …  5.55895       0.474298\n",
       "  11.0          0.6          0.97             5.49533       0.480315\n",
       "  12.0          0.6          0.97             5.43169       0.486333\n",
       "   ⋮                                       ⋱                \n",
       " 430.0          0.7          0.97          …  4.71932       0.553252\n",
       " 431.0          0.7          0.97             4.64524       0.560264\n",
       " 432.0          0.7          0.97             4.57115       0.567279\n",
       " 433.0          0.7          0.97             4.49704       0.574294\n",
       " 434.0          0.7          0.97             4.42291       0.581311\n",
       " 435.0          0.7          0.97          …  4.34876       0.588331\n",
       " 436.0          0.7          0.97             4.27459       0.595352\n",
       " 437.0          0.7          0.97             4.20039       0.602376\n",
       " 438.0          0.7          0.97             4.12616       0.609403\n",
       " 439.0          0.7          0.97             4.0519        0.616433\n",
       " 440.0          0.7          0.97          …  3.9776        0.623466\n",
       " 441.0          0.7          0.97             3.90326       0.630503"
      ]
     },
     "execution_count": 29,
     "metadata": {},
     "output_type": "execute_result"
    }
   ],
   "source": [
    "results"
   ]
  },
  {
   "cell_type": "code",
   "execution_count": 30,
   "id": "2fcff3f0",
   "metadata": {},
   "outputs": [],
   "source": [
    "# Requiere cambios\n",
    "columnas =  [\"count_i\", \"tau\", \"zeta\", \"var_z\", \"Z1\", \"Z2\", \"Pz1\", \"Pz2\", \"rho\", \"lambda\", \"delta\", \"eta\", \"rate\", \"infla\", \"K_oro\", \"K_R\", \"r_ss1\", \"r_ss2\", \"r_ss3\", \"r_ss4\", \"rE_ss\", \"rd_ss\", \"W_ss\", \"Y_ss\", \"Investment\", \"id_error\", \"KY_ratio\",  \"NWY_ratio\"]\n",
    "\n",
    "XLSX.openxlsx(\"resultados_pseudo.xlsx\", mode=\"w\") do xf\n",
    "    sheet = xf[1]\n",
    "    sheet[\"A1\"] = columnas\n",
    "    sheet[\"A2:AB443\"] = results  # <- celda final del rango debe estar ubicada en la fila (alto de results + 1)\n",
    "end\n",
    ";"
   ]
  },
  {
   "cell_type": "markdown",
   "id": "005b739a",
   "metadata": {},
   "source": [
    "## Resultados del modelo (Iteración)"
   ]
  },
  {
   "cell_type": "code",
   "execution_count": 82,
   "id": "c82ff2a2",
   "metadata": {
    "collapsed": true
   },
   "outputs": [
    {
     "name": "stdout",
     "output_type": "stream",
     "text": [
      "Iteration 1.0: E(1/z)=0.95, V(z)=0.005, ρ=0.75, λ=0.75, γ=2.0,  R_f=0.0005, π=0.1\n",
      "------------------------------------------------------------\n",
      "Iteration 2.0: E(1/z)=0.95, V(z)=0.005, ρ=0.75, λ=0.75, γ=2.0,  R_f=0.0005, π=0.3\n",
      "------------------------------------------------------------\n",
      "Iteration 3.0: E(1/z)=0.95, V(z)=0.005, ρ=0.75, λ=0.75, γ=2.0,  R_f=0.001, π=0.1\n",
      "------------------------------------------------------------\n",
      "Iteration 4.0: E(1/z)=0.95, V(z)=0.005, ρ=0.75, λ=0.75, γ=2.0,  R_f=0.001, π=0.3\n",
      "------------------------------------------------------------\n",
      "Iteration 5.0: E(1/z)=0.95, V(z)=0.005, ρ=0.75, λ=0.75, γ=2.0,  R_f=0.0015, π=0.1\n",
      "------------------------------------------------------------\n",
      "Iteration 6.0: E(1/z)=0.95, V(z)=0.005, ρ=0.75, λ=0.75, γ=2.0,  R_f=0.0015, π=0.3\n",
      "------------------------------------------------------------\n",
      "Iteration 7.0: E(1/z)=0.95, V(z)=0.005, ρ=0.75, λ=0.75, γ=4.0,  R_f=0.0005, π=0.1\n",
      "------------------------------------------------------------\n",
      "Iteration 8.0: E(1/z)=0.95, V(z)=0.005, ρ=0.75, λ=0.75, γ=4.0,  R_f=0.0005, π=0.3\n",
      "------------------------------------------------------------\n",
      "Iteration 9.0: E(1/z)=0.95, V(z)=0.005, ρ=0.75, λ=0.75, γ=4.0,  R_f=0.001, π=0.1\n",
      "------------------------------------------------------------\n",
      "Iteration 10.0: E(1/z)=0.95, V(z)=0.005, ρ=0.75, λ=0.75, γ=4.0,  R_f=0.001, π=0.3\n",
      "------------------------------------------------------------\n",
      "Iteration 11.0: E(1/z)=0.95, V(z)=0.005, ρ=0.75, λ=0.75, γ=4.0,  R_f=0.0015, π=0.1\n",
      "------------------------------------------------------------\n",
      "Iteration 12.0: E(1/z)=0.95, V(z)=0.005, ρ=0.75, λ=0.75, γ=4.0,  R_f=0.0015, π=0.3\n",
      "------------------------------------------------------------\n",
      "Iteration 13.0: E(1/z)=0.95, V(z)=0.005, ρ=0.75, λ=0.75, γ=6.0,  R_f=0.0005, π=0.1\n",
      "------------------------------------------------------------\n",
      "Iteration 14.0: E(1/z)=0.95, V(z)=0.005, ρ=0.75, λ=0.75, γ=6.0,  R_f=0.0005, π=0.3\n",
      "------------------------------------------------------------\n",
      "Iteration 15.0: E(1/z)=0.95, V(z)=0.005, ρ=0.75, λ=0.75, γ=6.0,  R_f=0.001, π=0.1\n",
      "------------------------------------------------------------\n",
      "Iteration 16.0: E(1/z)=0.95, V(z)=0.005, ρ=0.75, λ=0.75, γ=6.0,  R_f=0.001, π=0.3\n",
      "------------------------------------------------------------\n",
      "Iteration 17.0: E(1/z)=0.95, V(z)=0.005, ρ=0.75, λ=0.75, γ=6.0,  R_f=0.0015, π=0.1\n",
      "------------------------------------------------------------\n",
      "Iteration 18.0: E(1/z)=0.95, V(z)=0.005, ρ=0.75, λ=0.75, γ=6.0,  R_f=0.0015, π=0.3\n",
      "------------------------------------------------------------\n"
     ]
    }
   ],
   "source": [
    "count_i=0.0\n",
    "\n",
    "iterations = [1]\n",
    "\n",
    "for E_z_inv in 0.95:0.95 #1\n",
    "    for var_z in 0.005:0.005\n",
    "        Z_ej, Pz_ej = z_dist(1.0,var_z,E_z_inv)\n",
    "        #Z_ej = [1.0 1.0]; Pz_ej =[0.5 0.5]\n",
    "        for rho in 0.75:0.75 #\n",
    "            for lambda in 0.75:0.75 #1 \n",
    "                for rra_coef in 2.0:2.0:6.0 #3\n",
    "                    for rate in 0.0005:0.0005:0.0015 #2\n",
    "                        for infla in 0.1:0.2:0.3 \n",
    "\n",
    "                            count_i += 1\n",
    "                            #if count_i ∉ iterations\n",
    "                            #    println(\"SKIP\")\n",
    "                            #    continue\n",
    "                            #end\n",
    "                            \n",
    "                            \n",
    "                            println(\"Iteration $(count_i): E(1/z)=$(E_z_inv), V(z)=$(var_z), ρ=$(rho), λ=$(lambda), γ=$(rra_coef),  R_f=$(rate), π=$(infla)\")\n",
    "\n",
    "                            \n",
    "                            println(\"------------------------------------------------------------\")\n",
    "\n",
    "\n",
    "                        end\n",
    "                    end\n",
    "                end\n",
    "            end\n",
    "        end\n",
    "    end\n",
    "end\n"
   ]
  },
  {
   "cell_type": "code",
   "execution_count": 83,
   "id": "51dea04c",
   "metadata": {},
   "outputs": [
    {
     "name": "stdout",
     "output_type": "stream",
     "text": [
      "Iteration 1: E(1/z)=0.95, V(z)=0.005, ρ=0.75, λ=0.75, γ=2.0,  R_f=0.0005, π=0.1\n",
      "- - - - - - - - - - - - - - - - - - - - - - - - - - - - - - - - - - \n",
      "Upper bound: 57.6071,   Lower bound: 28.8035\n",
      "578.642538 seconds (1.36 G allocations: 546.289 GiB, 5.28% gc time)\n",
      "Steady-state value of capital K* = 30.3758, excess demand 0.0\n",
      "- - - - - - - - - - - - - - - - - - - - - - - - - - - - - - - - - - \n",
      "K: 30.3758    K': 30.3758    Diff: -0.0%    B: -10.0\n",
      "Ratio: 3.6831   Check1: 0.0012    Check2: 0.0\n",
      "610.606117 seconds (1.44 G allocations: 576.938 GiB, 5.28% gc time)\n",
      "------------------------------------------------------------\n",
      "Iteration 2: E(1/z)=0.95, V(z)=0.005, ρ=0.75, λ=0.75, γ=2.0,  R_f=0.0005, π=0.3\n",
      "- - - - - - - - - - - - - - - - - - - - - - - - - - - - - - - - - - \n",
      "Upper bound: 55.4636,   Lower bound: 27.7318\n",
      "372.592236 seconds (862.15 M allocations: 344.316 GiB, 5.07% gc time)\n",
      "Steady-state value of capital K* = 29.015, excess demand 0.0\n",
      "- - - - - - - - - - - - - - - - - - - - - - - - - - - - - - - - - - \n",
      "K: 29.015    K': 29.015    Diff: 0.0%    B: -9.933\n",
      "Ratio: 3.6611   Check1: 0.0004    Check2: -0.0\n",
      "390.226682 seconds (904.29 M allocations: 361.133 GiB, 5.07% gc time)\n",
      "------------------------------------------------------------\n",
      "Iteration 3: E(1/z)=0.95, V(z)=0.005, ρ=0.75, λ=0.75, γ=2.0,  R_f=0.001, π=0.1\n",
      "- - - - - - - - - - - - - - - - - - - - - - - - - - - - - - - - - - \n",
      "Upper bound: 54.1402,   Lower bound: 27.0701\n",
      "355.034409 seconds (853.37 M allocations: 341.731 GiB, 5.20% gc time)\n",
      "Steady-state value of capital K* = 30.3658, excess demand 0.0\n",
      "- - - - - - - - - - - - - - - - - - - - - - - - - - - - - - - - - - \n",
      "K: 30.3658    K': 30.3658    Diff: 0.0%    B: -10.0\n",
      "Ratio: 3.6822   Check1: 0.0012    Check2: 0.0\n",
      "374.441740 seconds (900.72 M allocations: 360.692 GiB, 5.19% gc time)\n",
      "------------------------------------------------------------\n",
      "Iteration 4: E(1/z)=0.95, V(z)=0.005, ρ=0.75, λ=0.75, γ=2.0,  R_f=0.001, π=0.3\n",
      "- - - - - - - - - - - - - - - - - - - - - - - - - - - - - - - - - - \n",
      "Upper bound: 52.1212,   Lower bound: 26.0606\n",
      "286.819274 seconds (682.87 M allocations: 272.475 GiB, 5.16% gc time)\n",
      "Steady-state value of capital K* = 29.0138, excess demand 0.0\n",
      "- - - - - - - - - - - - - - - - - - - - - - - - - - - - - - - - - - \n",
      "K: 29.0138    K': 29.0138    Diff: 0.0%    B: -9.9147\n",
      "Ratio: 3.661   Check1: 0.0003    Check2: -0.0\n",
      "304.297647 seconds (724.47 M allocations: 289.063 GiB, 5.16% gc time)\n",
      "------------------------------------------------------------\n",
      "Iteration 5: E(1/z)=0.95, V(z)=0.005, ρ=0.75, λ=0.75, γ=2.0,  R_f=0.0015, π=0.1\n",
      "- - - - - - - - - - - - - - - - - - - - - - - - - - - - - - - - - - \n",
      "Upper bound: 51.0225,   Lower bound: 25.5113\n",
      "338.923011 seconds (796.60 M allocations: 318.996 GiB, 5.17% gc time)\n",
      "Steady-state value of capital K* = 30.3679, excess demand 0.0\n",
      "- - - - - - - - - - - - - - - - - - - - - - - - - - - - - - - - - - \n",
      "K: 30.3679    K': 30.3679    Diff: 0.0%    B: -10.0\n",
      "Ratio: 3.6824   Check1: 0.0012    Check2: 0.0\n",
      "358.862895 seconds (843.69 M allocations: 337.855 GiB, 5.17% gc time)\n",
      "------------------------------------------------------------\n",
      "Iteration 6: E(1/z)=0.95, V(z)=0.005, ρ=0.75, λ=0.75, γ=2.0,  R_f=0.0015, π=0.3\n",
      "- - - - - - - - - - - - - - - - - - - - - - - - - - - - - - - - - - \n",
      "Upper bound: 49.1154,   Lower bound: 24.5577\n",
      "288.123964 seconds (674.00 M allocations: 268.681 GiB, 5.13% gc time)\n",
      "Steady-state value of capital K* = 29.0125, excess demand 0.0\n",
      "- - - - - - - - - - - - - - - - - - - - - - - - - - - - - - - - - - \n",
      "K: 29.0125    K': 29.0125    Diff: 0.0%    B: -9.8916\n",
      "Ratio: 3.6608   Check1: 0.0003    Check2: -0.0\n",
      "305.842158 seconds (714.70 M allocations: 284.902 GiB, 5.14% gc time)\n",
      "------------------------------------------------------------\n",
      "Iteration 7: E(1/z)=0.95, V(z)=0.005, ρ=0.75, λ=0.75, γ=4.0,  R_f=0.0005, π=0.1\n",
      "- - - - - - - - - - - - - - - - - - - - - - - - - - - - - - - - - - \n",
      "Upper bound: 57.6071,   Lower bound: 28.8035\n",
      "295.424709 seconds (695.07 M allocations: 277.524 GiB, 5.15% gc time)\n",
      "Steady-state value of capital K* = 31.7174, excess demand 0.0\n",
      "- - - - - - - - - - - - - - - - - - - - - - - - - - - - - - - - - - \n",
      "K: 31.7174    K': 31.7174    Diff: 0.0%    B: -9.8617\n",
      "Ratio: 3.8045   Check1: 0.0021    Check2: 0.0\n",
      "314.782367 seconds (736.16 M allocations: 293.924 GiB, 5.14% gc time)\n",
      "------------------------------------------------------------\n",
      "Iteration 8: E(1/z)=0.95, V(z)=0.005, ρ=0.75, λ=0.75, γ=4.0,  R_f=0.0005, π=0.3\n",
      "- - - - - - - - - - - - - - - - - - - - - - - - - - - - - - - - - - \n",
      "Upper bound: 55.4636,   Lower bound: 27.7318\n",
      "236.385584 seconds (561.26 M allocations: 221.108 GiB, 5.17% gc time)\n",
      "Steady-state value of capital K* = 30.2293, excess demand 0.0\n",
      "- - - - - - - - - - - - - - - - - - - - - - - - - - - - - - - - - - \n",
      "K: 30.2293    K': 30.2293    Diff: -0.0%    B: -9.2894\n",
      "Ratio: 3.7754   Check1: 0.0    Check2: -0.0\n",
      "254.058237 seconds (603.38 M allocations: 237.676 GiB, 5.18% gc time)\n",
      "------------------------------------------------------------\n",
      "Iteration 9: E(1/z)=0.95, V(z)=0.005, ρ=0.75, λ=0.75, γ=4.0,  R_f=0.001, π=0.1\n",
      "- - - - - - - - - - - - - - - - - - - - - - - - - - - - - - - - - - \n",
      "Upper bound: 54.1402,   Lower bound: 27.0701\n",
      "282.987617 seconds (669.87 M allocations: 267.199 GiB, 5.18% gc time)\n",
      "Steady-state value of capital K* = 31.7292, excess demand 0.0\n",
      "- - - - - - - - - - - - - - - - - - - - - - - - - - - - - - - - - - \n",
      "K: 31.7292    K': 31.7292    Diff: 0.0%    B: -9.789\n",
      "Ratio: 3.8055   Check1: 0.0018    Check2: 0.0\n",
      "302.231150 seconds (716.19 M allocations: 285.672 GiB, 5.18% gc time)\n",
      "------------------------------------------------------------\n",
      "Iteration 10: E(1/z)=0.95, V(z)=0.005, ρ=0.75, λ=0.75, γ=4.0,  R_f=0.001, π=0.3\n",
      "- - - - - - - - - - - - - - - - - - - - - - - - - - - - - - - - - - \n",
      "Upper bound: 52.1212,   Lower bound: 26.0606\n",
      "254.804676 seconds (616.40 M allocations: 242.263 GiB, 5.24% gc time)\n",
      "Steady-state value of capital K* = 30.1631, excess demand 0.0\n",
      "- - - - - - - - - - - - - - - - - - - - - - - - - - - - - - - - - - \n",
      "K: 30.1631    K': 30.1631    Diff: 0.0%    B: -9.1047\n",
      "Ratio: 3.7692   Check1: 0.0    Check2: -0.0\n",
      "272.560918 seconds (659.90 M allocations: 259.349 GiB, 5.24% gc time)\n",
      "------------------------------------------------------------\n",
      "Iteration 11: E(1/z)=0.95, V(z)=0.005, ρ=0.75, λ=0.75, γ=4.0,  R_f=0.0015, π=0.1\n",
      "- - - - - - - - - - - - - - - - - - - - - - - - - - - - - - - - - - \n",
      "Upper bound: 51.0225,   Lower bound: 25.5113\n",
      "293.206984 seconds (700.84 M allocations: 279.317 GiB, 5.20% gc time)\n",
      "Steady-state value of capital K* = 31.7416, excess demand 0.0\n",
      "- - - - - - - - - - - - - - - - - - - - - - - - - - - - - - - - - - \n",
      "K: 31.7416    K': 31.7416    Diff: -0.0%    B: -9.6945\n",
      "Ratio: 3.8066   Check1: 0.0014    Check2: 0.0\n",
      "313.092823 seconds (748.00 M allocations: 298.112 GiB, 5.20% gc time)\n",
      "------------------------------------------------------------\n",
      "Iteration 12: E(1/z)=0.95, V(z)=0.005, ρ=0.75, λ=0.75, γ=4.0,  R_f=0.0015, π=0.3\n",
      "- - - - - - - - - - - - - - - - - - - - - - - - - - - - - - - - - - \n",
      "Upper bound: 49.1154,   Lower bound: 24.5577\n",
      "275.588196 seconds (656.89 M allocations: 257.536 GiB, 5.21% gc time)\n",
      "Steady-state value of capital K* = 30.0471, excess demand 0.0\n",
      "- - - - - - - - - - - - - - - - - - - - - - - - - - - - - - - - - - \n",
      "K: 30.0471    K': 30.0471    Diff: -0.0%    B: -8.8\n",
      "Ratio: 3.7583   Check1: 0.0    Check2: -0.0\n",
      "293.873944 seconds (700.59 M allocations: 274.659 GiB, 5.21% gc time)\n",
      "------------------------------------------------------------\n",
      "Iteration 13: E(1/z)=0.95, V(z)=0.005, ρ=0.75, λ=0.75, γ=6.0,  R_f=0.0005, π=0.1\n",
      "- - - - - - - - - - - - - - - - - - - - - - - - - - - - - - - - - - \n",
      "Upper bound: 57.6071,   Lower bound: 28.8035\n",
      "320.778428 seconds (750.95 M allocations: 297.809 GiB, 5.21% gc time)\n",
      "Steady-state value of capital K* = 34.1777, excess demand 0.0\n",
      "- - - - - - - - - - - - - - - - - - - - - - - - - - - - - - - - - - \n",
      "K: 34.1777    K': 34.1777    Diff: -0.0%    B: -9.5551\n",
      "Ratio: 4.0237   Check1: 0.0006    Check2: 0.0\n",
      "341.612281 seconds (800.07 M allocations: 317.293 GiB, 5.21% gc time)\n",
      "------------------------------------------------------------\n",
      "Iteration 14: E(1/z)=0.95, V(z)=0.005, ρ=0.75, λ=0.75, γ=6.0,  R_f=0.0005, π=0.3\n",
      "- - - - - - - - - - - - - - - - - - - - - - - - - - - - - - - - - - \n",
      "Upper bound: 55.4636,   Lower bound: 27.7318\n"
     ]
    },
    {
     "name": "stdout",
     "output_type": "stream",
     "text": [
      "277.791167 seconds (659.61 M allocations: 257.503 GiB, 5.21% gc time)\n",
      "Steady-state value of capital K* = 30.6622, excess demand 0.0\n",
      "- - - - - - - - - - - - - - - - - - - - - - - - - - - - - - - - - - \n",
      "K: 30.6622    K': 30.6622    Diff: 0.0%    B: -4.7941\n",
      "Ratio: 3.8159   Check1: 0.0    Check2: -0.0\n",
      "298.249692 seconds (709.02 M allocations: 276.787 GiB, 5.22% gc time)\n",
      "------------------------------------------------------------\n",
      "Iteration 15: E(1/z)=0.95, V(z)=0.005, ρ=0.75, λ=0.75, γ=6.0,  R_f=0.001, π=0.1\n",
      "- - - - - - - - - - - - - - - - - - - - - - - - - - - - - - - - - - \n",
      "Upper bound: 54.1402,   Lower bound: 27.0701\n",
      "421.305945 seconds (829.60 M allocations: 328.571 GiB, 5.03% gc time)\n",
      "Steady-state value of capital K* = 34.1607, excess demand 0.0\n",
      "- - - - - - - - - - - - - - - - - - - - - - - - - - - - - - - - - - \n",
      "K: 34.1607    K': 34.1607    Diff: -0.0%    B: -9.4775\n",
      "Ratio: 4.0222   Check1: 0.0004    Check2: 0.0\n",
      "447.970222 seconds (880.97 M allocations: 348.921 GiB, 5.03% gc time)\n",
      "------------------------------------------------------------\n",
      "Iteration 16: E(1/z)=0.95, V(z)=0.005, ρ=0.75, λ=0.75, γ=6.0,  R_f=0.001, π=0.3\n",
      "- - - - - - - - - - - - - - - - - - - - - - - - - - - - - - - - - - \n",
      "Upper bound: 52.1212,   Lower bound: 26.0606\n",
      "355.018251 seconds (692.23 M allocations: 270.112 GiB, 5.04% gc time)\n",
      "Steady-state value of capital K* = 30.4088, excess demand 0.0\n",
      "- - - - - - - - - - - - - - - - - - - - - - - - - - - - - - - - - - \n",
      "K: 30.4088    K': 30.4088    Diff: -0.0%    B: -3.9879\n",
      "Ratio: 3.7922   Check1: 0.0    Check2: -0.0\n",
      "379.316618 seconds (740.24 M allocations: 288.847 GiB, 5.04% gc time)\n",
      "------------------------------------------------------------\n",
      "Iteration 17: E(1/z)=0.95, V(z)=0.005, ρ=0.75, λ=0.75, γ=6.0,  R_f=0.0015, π=0.1\n",
      "- - - - - - - - - - - - - - - - - - - - - - - - - - - - - - - - - - \n",
      "Upper bound: 51.0225,   Lower bound: 25.5113\n",
      "366.979619 seconds (794.38 M allocations: 314.140 GiB, 5.14% gc time)\n",
      "Steady-state value of capital K* = 34.1256, excess demand 0.0\n",
      "- - - - - - - - - - - - - - - - - - - - - - - - - - - - - - - - - - \n",
      "K: 34.1256    K': 34.1256    Diff: -0.0%    B: -9.3978\n",
      "Ratio: 4.0191   Check1: 0.0002    Check2: 0.0\n",
      "389.588596 seconds (848.11 M allocations: 335.391 GiB, 5.14% gc time)\n",
      "------------------------------------------------------------\n",
      "Iteration 18: E(1/z)=0.95, V(z)=0.005, ρ=0.75, λ=0.75, γ=6.0,  R_f=0.0015, π=0.3\n",
      "- - - - - - - - - - - - - - - - - - - - - - - - - - - - - - - - - - \n",
      "Upper bound: 49.1154,   Lower bound: 24.5577\n",
      "244.330749 seconds (565.61 M allocations: 220.696 GiB, 5.19% gc time)\n",
      "Steady-state value of capital K* = 30.1597, excess demand 0.0\n",
      "- - - - - - - - - - - - - - - - - - - - - - - - - - - - - - - - - - \n",
      "K: 30.1597    K': 30.1597    Diff: 0.0%    B: -3.0583\n",
      "Ratio: 3.7689   Check1: 0.0    Check2: -0.0\n",
      "263.684110 seconds (610.65 M allocations: 238.271 GiB, 5.19% gc time)\n",
      "------------------------------------------------------------\n"
     ]
    }
   ],
   "source": [
    "#iterations = [1] # ¿Qué iteraciones quiero que haga?\n",
    "\n",
    "max_iter=1200\n",
    "tol=1e-5\n",
    "b_min_ej = -10.0\n",
    "\n",
    "Grids_ej = Grids(b_min = b_min_ej, x_max = 600, grid_p = 120)\n",
    "#gx_0 = results_f[1][2] # Si este está activo el de abajo no debe estarlo\n",
    "gx_0 = repeat(Grids_ej.X_grid', outer=[Grids_ej.grid_p, 1, 8]) # Si este está activo el de arriba no debe estarlo\n",
    "n_ej = 1:Grids_ej.grid_p\n",
    "\n",
    "\n",
    "count_i = 0\n",
    "results = Array{Float64}(undef, (1,34))\n",
    "results_f=[]\n",
    "\n",
    "for E_z_inv in 0.95:0.95 #1\n",
    "    for var_z in 0.005:0.005\n",
    "        Z_ej, Pz_ej = z_dist(1.0,var_z,E_z_inv)\n",
    "        #Z_ej = [1.0 1.0]; Pz_ej =[0.5 0.5]\n",
    "        for rho in 0.75:0.75 #\n",
    "            for lambda in 0.75:0.75 #1 \n",
    "                for rra_coef in 2.0:2.0:6.0 #3\n",
    "                    for rate in 0.0005:0.0005:0.0015 #2\n",
    "                        for infla in 0.1:0.2:0.3 \n",
    "                            \n",
    "                            count_i += 1\n",
    "                            println(\"Iteration $(count_i): E(1/z)=$(E_z_inv), V(z)=$(var_z), ρ=$(rho), λ=$(lambda), γ=$(rra_coef),  R_f=$(rate), π=$(infla)\")\n",
    "                            #if count_i ∉ iterations\n",
    "                            #    println(\"------------------------------------------------------------\")\n",
    "                            #    continue\n",
    "                            #end\n",
    "                            \n",
    "                            Para_ej = Parametros(Z = Z_ej, Pz = Pz_ej, ρ = rho, λ = lambda, γ = rra_coef,\n",
    "                                                 Rf = rate,  ππ = infla,  b_min = b_min_ej, η = 0.25) #η = 0.1, δ = 0.005, β = 0.97\n",
    " \n",
    "                            K_gold =  golden_K(Para_ej)\n",
    "                            K_guess = ((Para_ej.Rf+Para_ej.δ)/(Para_ej.N*Para_ej.η))^(1/(Para_ej.η-1))\n",
    "                            K_Rf = fzero(K -> (r(K,Para_ej) * Para_ej.Pr)[1]-Para_ej.Rf, K_guess)\n",
    "                            K_upper = K_Rf # * 1.05\n",
    "                            \n",
    "                            if rate <= 0.0065\n",
    "                                lower_coef = 0.5 \n",
    "                            else\n",
    "                                lower_coef = 0.7\n",
    "                            end\n",
    "                            K_lower = K_Rf * lower_coef\n",
    "\n",
    "                            @time result, (gx, K_opt, gxn, gc, gc2, de_ss, du_ss) = solve_model(max_iter, tol, gx_0, Para_ej, Grids_ej, K_upper, K_lower)\n",
    "                            # K_ss, K_out_ss, B_ss, X_ss, r_ss1, r_ss2, r_ss3, r_ss4, rE_ss, rd_ss, W_ss, Y_ss, C_ss, Investment, VarC, Welfare, id1, id2, KY_ratio = result\n",
    "\n",
    "                            gx_0 = gx\n",
    "                            \n",
    "                            #pl = plot( Grids_ej.X_grid[n_ej],de_ss[n_ej],label=\"employed\", title=\"Total asset distribution\")\n",
    "                            #pl = plot!(pl, Grids_ej.X_grid[n_ej],du_ss[n_ej],label=\"unemployed\")\n",
    "    \n",
    "                            vec_para = [count_i, E_z_inv, var_z, Z_ej[1], Z_ej[2], Pz_ej[1], Pz_ej[2], rho, lambda, rra_coef, rate, infla, K_Rf, K_gold]\n",
    "                            result = [vec_para; result]\n",
    "                            results = [results ; result']\n",
    "                            \n",
    "\n",
    "                            result_f = [count_i, gx, K_opt, gxn, gc, gc2, de_ss, du_ss] #, pl]\n",
    "                            push!(results_f,result_f)\n",
    "                            \n",
    "                            println(\"------------------------------------------------------------\")\n",
    "\n",
    "                        end\n",
    "                    end\n",
    "                end\n",
    "            end\n",
    "        end\n",
    "    end\n",
    "end\n",
    "\n",
    "writedlm( \"results.csv\",  results, ',')"
   ]
  },
  {
   "cell_type": "code",
   "execution_count": null,
   "id": "05575925",
   "metadata": {},
   "outputs": [],
   "source": [
    "pyplot();"
   ]
  },
  {
   "cell_type": "code",
   "execution_count": 84,
   "id": "377e3bc7",
   "metadata": {
    "scrolled": true
   },
   "outputs": [
    {
     "data": {
      "image/png": "[encoded data removed]",
      "text/plain": [
       "PyPlot.Figure(PyObject <Figure size 600x400 with 1 Axes>)"
      ]
     },
     "metadata": {},
     "output_type": "display_data"
    },
    {
     "name": "stderr",
     "output_type": "stream",
     "text": [
      "┌ Info: Saved animation to \n",
      "│   fn = C:\\Users\\nicot\\GitHub\\Heterogeneous Agents\\notebooks\\Modelo 6 - Calvo Pricing y dos activos\\tmp.gif\n",
      "└ @ Plots C:\\Users\\nicot\\.julia\\packages\\Plots\\HcxwM\\src\\animation.jl:114\n"
     ]
    },
    {
     "data": {
      "text/html": [
       "<img src=\"data:image/gif;base64,R0lGODlhWAKQAfcCMQAAAACa+gD/AAKa+Qac+QcHBwye+g0NDQ2f+g8PDxKg+RKh+hYWFhej+hij+hsbGxuj+Byl+h8fHyCm+iQkJCSo+ian9yep+ioqKiqo9yyh7C2p9y2s+i6s+i+s+jCq9jCt+jExMTGt+jOs+DQ0NDSu+zU1NTev+zg4ODux+zyx+z2y+z8/Pz+z+0Cw9kGw9UGz+0dHR0e1+0i2+0uy8ky4+09PT1G5+1OLuVO7+1S7+1W7+1a39Fa8+1m8+1y++12++15eXmC/+2PB+2S/92e982hoaGjC/GzE/G7A829vb3GEoHG97XKEn3LG/HODnnV1dXWDnXWFoHaDnHbI/HeDm3eDnHfD83jJ/HmCmXnK/HrE83rK/HuIoH19fX3L/H6Kon6gwICLooDM/IKMo4OFmISDhITO/ITO/IWNoobG74qmwYrQ/IuLi4uQo4vR/IyIlo2RpI3P+I3R/I6TpZGTpZLT/JPN8ZSNl5aPlJfV/JmXpZqampzQ8J2Plp3X/J6enp+apqKfo6Pa/abb/aeQlKeeqKfb/airsKqpqqrV8KvV8KyhqKzV8Kzd/a6urrCgprDQ57Hf/bS0tLTh/bXZ8LeVkrfi/bji/by8vLzb7r3k/b7l/b96aL+/v8CQhsDAwcDl/cTn/cXm+saakcjIyMjp/cvf7MybkMzMzM3Nzc7r/s+bj9B0WNN0VtPT09RyU9RzVdS3sdTt/dVyUtVzVNV0VdV0Vdaej9bj7Nd2V9jY2Nl4Wdrv/dt7W9ujktvb297e3t/x/uChjuHi4+Ho7eHy/uJvSOJ/XeN2UOSCYOSSduV7V+WFZOWJaeWTd+aNb+aagOahiebl5eb1/uenkuerluetmeiVeeixnui6quj1/uno6OqXeurPxerb1err6+udguv3/uyjieyslu3t7e74/u+umO/v7/C0n/G7qfHDtPH5/vLJu/La0vTy8vXPw/Xq5vbTx/b7/vfb0vfm4Pjh2frr5vr6+vvu6vv9/vz18/36+f38/P7+/v///yH/C05FVFNDQVBFMi4wAwEAAAAh+QQFyAACACwAAAAAWAKQAYcAAAAAmvoA/wACmvkGnPkHBwcMnvoNDQ0Nn/oPDw8SoPkSofoWFhYXo/oYo/obGxsbo/gcpfofHx8gpvokJCQkqPomp/cnqfoqKioqqPcsoewtqfctrPourPovrPowqvYwrfoxMTExrfozrPg0NDQ0rvs1NTU3r/s4ODg7sfs8sfs9svs/Pz8/s/tAsPZBsPVBs/tHR0dHtftItvtLsvJMuPtPT09RuftTi7lTu/tUu/tVu/tWt/RWvPtZvPtcvvtdvvteXl5gv/tjwftkv/dnvfNoaGhowvxsxPxuwPNvb29xhKBxve1yhJ9yxvxzg551dXV1g511haB2g5x2yPx3g5t3g5x3w/N4yfx5gpl5yvx6xPN6yvx7iKB9fX19y/x+iqJ+oMCAi6KAzPyCjKODhZiEg4SEzvyEzvyFjaKGxu+KpsGK0PyLi4uLkKOL0fyMiJaNkaSNz/iN0fyOk6WRk6WS0/yTzfGUjZeWj5SX1fyZl6Wampqc0PCdj5ad1/yenp6fmqain6Oj2v2m2/2nkJSnnqin2/2oq7Cqqaqq1fCr1fCsoais1fCs3f2urq6woKaw0Oex3/20tLS04f212fC3lZK34v244v28vLy82+695P2+5f2/emi/v7/AkIbAwMHA5f3E5/3F5vrGmpHIyMjI6f3L3+zMm5DMzMzNzc3O6/7Pm4/QdFjTdFbT09PUclPUc1XUt7HU7f3VclLVc1TVdFXVdFXWno/W4+zXdlfY2NjZeFna7/3be1vbo5Lb29ve3t7f8f7goY7h4uPh6O3h8v7ib0jif13jdlDkgmDkknble1flhWTliWnlk3fmjW/mmoDmoYnm5eXm9f7np5Lnq5bnrZnolXnosZ7ouqro9f7p6Ojql3rqz8Xq29Xq6+vrnYLr9/7so4nsrJbt7e3u+P7vrpjv7+/wtJ/xu6nxw7Tx+f7yybvy2tL08vL1z8P16ub208f2+/7329L35uD44dn66+b6+vr77ur7/f789fP9+vn9/Pz+/v7///8I/wD/CRxIsKDBgwgTKlzIsKHDhxAjSpxIsaLFixgzatzIsaPHjyBDihxJsqTJkyhTqlzJsqXLlzBjypxJs6bNmzhz6tzJs6fPn0CDCh1KtKjRo0gFSpCQ9B8gAIAGAmDRMQiAYAI9AfDicSlJGxj6OQQGgI/YpmjTqm0JoK3bt20VegHgKaJXmlq5RnwaVeDUhnPrMrSK9V9ei4QL3g2ZCUCigdzM2KAQ12AQBujWat7M2aOXz58BJAD9WS5du0zxbpXId+AuYoBPM5y2C1/W1RUTEwQGbCSK1LcBUDgA4OArAGY6K1/OfCIA4AwDo655eC9UidIjVqeo++RxvQK5gf96948ywhAP/DVfz769X+jvvGAokMAGqIEs4Kb2FGT4gRB8KAZdQei0wQIDBTwQRG8D4dNGCAccIEEQqgjUDx8mJFCABPYRBIoNGlLgBXn/zAVXYQaVYwSCJjzSml9UCYSOfBFSEARs+b2V2lLoKPHAdbrlBQoLByRwI0F/EXSXBHDFuNg/8c1X330DBZZICAUwoASJCEEBwCvqGWTeQWYAkEmY7qWpZlrPNYgCACFAEUQBBTyiHiD5BfFZHvr8E4ONUBjBJBRoPllQKQXEYAQUNgDAAIqNhqCEnAz05SUFiwYhAXh8iBYEFPmhYBt/U4GWmUHvhAAACnImeh2MAvn/8yarjCZQF54A6OkFn/9IwEAImCoxyT9BAhBDATZ4EQMAD3AjVYwD3fUgAEp81tdi+LwZ55x1hjmXDQcEoQQGuaJpEIRniVncQVpBsea78BrVpkBlBnHWK/SRKJ0/YaL4Dz7LwqbUgAShUw5BWhmh3jsAmCAWv/2cmsADXPpz8D/4hnDxP2W2cRt4CM2lsECNvfpPksfZQBA++p7Gr1LGcknsVcEFSG+uzwo4UHcDD1TvvfkKNFcCuyxM7jQIMcyCuQSNiWqS8UYt9U7zlleAwAIZAYAgQsuW0CMmG7oQBqkxjAJCCVCAD9P/KAEAlbEyQMLHC0lQgLP4mYxyrukS/5RdtF8WVCwFBL3DwAFrnwxtzwLx3CtwFFxNkNZcl4hb15Ow/c8uAKiMkNMGFUCB5lOXbjpL8zKMQUGJAECo5YINFB+WbyXHOEKe2ICgWwUMtGwIZoBi20Bai5iJzCZsRZoXDxyg3nYHqV5QmX0pLhA+5LLQRirDdx27UgUwXWwQBS37CqxKAuf4XdIT1Prrcz1CUKeVG1QKAEb03fS6Bz2QwOkADOBK5kUMqN0mf7BbmapCYITPWAU8YhtI6w5gAyh8hkmy8wKTAHCALV2vDeQCQAGCAA6BUAYubqFbQgq4uH90qnpQA4cRfuQoL5zlb7fbGc0M4zrBvQ190VLfDv+DKBAWFiRhYsHhiwyiCr59jn8GmRjpBEjFKmYkdQBYnfuo5b0tIlAgrYMgwQYyHwaZEIoCCQYgkjeygUwjEcuKgUBUJbMjXi56WSzIXGDYQn/sIg/ksh0OH2eZHSKRIObzy9kIkgAh+ouQUMrjFpXQxYEssSDTMFZCQEeQfsBpilYMpSgfUrXIYe0flLtZJghSpswR73IRFEgBQkCQaRQAjbI7AAMKAjHKrE1rZ0IIKO54ELvhTSD54SNCCrjIMq0yfYUsjFYIJzsEDa+RBAlG1dYHOcm9snJKNBkvGTC6JyKEc/YapTrXSUrg1CtM+EoAifKwNTS9byCguKUYN5n/ALzho1HrAkcparmhfwVTIIYrgG3wRYFToqNCGMOZadpYMmX+IxjnG0gqkkRPQZhLbMUqi88k6ifZ/LNqXoLb7d4pkHi27HuXLEijNlYQTg5EEGUBJTt3qs6q4SN5JAgUnR7TUmZBoQ158Mc7mBQDRnUOlmMUCD0foAQjUIACqhJIEzHwqRXlFB3C6eqgBtIpZAXqWEaw0AMKYAQztOFUBXkHuVg1p2VZFGwm0FMQEgCAYUX0AUfNQw4bZ0hjIUtZzznmJERoBCNgAAUPAM5iRWSGRKgHW0AVagGImkBLirMgT+Fs44Kw11yRtoQ6RBpPV8vaqkHJC5FLQAxU6hTa/6UmGLorgAkSMcx9IsQffJgPA4zAjfzIyAssWOsDYhBMB8VgrQxggWUJkorLZClOuxhIKYjUlkcOREUIIoGL9BYjYkABBQjiUCoIAgjbDnZm0tzKkOgThEcmQrhbelIbIpekJ8UntrP1m9ec8tnC1acgKOxuLj3H2gY72CUv20iE0TLhnUDBmw55Cm0fzOEOe1g5hkurQ/BBAQZ/+MQoTvFRMmEG/SUkGF7wropnTOMaz6TCNs6xjnfM4x77+MdADrKQh0zkIufkHaqoo5GXzOQlNxGiFIGrcqTcGSpzxsqbwfJatLzlmjzZIjTtTJg5M+bNlFkzZ1ZLmtXsZQBAef8ia05LnNEy56bUOSl3Pkqe9dzmN0tkz0YBdFEETRRCD8XQQUF0ovsM5uYoGiiP/kmkfTJpnlTa0oyuyKV3smmddDonn8ZJqENCDFWY+tSoTnWqPaHqVrv61bCOtaxnDWtWv/qUJvmyph3Na+aM2ia/9ggxbpngYhv72MhOtrKXzexmtwXDuXZzo33d6+UEmybX5kgTBUHrbnv72+AO97dx6meS6Joi2ZZJumOybpi0+yXvvsi51znvktQ7IjT1hyPYgeZqKyfeLQF4Re4tSoKLxOAOoekqAmCHflP74db+CcKrOPGPVHwhNOVCAG7g8IhD/N8Sl/ZOL94RkidkY/7/uAABFtAnNn9czP7eiclPN3ON1DxFA5lFALAQgFWsReArAbpKhJ4Sokfk5lNDurxFju6BnAEB7DDAG34eczJXPSdKj1rWB850OA9kCCX4hwxmQPWXW93sWO/6TgBhYosAQMlHV7u55Q6Rjc2A42NoQNk9zneQ+2TrKmG7Rt6+9HKPBPAb8wAS/jGIAMzD5X2HOdpxAniJpIIFJAjBI4LBAC8AKxWONQHSABEDG4SABbAR/D9AyFV04IMBAoOCu4ARAxOEQLD/eAQFUFAmuEOk8hJB/EAWcIZ/hCIAvYC83yN/9p4QnBqriL70p0/96lMjIegIAdLAIYH7DasNCajQ/6KcUoDstkGOgp8EBjLT2BJ5wR+vD0Y/SJDdVKWCG0RbPeEtAvy4G/4hFzMPAfAH/yAMAYAJyid5zGdmIWd4YxAAEBiBEjiBFDgGCTEJCRACGvgAoHAAJKNFgGAvpKce6BA+ggcFZqAeqkA40/AA+CB4GaOBEiAIkxADJLh/XPd/ISF8/2AMB/gP+jCACdh8y1eEMkd30Fd9SqiE14cQk7A0A8F5zzM3TqEyI/gPJegPgqcEtrOCjSMIJnAmr/AABfEINoiFOEgR/fd7dAeAAiEKATALAhEBXzCEDDh5e8cTa9gQ5cAAgqEKwMAAUygQggcIBdAb51eF/6B+5NF+/v9QCg9ATSRWOcBQDviHiGk4EXvoEDzoCAFgDgKRAkBghx1nhER4hDr4EZcXAhgQA7sgiIZBhYUYA0GAASyAFarHekEAVxiAe/8ADGBhi0ijeyjQBpkYfG24g8nIhwJhBwQQJj7QAqSYhwpoimmXii6heg5BDAxQMTpVeCnBg1gwAQMxjtN4jnJ2dZS3jNnYdnLxANVjb+zoETz4AyowEHowAN8IaepIjaeoE5vIHgHJEDwIAz0wEJcQAMaQjniIjnTWgDw1kAvBgxfgBDkXAKLAkAtYitWIihE5jyUHkicnEMQ3EOwQAIOgkdbIkf94jR+JjQIBDChAASaQUQMhkzT/mVESgFUhMF0EIXz+MAB6QBAl+ZANqZIdCZAiSXMgyQJRkQiLhB9PuUgSYJNMtJQHcTACmJIDwQGLZ5Qb6Y936HxY2RNSmBEs4FcHcXH4Zxv+8CiQkQBuCZdVmRDCtw0BIAkEIQM6gJQtyZJjqYdlyRNniRFpaZfzmApa9A8mADeKORCN2SusSFxXiQIxwAflkJmauZmcyZmVeAoBUAmbyQMn0JmmeZqomZqquZqsWYms+ZqwGZuymZquOZu2eZu42Zm1mZu82ZuvuZu+GZynqRUwuRH7R5de8Bu2ww02gAIYoBebAlmCkAckQAF1wXlQYAIYsEpnOQmsyALnEwPT/5UJc/MORkACGGAEC4UCIRAEJqCWV+kJmpkQjykQJOCYi3mf/wAb+AAFclQQwmcKPUcQVFABfhmYSYmgSml4+WAPDvqgEBqhEpoPCXGcWCEBlAQOCYA0AQYw8iMB7pIKBSBYUHlR11EK3SiF3MAAYCIIq5MJZ+MPNhAVRhAV/mAEHhMCUeF9iAmTbfkPb4kiPxqkteSBADqYBHEwmxAAwkAQc2AABwqYUiqW62h46XAMWJqlWrqlXJoOFUoidLle/xAC4zFLGkgBySEB6+VJJRSIF1UAZ0Gm3OgPTzgQG/oPGKAKnIcP/cAAGHCmRvAOBdByIeBKa9mUU1kQTvkPJf/6DqdiIFdZnCPpieJAEIQQAPxmZ/3okJr6d3TXoBIaqqFKoQixfwdwoRlFAp4gqN2jFBlFeFIYDHA6R6UghWYYJv3kQoviLv/AAGYEJbM6poYaqQ2xCzNJAhkVA+tlrBSArBfFihhgA94lfI3XcgLBCcgHlitJpdxqExL5OWcCNqhqn3XBArYzDbBRlydDHrG6Nf+Aou8gheDAooyqRe/wALDXOOr5D+XQGyTANTyKEN/ao43mjAWhcxnZqWHJqXgGkSYxCbvnBXSZqnXBDbX4WBWirrAqiJznBdrJnbDonadnk0rAYOaJARhAAqv0CuxpBCgAn0cqqRshfGegdwT/YQ4B4AjamqBTyrAxMbAUgWMKUZgN0Q9kyhBCG7PhiKTf9Q8FyksE0HAKu60+y2eeKrM3QbQL8QgSIGIYAbSHirU4dwQiYBATwAU7+5fdGqU3Abac4bZKu2s+AAMGcQJCkLYKmrc9m2nsBLc/ybQCcTB3ZxA3QHZTy7Nri7dV+pJLK7YFcTCiaBBHAAKKm7iHq7beCrjw4rcDIXxeaRBj4ACVW7WBtql8S2+aq4maezBnaxD5aK1Wu7BsS7ouwblqYbv/IHwKwAYGIQkBsA2Xq7eW27BXy7gogXhBOZQFIaA+R7yyO7qze7rqhLuId5KEYBAGuAnBu7fQ270zsW3i/xa+4ju+5Ktq5Na4YEYNAUAJBmG92zu8SGF0JyG/DzFszna/+Ju/+ru/IoRrc+e4SYqwBuEPUfu+tFtoplsTpRZutla+DvzAqtbArea//wtmzHsQdGjA0eu9zou4B3xwq3t8yWcQInAEGszB8ZvAHezBK4F4CbmQBiEDOXDCNLzCmIvCsSsTiEepB/EDK1DDKXyUODxoKny8q9t4j2cQTnABQJzDLDzECCzE6KtpfxAAmnMGC9DEpSvFNsy9WlzBmmawB1HFsEvEXBzEz9vFXmzEAPxdbIAACOG7wIvGVLvBX3xoRXwSiBe6CAGHckjHT3zHeJzGatwSiGeOB9ELAf8QCoX8wUJBvyUBySMhyZMsvfi2xAiBszoLyDcMxVFcx54Mwm0cuGT7W0LZyHaMyqG8aGccbaPMr0BwjwjhABbIycLryKwMyoKsjK9cDjogAwnxuba8xsMMv1tMyHq8ujVQAwlhkKq8y7msy8WMyxa3us6MED1At9Ocytu8yvzYyvLYyylwtwiBBBzwzOjczdAsaXnsymAGAiaMEHmXzk7cyetMae0czmBWkQmRj/vIaflsxsh8zNKczL3cughxCJiqzvRM0IHM0BDtzprWAMWHEEs6wg5tzw0t0A8d0fqsaQYwBwmxcKbg0Rzd0fVMzCldu6t7ygihvuy70sac0bf/7M3f/L2aCw5CiBBbadKfXNAyzc1B3cKaWwwBcAgKEdI+PcgDTdMzfdIwAXi5kJcKgdBO/dQ/jdJQXdMqAXinMAAImBAlEM9XTc3sDM5ZrdEGbRGgycgJMQMzPNQ2fdZNndZcPcUUoQkBUNIJ4cNL/cgBbddYzdQ6rLmVEIcK4QTnLNf3jM9oTdhaDcYU0QhMqhA1+9fRHNmCbdaOjdOvrAgB0IQI4c+MvdGbzdmY9tiibBF98IkK4YmgWNZCLdtz3ROULBK3DXh34HgKga0YfdqzvdUqLdyDzcsWsdugpHN8Tdyondp1DdlqLdEUoQZQqhAwXdqYfdNAzdzBfXia/7sFWawQPU3bjW3bgQ3Yqm3cFXEForsQCCDS5G3a0H3X2U3Xhf3KSUCOCzEBWoDd/h3f9W3e6Q0SgFcETLwQJTAE/83dtS3g283gDYGTNVkQEm6Vc2GVWqW5RNABDDG4AL7gwN3gAD3gUsmoUYlMiapVMaCuf/vKPJACDOHXHz7jEC7fmR3dCDGkcBkecgmkcJktwcDinau5PPDDC4HJNB7i5e3cmj3fEVGfjImfkHkfUCBYQp7hlomZtkkDLrCaW6AAwhnmsQmcYl7muUnmZp7msonmat7mq8nmbh7nuinndK6acN6Z9JmfUm6foLBdl4Xhuau5NMDMC0HGSe7kxf9948Nd4wqh40La40FqBpHFJA8As4DnAn25EL5bqYwO4oje3J523oqa4iVeokoC6ICXAj/AEH586Oj93J8u4iN+EczqrH6yrMeK4Vce6K88Agq+EIrs1kpu44q+6LEu6xkBeBvwlQqhya5e7Imu3Tje6R9NERZgkQuRvM8u7dM+7J7+6vdtEfzdEBS97fbd5ODe7ceO1xNByw0hzN7+7dAO6qAm6gSuuQpQ0QvRAj5g7p394PFO7QLv3a+s1Azxy/7u4AC/7gGu8D+ruS69EJOb8EyO7vOO7PVOE1sXhATIEF8QARQ/6wuf7vTd8DMLuAJ4vQzhjP98E7cdEi8PEjH//xEz3xE1b/OW/BDOzhAKnakMb/Iib/Hnru7qPRHXzRBL2qQBP/A/L+9DX/LSLRHZ2xAkzfQkD/Uhn/GwXvQSEewNcfRNn/VaP/LcjvWSLRFVzxDjHfZWf/EY7/L2Xs2jfMENgQBTt/R4z/Z57/ZLbnOAK8IOUQFU0PZlb+x6f/WGz/URkfQOYbeE//SJz/dAH+oaD7iU8LsOscyP/+9CD/n0PvYPP8qw7RBDcAKb7/BEL/lO7/kssXWXmsQMoQX6ffiIH+2s//ZwX/mjbOgN8aSnX/GpX/ifL2o57xD5+BCvv/eqv/qcb/bKL/cV4fsOwfi0v/xiT/xbb/1nHxFn/6AAD5H2tT/8uZ/9t4/7OVgRfOwQeKmX1S/84g9sJF7+7B4Rsv/PHP/88k/s7m/+NZHbAAFA1T+CBQ0eROjEAkKGBRecaRhR4kSKFQ+Ws5hR40aOCDF2BBlSZMGPI02epFgS5UqW/1S2hDnyZcyNqgSGRLJB4wUnNH2S/Bl040yhRRkSNZqUIFKlRZk2FfoU6j+bA0EOGaGxhY+pJ6V2jfkVbEuxY1eWNWsSbVqZbA1WDQnkhL+MO2S45bgWb0e9e4f69dkXcEXBg1P6hQuyhwuNSDoYPgyZZWHJDSlX9ojZq+bNexN3vPFC4xgHnDObFnkZtWrTrDW7fo34JsgaNP806hlAF/XS3SFhY/5dOTjk4cRlW+0Ig4fuio4CiOvtMjrf6Xmr/71usbjh7SI/c1zBQ6OoALOidweM3q/6vezdun9/POQJ8Rl7BQh1PntG+Gz7p/1vrAAFlA8kEYpgjiJzAnBEv/0IexDCCCcasKsKLSywowuK0MgfAuxwcMKILpyKRKhMVArFFDPkqIIkNorgixBFPIrGEW20DMfTdDRIRYS+g/GKjUQ4YkYepTsSqCR5W9JHo5x8a7aOGthioxluMJJHKKNakskktwwKTKqk5EiBKjUSIoUsdRQzsC6R/PJNMYHUyAA1NsJigjVxbJOmPsPq8k+Y5iRzowHu0Ef/ozkM2NNGQcmSM9BIPSs0I38CuGMjQgJgp7dHJ5u0SUlHxYtOi+YJoI8EKdokgF48DTVOUo/89CwWNWIn1Y1mCUAUWGelNVYthU3L1IrECUCRRDNCtsHdakUJ2s5EpbZat4yliJpkN/JnAD1+tTZYYNkk1ixsJxImgEY4ihFcWcMdFl5yKUVuo/sq4YhId8WVl89x5y21UotWCUATjq7cN95+Hf3XX3pBMqVgjoQ4IWGA38VY4YyLFbgi8k7hKE+LHV6YRmnbangjYFCgwIRXDlq55Zf/iQGDEFiol6BzJWoV5I3sIGBV4MoleeOi+RWJBUD+SQSFg5Rm2ul/0CHo/5EQfuyYoksCyEXoiQ7h9FmiGU5ZxJNRFombBPD5xx8GgilIbbbdhrsgQEjAOueMJOGao1BcFbtss8ceXPCKUsGgIBNAKQhxxRn/J4gHHpg5ShRi4KMczTfnvPPN+whgF89H7/yUACohPXXVV2e9dc2BcT122Wen3XPYa8c9d903v313339nvXfghye+HOGLR37341WPyHGCSID8H+f/gd4gQGLIG6RBAiiGowWdbY3wwkue8OzUTJK77bfjXlv9ugsq4KWdI/ojAHA48hDE1cQvn/8HzffNSaDWtKctjYDvmEbVHrCq+TUEN4Jp1/4MFyEAgqSC1pkgRXbBMhLMLP8GqfjHBinQwX8QwwQ2w1n2OmIHAwimBEMIHPn6l8HsXBCDAdObRdigAMHUoAYxNNrRNDZEIporaxM5QwMEcwQRABFpTywi2WTYlAYy5AsREAxpnBhFKQbRZP5TShURgoUKCKZ+y+KMDbEzxf/RsIa3yogTLiAYSgTAGBJk437UqJE9ageMSRHjQZDgAcEQzBR49OIX3VidPvrxYR0ZwgkE0yxEQvFiluwiJsESSIMAYQWCyV8luajIPF6nkRLCoWJgUJgJaEGUlxzl+DRJymsdUSI3mEFhUgCEVwoRlr/MZCyhwsmC1OAGhdHBXcK3SEb+0ZTOLAoxCSIDHRQGCRz/8Bp3oNlMZjaKlmyR5j9a8IPC7LCXwQQmOtW5zq6EMwVCKMz25rHMUj6zmyNj51TCWYIjFKZVr0rjNqdzysgkUpbgtGVEPICEwtwnPwG9Jz6/mc6JGjGHFeFJYXJFCHoadIb1HKhAfxLOCmCBMgh4Q0dneVBhtjGiNAnnBLhAGZ6otKUuBak3WWpRkDhgDJSBQQ9sStGd+jKfH63lRSmyADZQ5gcqGKpRj0rBl56znQltCALmQBmRQTSnOkXqTfUIR4t8iDK4yWZ6RCrRolZUqldV6kS8RZk63jE2VY3qVMeK15ZIUx8B+ANleOWru36VrWElKmJ5yhFUDYIyG/Wq/0epytehUXYl0szVIS6jAIgUVrI4/ewbLYsSaSJLEpfpQJE8u1LFvrW1egUkVhGiLUpcxoeRZe1kDWvVtsK1I8YIACYuc03cilW0u82rWzcp24M49DJsQEBxE6vb0NoTuTCR5mAvAzZzrNa41q0uN6/bV+YaxJCXidgqvDtd0OZ2r+NliTTTexltSWK9rn2tcnu732GWtyDkmcVlQllZ+BI4vCEd7Umk+bdeqGYCVLgvbI97YLBSF6FxjQgm7KiaFgjVwO59L4UPa2GOYbghddyGaigWYf3yl8T4ffFYpOkcc6jmC6X58HfFK+Itsje2JmYI2NihmvrNUzhr7TGMQ/8MYqNIU56q+WeOfTxhJu+4ykKRZv38oZp0YULKSl6yjivc3hJ3BDdwAok+vPVlCYP3ymMO82J/xijWVADCR06wcfI8GIJSiKwUeUN0WSMDLOG5wIbmMW/zq0//EiSJaAbJEUDA5hYv2tJknnI0G/0PLbIGummNz575jOTkujiMm+aCnljjHOhIps8SefWNRL0eUmN301SoAKQ7YkhEvxnOVM60lcvMESdwQNfeC8Ahei3mX7s52AhOJUcGeWyOPGTZz262sMEMbDlrJJLU3sgLr71tZ2M7yW3G8qbTBG6N7AAG40Y3tBNd6kufGsgI8cG7XdNVPR/a1bVmsaknEjP/l8GMZQXHhw0oEIIYvK8g0tTBDNidEdygcdSzpjXG8RLrHJlkgFIryMf/gY9J0CUPMWDgpm/rmij3e970jnGlY56R9NGNfXNbX+MooEIr5WDiFunyvzW+cYBTWuDNSxxBFte4pP9j6QUJghKwdrnMyc4FPDDe78BBADWgI3nAW97XxR67sI/d7Kor+9nV3rm0r33tbXe72uHOOaQXpHoEmd7d/2EGFLyD5xrZ5c8tcgEkCN3fLvf1uWU+kZrn/B+Nr1sbSEC1v2fkBDCEzQ2Uqc2hh/rwFx+vyA0ieskjRZoLFXxF+A36l0uX3PJOvEFESEKagXD2LyMGABYeAhNU/37wPYFNkRHP7BFjOt7ZDoo0S5p6iqR3+OZW/NG1/frkb7pdsFmQsjn/edbHHubGX+69D9IAiPymAWN4PvWRv/7o1/vHHVEAG5hPkRVwZfutD7j7y61+n0jTAHOYv4kYgia6P+/7vjg7vuJ7P45Ys994AwOwuPYoOqPTv+lLQJhqtEv5gwCUiLoqQOJrv5mrQAv0rY1oLA6MiPvwsu4DQUUTwReEQXvjiMxCwYbQhw/5QOhzQfCTPhJkNPErCNOqwYYgvBzkvxDkwRGEvWHTCNoaQobIgRYwwgvcQQRcPCssQY1Il014QoQYgwUANbDguBrpPP8oQwD5M4lwqC48CP++sauM4z61OkMCmcOKICZeOaTgSBdKYEEdPEBuo8I/1DQgJAiCUa/g8AcE6Cw4xD8KjEFADETyIsR/ADA2PIgV8DBGNEDXi0RHTML+mkQGs0SDQIIL6MMjrEJI7MEl7DaL0LA7Gg7h08QWFEQffERV/EGOQLFRLIiIOaRZ9ENOvML968TLajQa40WCmIcB2EBgRMVaZMVihLcszAghS0aCKEJnlEbDa0Ru3MT4arTtSZTi6IEVkMM41MZhtMVbHESO0LJr/IczQIAwPJEJnMZVVEBcBEWOABovWYk6EoZ0xMd8JMaBRMIFVBRGgcdtSDaBVEL2O8iCNMiYICY2WAD/f1yJB3NIdlzHT/TIj0TIjNAiePyHHTBHCaxDMbTH9NtGkyCmVMNIlHjACDSLMdyRbvTGYMw/Kmo0XIvJk/gb8yC6lMQQoqxHo4wIYiq2nzQJdmBGlERHqMTJKVTHdJtEJmJKk+AA1fK8qaTKiRRGsJREjvg2kvyHAZTKb/RELHxIgrRKjviBk+wO3DAyM0TKprDJi7jLFXkkjUimrBwJgiEsu4zKoSxMwvRK72i02zLLG9QfxFTLe2zLVJTIfdwIGfA5s/yHFMhENNzLpMjLHvnMJ0nDiNgKwBwJLHAAeiTN0XSKlfzKyaTIRrs81BSJrQEozzxMyKTFnQTJJms0/xBQLfRwymbUzcQ8R+RMy94Ex0msKc38hxL4ga6MzJzUScnkyOqbxAnAAtsUCSqIANbkEtccz92sSdgcCWKKAPSDToDkzevEzt/sSLa0TI2wNuhcEOOkQ/M8T/L8idBUkmirEwCEzn8QASF4z2cMS9lc0OwcqUYjgG8pUCfQk+OsTpasSoikzLfsEMDyTpFwQwtlzrXUR/mcT+AkxBMsUHNYs/7kz/1UTsOMUY7gpO/5UJFogR9y0RmlzhG1TgVtzo1gSPsq0H9gAwOoy6J8UZX0TzdpUk4CrhV0D165hB290Nh00IisTJ4kxDUsUn+YgMKD0Ss9xZYs0wx9UELEw/8bFQkkmADx9BP0PFOxJNEtlUGNcL4i/YetEUol5dEENdPkJNOQ4KRK1NN5MAD5Y9Il9dNBXc5gJLjKIYhIJQglkAAAkNSH869WCUg9/YcaOMlG9dEfDdSNNFGGEL2QMyCpAQVikIBM1Rn/qiNqYFOR+IMBoFVRhU9SRVMtPdGGgLybc5+CeFWG4CRWq9WQMAcCINASkVNBHVUsPdWDmJ6nk56ms9ZinTrMiR3QKYbXcTsaGIG4YztyNVfeOddznbt0RZ51Zdfhcdd3BbvYqbvniZ68ix5tPQhOEsdkDQmw6dSjZFRnbdI4xatgJQiE/Qd9jRJCRCt/BQlEXUS8fFb/U6XPaXVLVF3VAooag2BYTSVEFgrQovABD9BVIK3TX43GSLw9gvigEOKgmTGCBwAABti5ffUvc4JYkOCbPuXLgRXYP7XSaE1P/3q0ne2IeVAALiBYoKXYggWUJ/UvmETajjgCB6DJ8hTaod1Vab3YO40jU6xajiAYIv3ZrR1TooXWri1aQsTKseWIE5C4p3Xas3VUGb1bGvWvdYPbjaifgG3NugXNisVbtSVU/+qBd+tbjZgHBGBauzVciy3Rr6VcFN0IxvRUQcJayGXbOWVQ36zcdtQIahrZpOAV7QtctF1U1W1a1pUITlIBXlrcywQBOFULwi3czpVcOw3JiuCn/9JNCk4IAD5M3bztUd19VJQlLf/iADHN3IPwhxRIAds9H6iNWsF9TaklxFYC3qSoo4fSWuMF1F7d0JWlxorwqe41Cn/wgM0LE9w9XuXFUDo1RkKMP/U1CrAZzP+E3/GlX179XwXzLxycXY7QBxCYi/CN3OQtVQYm39kEQg3EX6P4m0FQYOR14AD22snt3YlQ0edtiByIgCS9XtcNWvHlWvl1yfKy0QLuCGEgAPZ0UuzNXhp+X+1twgCoUhfuCCwwAMAdlP4VUQyO3wbuiEC6D06Y4KRghwiQAerlIyFOYSMu4ge2NSBcUx7uCA3TT0ix3iD+YlDB4YzIUxCWCCFAgP839GIbvmE2nmETbohAEkUt7ghzcIAZgGJUgmPOVWHPzVIMBMJXXOKmqKPHFGM3fmMUTlsironyQkY6BgknGID9jRYpXuQ+XltMPlwgPKNBbgp9UAEH2IY13uPBDWNbGWOL6EdPbgpqcIAVyNoAOmVURuQSVmQ7LK+jheSQEIUBEII87rhatuUFrmINbluNoNpdDolNQQJgvslbXl1obl1pft3yIi5Wngo9CAAZmZZSLl5i9t/PDdKM4Fve2IdzCIdwgId+wAs2CIAzcGZs5uB55t16tmcOtYi/JAl6SIZkCAdnOAZoqAe8GIMAcIJ4NuOTpeJi/uPyTVONmIHMJIj/b0gGbNgHgrCHZkiGdsALOwiAIYhlRxJmMB7pQ/bmhgU82W0bZ3CGiy4IfhiHY1AHdmaLQRiAGugUC7LkaAbnIdZkkAgk1COIdjgGekAIf1CHYzgHhP5HBLgAn43iWa5kqb7dVK4I7iQIflAGbGgIf1iHYyAHmk6LXrgABACfqC5pk6Zmuj1pkNUI8iOIpP4GiSDqccALduiBABCC7kLrtm5jv07kns6IQPo/gmiGcZCKumZqlPCHP0AAByBekQbswGZkn15ojRCjv9rAejgGefiKuuYHvDCGGQiAHlBjWNtphbZi0KVnfKaIIf2HdEiGfhALeDiGbghtt/CHQXAA/wL4gpxGbaqu6rSeajcWo/vwFWew67LgZ2jIh71gBy4gAAeYAxLWS+FGm8ke5soebOYCsH04Bo5GC3tgBmUY6L0QBiEYgAZ4A+C+buIubu0macAWo1m17edei3xwhmSAh8VmCWEYggFQACfITXm+Z/M15ky+7O4WP3kiB2WoVZgG69zeC2PAggUIgBk4hLoEUGVm6IZuUIwF5IxYFH9QBnJIVq9Ohmawh8GYhz9IgQBAACHABH3o8ISeZsG+5AW3CDG6onvobIitB2gAa5cGjF4YgwoIgAXgAUmwbh7f8dVOWQSvT4pwjK/ObcroB3VIBmZYB7H2C39YhS+wgAAgAP8YYINV8G8Fl/Ipz1gNveKMSNxu4OqqzYeYboZ2oPD06IU5qAEDWPIZOINQeHKVpXIQZ+0Df2iLSIEiOIZ1MPCGqIdwOAZmUIfnPsd5CIUxkAEECIAB6IAh0ANTKHRohPMQb+1DB1uKmABEOIZ80I3fqIdxSIZjCAd52PMh1odV+IMh8IABCIAAqIAc+AJCWAX3TnRDP3U3f/P+k62/+gRoEE2W2Id1AOhkGId2MPIoV0ZT+AMnaAEHCPYAcAAVEIIxIIRQMIaQtuw2j89UX/b6tQhqMACZnnaYqId0IPKAPgd5wPQcpwh2MIVB+IIfOIEGGPcBiIATyAEkOINBuIT/VaAGdq9h+Z5vHef2KpeIUcCBV793msiHdhgHZDiGY1CGcEgHebiHXOffpuyFS9ADLhACGeAATx/3Jb+AFciBI9CCN/gDSQiFWTAGdljzZ8Z4nv5pt9CHQbifvpwIPeiEOo90kPCHfICHc8AGZij5Y2iGbjgHdYAHe4D17V6JeTAGU6CEPzgDJ/gBGRCBCbD5mx+ABZiADliBGvCBI3CCMZgDPRgESdgEUViFXtgGdqB4Dw9nRGd2zTCHM4gAdTkJSjUIyZd8lK6INSjq91aKqqeHdTiHbtjvra90Z+iGcfj6dWgHeqCHe8gHfqBeFNGHbegFU8CEQ9ADNtACJPiB/xqAgRK4AAeI+5tP+MeegAsogRSAgRrIAR8QgiMoAir4gjN4AzvQgz8YBEeQBErYhFAQBVNYhVnoBWEwhm0wB3Zgh3mYB304/IxX/HffDWFAAgMggCEIMAHa2NG7/1R1a4rgh04AiE7/BhIsR/AgwoQKFzJc6G+fPXnr1FULh60Zs2MaN2pMxqyZM2jdwoUbR+5cOnXq1q1rtw4ePHn0ZtqzV+/evXz59vHk59Nfw6BCG/qbJ07YLFOhKB0apOfNGSxOjgjpUWNGixQgLFSI0ACBgQBix5Ita3YsAQMGFjRwEGHChQseRJxIsQKGjBk1btzo4eOHkCFHjiBxYhgLl/8vY86cYfNmjh07evT8qTxoEKFDhxw5kiRJESVMmDZtChVKFGpTplaxXjXrda/YvYQJM2abGu5tuqnZFiZb9qxewWPXvk1Ntzhx5syxaz7v+Tx90oEKNTj0Ovbs2hla3+79u3dTOgYs+LJtYHfw3BLg++ePQTCC69u/DzbfPXyEqgCoGiqLViTUFQQegdv5w08+9dAjDzwTqXMOOeOQhA00zjSjDDPJJMMRhx16yJGGGjIzIjLIKHNiMymC5AyLFULz4osUYjPjjN3YeGM4I5G0I48S+jgOkEFGEySR1YwzDJJI/oILk6w4iQqUpEg5pSWkWHIllpYUomUhXRbix5f/foiJRx54mAkHmmmWAUcZbbqZBZxwVjEnnXVWYQWeeVoxBZ99RvEnoFE8MSihhRoaKKKAGroooU04+mgTS0g66RKPSnEppph2IUUXnXr6KRihiioGqaWSSgaqZKSxKqutpuHGq6+6MSuttdIaB6654koHr73yWgewwQobh7DC7gHsscnWsUeyzTL7LLTRSjsttYHsYW0g2Wq7rbZuPAEHKdLkSOE3Bf6TCgYEmQAKQeiqC4q7A62rHwAoxMBHOfnqu285mYTBb77AADwwwQUbfDDCCeeLDsDg7FLPNN9I/I03FHvjTTvesLSONhxr8/HH2Ygs8jXZkGONNeRUs7KR/0ZKM440MYcjbjThRHMzzthEQ+Mz2Dzz88/LCC00NMsUDSPSISH9IotNO/001CBJPbWKVVutojIXnrg11117rYyJJYo9ti9jl1g22sig7Qvbbbv9Ntxxyz133LzYfTfeeeOti952860L4IELPjjhhRtuuC2JK7444407/rjiscRii+SPVw455pDXsjnnnXv+uee2+KJMSMvoLM0r8SjMULz/kMDuQK2/LjvsBO3XX1D+CIhQeub6/rtC5QgIlO4D+SMd8tIdVDzwzSfUu/ME7R79ddBTf7121mO/fVDac/99Qv4IX+B99cnHHn72oW/+QbcT6D348aMnP/3B13//gP/43w+//tTz33/0/jcUFgDiH4lAAUIIaEAE/kOBB0yI+8AjQAACb4IU9J0FL1igDGpQgh3kHgc/uJ0QKmQXKKAACV4xkBik4h8mRKEKXXjCFEKQP+8T4fZIiMPq7fB6Ouxh94DovB8KcSFEpF4Ev3PEIvKOiRV04u+WCMV/SNGJVbQiDpPonSsykYtF9KIQwQhEMe6QjGXMog3Bw4cpmmuNbCSQG9/4nTjKcTt0rCN27ojH6+iRglrcTgz2CEhBaieQhMSOIQ85lEQqsiGMbCRDHnlBUABAEKq4JCYzqclNqgIFnPwkKEMpylGSspSX9KQpU6nKVbISlax8JSxjeUr/WdKylqV0pS1zqctO7rKXucTlKN/xPUEAoJjGPCYyk6nMZTKzmc58JjSjKc1pUrOa1rwmNrOpzW1ys5ve/CY4wynOcZIzjdsDhyBKkQpfsrOd7nwnPOMpz3nSs572vCc+3SlMSPKzn/78J0ADKtCBErSgBj0oQhOq0IUytKEOfShEIyrRiVK0oha9KEYzqtGNJhQYJzRBDBupBAkAIKQepQBIB3LSlNYRHzagQAhiEJ9/rDSGNd1jDDAQAhbg7qY0/WhI6+iFkqoUqEVFaVDfKAGYhiARQPGpT1tqBApgIAhPNepPkYpHBzKwkaAghgRCytWBjLWlkwBKHmIAlLKW/7WO6BjII0JA1gI+sIF07aocVRGDsM51gX2tax35ehC23nWPSlBCP/4xjb8ysK1sLF9++ClYyKqPPpHdYyoo8A/KUpaQgCDBZtcHn87KER8oCAZfOSvamcpRsANRrWVZy8Z3JGCfr10tadnYunlJNoa7hVe65FU7PAZBCecK7j/W9ds9BuEBD1Dhb5crRyjk4R98jS5yedvaEGDACNw47ruk+8ZXSAAKJGBBJsArXPFOkXb9FCzt3LtHM6BAmPFF7us8G8j7EiS/bywFC4ByXfwCt7/DZSMx/oEPKOyXwPJ9Yyoq+Q9VMAAc/B2Ifx+72vfGELbp22MbSPDW0MY2t9N7LEA5PMw+NprhARIg6QMmAQ7cbliQ0zgAidNn4imCAwCJTa4nVHxZNjq2ka4lrF/xGOL0IBmwb3zHYv/xiAestbB2TfIeBdtkvM52xG1gAWPDjMcYTOIfwWDAYreMxxfSEJJGeAAAGKBZGcJwIGxO6hSJAQCmmsDOM4zhnfFIDBPolKd+rjOd25xlQP/50Ip+YzC4iwEbzDTQicbzFIPBAp0+wtGMRjRHQy3qUZO61KY+NapTrepVs7rVrn41rGMt61nTuta2vjWuc63rXfOaogEBACH5BAXIAAIALAUABQBPAm4BAAj/AAUIHEiwoMGDCBMqXMiwocOHECNKnEixosWLGDNq3MixISgoIRIUoAAFXceTKFOqXMmypcuXMGPKnEmTJgMBLJQoCQGAAreaQIMKHUq0qNGjSJPSbDPtn4B//owAMKK0qtWrWLNq3cpV6b9/0wBg6Eq2rNmzaNOqDfoVHIAQ/tbKnUu3rt27Wb+2AQAFr9+/gAMLHszwn6oDDMARXsy4sePHSoM9KOAJsuXLmDNrnhhMQoFJm0OLHk2acOcCj0qrXs26tdbTj5y6nk27tu2VsP3Jvs27t+/fCCUAQOGluPHdwJMrXy4aAELkzKNLn069uvXr2LNr3869u/fv4MOL/x9Pvrz58+jTq1/Pvr379/Djy59Pv779+/jz69/Pv7///wBqBgwKFJjwSkEDFnigABJQEEIIicQV4IQUGsUCIAIkgkJBF2a4IYMLVijiiDVxkwA+AvjDQDADmYiiiixKECKJNNa4UipjCWQCKAPhONCODIaAgRE/HYRCDHyUo+SSTDbZJDBORinllFRWaeWVVEKJ5ZZcdunlk1+GKeaYTGpJ5ploWmlmmmxGWVlynizpo0Ak8CjQnALUKQAxAuADRQw2BipoRi6muGKLJxrK4kDTHODSIYNGql+HGnKIYaXvmCRAGyy05IgAekgqan27EEjCgjGkIkCpFJwqQDBCYv9gw6IqzVOBAD6MquuuF+kxQA0RSMjrsMQuNEQJkgggTLHMNktQCz2YE8AgzlZb7ARaCMDBENZ2q6s+AfwhwBEXeGtupL0EsIkAdhAg7LnwjohJAMtSIoAx8eYroq/6CDCLAKHoK3CAWEzg1DwCUDvwwvztAINsDjAssX4lDLHbDxNnXF8DY8j2QwoahwyfPwOEKtAXEYus8nrsBACpQIMEgPDKNJtnTACYDBTwvzX3LN4qAawyEL72+my0d5vQO5A/BNhx9NN3fSV1QVJ/JVDVVqPkSADsEFQBFVCHPZfVWQ9Etmxlq+TruytgLPbbZ0099dVnO5V2Smc0gFwPMMD/7TdZZQe+W913D6QK1ognXnU5/1BRAdZOXKD45JRXbvnllzOO+eacd+451pp/LvropH8Veumop1756aq3jrgqyh1etdmD1/7UU4VvNMQJyL2BwN/AayW34HannbtGN8yAHCFcB++8VWdTXTzudKvUNnIB9/L89khhXb33iKvEARLIaR8w9+iX5sAYBXVNSPrwi9Y01Qi8Ef/9mM0zLdUXOIH//4+hRgAuYRAY9ACACFzMLAJgCoP8QAUJjGBgRBEAnhGEChOQoAbxcokA4Ksg7XrXBkeYlq2ZwyAmJKEK0/KHAPSrIBS04ApnyJV2QUcA2lsXDXeoFTYs4IYIUxgP/4dYlS8YzCD/qB8Rl5iUyN3wH19johSLsrsntm2KWAyKDx52kB3IIItgnEkNanBDASCBA2FM40ta4IMynmEBaozjSipWxha+UI543Ej/ykiJAFAjj4DMSAS+UEagCS2QiKTIAtiAkD8WLZGQfMj8DtIvcUXykgsBx/4O8o8GnAGToERIMQLwKU6OL5SoJEgucPYcGeQglbA8RQBE8RwgQBCWqNRE0BLiOFyishED0B5C3mAAX4ZSEQHYRkJiNjNjRrIPzUPIvD7oTEjeIQAiJAjQGlhNSKrBAGUUiAAf2c1AbuGHCQGXJcsZyCtEIJxPWSQ7oZYgAyGIQPYciBcAMP+jjRRBcgn5R//m+TRKfWggBjVcDGSEEiJwAJ7/uCJBfVYoGCHqRYfCBwo600+N8CAFEM3BFyfaMzwB6U45EgCQoJAHECHkSEn6Eg1cUCUibKBNON3SmnLKUzHttKdA5dJPg0rUKg21qEgFU1KXKqWjRglPekLpQOpUChbEhaEnoYHyFDKGlJGUZhU9lEDCGgwzPEACwnkAaDryghzAE1QDyOZXNZZQgtR1IFjtSAp+8NYUznVlrHKVAFK1KlP1M68c+YDFFBKKAAjzr2DMAPkUkq7zQTaLE6DCW6VVystiEQKEVAjJTObZKSrgDG/9x/pKi8WmpVYER2CtFP0RAD3/pHYGr5TtEvU3iNTaUrdL5OxC/hE54BJxnMP1oXGHKAx1McSOy93hAmm5kD7+MbozNMUuF6LdQ2IXXt4jSHjp9laKNPaxCblZzr4L3umJ1724O55FpskQ3rL3XMOrXfH2K9+KSCKZhTHAHO5rLsHR7sDRO4jsPncIrl1uAlhwnYQzN+EKp451Fs4w5zCs4Q6vzsMgthyHQ0xi03XuwNUjb4I5At3hnoBbBO5WfmnH3/BxxFflfcoYY+ytFX8POv2lyBzAWZjd8VjGs6PeeFPMkTMoIMf/0EIGjxzBL0AAykOmcgT9B2XmNVPL+EPCBnIsgHktC8z/G8IIyLxNNP/v/wcukKtBkOvm++XABWRWZ53vVwMakPkfC/jknuEnAz83RKD+G3T6VsCDP0tU0dw7QaMPrYORQnp7HijCn894ae5dQNOHHkMDOr29CSThz/witfMccIU//1eZqgbeArZAZgF0N9bAM4Aaat3c9eIabgO4wx0XYt9fvw1cd6j1PwxgP2OLTX99kDMSo+jssEmrD8pOARCqHbZtBEAR0qZaDmbAbajdbBEP+ccRPFDup6WrEunuaruPBjRNpHtt8/aZdu3tkH9sTRz57hkFT6HsGAa8Zkk7BUTSpcODq6yPuYBIy97ncJVtrRjhppqAK64y5hWj1k+BMMdF1kLFpFvbI/8Pma/KAZF/JC/lGrODAViebk7DfGI+ZFy683bziXWV5v1ucc8HxoUJAP3QfaTm0PUVOZ33u81LFxgSOnD0wggwWVHX1+6qzhB9lCzr8alnP8UukBhgIAQsgB1HbMn14a4W7O+5q0DqqqlHhKAjfGu7Qv4BW7i7h6wXVRRBAEGCjiRP7wGdwQ383h6T2kkAjhdIEB7wgI4KBKZeegENguElHoyAqWlyKuiLKvrRB7X0pu8p6lOP09Wzvk2uLwdUHz/7wQOKIzDwgdP7/YUIMJ49gB9roixKkAIgfiIpEMLxORnC369H7ji51IbeMQ2BPOIBGY9IxXZ/6H87Xz2BRZX/qsK/JxOcPe0d6QASlo9ECnr3+83qH/cL02v4Vwtb7Kdase3PrPXln2qBxn/NEmj/J14DJYDFggBzUIBmAwM7gIDF0jQMeDVAADIQyCu09QcT+BRFd4HisWTxlTUgeBHgMggb+A/45oHf4WNKhjZMlhEtcwjzVxj/dV0qyB0zRl7x9V4cIQ4BIAknCHU3uB0GxmQiODcGsWCcM04jVjk+6AglhjpNGIUeNoVUqGFWeIUWloVaKGFc2IWu84VIWITUg2Ia0VybcIJM4zRDSIR1Q2M7yIMakS6icIL/kFltiIPw9WNliIQYIYQREVG5kofaEV6EU2Mg1xC3NhH/4AMr/0CIgkJB6NVyGASJgZI0ZyYR/9B8lkgjHWSDgeh9nUgi/wVwjLiIoygiDdY1jHh1qTgizEQR/+B1pPWKE9JC2fccd5gttkghekAAifheKNeLEzJkwShefEOME/JGx2g2TnArygggXdWMV8OJ0dgfRUeNT1GK1+gfTlQR/2BI3dgfU6eN//CE48gfsWWOa5iO+yEEIAWOiOaO+rFF5vgPrkSP+TFu2vgURqaP9zFG/fgP8gaQ9iEDOjCQLfRlBhkfLcBXFvEPSTOJDfkeLzaQ6cIJFTkfsDWQ+7eR78EBTjCQncQ+IAkfX0OSFXOS8DEBXECSIsWS77E+/fgUxSWT7f+xSDX5D0OWizj5HQK2k6L4k+lBALZ1EeHIQESZHhm4kzG4lOhRgjsJaIIGleURg1O5klZZHk84lQ6zleUxTlNZMGBJHupVk0+RamUZHpWFlhLpWGsZHgtkCm7JcHEJHobklrR4l98RQ255h1jAl95xXn/pgILZHdP0l8dymNzRR7CGlP/wRoy5HX6FEf/QYCc0mX9BdgRBdvhgAw4SA7SCEczDipaJipp5F9CXUPgwCXGRBzHgkwwRM8MWkeiYmncRfAKgm5BHARuBixoBFQGIm3YReVKlI48nAEGgBC+FJFyiBgSgJLFXJSPAA6+nJte5VNOZnWOyndwZJt75nV3/Ep7iKVRbUnvHmSePZwYo8A4bMQcIgJZ0AwQnQJx2oZvB1wYkoCkawYzBGZkLIJv2qRWrKX0CoZ8buBDTuBH+FgCmOKByQX6DNX6GtSc98SAmsBHZyKDTBaHR4TjyeTX6s04emhxnFKK4I3IlqhYgCD4jWBFHUAIo+hUysHgrmhYsGD05iBHwOKP/gATlcqNx84Y66IdBBhE+0AI+2i61KaRbQYZkWIZJ6DkiZWKqY2ZgSDlimKVSyKUhtqVeOjpgGqaeM6Zk2jlgaoZQeqQPIZAc8Q83Q0BOCjhEuoNz44cY4Uoo+hTtOKd0KqV8GIcb8ZB7+hUcEFt+2hWGWGMh/8imDnECQlCo/7ADLZCot9GRb0qQAWqptbFHmbo1oMiprJGSHfEP6eJrosoag7SnT6EPzJaqruFJrPoVJSAEsNoa9TOr/yAEJXCrrOFapcqTBtCkvqoZtHWUmSoAcFmso6FOuuqKzCoa+kMIrMqnC2CS0boZnFWtXwEt2RoaYnkSXwGk37oZvcatKDgADFmuj9GW4voPqMmuj7FN6DoPXyevltFd1Yo7HgBj+PoYfokSXzEEIvCvkIGJ+/oVvrKuBisYHWQMCesUStmwjFGKETsPRkmxjLGK+4o7ImCrGksYzNSxX3EEaBSyg4GLJPsPC4mygmFDKvEVQENdLvsX8P/ZsbijD5NUs37hnzH7DycwiDyLFwv6s04wZUN7FwWDs7gDqkl7F9/4swLUWU87F0cgAkwrNROQaFU7F0MQjyvxFT5Qn107F0nKtLjTLgxbtmXBjywhs7PEtmtRAzeAtl/hqowkt2mRe3b7FTBgo3p7FioABGiLO1/QAAIauEdRAkdQuF/RQRSpuFoxPo77D+xwr5LbFaT6tl+RArmVuVwxAaHVEl8xBgtArKBbFbLqEl9BQdyUulmhgIWbswZQlbB7FcBKul9RA31zu1fRlC/xFXNAAGvru0TBW7OLOwvUcMaLFC0DhcELFQ0QmM2bFN4mCckrNT9QsNWLFGcJE1//wTxK171D4a7Raw6YS74CwJkDwZlKIByWNxFzmbzxJQOWpr4F6iECAQrEgFgWoa/g+xXtkpnki5/DJ1YulRGSSL+4czMUR77GCXkpdVIJbCTOeSWNEACnsCTkGSYfYJ2m18HleSUiPMJGZcKqh8I5VcIqHCWxh54SPFWP578V4ZgMLDVjYADFm7ouAhUI3MMW9RUSsBEmxMDKy0rqG4h7OrIy8RX+MAH+Wr3/EH5OkSpTbFhOYQQPAAAM4JsYsTZGLDVcgAA7nLlrqqbwpISWI3OLE4XpAoVRaKZnujlyPMcUZscVVsd4PDl6vMeKk6ZGaDsvaBHMaMTxdQI1QL47/7rIIdp7jpqp6fqYzZuje/jICwGiNfEV4rCzk5xkh6hi8nmimfwVN8C9SUwTVTTKDSpDpwwTP7AChkw789AASNDKM+G2qjzGpmnLLqF4sUw7xjAAbMjLLsFGv0xePXABiUvMFAGpxxxfFCSnzLwSHjBZbAEVIkBu07wSnnrNLLus24wSqzoUXzEPDgCy4XwSgfbM5GUHA5CJ6bwRQUnO5dwAURzPGDFa7ExebzAA44vPFSGVRCE187AAiArQF7GtRSE1Z0AA/4zQERGuA/0V7OAABwTRFWG+E/0PMWNZGB0R9HoUTlwCIoC6H60Q2jUL+/xe/0BBJHrSDYGw3fMVP//QAAQM0wzxaivN0tSAAOiM0wvBsUkhNS2EdUCtEHa009LjDzXQAA961AdhQ0rN0tuwADqwzADNBk821SzdYC8N1QMxjVzN0kNAAK8L1gMBomNNY/OQAg4gyWhdjlghNdTgAClQxh8tBLyTF19hCgTwA1i9zT0gA2uNRF/RYEgQ2Mzsy0/6FS30BWgtAIRqEPQQDs4ADeqwD0YhNWwQAHkL1YwLHelwDM5wDuGQDMzQDoodrP/wBQHABat9yt0sENdwDOogG/kwDscwDpq90Z19BCYN0BHQMQNBD8eQDsjxD/CQDM1wDwvt2APQA3gdzrkqEP7gDM7QD0hUD83ADPT/8Nz+ZgAiAM8Qrc8CAQ/H4A3PsQ/LkAzwAN6rMAELgKoIjbwCwA/K0A3Hxw/hcAzrAN7mMAMB8AXBzcxdKQDqcAzOvRD9QA7HDd76MAYE4AHvF8/f2wzjQGb+kODjENsMKrMcMABjMN1JPF3/cA/HIA/K1g7H0A29Tc+zyAUDMAGE4OGSm9L/sA7HwA+y+Q/0wAzKUA+b/RW9cAMBcAIezcyJ2Q3YEIwn3gzJ0A4i/RWbAAIBAANJbstbww78kAy3rYn8oNvjwOND7g+OIAIB0AKSUODGa0fycAxCzoj+0A7JoAzfPeX+IAknEAAT8AY3rb7GSA4pIo/3sAy7/eLg/20KP0AABNADisDmmTsGwYIM5xDbULEOzMAM68APQ/0P28AGHBAAtLwJkK63kWMPx0APHv4VuX0MzaDane4PmnC0AbAAQEAIcA26u5MOycDp/1kP3eDqm14VULEKXxDqASCSkpDreitSGK6r9tDfyXAOce4V/0ANgyAEExAAAVABQKAHplDqIQsDTHAM8GDJ/Xbi58AMpK0O+XAVX2EMh4AEIjAAAkAAJ3AEeiAKf86zH1AIyaDdP8sP8nDapJ0O9CDw0DMPpmAHP9ABBCAQESADSGAHmNAL+lDYMjkBvFANs/sV+wAP4cDuydAN6kAPiG4V+vAvXJADHBDxAjDjMP8gBGPwB5vQC+yAp8WKA8lADzf8D/1gD+rQDclwDK4eDuogD/fg61ihD8KwCXqgBTtwAg7A7QKBABeQe05wBn9ACabQC+agG0l2gaaTFfNgBsog7qzdD/XQDufQ3kbv6t1ADuoAD/SQDwp/FfMgDKFACG/gBD3QAhewANxu9QOwABdwAjPgA0igBWygB4dwCaIwC8IgDvMg9jY2couTFcVwDLKg9j8LFflAD+tg2lAuAHHPDM6ADeFwDumwDu0gD/ZQD/lA5lWhD9QwC5zgCHZwBk4gBDewAh4wAQpQ+MYf8woQARcgAipQoz4wBEiABWPABnbwB4NwCJSACaJgCpr/0AvCQA3iwA76gPmeA1wELQpsUAxZgQq1oP7E7sT7UA/y0A7qQA7hgA3dXRBxnwzI0AwAAe1Zt3DjyJFLl07dOm3t2sGTJ08APQH26tW7JyCfAAH7OH4EGVLkSJIg/bGjNssUJkmD9LD54uQIkBwzWpzgUMHBAgIBfP4E+pMjAQMKGkSYcIEDiBMpWsiYUSNHDx9ChhxB4sQJFS5fxpw582aOHTt6/vwZNIjQIUeOJFGidAnTplChRIkylXfVqll9e/0VJsyYMWrUtm0TJ86cOXaNi82DrE+yPn/+/l3GnFnzZs6dPX/2XFL0aNKlTZ9GnVr1atYmhQ1CUmJAAAOa/1rfTg0JTr9/uH2jrswRsz9++erRkwdvnbp058iNC9ftmbNmypgxS4Y7O0dmHJEpUyagWTMBzsxDQw9NADRsArC9F9BNvvxwAsLdv29fwLj94/z/3y/AaqSpZphhfmEFF1YWRIUUBy0hxRIJLSmEwkIu9KMQPzbEo0M84AARjjJELKPELE5EsQoVV7SixRangDHGKaKgscYnbsQxxxub4LFHH3tcIkggl5CCSCmORBLJLqRYsgsnn4Qyyi7AoLLKKsXAMkstyeCyyy7TADNMMcN0I40y3TgTTTXXNHPMMUtyA6Q4RYpDgDjuvBMkOvakQ4A6/gS0DpL28FMAQg8l1P/QQw1ltNFESQtEgEAmpbRSSy+VNFPS6uiiiizgKISUX/j7rdSSQGEiHlNXZVWAcgRAB6RygAGHm2ns4egbkLxpxxuOGFoHpGxAukYAcqypJtkApRFAGmbriyacaKYVIJr3rn0m22eW4XYZaLz1Nj301iPXPHOpOxdd8sYTbzx331WmOvDmpbdeer9DJl99983XF2T8BfhfXwYmuGCDDeYlYYUXZrhhhx9eWBeJJ6a4YosvxjhjiW2Z2BWJPRZAl1ZBckUAV2wRwBaVVV41llhKQtkVmV15OSSWR6slZ5135jln1VyOZWaaBeDF33ibcQYab8AZ2VR9BPCnaalb7a0hst5A+ifqkJ6G+rKpvx75arDHJrtss89Gu2l9wBF7tIAAACH5BAXIAAIALAUABQBPAm4BAAj/AAUIHEiwoMGDCBMqXMiwocOHECNKnEixosWLGDNq3MixoacgFAYGAdaxpMmTKFOqXMmypcuXMGPKlOnlgQ0BUG4W8DSzp8+fQIMKHUq0qFGZ+PwN/JdJAImjUKNKnUq1qtWrUf8lSIC1q9evYMOKHQu0lAAWZNOqXcu2rdupnrzkLMAg1du7ePPq3ctXoRcAgCmk+te3sOHDiBMffZfKRgFBiiNLnky5ssR/mPGFOMDNsufPoEPrxYxZgBIAk0SrXs26dVbSAm0AaOq6tu3buEuC8gc7U4EE73ILH068uMEEFIJAMcICQIFExqNLn646T4wHBQpQMPKKMPXv4MP3//WndCB58ejTq1/Pvr379/Djy59Pv779+/jz69/Pv7///wAGKOCABBZo4IEIJqjgggw26OCDEEYo4YQHkVYaQRZ6l6F3FHbooVClXbgUYReK+OGJKMoEG2wCrRgihynGKGNKItbI4YssGqTKhjz2+E85PgYp5JBEFmkkZkAeqeSSTBqZZJNQRgnlk1JWaaWQVF6p5YaqSLejhSOG2SKJAuQ445loWuTijThiCCNKjqQpZ4MvFlRniW+aNIsAdszpJ4IZjlkmmBuq9M8YAtTw56KMXvSPCAMgoE+jlFbakDABOCGAKJZ26ilBdhAgAAJnfGqqpUd0IMANK5zq6qL/3P8wgwBnLPDqrXL+c8IQAhASADu4BivjPxF8sakAewqr7IdK6SEANQJQsuy0FG4TgCQC+ENAn9R2++AqAZgiUAVUeGsug5QEAK0AMOxw7rsI/hHApAIMcQK8+A54qAMDjdFAvgD/988RIgRsMID/1KAoQb0c7LB9/5RwxEDCCIDJwxjL948DiAqkzwDOZixyW8CgQIEJrxRU8skpCyABBSGEkEh5Jf1jwBwEFTvyzmqxAIgAiaBQkM9AC+1yyynpE8AfBJXAK89Qg8VNAvhky0AwA01dtT9XH72SOQHEOZDCUZfdVSoYDGQCKAOhrTbbEoSAgRGdHYRCDHyUo/fefPf/3Tcw5ZwyQCN8E7GB34gnrvjijDfuOOCORy755JQvDnnlmGeuud+Xb+7555F3DvroifMUnSd7uy0QCWwLpLpTbBMjAD5QxIDSLOGa9wW/ZvdOldZWYy0Q8FwLL9A0B6AkSgDJCqTHADT7Lr1RRAc99M/Wv4OOQG2gdVK66wqE7TbTl1/ULiaT0HIMdqFPgfoCBCM3BjYYX9IhvxIk7irm96/a89EzhsX8R8DPsAEBBZlHAAZRwAZO5h9fmIBBFlAqB1oQMf9AAgcMcgFNXfCDffmHEFJgEBj0AIQoHI2sDPKDVqXwhW75Bwx8YBAqVCBPMMwhWCL2NIK8wQA41KEQ/6/yjw4ahBACANYQl9iVjXWMIJwQQMOYSMWq2AxnBdkTp6rIxagojWkFsRa2ukjGooBNbAT5YhnXKBRMXWyCFWSjHGcCLnFx0INzzONLltc8gqzgB3oMZEs2EYCKGSQHsxKkIlECvoMQLIiLjGRFHBEAcxzkCxGApCQ3CZFBBGAeBwlV9DhJyojoIQCjFAgSlVjKVj5kDgZAyCYEYEhX2lIh5agVQup4y14ipByYRAg1AiAtXxpzIOWwIULUeMxjlkODCUEAG5rpTHslhFzUNGY5fNCChKQACNn0ZTlWiBCFaTKciyzHDG6QkCGU4JzoFGQ5WkBDhGhhAvCMpx7Lsf+rhMAyn/qcYzk4gISEMBCUASVlObCJkEYmVGSBcpOZzLSRcugMIaYIAP8emrE6uWlQIzJRRSmYEEzNkqMPW1NIB0UiMJWkHDdLCDsCcAiUppRNYgKpR3UUpXIEQA8+8gfItkRUJxX1qFbKElKXeiSlMvWpWIKqVIfk1KlaFUlKyqmNXGSSYgyAgQnhmE0dptIxtbRHJSlG2BRCUICOdVk7FZRIRaqRXBBTIfR061uFFVEczVWvDzlFAE6KEB3IALB71aFgt4iQRyZWj5rQqEK4gM/H5rESAZgiQv5p2Tk2IgACNOgnOytHRQSAfAm5BGhJu8Z/9CF/CcnoRlnbxX//3GFeCjEpbcn4DzWISiEzreluudjbWCpEW9waLhX/sQVbLYRjiFUuAf9xhQgwpK3SZeI/kiDBhcwwutn108pQpjKTkXcgf0HaRv5RhAswZAeHDa+wqme0gdB3IKqIgQTUq5F/EMEDDDkCCMArXzQRr2vDo1rwZoeCYOy3JP7gAQkXgkkCF3hGr1tb29ImEA1DIQ9esxveMkcDFzTOt6RL8eREp+IWb47FLo4x5WAs4xo3jsY2zjHndMxjxuHYb69j3YYHwrpSsEApD+7IP2iQSIXgj5UXNtWBjTdlMzxAAhIAwANSw5F/vICdCyFkLaNsqvsSxMwDSXKXXXDChfCS/8ynch/8BMA+AciZv2pe7wnAuZBhFhPOIPzHB3qYEGYC+oP/yEBBGYKAN1j40BCtAB4VQq5HQxpj/4AAFxpyAiFY+tJkbcATFWJOUDvwHwqYJkPs9WlTB+wf22qIDVvt6nz9A2QNeQMCaF1reBlaIZ5EaK/NN1MkMsShwy6fONbKENkm23x+vtRgn10+3TKk2Lym9rRwx9jjbivb2lbWmxlSLHCHO1gZ7aNCRHAEc5/7VqHIrENkkAN3v/tU/8DEahvSQnvf+1P/kMRpHeKEC/j73536ByUt2RA2LODgCK/UP4LtEHnRK+IdlVcqG6oujEM0VA9xtscxDcuHGCMAmP+A+Mj99I8zKOAhChyEyleeqzFAACI3mznN0fQPLHTXIRPAgs53PqN/OMECEOn00Ikeo4FtwK2lZrqthzACiLhz6VI/0T9+4IKNI4SyWM+6h/6hAxdARJRih1esXgARX0E57d36xwxoABExw/1cMuSB1w+CO1OE/e4Q+kcKeAARMf4d8A6KGBD68ZAvHh7xDPqHB4qw94NQ8PGQV1ARixCRDmI+866JaEjxRFGM/GMCSYhIXkGvr5bayfVlElSXI3CFiPQABp9nvWrKytLe57S/DdhCRAqee92HxkZa1VDpBfIlJiFADbwxUq2uqqWqUl+q1r/+U7Ov/aVyv/tF/T7/+IkqfpeCVPbnR39/CaCGiFjc+AJrk1l9/3vTD+AOF29IuoxRfPh7Jq46BXvLVxFKcwcRAS6r0H/+Vxl9dVZ+RVcXoUB9EBF+poALuB9gM4EQ4XgXaCrWogiVZ3lnYIEdiB8npwgS4Xkl6Cm9EACNIBEmRIIrWB+zMACVIBHcJIMzOB/gogkSQXw7SCn/kFE+GBEOp4NBuBfjxV9LKBAxgAEhwAJdsl6hMACnIBHyMg9ImIR4gWYCYWbbIwCPEAJdRkhXGBGqxX9cGB9TljUKVjwEAQhPsV6qlQsSUUdbuIZtkWGtIwB8KBBB8AAPwF8DcTd5Qzl9MACvUDl2pQg9/zY6P/aIORaJklhjlFiJMXaJmKhimriJKdaJQdaHoRiHtrNelFQM+dcQHKiH7tGGCbY1CDYQBVAO6+VJxTARl8eK7+GFZ4E9QvMO0yAQj/AAIQgR/yAvFIFdutged+aE7ZM+KUMMJgCFUthlevBbMNgDebiM3/EPJTcRP6AC28iN0/EPDkcRPgeB5NghLcc7EiFK47iOxQFBPxcRCxeP8jgc/6BME8FH+JiPuWF0GzQRJ5dyAKl1BEMRq3iQ7GhNFCFq/8iQtbF1LjQRINBuEsmOPSADFbFOEZmRrBErTSYRV/eRICkacpcDFTEGDqCOJ5kg/yADbTYRz6MPJvmSn//xDy0ASBQBPjeJk5YheEJQEXgIlIknMRVheEZJJx2waBMhVEC1lJFnRBURAVzwk1IZGaenBRahdFmpeRdFEYjkkl8pMA0QRxOhQWRZlv3xDwugahRxQGvJlvtxRRaBP+aAlXQZQrFWEbKll3u5F/6wNBZRgYE5IL8mEcgFmIeJFwpkbBUxAVTAmI35FjOFRhTRAtpImZXJFss2RhUxQnPZmfIxTJdwERXGmaRJFv9gbRVhcaq5mmLxDy0YChehb8IQm7K5Q313EbWpm7vpFf+AgBG4QMAZnFgxhMyDERCJnPfxD8ujWRXhNKPpnOjxD3Z3ETlwWMdpnVPxD2mIEcT/153emRUCh1oWAUu8UZ4as3AYQUnbQJ7saRT/4CvCRpThIp/zSRQTh1sXgW37+R7HiEoZYSv6GaBB8Q/XqBHUeaDzKXpm9YC09g92YFwY0QMtUJ0IukOwFyZtMoCXwQYvlxH3pKEb2kTy13sTNaFn8C8ZAZsn+hbIh34moo7NdyRjkEnlFySE1AvjRyQ7+qNVEqRC2lNFin1Hun1JqqRHknzJN6H3pBFu5KDlyXtlBaITsY/ulREfA1RU6p0A6FFYmqXQpBGSaaIxahUNyFISul4JqRH0hqZpOpEOmRECJqdz2hr/AAQViREHtJ55qhZNSBBNiA82ADMxYD+O4gMw/7AR9xioPeOL11M0szMJSmEdxegQ/4BIG1GUkDoWrigAoeqHIdFfZKMRYHMIePqpQ/GHrsNhAqBhIqEECGGIlOMCNFAOncg4CrAFnvg4v/qIuxqsnjOsxKo5xnqslZOsyjpjkjOKr0pkfWgGKBAc/bWTHKECPrCqrBoUoeqKbUACYdhfKTCUGzEEIsCt3QoUvGhm4UqLXYaUG/FDgLquXtGMdPaM7xONAAAzIWAC60VQHCFwamiv+kiVGtGCm6CuBqsYp7dpG6EPBOClDRuQYsURF4AEDFuxh+GWaJkRN8CdHHsb/9BoHZGOXzqyatKXG5GFKauyFHFrIbMRy5OAL/8Ls8aYmBixbKp6szirqY9ZEgswBhv7s3fxD2dUEtpatEYbQ2JUEkfAAUzbtGzxDwVZEjXps1SbELQZAFHUETU7tVvLmtxWEjMlc1o7tnYybhwxAU4gtmobFso5WxxxA7iXtnHbItFpEmOwAPWatw6bnR1BSdQAt4CbnOFZEphyCYZ7uGp6nibhDwbABo3ruFShcLBVEimwrXgbt/15nxwRtZVruVIxoKm4EVnbuWOroAOAEhnld6q7tRSKjSUxDxM7uqR7FP+gaylRAp4Wu1Tbci56EkdgcMDbtIdiXSghL+yAu7nLn1F6OwEQCs77vCBScEkzudVrvUCRQaqSEi3/oAPby70+MTAloBJUgE/jS74qMkIqAZ/ry74w8Q+MqhInRwnxK78uIZIq4Q8N8AX5q78sIXdglhI1cLfHC7MyNJMo8UNamMAqK3h8lhIZJQoBLMA04jQroQ+kcsEYfBL/ILArMQMzMKYfrKYXUC4rcQaS4sEn3GUTALEqsTyw+8Jj8Q+ixhL6YACOBsEVixmp1hIwUAMmbMNQgRkGkFwqMQYKYJM+bLD/MJgzqxLxZrNG/BX/oLMnwcFE+8T2+g/B5RI6cAJFfMX8uWyYqRJ/MADi4MLIa34RqnxM+w/R1hLWgrZmHBFhKoBlzBCtOW0uUQKb6cUAaaUpOsdl6xJj/9DChJyPM5p+j8xTR4KHPyJVGUW94EekS6okmrzJRuXJR9XJoBxVo0x+WUWjOKV+apJuL+G/k+nGCryENyLLppFlVChvLyEEFxB9eWwSoCA766VvoeUS6TILsKyyWhPFXYMZyQyHmLFfnxZwA/cS+rAAWtDHRuyqfgirshpiInaIjvNaxaA3zIo5PGABnljOzRo662yJ7Sxj6vzOihPP8pw4oAirQhatq9OHeaYmFAcThFTDvawQ3/qGsdjPFTGgmdoR+tAAb3vMHNuukppmhBizICcTSBABvDzQCYGvdYavRvAAAMAApeooc4BAMhFvFtzIcyq8M+EPEdBuEM3RBv8BQcorE1yAQDNN0xjCjzJxcn+AzTy9Et7rEzPwTjs91P9QpzIhcDbL0htKv93UE/rgADIN1QjKvz7xBQjQvFgdoAT8E8YwVEnN0TpZTz7hAxPgxEOdoP30E+CCtl/Nnv/QlEFRA7tc1nmMGQz1E8vjCELd1l1GLMYSFC1QAhst2DGBGSQVFPqGv3ptxEiMRUDhDzBwAWyt2PMLlUOxCgNgB4Gt2WqiNGAlFEOwAHkZ2ScMxswmFNuAABqr2h/8D9byZ0JxBgRgzLItwH9MWEIxDxdQApkt2oaSyEQhCgNAubstv8MpWUbhBATgo8tNvtC5nEYxDxWQAk4816SJnYX/BBXx1sXc3ZnSLA5RMQYoF9rE3RCfGxX+MAMLwH/Tnbusu9AzYQ4TUAIPPN6BaY4jKhWrQAA5sN3r3WXBRBWSMABCEH38zZZGt6VU4StOkNgF7ihMLRD7kA7dEA7wwHhCcUpYQOEVHrO3VxD0wAzJ0A3QcAzOYA/FNwcBcAQMPuIJXQMFLADfkAzPsA9KYQ/OIADtUHxr7AMETuOX8UfmAQ3NsA8E0Q/kcAzpYN/vSwAzkNoNbpSPMjFlAg/HIA8FQR7qcAzkwA9CsQkLMAG6feUvydcq3A/N8AwJ0Q7HMA4eDhTC4AEGQAjqTdyYIVb/sA7H4A6nOxBcTue//QMB//ADVm7kfmyX/+AM4cAQXB4Odf4T/jAICtAAkrDngp3FhFkPXd4Q8nAM4UDmQkENNRAAOZCb8x3BaPwP6pAMps4Q8pAMy7APxecPhOAAouLVai6PXUu90BAObnXizZAP/TcPX0AADjAHD8zodiJb+3AM7SDl9aAMzODiRGEMQjAADfAGzw7tZaJa1MDl9yAR+7Di1b7TwjAEA6AATiDdv66Hn0sOykAR/PDk44DrRWEMWLAAATADhxDuFT67hEEOUk4Q/tAOyaAM9FDW8/AHJxAACDAEm6APQFLg+3IPxwAPF3EPK77vet0LERQAC8ADlEDwna5BgM7kF+EP64Di6v/QD3rtD6bABRYQAFQ+B7PwtzQt1d2ADQmfEPvw5MiwDvyg2rMwBzNAACZ/A2wgClr48ytQBMewDkOPEEpxD+FwDMyQDsiOhPOwCV8AAwag8xLzB6sw9Vd8emtwDOdeEvdADslA6u2Q9FuoD6agB7o8AAEwABzgA2fgCLMAuvKrLZ/w4yixD+uw4skQDu3A48vNDqKgB0igAgAvEBPQAkMw+KKwDVkPs9tgAMegDixxD+qw4ix+DvAQ9uMoDqLwB1iwAyKA0jpfASvgA04wB4SwCbMgDqH/qaOAA8eQDy+RD+0wDs1wDF4fDukAD/WA9+PoD+awCpJgB1TATRVgXAH/8PcO4AEzhARjYAeDcAmm0AvbYPgr6A+bAA6XqwedgA09kQ/ykA7YwAzMfwzN0A3koA4AAc9evn7/DApAmFDhQoYNHT6EyPCfP3a9RDnSMwbJjhYcHBAQEECkSAIOKpSAkUMIEi1n7Pw5dCmUqV7CxM3zF1HnTp49ff4EGlToUKJFjR5FmlTpwnl6LgRotFSqgH9rjtHLOfVnPnrrzoVrluzYWAHMnHUbR07dunby7NXLx6/gQa1GDRqcZ2yWKEqD7JyhMmTHjBQcJiwAOVKxSAMLIlzwcKLFjBs9gAxBkoTLGDZz9PwZdMgRJUyhRJlaNaumsW3m2M2bp09f1rq1/23fxp1b9+6g1LgsCHAjVDneQfl16lS8p7999eStU0cu3LNmzMYeW5iMWTNn0LqFG5f2XDp1a9mugwdPHj16AuwJqHfvXj4B+xDyE9AP913++thR62UVUTCRZJA//hrDCSSG+CGHGWBIoQQOKojAgQUMGAChxTbkcCQCDGisAQcimOACyEo4IYUVYJBhhhpuyKEHH4AQYogjjkDCCSeowIKLL8Y44ww23pjDDjv0+OwP0AYhRDRHJJGEEkoUwWSTTTgJxbTTTEFtldRmUa0XMYUh0xhjqEFzm23EEUdNaswUpiYx5xxTGDPTXFMcc1xj5zXYYpPNH9qUI7RQQlf54f9DJ3oxiDhDd5KFlkgGfRSinOjyh5986qFHHnigU+cccsYJJxxsoHGmGWWYSUYs7JZiBhlkBFBGGQGawdUZXZ1BCBoBoPEVGmyewabYbgToJtljjxUgnGZLhdZZaQUIr9pxorG22mqkGabbYX7BJVxWxkWlXFLORdcSUixht11LCnm3EHkL8YNeP+7FI9984cADDn/9LSNggbMguOAqDkY44YOtYLhhK6aAOOIoJqY4iicuxjhjjTfmuGONmwA55CaWIJlkkJeQAmUpVma5Cym6gDlmmcGguWYxbsZZDDJ25pmMh9JwA+g0HHJDgKIbiiOOhOhgmmmI6kgI6jr2qGP/6qoFkBohqLH+aQ8B9gA7bLHHBvtrs31y4wk4SJGm1FMr3SmTMByFuzZ0BKBbAHB2qWeab75ByBtvEmrHm3UQ0mYdbRZaHKFsBLiGHGusIUeAaqitZhxqpRlHmralaVaAaEYnHZtoii32GdVVX6b11gVYBvZegaW9O9qBFYBXXXPftXffdeUueOFxJb544pVRFflal2e+eedrlTV66WX1Rfrqr0fmel+25757778HP3zxxeelfPPPR/98XdAXgJf2bdNFAF3in79+pWyxZaFYYhFgf/z/t8X++sc/ngDQgAfEH1BqsUAGLlAAvlBGd5bxjGhI4xXxqJtD7pJBQgnKISCX+gdC/KEPiSAkhByslKAohUIWttCFL0SKP8qxQocEBAAh+QQFyAACACwFAAUATwJuAQAI/wAFCBxIsKDBgwgTKlzIsKHDhxAjSpxIsaLFixgzatzIseG/j//whQBAoaPJkyhTqlzJsqXLlzBjypw5E+Q/LwcEUPhHs6fPn0CDCh1KtKjRmjxVFchDkufRp1CjSp1KtapVovgwsNDX9KrXr2DDih1LliaUAsAENHVatq3bt3Djyj2aqkAbf/+6zt3Lt6/fv4APZiXR7yPJwIgTK17MmOjZV3jz7mxMubLly5gdqgJgxt/AtZlDix5Nei8gAKhToxaQoLTr17BjHy0VxEjt2gASGDEiu7fv38BPfiQIOrjx48iTF7Q5fLLy59Cjl2YuWbr169gTDx+4Pbv37+DDi/8fT768+fPo06tfz769+/fw48ufT7++/fv48+vfz7+///8ABijggAQWaOCBCCZYEDAoUGDCKws2+KBAElAQQgiJeKbghhwOxQIgAiSCQkEfhjiiABJA2OGKLPbETQL4COAPA8EM9GKMM9aYYos89thSKhgMZAIoAwEpJJEShICBEdwghEIMfJQj5ZRUVlklMFZmqeWWXHbp5ZdcYgnmmGSWaeaVZ6ap5ppUisnmm3B66WacdGbpCXSeTGmkQCQQKdCeAvQpADEC4ANFDD4mqmhGN8pIo40wOlrjQNPkxNIhi2Y6YIkikghip++gI1AbLLAkiaaoArhLgySoGEMqAqz/SkGrAgSjJAY2TJqSPhcI0EOqwAZ70R8BzBCBhsImq+xCQ5RAiQDCLCvttATBsIMAAfxB7bbLTkCFAB0Mwe24wOozgB4CINEruewuKkwAmAhgBwH6tGtvj5sE0IsAlwhgzL0Ar0jsPALsG0rACCvIRQQ8zZNtwhAb6MMKTkXwRcQYC3iCEE6t4EPGIPvnwBhOCZFCyCjn5w8BdqTssn4OE/LyzPYZE0C/AokiwCw098zeKgGYMhA1Apzq89HncaLvQCu3jPTTcTG3nE0CUYeSIwGYQ1AF30LtdVvDdVc1T9uJjZK29Q7Uwsdftx0WSALAPTbZYbOVEhsL2O1DC273/+1Vd4CzVbfcBqlC3eGI/1POP1RUwJwTjicu+eSUV245dYtfrvnmnHeeeeeghy76R5+Pbvrpk5eO+urUqQKd4VSPzZ3gZMdtNkfNCj6HAcj67TtUcBMevNi3b5TDDHYfEgA7vzcPPN1T2y799CfB4IPdB+/r/PZESS291Faj5AESdu+7Cffou2ax3QQPkv77ohkwx3IKnAH//ZY57H5BFziB//+M2UYAnlUQGeQAgAhEzCwCoLOCAOFkCYxgX0QRAJ4VRAsTkKAG54KJAPyrIPPq3QZHOBasicMgJiShCscyiAAQrCBCW8UKZ/gVPQxAhNASQLxoyEOqsEEBdhNI+/96SMSofIFhBvkHAt5QxCYaxQkXCGLc+ufEKgrlCCKQogDWZsUu+uQHLdBiD2DgxTLK5AbIOwgUzchGl1hPi2dYQBvnqJITDEGLA6OjHjvCAfId5BIe3KMgMzIBLmgRaEIbpCIpsoAzaHEbRVukJCPCMoSYS1uTzORCwPGwg/yjAWPQpCgRUowAYMqT4xulKgmSiwEi5B8zOOAqV3mKABwMISab5So1EQAZIgQLGdTlKCuxNITsTpijVEQAiIYQQrgQmZrsw/ISkq9oQXOSdwhA2g6CyGtOUg0E0KJABGg0bypyC3lLSL0wac5BXgGJr2xkO6HGIAepaCD1nNBAvAD/gHtyJAmOS8g/qDhPpHHqRAM56EBUEYMdmaQIHBBn3LhYUJ81KkeQwtGj8IGCYDi0Izw4gUT/0QMZVNRngBpSkYIkEJVCIQ8o8idBnhSlM9HABV0qQgbqxNMxzamnQFXTT4NKVDINtahI7dJRk8pUNDX1qVpaapYAJag/sTRQoCgFCzzzUY7QII0JGYMDTtqziz5KIGYNhhkeIAEJAOABkzDJC24gUQHYEIdkDZlCCbLXgXR1Iy7oQV1TmNeXyYpWAnhVrFgl079qZAQcUwgFLVjYMm7AjwnphS0ra8YKOKGu7DAlZ8sIgS/UtWmj9WL96voPi6W2i/JjbQmO8For/56LtTO4QW2dqI8ADIK1udxtEUN7SoE2TrhFJOdC/vEGBCCXiO/aoUJa+MLnznCBDVQIID9o3RUCzZcK+W53Aea92RHOdnWlyGQZYjOcjbdddYte4Ip3kWoyRH/vhe/gzIte9NLXIpRYJkOUyMT8kitws0twfA8Cu85hzRyV4xrrJlw51VH4wqCzMIY3fDkNc/jDkvMwiEdsExGT+MQmPlyCZTe3BXOEugNOgRAMfOD9zs2/4dvIXQeMRhrXmHqyM9t/KzKv9MatWT4el/cGJ2QjS+QMQBwwF4KZ5AR+AQJG/ocdeFflBDYOrwZRHvO6DEAkZMDJ9iXz/4YwAicvMP+Rar4fEE4A5oIoN87324ELnNxbduI5fTWggZP/Ic8/v28GgvYIQQ2NvhbwYNAUZTT3TvBoj4xR0ugTARHqTJB/IIEDmObeBYow6DiGensVSMKgibXNU/stAlcYtCQE7GrfLWALThaAKXpZa98hQA25tpl0e902AgDbIfgldtv8EYA75FqJbFB22xzmbIf8w7PS/lpo+/BsFfwg214ToCJarZB/5MCk4H6azRTx7E+n+2marQSnOz2GBrwbaQusxEP+YUNy39tlQNPEvmcNyX/TjIKn8HdC1mvwmSntFBB51/ka/jJA5mLeBEk2xVM261xA5B/y27jLlFeMj3NN5Cn/ayE4ch23FAAB5SgjVjk+fm6Yh2xeM9+3u22esebm3Nqm5jnGztCAxe2b1UKP2BF/7pHtJh1ijTO6tbv5dIR9WuoOuXPVAXaEEjC9IeZC19bzk0+Zll0gMcBACFjgOo6Y7OsDdsDFxo6fvgpkr6ISwCNC0BEfwADuyxUBbelun7RmVFIEAQQJOoJGwJe7BjUgvH1S6icBUF4gQXjAA2Q6EJqa6QU0CIaZeDACqMZJqqZPKupTX9TVsz6orn89T2Mv+zrRvhxUrXzuE48ojsigB44X6BElXx/DozVSGCVIAYI/kRUAAese2THx52N3ASj0HdMQyCMegHGI2JH5niT4//Tnc1hXwar8gzKB2tneERAgAfxJ3DV4xz+t/sF/Oe2l/7YqgAXoN8RhfqZ/ymIx97cchSaAy9IAZ1CAndZHCCgtCDAHDMgdBvSAy8IyE1g1wWWBwcJsepCBcbMwHLge5dViTlGCGNFbgwCC/DYACjeC4uFiQXaCLKYRMcOCAcZMMFgew0M7dGM3QyYR5hAAjsCCVLeD5IFgNVg250UQDaY51DBAKYY44kCEJ3Y6U3iFHJaFWohhXNiFFPaFYLg6YjiGqFOGK0Y9xMNyDSFs/jdgqIWESWhj/dWEQQgRmhUKIBg3JyeHcwhk3wM9/aURb0YR/xBpfhgeS/aDTHaHEP8hXhPxDz+wAomoKAwnEf8ATJWYKEqjPZgYQpvYIx3EXRHxD+IXii1yipgIiai4IlgzZpioda3IITAWiSsjdrPIIcTSfZ70DxOgBbnYITbEhsuhAi8XjBuyZcTYaX6HjBuCN8vIHcfljAkiVtFYNaBIjQfyBRNwjXGjitpIII3jjf9whOE4IJ9GjlXoCOdYIFhEjv4Qcu04ICZDjgPlP/MoIHtjjxWYjwGiAzLgjUdWAv4YIJAnkP9QbwUJIDOgAwiZRwvZH2uDkPniiRGpHzKGkJo1cRepH7OFkADYkfvRRwj5SaEkkvnRPyVZAuKCkvhRSCVZcy55HyMjkHGzRjP/aR+NZJP/sDu8mJPnEYE8iTUFB5TywTI8aY5G6R4eyJOhJTNLCR8qyJOEZj9R+R4xQ5UseZXvMYSOQJWXxpXtIUCUYJNxo4liyR7CZpb/gHRpqR55yJYV+ZbqgV1sGV10mR7fxZZhl5fosWuzwJa+2DV+WR6hoC+CaS2FaR7VJJhItpjkkYNmGTcCIEeQOR6EhRH/oDxac5l8cXYEcXb4YAMWEgO6ghFiphH/IH+eyRfVp1D4MAmekQcx8JMLUYuauY6tORfGJwC9aXkloRG7qJpVuZtycXlWdSQEEQRK4CRQQibgJCW31yUjwAO1JyfX+VTTmZ1rsp3cmSbe+Z1l/xKe4mlUY7J7ycknlWcGKPAOG6GMxCkEJ2CccdGbxtcGJJB3GgGNxAlltkmfU/Gan3Ii+LmHCmGNG/EPmQmgZYF+iXV+jDUoJHEhJrARUzaZVYNdDGod45igIbmh0eEEEZWggwmiZYGC4IOCFvGOJCoDumWiYyGDgViHjtgQQyBSJKouMCoWPchf51WjDTGJGGo78/KCOyoVSqiGQChOT2g5OxCQirM6HdQLZpg6VXqFZXilopOlWpphXQpiXPqlm4OGS0g7/KURB8kR/2AzBHSkV9GjNyY3TXgRsTSkcROP8+OmfyOICnaCQOoQE6mm/9ABg6enVrGIOIZjQ5qRgv/aA5RoqMAheHb6EXH0n5BaGSQpqLOmg5caGxLWEf+gWcPWqa8Bk6AajwVGqrABSnZqOyUwY6oKGwrABq36EUJAkLH6GrEFqj1pAEaaq5ZxW7w6pcBKGn3WqnEjQOxYrKKhP8j6D/6wACfJrJnhlc96iNdCrZlBTteqo9qKGWtpEh/Rb996GXEprqvJa+VaGW+GrHEzD+eyrpWxl8LxDx7QkvLKGJPlrh8xBCCQr43RifzagtUFsIgxigO7a3BmsIFBcAM7D5XEsIjxiu7qqrAqsYBBXRX7EUcAahgLGLu4sW35TB/rF8OYEh8BNNlVsnuxOxVrO/oQsSy7F/yJsv//cAJsM7NzgaA26wRUprNxcaEq8RFYw6lA6xZQ9LK2E4XLerRvgQQeoLQgMQH46LRucaNKazs+MJ9W6xZglLUfMS8F27ViAZBgW44MRLZlkaZD+w/6YADRprZj8Xtn+w8w8KJyGxbOl7W28wUNYKl5KxR2xLcfAUgWGbhW0QGY1bbsEK+I6xUXQAWE+xEpIEuPaxWmyhIfMQYL8KuXWxQKyLe2Q0EL+7lRMaui+xFva5WmKxVI2RIgUQNk1LpRwWx/ILq2MwcEMLa0SxRT6RIfsUAc2btFQVy4+xH+0ABYQLxHUYWScLwf8QMiwLxGEa7A+w/ORIrUCxTner3m4Ljb/ysQoIlPEqIiSuBWnEcR7foSICED6Ba+1jegnmIiAgEKxOBYFEGv7KtlAwCL1GufyHdWMaUR+woTH2EzULm9yGl5V6VSFJK+AuF5X9IIAXAKU0KeafIB1sl6GFyeX9LBHqxUIQx7I9xTIFzCWXJ76MnAA1FVA5wRkmnAm2sAvEu7NwKtAnzDGPURErARD4a7swM0owq/A2anGhsTyDsB+Mq8/1B+PPEqTcxYPGEEDwAADBCcwxIAeIHEH8EFCFDDppukYixRTTo5RQYSYRo6mvWVWpjGYmo5bvzGlBPHchxidXxhdHzHh0OmSpqGf6oQ0AjE5nUCkUe9cEqjZpoR1v8oyHMzL0VJvDIqg3+cEFgQUEghDjILybHTiCaYEelIEyBxA7hKxDKRO6BMtBVEyjIhpD0xHA2ABKocE+fGyJ3WxQjgv7G8ErlFy7VsDAPgNLnMEm/kEyCxAxcAuMEcEYzayh9BQUOczO13BLxcy/4AAjMAzSqhkj8BEsRyuNi8EZlLzP8wDw5wsd/MEawKFCAxBwNgTee8EUs0zVMzDw2wxO+MEcKqzh/xBgSgvfdMEccqFB/BDg1QqP9cEcYr0JTazwdtEVFYlgr9DwSdsw0tEZrFCfKcRB9BLCtb0Q+xvkOBvCUgAsh80ICZ0Rr9DxQUgB7NEAJbFCDxAw2Ayy3/rRAx3D0HjAD2XNMJIWYo3YsjW048nRCs9tO96A810AAnNNQJoQfhZNQpTQ0L8CtMjRDNNcnXu5m+VdUHscjP4w9CQACly9WVjNVZPQ8nEAGPzNXpCNWv9BHU4AAp4LkVjbVTARKiQABAUNLBPEZuXW4foTxIwNexXAN0VRUgoQcBMHdVHagFQQ/h4AzQoA77ENIfwQYBkKpD/ZEFkQ7H4AzkEA7JwAztQNgk+g9csNimHb7aPBDZcAzqMBz5MA4CMA6VHRQggdmDPdTrMxD2cAzpAITwkAzNcA8RTSw+AMb3jLoC4Q/Q4Az9MDX10AzMQA8R7QgEUAL+/M8EoAdO/wEPx+ANCbEPz5AM8BDRqzABCzC8//y7/NAM3fCGA8EP4XAM6xDR4iADi03XsWytAqAOx1APDOEP5wDcEa0PYzAAIDB/5xyuzTAOTuYPAE7b6M0BAzAGyh3LdnkPxwAPz9YOyYANt63P4/wFAzABh7DagXvS63AMI+4R9MAMyiDgEd0LNxAAJ3BL0Iyw3YANf/oP99AMydAOOP0PmwACAQADOp7LD8YPyRDbmMgP43AMto3T/uAIIhAAKyAJ/N26rCYPAW6I/gDiykAPKk6c/iAJJxAAE/AGnUnELnsOyLDFkQjkz0DlL47bH2EKQEAABNAD4wa/YuUPykAOhA2t6//ADMywDvxgFB+xDW/AAQHwypjQ5WoLRfVwDPIgmLN9DM1Q2o4OrZrgswGwAEBwCGt9uTeaDszADxj6EfXQDZ7O6E8BravwBZIeAB7gBJTw5ogLkA9u1klkO/ZQ38lwDjR+FHA9CEDgAAEQABxwBIMwC5YusTDABB0+sPdwDszw2eqQD1EBrcLwB0PQKwFgACuABHoQCr6usx9QCMkQ3TbLD/Ig2p+dDvQg78DDDqHwBj1wAQQgEA2wAkfwBpQwC/Pw10s5AbxQDan7D/sAD+HQ7cnQDepAD3n+FPowC4QwBj0AAgYwEA6wAj/ABXqACbNgDpHxrTiQDPQgyB/RD/b/oA7dkAzH4OnhoA7ycA+NThXGEAqD8AU+oAIRMAABIBAGUAEr0ANIcAZ/IAmi0AsqHzsjSDpTMQ9moAzVzqv9UA/tcA7LYPM3D9/koA7wQA/5oO9RoQ/CIAqHMAdO4HccsADP/uwCMAALUAEnMAM+cARYwAZ6QAiUEAqrIAziMA+RkWMiV2JTUQzHIAsJr+f+kA/0sA7nEA5CLgA3fwzM4AzYEA7nkA7r0A7yYA/1kA/8cOYmoQ/bMAuh4Ah6cAZUMAQ50AIioN5GX/d2PwAI4AAXAAIp4KI+MARIQAVjwAZ2oAeD4AiSgAmiYAqa0AvCQA3iwA76kPibg1w2QQ2S/1ByUoEKruD9yo68+1AP8tAO6hDa2EDdBbH5yYAMzQANz9AN4TAO5EAO6ZAO6rAO2tAOANEOnjx5AugJsFev3j0B+QQI2CeA30OKFS1exJjxob951HqZ2iRpkJ43X6gcEbJjBowTHSo4WGAgwEyaNWk+JGBgQYMIEy5wEHEiRQsZM2rk6OEDyJAjR5A4oaLly5gxZ9i8mWNHj54/fwYNInTIkSNJlChhwsQpVChRokyZWhV31txedYUJM5aXGrVtfcX9FVdMnDl2hQvPQ5xY3+LF/hz/gxxZ8mTKlS1fpqxR82bOnT1/Bh1a9GjSFv9tozSmhoOZlUq/Dg0JTr9/sP9te67t+GFkf/zy1aMnr906denOkRsXrtszZ82UMWOW7LZFZMqUCWjWTIAz7gKgfX+ITQA28di6nT8fTkA49urVCxgHf9x8+vDtVxMwTP8vVrhYsUIFFVIGtIQUSw60pJAEC2GwED8e9AMPCfGAo8IKy8AQwyzKyKLDLKoAMcQQrbBiChNPnCIKFVd8okUXX4TxiSZmpLFGG5fAMUcdbZSiRx9/lKKLIIPsokgjjywSDCWXXFIMJ590kgwppUyjSiuvxNKNNLTksksuq9QSyzSmxGhLM0Wjgw6K6mCTTc32oAjOPerYY846BZDzITjx/CwQAfwMJFBBByU00D8PBW3/jy6sqKIMPyxBZZjpJs0IFCbioTRTSssRAJ2KygEGHG6mseehb76hyJt2vPHsGgHIsaYaWe2TZhxpBJAmHGmiCSeaaAT4lTxhnyH2mWWOXQaaZJP9DjxovHuIO2mbm7Y57LTLLltts1XGOeesAzdccZWpDhlzz0UXXV+QWbdddn2BN15555WXF3kF8IUXffflt19//wU4YF140aVggw9GOGGFERaAYV0arsgVTSfGKJZYLLLFFgEyjsUVj12JJeONNfasFpNPRjllk0WzuOOPO9Zl3W6b4c4bcCiezrF+cOaZUsgeE0A3Af7xZzOhe0b6tsiSZrppp5+GOurp9BnaA7OAAAAh+QQFyAACACwFAAUATwJuAQAI/wAFCBxIsKDBgwgTKlzIsKHDhxAjSpxIsaLFixgzatzIsaEnACBBCgBQqqPJkyhTqlzJsqXLlzBjypwp8yMLLwK86JxGs6fPn0CDCh1KtKjRmR+9/Fu69KjTp1CjSp1KtSrRpEybWt3KtavXr2DD1gQQpE0bQeX+iV3Ltq3bt3ChfgwJoECbuHjz6t3Lt2/CV212vZsm6AEAPv78Kl7MuLFjoVkFvirAoN/jy5gza97cMLLAfywA7OJMurTp03izZrUhQBXq17Bjyz6qeik+CQDKzd7Nu7fvk6UsC8SnBECM38iTK19+UIKEIFCMUBAgIRjz69izv27D4kGBAiG86P/WTr68+fPo06tfz769+/fw48ufT7++/fv48+vfz7+///8ABijggAQWaOCBCCao4IIMNujggxBGKOGEp6lWkIUC1EbhhhwS1ZRWA32oVoYjdmjiiTQxRWKJKrZYIoowxqgSiDSyqBaGBqlS2448/pNWj0AGKeSQRBbpo5FIJqmkkT8u6eSTTjYJ5ZRUBilllVjW5tp1OnpGYog2ZriijGSWmZGLNt4I4pcr/ePIPGbGyaCIF6rJ5poozSLnngpiKCKaKs54hgA18GnooRf9U8IACOiD6KOQNkRNAE4IEEqkmGZKkB4DiLPAF5qGGikSHAigQwqipmroPznIIAAbCKj/Kmuc/6QghACHBGDOrLzG+M8EXAhgigCr9Gqsif4QYIcA2wggybHQUihOAI4IkOyy0Wb74CwBDCvABZVqK+6CmARgjEAy3DDuugj+EQCcAgxRArv0DvjPGQsMhG+9/P73D6n9BgwgqzMIbDB//5xwq0DnUnLww/L9GqxA+gygB8QYwwUMChSY8EpBG3f8MXUUhBBCIomd9A8CbxAEbMYws8UCIAIkgkJBM9d8M3Ujq5TYHwQpHPPQX3GTAD7WMmCdQEYj7Y/SPLPETgCHEHRDwURnbVUqGAxkAigDce012BKEgIER3CCEQgx8lOP223DHHTcw5eQSgCJwE7GB3Hz3/+3334AHLjjdghdu+OGI/0144ow37rjciz8u+eSFR0755X17gp0nb4stEAlgC+S5AKALQIwA+EBxXJ4BiELQGA28qPXsTjWd9NIC2P407gJMc0BKpgSg50BAO0r78U7lbDPONC//DjoCcZdSuecO9Cw1yGdf1C4ckzByDKkIwD0F3gsQjNkY2MB7R47oStCwxWovP2ruGi8Q9g7Prz9pcxhQkD4BANr+BoiZf4zBAQZpwKAIyMDG/MMJFzAIB5DQwAoq5h9DOIFBZJADC3pwL//YgasKIgRUffCEcPnHDDpYECxMQHYojOFXarUwgtiBACmToQ698g9wGaRq7NihEP+58o8IgKogl+rFEJdIlZW1rCB6uhQTp/gUfwTgYgWZVrWoyMWiTK1qBfGHxbpIRqEYIwCXOEgDxlDGNvqEW66TIAXdSMeYBC9+BWmBD+rIR5eEIgBKNIgI+0hIlVzCXAdBQgdgWMhGXqR94jjIARnpyEpKZBDvOsgNc2jJTkrEXZwcCBA9ScqI3BAhnABkKVfJkHLACiFwZKUsEVKOAyJkGwF41ix3OZByuBAhABQgL3dZDggmZAELHOYsy3EEESTEh8pcJhBUkBAV/CCay9TBCA+SgxlQEpuOLEcNCoWQZn4TnIUsBwx6kJAvROCc6OxjOVIAhITcEJ7xrGM5QHD/hIQMQgDwyqclywHNg1BPoBnD0We8NCaTlGMCWkjIKgKAR4QejE4EweiK8DmRcigwIWfEhEUfhiYwqemkeNJIOViWkKkRYqQXDdNCwfSllAqkS0sqh8V6dK0s+bRIV/qpUHM61KJGyahIRVJQk8rU2iy1qVBdylN7RNOZLtRFJwFHABUSATbCVGAlvepGNdSRYlBNIR5AAke/Ci2NzhRPNsWI3XSJEBj4YK1sNZafUCq7uF7kFAMQaUJ6AAO85nWHpwiAFBGiSMMeVoaa6JZC3OnYx6KwEsJTyLJCaVkuNkKVCSFEJjtbRkUEAHsJOShpydgH90mUoqvt4j/uMFqE/4Q0tlycbQA4S5B5BOCluJ3iP9RAAIYYAFvBXeI/tpCvhRixssnV33IRuBB+Qje68vtHEibAEBn04LrYlVPIPAYyjpF3IF4AQM82ot0KMMQHhQ1vr5S3s4HQdyCqiIEE1quRfxShVAshFXjlSybdQY1pR7sd6lAQjP2a5B880OBCJklgWY3ua2HrmkAwDIU8RO0ga2sb42jggsARF3MoPpzlUszix624xTBG3ItjTOPAzbjGOIZcjncMuBvLbXSlE52GSQeKUrAgMQ7uyD9osM2EtG9XFU6VgXE3ZTM8wDkAeMAklEwDrCnkj4GMsqjuSxAyDyTJHPnHC1iokFiKWf9U4yufAMAnvu7xF83sdcEeF4JLur65gv8YQQ0TEswB/zmhG+gnQ5Bp6END7B8WCNdCwNVoR190AlhoCD0rbWmwQuCIC7kapzvdr38oIJkKkdeoSV2vfxhgDg3RwgtZvb9/KKsh/Vs1rddlRWEqBJMB3XX2fPtPhhyyesLOnjmo1ZCJVjTZtOtzQ24LbeRReyHE1nW1j9ULxTrk1dredq+45S2GACvc4p7VHR1SgiOgO92qEkVmGzKDG7wb3qH6xyYCIAyHlPDe+M7UPyhxWodQQUwBh5mbAhDJhrwBAQBPOKT+kasgNgTYEk9o/Rxy7Ixj7B+cWquzPf7oUzrkjJf/iDjJ9/SPVzok2ys3mAEdgFeWqTzmZvoHFyAAkQpQ4eY4J9M/qDBrh9gK6EH3FRIyABFRJ51fGBwBRMz59FYL4QS8RQhlq06vf/jABRDZJNfZxaoXQKTiY1/XP2pAA4ikMsxpz9Y/ZND2h8AR6XGf0D9awAOITEsSeM97hBLW94dUTA+BF/yDFEWErCNEgYlXfIP+wYEiRGSCkZd8bxQ61qv6lSL/qEASIrLOzGt+N26t6YhWr+tfjR4iPmiB6U8fm7COKVBWZa8DthARCM6e9q+pUVXvhPuC4DRJC9gCkmAVVSxNtflJfT70jSr96Q+1+tb3Kfazn6Xt4174uWcT/3sRoIaIYBz4/rG97cOPEVuXHyLH/j36TZN6Omml+Bix4h0iMlFTyH/+pLFXnUdWGwFA+wcRk0IJ/weA/TE1fRARhcaAoTItDxgRkCeBmjIpiiARmIeBmSIMAdAIElF6Hogp3VYJEvEDK7CAJXgf3KIJEuF7Lfgo/zBRMBgRzDeD9TFe/MWDAhEDGBACLLAl/SVvp2A/DgFsLKiDfmFmAkFm0CMAjxACafZHpyAR1LOETLgXUzYQXTgQgEACaVYuueB4CNF/WriFeXFhoSMAbCgQQfAAD8BfAxFiiWNar5A4dqMI4MBjlONjfohjgBiINDaIhAhjhniIKZaIiohijP8IZG0IiQQBCKvTX+2TCxIBQIinhu/xhbmTYLtTEAUwHmciWsUwEWuUhpwYF04oAPc1GALxCA9ghhHxD+4CDhPRgavYHnH2PeHTi6ZjAkE4hGnGKRTBQaq4i+fxDyYnEUCQAsmojOXxDw9HEbL2edIoIffSABSxSdGYjdhhQBFAEZD0jeDIHP8gaxRxR+Z4jsrxQBE0ESjXju6IHP/SARQRgfXIIf9wBPNCEam4j/xYQhUhAu4mkBvidTBQEeNEjwiJet1UEebkkA9Ze+NUEZNEkRUZfCtUEfWjkRtZIXZVEQRnDCAZkqXxDyowaPzXLSeJkpyRMENQEX/3kjCpGf//IAJzNBE9dZNzwgGSNhEQZZM+eRmhd3AVcXRF2ScvUxGtgo1L2R//4ABeRRGk4g9EGZWL8Q/IZBFvYABYqZUGsjKwVhFPlpVi2ReuhlwTwY5pSSD/MEYV0Wdo+ZZ60WsW0ZN2GSDEdhE+V5d7GRdfdBGlB5iB6RbLtkUVcXVQeZjygUv5UxFfQHOG6Zhi8Q/XRhHuMg+VaZlg8Q/dxgkXsW/C0JmeyUNuVhGhaZqnSUT9dxEw15r38Q/rdhEBKZv28Q/yNjwWUQJD0Ji4iR7/AGYY8ZSsGZxS8Q+qZRG+d5zICRUDV3AX0T9h+Zzx8Q+SwHAYkZ3b4JzWSRtodxET/yUK3vmdRfEP52cRLlWe5jkUthgASFgR+cKe7RkUIDcAGqEwwFmfPMRQA8h5FsGMxZURsbef/ElEdpJRdrJ+AToHsZIRXPBO9Gmd6vcnCspe+5IRmzmhzwl+4rcmcXV8RTJJ3tcjb8d9Q1KiKAolKrqiR+Wi0QejSNWiMqpUSDJ8Hop/AfoF3JURIIgJHIqcFXpSYsVeWOBeGXF4BnqgVVF/CaqjiWJMGvGXQRqcAmghBNh+SOABG5EuS8qkvNGP/5gRRwACXwqms/EPBKkRsFKdaMoWPkgQPogPNlAyMbA+ARp7G3GWb9oWrXhf+DAJiZEHMUCLDxFCTSaeLtmna//hiZ7ohtPRX1ezEct2CGfKqETxhkI2NgQRBEqgNmyDOC9AA+XAiICjAFfQiIOjqn5oqqwqOa76qo4Tq7KaOLRaqzJmOJK4qZ/ThmaAAu/AXiO5EStwV1Xamo4KigfWBiQQhf21AvW0EUMgApeKqUPxp82zM8xKiv11AjO5EV/pptbaFcA4Z79oZ6YDACUTAibAXiCwkxlRksc6rmlWUBnRbZtQrfSaGaGXaQWoLPq6r0ZpRB1xAWo1rwKbKB/FETcgAwGbsA60AGzQES70sBC7lcfVERt6sZsnlxshb6tgsRzLF3jJEdNiqQg7sofalx2xAGMgsiqbGoPZESpgrDH/Cxv/8HcmcQQcALM3+xb/kIAmwSn6kLI/qxD/AIKbYBIg67NHuxag6W0dMTWD4LRPGxb/QG4nMQFOYLVXO0MjZxI3UFhG+7UZtZsnMQYLIK5ma5TEaRLtQw1e27ZWoZyIZBLdBqRl27bR2Swm4Q8GwAZzS7dN9GQokQI/MLiEm5zhubM9u7dmi57wiRJEq7iL+xTvaajr6JKQe7UCmhLzsFOd+7T/0D8qIQJCYLmXSxts0FwowbOqu7rnaUsp4S7sELuyCxlc0KOsEwq4m7tAMXRIihL6ELi/C7w+8UAAlhIrsAPHi7wp0kwrQXRQCr1tgUESlhK50p2je7P/oIIr/wGCCti9MfsP2rQS/uCyz2u9MLF25KQSNeCw68u+LTF3bJYSX1m05Duy/7AC17QSwUOe+8uxMskSxSu4A3yx/8BPLTED3jS/9Dsj9poSZ9AoEBzBKPEr/roSTZvACTuVVakS+kAAc3DBGKxkXIlqKgEDNVC9J1y3rlaWLKG2WOnB9LoUHrsSfxSyNjyu/1CyBmwAZ2DCL3wmLNsSOQCNRFzEAZqYL/EHnbLE5eufeyWy/wCZLzEpVdvD7uikxGfFmckSImCsXJyNQ9pQ4pco3bZYLfEFC6C/TDwROSpTaWx8SIKGR5JUAcx9NFqjQOXHRdXHgCwkgjzIPVLIhswjKv+Ko3RsxbXpEv7QAFjgwnGMEP/AgyyCyQKgBLjBXvIGdy0BBI9bxkUJCqfDXqQZE9k5C1J8sU3zw1CzFK8cikuxX5UWnaj1EvOgAF9AyZVcEJrqhkOGYQKBZwVhh4XTBwNQDG5zq4zDAxXQiM6Mq5VDzYVozTE2zdjsN9q8zX3ziEMWZMI8EOJszBXxD6JlcTBRLjz8yw6RrE5zYB/WfhsXE/qwAD/XygmLrTpDEOYMesY4E0cwATXszg1RrnRWrkZgGAwQqYliB/4zE3/kf6R8oC3nuvbsAAdb0fU5cz2BBQpQxwZ9nr9EE922xRxtnsrrEzJwAr480j0hpj7RPqz/rM8wHSLT5BP6oNEvfdMxYb6JKhNcgACcmdIUepE+AYKIZ9M3/Q/D6hM5UAFw7NOQYStAMVEoa9RWapBBMQMcUNBUHbwTTBN/NL5a3ZpL0ZQ/4Q8pgHVM7c5LsbBAQXB6e9aeuRQIIMNrrQIcMNVhPRM4jEVBETxLbdeO+Q/BRBRCsAC3+9ZM/A8zKxTUYABd69hFfMW5VBRjQAC90NN/nWZhDBTzUAEp4NefXb9rbBR/ZAeefdrt95pGgQQG0NmWHcG6OW9eNAEtANauPSOpfBT7hsCGnZbYGQB+exRaMAD5WtvWi861ZRT6AAMNYJLMjbz3qbk9IQ4RcAL6O9xL/0mNDwoVpkAAPtDdvf1gtBsVjjAAR1DD3n2T8EgV7jLJ1b26Ml0Q+5AO4RAO7SAcQTEHATAGvH3e7aenBEEPzJAM3QANx+AM9vB/Z0Ap5k3giYLUAvENybAM+SAQ9gANAtAO2M0SehAAQjDhFA56T+0P0NAM+0AQ/EAOx3AOIb4SgzAANdDY7/2QivKt/yAPxyAPBuEP63AM4/B/lIAAF1DTOS6QPRQu/dAMy5B17UDk/v0TvXABCOAIrX3iC9VVGTLk3qAQ8EDk/CAU7NADATAEOM7lDoHXLfMPzhAODDHm4VDlPuEPf2AAEZBy9e29YnQx93AM8NAQ8qDg/PB/xv8gAwHgA9S95Mr4D4n5D+qQDGVO6MkADfvwf3juAAYwBkXt6JyYtAGQr9Ag5w9hD8ngDPewgOxABQQQAXpQ1Gx+ELRJUftwDOsQEfWgDMxgDzPOEr3wAwMQAXYg67MeItTj4/cgEfsADcmwDmxr5cK+AFjQ6Mfu3OxADspAES9O5JnOgr3gBAgwADfgCKZN4ALqD80wDhbRDsmgDPTA1POgByIQAAtwBKHgD2lB4TMX6INuEfewDN7+1rOABREQAA1ABJRw7mENj0Pe4hch5AmuDv3w1v4gCk4wAQFgADVgB70Q7TD9vSrQDc+wEfkA48iwDoeuiqvABjBAAAifA3P/YApF69N7xwPJoA4dcQ/hcAzMkA75UNvzQAlasAIwTwAngASDMAucCdcVsAbHsOwmcQ/kkAzHwN8rDxX6IAp28AMXEAACQAAd8ANn4AizEJ/0C7if4AwqsQ/rwODJwN/7MOBHYQ6hoAdDkAIIAPYDMAGuwgaOYAri8Os3Kw4EkPOELxH3oA4M3uDnAA9BX9/+sA13TwU5wKUDQQAXAAM/QAV2cAih0AvmkPjWago4EPUwkQ/tMA7KcAw+Hw7pAA/1UPF9LgDisAqOYAdO0AMqMAEDGgAB8OogIAM+gARj8PmYYAq9IA5o74H+sAm4GBW22AklTxP5AA/pgA3M4PrH/9AM3UAO6gAP9pAPtN+OP2wOvRAKh2AHX3AEObACF+AAxQX89G8ADnABJ8BBQoAEXMAGAGHnj6NLoVb1MmZunj8BDR0+hBhR4kSKFS1exJhR40aOHT1+BBlS5EiSJSHO+8MhQCOTLSH+W3NMnkuQ+eitOxeuWbJjPQUwc9Zt3Dl169rRo3cvHz9//5zSNOn0nz92xlaFkjRozhknQ3LISMFhwgICAgKcRYvWwIIJF0CcgDHjhg8hR5Ak+XKGjR09fwYdkkRpUyhRq1bNQkhtmzl28+bp08cQ6mTKlS1fxpz5MjUuCwLcCFVOM0h+nTqN5uhvXz1569SRC/esGbOex/8gJmPWzBm0buHGjSN3Lp26okbXwZMnD6kAe/Xq3VMqYF9DfgL6YZaaXZ85Y72uYnI0SI+dM1+cIBHi48YMGClKiI3QQAGBAQ3T3sd/fwABAwgWNHBggrY46KCEE1JoAQYZZqghBx16+AEIIYawCwknnKBCiy++GOOMM954Yw47+OrLr0H+OsQRRyQJ7JJFMNlkMMJEMaVGwwybJcdeduxFGGGMAZIaxbbZRhwjtxHSGB975JFHH4Mc0khzGGOnMcceg8wfyVDjsksvJVrlB/6QEMYp0b7MSBZaIrkOzYwYekoAf/jJpx565IHHNXXOIWeccLrBBhpnmlGGmWR4ss3/JWaQQUYAZZQRoBlJBXCm0oagEQAaTKHB5hlsPu1GgG5GDTVUAcI5NRxVVz3VoXEE+O23aGKNtZpxhsEV119w4ZUVX1FBhRRhhyXFkmItQRbZQiwppFln/YA2WjymnRYOa68tI1tty8iiW2+rADdcccG1olxzrZgiXXWjYLfdKJ6AN15556W3XnvnbSJffZtYot9+811CioClIJjgLqToImGFFwajYYfBECNiicUgo2KLyUgjY4ncSINjNyaKg6I4Qm6IDpMvqsOhlOvYow6WXRZg5YZSjlmjPQS4eQ+dd+a5Z51xBnojN56AgxRpVA3UzYwyCeNMpS1DRwCnBQBn4Jd6pvnmm4a88cahdgRYp6JsHBr7GnKssYYcAaqB1VZYpRFAmqPhRjUau+/GJppPPX2m776XARxwAZYZ/FJND9/tcEEpdYbxSh+HPPJBJ5d0UEkvxxxzZQjd/NHOPQc9dM+RUYZR009n1JfTBUBGdddb9yV22WenvXbbb8dddl52571333/vXQDfhSfeIV1acqWh5JOnzBZbIIolFgGid756W6KfXvqMrOe+e+c7qiV88cO3xRdldlvmmWikeSWepy365/0vtXQKzvjl1Ici++Xnv3///wdgAF3CkC1ZJCAAACH5BAXIAAIALAUABQBPAm4BAAj/AAUIHEiwoMGDCBMqXMiwocOHECNKnEixosWLGDNq3Mix4b9/77xgKJAghJeOKFOqXMmypcuXMGPKnEmzJs1/xCgAiAFFiQ0MNoMKHUq0qNGjSJMqrdnPRAFPAv35w7e0qtWrWLNq3cr1aKKuYMOKHUu2rFmjNgS8IsbHTKJ3Z+PKnUu3rt2rDwTwKSAQAAOodwMLHky4sOGDBQAAgCIAXB6S0w5Lnky5smWjidMK/AcFgJnLoEOLHk3aIQMAgAiCEqC5tOvXsGPfRQHgEcFXAmLI3s27t++qXjwP/PfViL/fyJMrX44yWAEGkUGGAJCJufXr2LMb/JfHrwAjEgAY/9dOvrx52R8noThQgASf8/Djy59Pv779+/jz69/Pv7///wAGKOCABBZo4IEIJqjgggw26OCDEEYo4YQUVmjhhRhmqOGGHHbo4YeyAYMCBSbgRpCIJJooAQUhhJDIcSDGKONRLKSWCAoF1SjAjQJJYOKMQAZpEzcJUOUPA8EMRKSRSArgo5BQRvlSKkAJZMJqAlE50JVOhoCBEdwghEIMfJRj5ploppkmMGq26eabcMYp55xwsknnnXjmqeeae/bp559o2gnooITKKWihiLYJmHaenKmlQCRgKcCjAkQqADEC4AOFblJ26ilGSwpwZJIChToqQdMc4JI/h7Dz6asY6v/II0Gy4vgOOgK1wYJLksDqq4W7jEiCiTGkIkCwFAwrQDBeYmADqSvpc4EAPfxq7bUX/RHADA7AiO234C40hAiUCNBLuOimS5AMOZgTwB/qxhtuBVQIAIIQ8uZrrT4D6CEAEtPqK/CnxgRwiQB6DODtwAwHGUoA52IigDENVwyktvOYKwAnFncM4hcO/CPAPAPA6/HJG/6QgsgCRMAFyjBjmMIPLLfgQ8w4UxjBFywLcULOQENIgB0DjdFA0EgvOE8AgxTkatJQF0hNAOUStErUWAs4SwCmDLSNAL1mLXZ/D58blQFzjK22XR+1XVDbH20GN8soORKAOARd4MTafMv/FXfcBP3NMuAswasPQTDc3PfiY7ntttwiO073SmwgMPkPKzCuOViEd0634I8bpMrcpJcOdzn/aDHB3FRUYPrrsMcu++yzo0777bjnrvvctu/u++/Af9R78MQXH/vwxidPuirljQ73cJ9HL0DkhKN0RAmTz2HAwpt3X5Xk0VM/efUd7SDD5IcIYI737Fsl+NvUTz/45B0lPrkoAszS/v5JzS23/OALHUpEcITJCUMAm+CfAnczAS5MLmNNW6AEXYOAN7xtAWeYoAZFo493GYQDSNigCC2zjQCEbV05GKEKJdOLAITCID5boQwJY4oA6K8gXIjADHd4l00E4IAFSRj3/3hIRLJI4m4GOeLXishEsgwiABkrSNeu1sQqgkWIBqGYxKzIRa1YkH4jE0AEu0jGqowhZNtZABvKyEaltA6M/9BbG+dolCOIAIwCSBwd9ygUzOHRBy3goyBpcoMZ4NEJARukIl0iAx3gkQ0KWKQkWZICIeDxiVGcpCY3AkI8YuKHmwxlRiaABTyugmuiTGVFGnAGPH7thKqMpUPQhhB/9EuWuGQIODx4kH84YAy5DCZCihGA9PWSgMJMJkFyQTWE/GMGN1CmNE/hwoQM4WfSTKYmUIkQLkwgm8msBMQSYgcCDBGcqVREACiGkEME4GnolGUfArA+hPjQbPGM5R0CcP84hGwNf/mMpRoIgEeBlBCWAQ3lFhZQUAEczmQJFeUV0OhMVkZ0bSgqUUEy+iMBBKejG0nC9BLyDxBeVG21ypGNcCQQVcTgSSgpAgca+g89njRrpmpSqYokqibhAwXBgGlHgDACmvoABjfNGqW4lKUqCYBLUMiDk0A6kDGVaU80cAE44FSEDCTqq3c6FFjH6iexkvWseDIrWtcaJ7Wy9a18gqtc3eTWNlHKUk0dSKRKwYLjCJUjNDifQs5wtKRGLafQQqwZHiCB8DxgEih5wQ0aKgBt9dOwSUsprVZakL9uxAU9oKwSMQs1ZCkrN8YyLUg9q5ERWFIhorAhaRW5gQL/KqSFCZytIC3gBMqyo5i6FSQEHKgQfxiAaMHdowJaqZB/NDC5ezTAGyj7jxIMAbp07Bd1a1AD7Laxg3+gbgy9W8bfHoK6WKgAecsoDhMy5A0IWC8ZC7ZFhWBSvlxs4QsX8kl24reJp+zaQgL834r5L3DPgx5lKRLbGypkalUr8MDeh2D5KXjBE+HEOBfSwTFKOF/gUzAAAUi+jFAiANRgyD8q+GGBeQ56MKaw6H5nN3PMjl7Ky3HtdMzj4iGvx0DG3Y+DTOTjFfnIshsykpcsvNzB+H+Qk/FG7ruQf6QACC3WV4ghR2LSdURb53xbIbOs5fhVmHwlxkg5MfyP65EZ/8QJBh2aMSwRSLL5Czp8swzPyOZyhlnPC8TC6hriTngCeoNIyACdNYzPQ2vwCB+g8z8dLUIgnODPBGkvQimtwB64gM7g5bQGb/ACOv/DoqKW4AxoYGqTpnqBMOCBqWFQrVcrMAWy9kgPkGpr/pWACJgeDhI4EOxer+0CRTD1GRZg7P1VIAmmtmyz2ReBK9BZACdO8bS714AtXLuGVNy25hCghmILpGAHE7fmCKCGay/Nw+pemz8CcAdzT2+58V5cB+9w7TjuLd98+20f+r0CxQFcbe0duEP+sQNeH3xsxhjAIvo97IerrYWNeMg/CGvxsW2tEhqXdsexdkpNaHy0I/+PWmxPcVmGgDvlUXvYKSAijADUF+ZB+2Qu7D0ypuE8aUfMBURWbMGfB82dxRg6vYwetCeCY+gq+AHTgaatcgxdBzKYes7KaXWNV1zrMZsDArq+8GWDPWaEJbtHMHZ2lOFZ7Sq+xDrbfrL0wr3KBKZ7xxCJOoiU0BF675gd774QW/or8A/i6EZHpNHcYCAELGAeR4SQAsI3d2eIf5BmB6JZXAngESHoCCAtT1LrZr5BiFUST081EECQoCM5mAHpncnd0zNoqZLCvUCC8IAHUFUgVtVTYOv6JiJsYK6FIj7y16r85Z+1+c4fK/Sjn6jpUx9R1r9r7p2KV4EAglMbaeT/7A/iD5DZfkGp3ymToCWQAow/Ii34wfvflrCWn99AmxdISt8Rmc8/gOcNcQJDMH+Bg3L3dyCqJRDFcizCghvEYAKPF3kdQUAEOBwvd4DxojcVuBkFE2EYiC70soECEWofmC47I4LTg0ElmC6shIIlFUIrGC4KwAYuKAPRFIPgclwuOF44iC394oJ41oMBcmAXNj8ChBHg1XdDV39C+B9SZmGAMz8csTSE4IIn5l9NqB9bNmIClGYV4S6OoIQal3dZqIXSA2UWRmII4Ty5c1BKFjtgyGTE84ZyWGR0WIdBdod42GN6uIc51od+qDyAGDovhoZpqBH05YLGlTZlaIbi/yNiR+iFE6FfKDg9FfBvjZgfT/g+USiJEvFPlVhTtZaJ+HFgciY+R3gRpxRuEfEPQJACpOgpDUYR/+BNsdgpZUOLWHSLUNJftGiAvAgkwDh0ZBiMM1JjtKhpxhgkhABFtOgPQ7OMF8NPtOhcWCCNM5Iw19ZLKyB12BgjdmAA27gdgPSNMWJnFfEPVPBN5vghhDWOb+Nn7egheAaPBYhi89ghb5SOxZiPGOIEM5WOYOiPG2JH9jgcxlV0BIkh13WQciNHC4khP9ACDik/0BSRGGI+FTk9Q1ACGHkh3LWRG1dYH0khM5ADIkllJSkh9mMR/5CLKykhlSSSNZdbMQkhJf9gW+lIMhB1kw7SAUggkr4ETD75IHojlCeAL0XpIA0klA23lA4SAWOwkdPjBOoFlQzCSlT5D/KIlQqCAHOwlcPolQUyNFs5aWSJINp1Ef/wW/CWlgICXlt5akQJlwRChXOZlHZZIHHIlv/gA5mzlwNyUFQ5PTkkmANCX4X5D2yHmADSQpywmIzmmADyT4tZczdHmfsRYIvJL4enmfwBbov5D0sHmvxRNqNpg6bJHz4kDKN5BCCwmvshd9RQmNNTOQAom9hxRHiTEf+AjLopGIp3IoyHG/hgAywSA+x3EYWmEf9wgcF5F/knACmFD5NwHHkQA7mZECrJlu5iTNFZF+n/JwDjOSkUsBFg5pz/oILhWRe6l1dWIikCEARKICZkgicDZSbWFycjwAPXZyj/KVf7GaB/MqAE2icGeqB5kqAKmlZ3on0DAaECYQYoABcaEY62KT9C4JHtSRfjmX5tQAKepxFswFDqiZsdShfTqVkhWomD1QAZOj12s0QpGhcJiFoMmCwOCAAsEgImsBH1uBH/sDX7VaPmsY/OyZNGeh6IFKMfMQH1sqRmQYRRhoqeGBGw6aTP1F1SWhabGD9beBHXpKWI1KVksYVheqUQ4UdC+g9MaKZhUYiHWD1eyIa3o5H/MIiyc0+BCDt62qfB86eA+juCOqi7U6iGKmSJSmR///pkcxo+G1FIMTo9HQincQo6kNiJkwpNk/oPCWmpl3qI/6Op9eMDnfoPIHAEoMo5cWalXRajM8kRH+EDKrCqzJGTp3oGCrCdtgoanSSr/3BEWNirvXEBVDCp01Nz6UasvtGUHeGpBrBGzOobv4SsH3ECWDatvaFG1voP46KtvYE23VpO9geurrGWwHpP5hobcokS//B36wob74as8tMAdRmvpNGXz1pTKYSvpUGY7voPAOOvpaGYAduYBBsa+kWvH1FDApawoGGZKfEP80AAnwmxlrGK9Co/InBdGHsZDbaxH3EEHPCxl4GaE+umA5BJJisZ/SWy/3BKANWykqFEMP+rD9FIs5JRYxsrPyWQrTprGJjUsyObSEFLGGBGtIz5TkdbGNqotKdUpE0bGNrTs/KDs8g1tYFRolYrPykwilprF3zGEh/hBOwYtnbhTV37EXajbWhLF01Ktv8wNYD3tnSBBB6wtk+KiXYbF2PaEh/xA9jUt3HBpnKbMCxLuGShkYAbs9WkuGYRko2rDwaQQZBbFjKwA10LQDLApZc7Ft24ufLzBQvAq59bFAIouh/xSY12ulzhAUHpEh/BDhbrumFxlLL7EStwg7bLFc6au2OAAKbbuzVRrS/xEbH1sMSLFdx6vP+gDwhgucuLFcclugBUAw43vVVheNYrP+WUuNr/ixQd1r0fsTWZGb5HYV7k66kOEKXomxSatr6u6AHvqxTo1r3y407DWr9DAZn4O7s5y78CMZwDMZxKEB6/NxESCxNtIwPZy78rylkCAArEwFoUobEy8REJU0/8+6Grp1NTpREhm8Fz63MC/J6T4lRMFcL2eVVy0ggDcApnwqB98gE0EH003KBzksM63FY9TFY8/MNtEsRCrCbZx33bp1eSYsETQZv4C0BnYADgq71L4qkgXMWn8hESsBE8OxPlazACLBFqChFD68WeWgEeW7//oFoiUyxr3IAiYwQP4BfniRFJa8b/8AUIMMXLK6d+3FB2Kjtr1jaI+jstdF5yWMiL/7pji8yHjezIj/yHkaxjjYqGf0yiCjDG+2plM8C/aIqphmgRfPbEkJMwNIq+XyqqmswQgkbK0GMOBMCI72uKrtplGRG3NdE2OSACYRwUBmkTbXNEDtbLMgEEKuDK0KMPDQCDxCwTWIfMkPMFBmBozewSkhsUH0ENA5C11ewStAbNkNMDFTC83QwRsYrNyAvG5dwSBATOcuMPJdDJ68wSuCsUbfNErTvPHPG79kyxEQC0+twR9urOkGMHA5DPAY0RFUTQcjMPDZDGCa0RZlkUbTMHA7C/EU0R7UoUbTMPC6CqGY0R6msUbcMGBABEIV0RAEvRs+sAYJvSElGTDK1gT/8ktTANEQtM0p56AiBQrjftcgGwCjOtYDXUkz/dECiLFG0DBAvAwUfNENk21ApGDQiglE/NEF3cPx+hLZt21QbxRPog1QjmDzXQAL3p1QghRGKtYNuwADpAzvoMX6uMx+5k1GhdNCGz1gjmrQSgvHctEK2s1wo2DyngAKf818M21zeRzQ6QAnz81B0p2PDznATwA3BdzUcl2ZN9CAOABJdNzNecFW2jLV/w13lkqgZBD+HgDNCgDvtwFCUdANKK1tZFP+lwDM5ADuGQDMywDrD9EV8QAF/w2fxbzwKRDcegDjCSD+MgAOHw2iz9D2wQAEfg0ym9M3RjD8eQDuMDD8n/0Az3oNOMOQA98NgR3byiAg3O0A/bcQ/KwAz0IN6OQAAlgNI3PdECAA/H4A0JsQ/PcAzyIN6rMAELcL4RPb4CwA/NgA2zxw/jcAy+Hd3mMAPCbd3z3JfqcAz1wBD+cA7bTdx++bxjQAAdwIoJbbDNMA505g8ZPg7sHd2r0AEDMAbm3cyWeQ/HAA/91g7JgA37AOIu+RH68AUEEAGEAOSQK5rrcAzQvXD0wAzKsOHi3Qs3EAAnYNPd3Jr/EA7QAI//cA/OkAztoNQfEQolEAAtwAlI/rY1xg/JoA72+A8Ofgzj0OQs7Q+SIAIBoAKSYOHva1nyoOHVyOPKQA9rHuT+/0AJKRAAE8AGZx3GVXsOyEDOX/7fda7VMQsEBEAAOaAINd67Z+QPykAOcO2p68AMvc0PSvER4jAHHhAAH40Jfu66iFQPAD6azH0MzdAOL07m/6AJghYACOADg3DYvduR6ZAMvY4RH1EP3XAMyrAOqr4UnroKYwACARAAHOAEkvDop9twzqDi+2oP4XAMyXAOUk7t70oIQxAB2X4BR/AHszDrUysDTJDjMHsP6cAMuK0O+XAVH2EMg3AEFzAAAWAAKYAEfyAKn96yH1AIyi63/CAPu43b6UAPy07t7BAKb9ADBS8AASAQSGAHmNAL86DZSzkBvFANij0RH7EP8BAO/P+eDN2gDvRg598zD6vQNDdwAQQwEBGQAj6ABXZACauwDf7Q8l2KA8lAD0/8Ef1gD+rQDclwDLoeDuogD/cw7VihD8KwCX/wBZgzAQYvEAQwASdwA0cwBnrgCKEwC9sQ1qm4gsKTFfNgBshA7ysB9fXQDuewDPxu9c3QDeSgDvBAD/mQ8VWhD9RgCpJgB1wgBDMgAg5g8NkuEAgwASIAAzswBFRwBnYwCJLACavQC9vADklfOlp3OllRDMcgC/pw6GLsqflAD+twDuHQDMkgAFZ/DMzgDNgQDueQDuvQDvJgD/WQD/wg+xnhD+bQC6IgCX/wBlpwBD0gAyVwAQ1AANn/3v0hLwAG4AAV0AEpAAM34ANDgARUMAZsMAd/MAiHIAmYEAqmoAm90AvUcPrzkPq6s14A8U/gP3+9wAlAmFDhQoYNHT6EuBCVrmL+Il7EmJHhQH/76slrp45cOGzNmC08ljIZs2bQnnULN44cuXTp1KnT1q4dPHnyBNCzZ69evXsC8iHcJ4CfRqYN54nrtSqUJEJ/3oyhgkTIjhkwTnCo4GCBgQBlzZ41i3CAAQQLHEyocMFDiRMqYMiYcSNHjx9ChhxBgsQJFS1fxpw5w+bNHDt69Pz5M2gQoUOOHEmSROnSJUyYNn0OFVrUaFOlV51eNUv1rF6tWwsTdsqYMWq0/6ltwy1OnDne7Hz7nhc8uD7ixP35G5hc+XLmzZs3hR5d+nTq1a1r/DdPlJ4jKchquh7+IaQ2/f6JR79RwHGEHPnlq0dPHrx16tKdIzcuXLdlzpwpY4aZZNITABlllBGgmWYQ8k8AaB5ECBsBsJEQm24uvDAcAcLhUEMNBRgHxHFGJBHEhKoRYBgVh2EFF1xYYQUVUmYkxRIbbyykEEtyLMQPH33EI0g84CCSyDKORDILJbOookknn6zCCimntGIKK6/E0sootuTyCS+f2PJLMcd8ogkzz0TzzCXWZHMJNKWAM045peiCzi7uxDPPLsDgs08+xQA0UEDJILRQMtI4NP8NRRdd1I00HHUjUkknjfRRRSFKQ6FMGXLjITroSKgOUSHaA6E94ii1VAH22KMOVleFNVZVIQpEgEBuxTVXXXettdem9hAjCiuygENHXIKxiED0QGEiHmWfpa4cAdBRqBxgwOFmGnsQ+uabhLwRAFyMrhGAHGsEqAZFEKUZRxoBpNEwmnCiiUaAeiekkMJn9l2m32Wg+fffByGExkEG/UO4GYT9W7BhhxWEGGJlmjmQ4gMvxjjjiw1EpmOPPwbZF2REJnnkkX1BOWWVU+ZFZQF8eTlmmBnipWabb8Y5Z513tlkXXnQBOmihhyZ6aAGM1uVoaJNWmmkCY4lFAKgVssVGFoSsXqhqAbReqBavvwY7bLHDlg5qV84+WxeUK1bYm4Ogva6ffuCmOzyBjjuPPQEIeui8uv8GPHDBBye8cMMPV0ifvTMKCAAh+QQFyAACACwFAAUATwJuAQAI/wAFCBxIsKDBgwgTKlzIsKHDhxAjSpxIsaLFixgzatzIsSELACBDghTUsaTJkyhTqlzJsqXLlzBjyoQJyIvNmyCnzdzJs6fPn0CDCh1KNOa/o/8EPgJgw1/Rp1CjSp1KtapVoEgHxgDw6KrXr2DDih1L1ijSf8QAPMBXtq3bt3DjyoV69p8ZAVCSzt3Lt6/fv4APnvUnAQCwo4ETK17MuDFWxJkAsMjquLLly5gzN8waBIAgyppDix5Nei7ScgUS4POHuLTr17BjF0WaB4ARAWdl697Nu3dJpCEAqMrtu7jx48gN/ksFIETd5NCjS39tBACffq2na9/OnbE/p93Di/8fT768+fPo06tfz769+/fw48ufT78+dGAoKJh4VRC/fv4C4GMEBRgEAZ59CCYIHQuACJAICgUx6CCEAiihRD8C6KTghhzyxo1qAvjDQDADfciWiMG8k8A7HbboImypYDCQCaAMFOOMoLwiARQksJAJQijEwEc5RBZp5JFHAoPkkkw26eSTUEbppJJSVmnllVgmmeWWXHZpJJVehikmlGCOaeaZ5ZSJ5ppequnkjQKRUKNAcAogJ3MkqcIAOC/26WdlJoY4YokgoggOABgKYIInfzbqKGAM/vNghIBISmEMk/wTDAMaPurpp27tkh8JAMaQigCiUkCqQMGwgEEIXYH/KuusX2UFmq2IZUfrrrxGld2veuGW1HMHDVfXscieluyyzDbr7LPQLltOtNRWa+21/0yL7bbccqttt+CG6+y34paLrCrRGXtrsMDiJmywvcYrL0+4spurrrqedJQxmMzr77/CBkzQvQLna9JRSAwwC8AM80rsvfWCpu9RMgTQwoENZ6xxS0hFcEIAjmws8sgTsyPAIBc4QfLKLF901CoCmFJDDS3XbLNDRw0SADtIXHDzz0APfNQXDvxjBwH6BK20zUjtAMM/lARgzNJUr4wUB0j800sAnFTt9cZH6UOAHf/oE8AfX6fN8FHbBCDJURNgofbc8x41SwCiHAWDDnT3/+3wP6IE0MtRR4Dg9+GyHiVJANscxQYCGCMueZ9H/RGAPkc5wvjknL+I1BsICLtKAKZ0bjqHSGkxgbDUBEDJ6bAjiNQRIghrNtqx5y4fUjnI8G4DY+gu/HtIweCDQEd5cMTwzK+HVAdIIP/PDDc0b/15iEXwhfRCnHD99+MhZsAc0qsO/vncHTVPAINIf3Tk6Mdv3FGtvy6s5ubIr/9xdpMufeAL258AeXOUUAhOelvbxAAXKJvMBUAc0ltf+xhIwdJU7nIDOQoC3lDBDoYGKWdYgNBS5sESXgYpWFhdBv+xguOZ8IWMQQoSOiC0HsAAhjhMDFKEkAKhOcFnOQxiX/+a5rsVhlCISDTNUagnNMslLYlQbAtSVvADoS0OglHMoliQIoLlrRCAWgxjrZJCwhVuLRRiTGNVshe8gYkDZGqMo6+SssGClG0AepCjHolyFH/g0Y7/WMAZ9kjIx0gQkGUspCJncpQ3hkxoKwDCIidpFmMEoF9Cu8EMKMlJjv3jbqIA5BC818kk+mc//ckPKgUgAQqEIASJgF9GjmKKAMBMaOYrJRIlNCmC8JJCEgAQSo7CiQMKbQ6h02UQA4UiQp1oUMFUieI2JzSdzUOZOawTjWwkI4FsUwIhwIARuAEkIW2JSn0IQDGWpIgA5IJN8GSSm+JJzyjNs574lGc+9/n/pHvyc5/+/Gc+A3qkOsmJmwM5KDECBIUYmERbTlROLW+JzRcyc1ACuSiJBjKNAzz0KHYwgGCEEQAFVhSGv6TUhATwDnQIpA0s+Og/ztAAwbAjAIc4KQxTtSoBmApVo+JPMMKJARtstCPaSqFg/DE2nTpVItpCAgcE8w8HtPGpWGWItrpHVehl9asK0ZYNqWo8sJrVINpionL+MdazulUA2mqBCwFJu7e6dVoCKIEXAckFFdoVrHhN5DFF+lfAJkV7CPmHzp5Y2PMRa4USk9hG8CrIxEaNGo1FH8GEJrB3wWuySRlfYsGY2e/VC7Lv8uxnNTItP+ZRMGcsrWnttcLa/27WIOq61rRut6w3vs1cwB1XcIcbLnIR97jVMi5ylytc5jq3Wcp9rnSVRa3aSg+yt+XItG6aU8HcTrbXO630hrWskkzLt4n9hwLYAN7wkheQnb2uef9hSUyuNW7ttd7DyCtZg2VkWrGlagmGkN+KTmt0paPqDHJQYGxOa6Lp9UELGqzMaRmwF+mVKoV1OS1MSC0h/xiDAzZcymktbhsgPhqJOzmtQ+wMxNZc8SSzpVgMJvYSH5axImmshwDIEnkQ1nEhaaxiECdQyEOeFhtECGJzwBHJe6SxiBXyD9dCOcrTUiqIAznIK8uRxj+k8j8E62Ux0riuWz6BEMocRxrzcP8h/5gZm9VI47aCGAg9nLOZp6VJOIdZz2Gk8YLhTFNAB7ocAmhBFamshwH82NA4zJYATkBgKrs4f5CGoqS9SuVNGDPTSJQ0mZWDYFAnUdIT4AKcLXkJU4ca0Q3oMogP6eog0riOYm5qrXMoaV1vGbG7jnQ5vgtnTgf7hdmiNZXLemxkl8PJj6Ry75rt7Pox5B9oprYHs0VSk1I5l9ruYLZAee03EDbcFczW6CgK4oiim2SnFKZA4k0QLwBA3hrJFmmpvDjMvntkKfVlg3opAFXEIJodyVYxMQznff87Yxp1pqBIhA8UBAPhHMkWjqcG5wA/PGPanJMAQo6XPLAS3wP/CdKQsgSMPgzgnVDKxQD6gA6BiomgNo8nznPOpp3zHE0+//mYgi70m1fJoCJHeilY4BSM5ztbLjYZQ4j98YZFPKOFGpEZHiCBwjxgEhnPVoyvrQBZV51hAR9I2gXi9Flmy3KPHlgFqHD2jPG0VKe6e0HajpGjlKPI16Z03eXnd3PjTK2Dd2y2jriZNyde8eX4QgRw5oQKPB7yWr72ki8PPr//+dru5nzz/F44nJ1Y9PrN1ihx5nDU687vP1jBQzzu+tdnSwdFbAi0az88v8vZIVbmve0FIAMG4wx4wh++XB+SlOglP3aIUTPzl/982CGmi8zHffWtT0aV4az02zcd/2LmznzJh1/8h90ezt53fs4hJtbMJ8SL2++nx463NfZ3uwBw7RAPC4P+9fdenIV/8rURiOFrDVFqAOgi4pVakbVaLpMUAfBaDsFqC8iAtFWA+CdZA5Fb1gIO7EMtEjRdxUWCJkhdJ0iC0ZWCy7WCLEhcLviCwxWDyGJdnYUvEGgRR1EMOMV8/yBaF9ghDdiABeh2ufBkOINfQSiEAmhbAsiBOvgPR2g/ODNgS8iElAExWuhfUXgKJQUR01M9V6g2R+GFocR8jjeGX3MUmuA/zEcFlqeGa/gPlWBLEQE6cjiHdchwDzF2ebg0R9EIOfYQG/eHVHMU7YRiELFuhgiI//+QTpj2EBbYiECDFOl0TRChbJTINEdxBzbGfPy3iTWDFGpAABLxD+Qnipz4D2pwbsyXAmumiqN4FFvAZGDYZ7LYMkixBTUlEdmWiySDFEngVxDxBcQIjCIjjHEYEeyHjCODFEUwVRIRdc74jEdBBB4wEZ7Gh9WYMX3EA3kWEQtzht3ojUfBAxMmESgmCeWoMUhBA5skEUmDO+24NkdBAzRzivBXj/b4Dy7ANxOBNfxojwLgAnMVEdQ3kN1BbwTBkDHwKiyALgaYFCMQixJhZwq5HWsnAAHnUgLwCCEQdgLwAXsVERqWkdtxdQKgkgIACCQgkhngfBIRQjmIksZBcnT/0k2KMidB8AAPgHICoXJbAgFJsCV3IADgUHRVQnRK2SVM2ZTnBJX49JRSaSVUWZVLeXQ6eVA5mVAi15IONZECAAHqJxGtxnE2GR0qyZICUACI9nQCgHwTATMJlpbRsZEp9Q4a8ggPEHcRgRgIwF4T0TbsaJfRoXc+lXdBJQDEYAIQKZFwCYTy+EeGSSuIQZkTYVWVaZllczYVgX2bmTj/oIkR8Xuh+SlHsXsUMQQlUJOniYGEWRGS55qvyYT1VRGN5pe1uSFHQXsRoTlYtJt/0j/kKBG1FEDCGYCMSBEkZV/J6Tn/cJwVQZrPyYQXZhGVVZ3Q6WFoOREpQ5vaOR9H/xE1ikgRMNAD4Bme8eFAkTgRsZee6kk8/yB/mEgRcAif8ckeSBF6EzEHBoCf+akeSNFoF0GNASo7IGWKFtF6B7o7R4GHFnGbDVofIKQAF8FbE0ofSPEFEIARVgWgGRo+R5F5FaFmIBqi4YEUTmABGIF7J4qi6YMwG4ARP/SiMKodSDEEI4AR/qmbNyqi/4BnPqoQ+POj7oEUPeACGDFRNmqkyYEUN/ACGFE/TeqkYJF/z3EsEzk9NIAR+oBHVWqlXpFdAQMxqeV2/wADPDCkCjEBWhCmYrpGZjpeZ1qEEfgPKcADGZECPwCncToV7aKB8MKFHkgtJQAE2NEtEiaDzf/FqMxFg44qLpAaqeAyqZS6LZZ6qdiSqYF6g/bip9fVAUWQEVQwAaD6p3Qxpw64gacaMBcwqhjxPq2KqnzUhNfFqgmXFBOQBBlxYrNKq0KxX6qlWqeaPVeQEQj2q8D6QUmxAFuQEY6krMuaGYCpBhnhDwbwBtI6rSeUFARgrRmBNdvKrZXRRwFwB2yqEDUwA+NKro0RNueqET3Dhe46P/9wU32gEbJar9PRSAGQr70aANTQrvwaGPQTAIqgEaBEsAX7F0dBUo2gETc1CAzbsEOkNQFQCRsBPBVrsXvRP5qwESbasR4bFy8TACGrEYtKsiX7FkcROKeQrgqhBRFAry3/+xQMORD0hg824EoxcFR99w/FdAob4UQse7MXgZcDByH4MAlOkQcxILNb5mG5ILUIsY1Hi7QUsZZZB7SpQAETuTi5sBHNmbVaKxE4OXI6uU0DEQRKUE4rZyXptAtmAg4DcAdJiZVporfwdJV8209/uyZ+G7hLMriEiyRBh3QIFSciZwYowCJPpzPFwBETQAU2e7Y/wbXPtFFtQAIeiaaWwycbsTeXi7k+obQrJQCd+5ZP9w8EyhFHwAGla7o8gZg/pXdp4UohYAKtG1IdcTSYQ7uvgRSbxxE4JgxmK7yAehSFxhEkdQmzq7yLsaHHiBFMRTbJK71PgRRwWBIdcATR/6u9BnsUTiCNHLEDLRC+4uuwhFM7HUE06ru+F/sPq9cROsMO8Su/SvQPP5COHFFLppC/+muyR7EDubcREyvAA+yyR2GaHOEAX6DACyxFSwSQHUG62TvB9HIUimYSsQuFGuwX0Vdpv4s0EhzCYYEYICCTHOFhg5PBKAwTiDFqGdE2jnDCMTymuqoFJ9EAEQzDOexJAqCZJiEDNQDCQQwXiLEAglkSpYrESewW4kM+JqEz5oDDUSwVl0mBHXE3oYDFWZyqVNcRYoO9QBzGvzGaPXgSIjAEUIzGKfwPjoQSQtCaYAzHwfoPrdNqJwG8d4zHj9FtKGFAs/DGgGwVxIkSTv9GCIZ8yFRxsuxWEpXbyI6sxYATAMhpEjcwYX9cyYz0D9eJEuaGOZ3syTL8D4WIEoGzCpRsyrV6RSkxD2PTyq6cxwaKEidQRaVcyyuBFIulEk6wOrTMyz0xoI6mEi7WOLtMzBNjNK54Epb0W2fMzHDmOBaqEv7gAHKzzNScqzM1YiuhA7I3zN18yv/QVyzhn6Q8zWeLpcRBHEH7D5+XEgAcX+W8Vva8WfB8pzPEEvpgAINEzpU8hKp6xzlKSitRAzck0I7cqQ5dk4X6LECwAjS2XHNAAPMgg5yqqcnF0TDo0TMI0sC10SLdqNBigw/dugbcEnejQAwNyATNXzZ4pw7/nBL+0ADbzM0oTKbZZdAU0wMu4QMlUKf3LDRZyF+sCsZIAYsuYTn589JFfTBJAZosYUkhA9VRnasCQMMoUQFepNManLPzpkoAogSFAZQTgRip9hJHMAFOgdVhjLq9BArEwHcU8X5mtxI4BjNwHcWaO3EDYddpHVpU3BL6gABtBNYDnLZpK9gCIJRWMgByAA6GayU8kAE/V9mHWySavdl769lh0tmHK9qjrZVeubh2InKO/ZedSY8toTkY1tdB/NfNxHZofYr3ioQtIcuCKds5LNcUYttPZ20wcQOk5NsxbLuKqSoAYgQPAAAMALZBK8gwoTMch9xZjdvkBhPmoGvY/53dYBiddhgTNTDURA3eL1FAn/YSi3NL343e1/YP3CkT+uAAzvfe8C1mwDkTWoAAmIjf+U1V9DkTWzNBAB7ggAR3OwEDskenCJ4SSAF4MiF/DHfgD0681zwT87AAe2XhAY4UU8YTZ0AAiujh+c29yzgT5mAAPOzgD57G/3CSPEEFCCB1+/zirVu/PEENBNDEJg7eSCFhPzEEDlCfP57VSFHTBD4AHOTiOI6mCdkTSIAAwXnkRY0UVvgT4oAAHW7l5YwUXC0Tb6Aw2PXkQSsAwPYT81AB8ejkZj7Y+9fkQKE50Xbebx7ewQcU/pADC+BvnnXng02dPSEODVADB3LjgP8e3+g1FFHj2oie6FtG3UMxBAbAjY8O6Wt1N3VZEPxgtRJ7ARfQnl7uyi+LyUIjD89wDMwwDvlA4AsAA4xl55gOSPMtPetwDM+wDufADMnQDjMRCgRwBBhz6bPuQFg0LfRwDOfAD0exD+NwDOng6RdhOVd1f7NOVb+cLfvADN1w6P6gDsdADokCE2cQAHlN7Il+FHpgin6XDsnQ6kLTDuE+7i8xBuYOSIpN6v+weUfBDclwDlQl7+cg7RZh718w7KOOxqljqkeRDe+eWP5w6+pA8BXBBgGgA/U5rMXevn2kDOFAZf6QDsewDjPhCAYgAt2Zf3fOOzJwFMlOD3FXZef/cAy+LhOrEAELUOcaD+hIIVdHMQ7IQO8J4Q/PDg8zIQ43EAA/IOoq/+JXkzX8kAzX8BBET/Mz4Q+DgAARcAgIn/AhjBQfKg/H8A1s2g/PTvIzYQxJvwKRrKU43kezPA7NIBH+QA4CkA7JiwkXMABAYOluj+BHcVOEEPXqMBHffgzjwOwzoQ924AAD4AOZXIMfTl+XJPb1UBHwcAzQcA/JOw96EAEWcwixXhd4hd4nawpyfxH2oAzJAA/5nhD6MAgrEAAN4ASmcOh+h+68fBQunAzpgBH7EA7HEA758PoJMQtI0AABUAFccPsDEV1X/g9/MACWT/EhAg+8rg7Mnr36/7AJQ7AAtC8Eh4BFzELNQxMBcm/9A7EP5HAMyLAOidoT+hAKWMABARAAFoAEg9ALb13+ACFA4ECCBQ0eRJhQ4UKGDR0+hBhR4kSKFS1exJhR40aOHT02/PcPiItk6TzeC3eMmbp8If99jEiNEJEKAQIskEGF0Cx9Ln3+hBlU6FCiRY0eRZpUKUF2SyeGXBHmWD2Y9cgdSyYAHj9/Lp0K8CdQHKYzNSbYJMChxxdCpsx1/Rn361y6de3exZv3IaUFisLqNRhywqdmf2HuW+cMq4B194DWNRfKzhEYDmwGQADiBhI2h0QJmxdXNGDSpU2fRq1XH5UAM3KlFvBvnoJj6v+M3lMH7dgxZePW2eMnF/IqR2yOzOBg4PJNDjB8ODmjx1GoWcbmwRUdEvZ27t29ezeWYsAbw6dDjnpybF/SffDO6d7dLFy6dvTyYfdpl92sTX/YIOmhhQsWGGC5AAhw4IIUZujhCCrGsOOPQygJZZXqzLkuu5e+47BDDz+siK8IROEupDtoIWcufuxZhxxsmNkNK2WeGeccddqRh5579glOw6/8MacXUygZxI4xnBDiBhhEqMAB5QxczoAFIrjAgxNamOGGHoQ4AgkqvjiDDTv0+IMQRyS5ZJNQTLFwllOMoUYcdubRB0Q778RTqdUCqMGc2P4pJ7V/+umklfXw4qf/HnnUSWccaJqBMcbdsmoGGmy6GadGG9VZZ5124IEnR3rssaeee77JJ599eOSnH/yy00gfdqjpZRVRLnFkED3mOOMLJ5AQwoccZoAhhRI4qCCCBhAgoMDLICLAAAUWcCCCCSq4oEoRSjghhRVgkEGGGWq4IYcefPgBCCGGGKJLJJyAlwosuPhijDHOwJeNN+aYww5/9QA4YIED/qPgPwZBmJBDDnHkTEUkoYSSSzDBZBM1QwlFFI1N4XgVj9ucJeReRh5ZGJONQZkalbdhWRyXzYGZHZnnnKdmOvXRp2Z2zBFnG2pQHjlkkEUmeeQ3UU555ZZfjnlmm23GOWp/ps5T/6/wBpgDu37ASQ2YTpIBpTzT+MmnHnrkaWeddM4hJ5xwsIHGGWWYSSYZSe/ebaG6k2Gmb2SQUSbwZgZ3pnBnoEEccbixeQabSy/tJvJwunG7cssFGAdzzDPNVPODqpFGmmFG/wUX0wVghRVUUDGIFIIssaQQSwQqpHbb/cA99zzw2B0P3+HAAw7hhy8DjjKORz6LMrJgvnnnn2e+Cumnp36KKazAPnvts7e+e+ujAD/8J8Ynv3zzz28iffXXZ9/88N+HX/zxwT+//vLZx3/9Jfbfn30p/gdgAP/XBSkQsAsHRGACFQgGBjbQgWIQAxggOMEJksGCF7RgGjS4QQ52MP8NbtAgCEXoBhKW0IQljAMJ47BCFraQhXSAYQxh2AU44CIccVOG3b6Rmkx0Yg3b4FrVCMINbtTjG0f8hjeUKIt2pG0d2niiNqSYDW1kw4rXuIY1yGGNanSxGuMA3ThCJ41wSCMaZzxjN9DoODY+w41uXEYclwGNOc4xcdAQAB7xWJDCCaCPF3EGQZohgMERspCDJKRClCGAwDXSkY+EZCQBN8m/VdKSl/ybAJChSU5u0pO+AGUoRTlKUpZylAXhhQB4YUpWttKVr+RFLGU5S1rW0pa3rKUueKFLXfTSl78EZjCFOUxiFlMXrjhmMoFpC2Y205nPhOYzdaEMZzwjGuMmuAYVX4EO8+CMakIsyDe/KQB0RC1q2gHLn/IDTna2053vBAlEAgIAIfkEBcgAAgAsBQAFAE8CbgEACP8ABQgcSLCgwYMIEypcyLChw4cQI0qcSLGixYsYM2rcyLHhP3ReMBxgQCIPPn8dU6pcybKly5cwY8qcSbOmTZroKABgAcUIBQEsUN4cSrSo0aNIkypdypRmGwBKBuIzAQBU06tYs2rdyrWrV6RGAGQa+M8LgERf06pdy7at27c08wCAgvLf1ALT4Ordy7ev379X31HlqYQCg0eAEytezLix44TvggCYLEAJuMeYM2vezDkpOBQUJqHjxucAhXKdU6tezbq1Q8mv/P2bzQeAF9e4c+verTgBA9mz/+0CYKMf7+PIkytveqDAydkCQBFfTr269esqY9gOjk97Huzgw4v/H29QVQIAJpT4BEDiJPn38OPzBhZEQoECGMy8k8+/v3/O0P0n4IAEFmjggQgmqOCCDDbo4IMQRijhhBRWaOF7wQVIVoYCZajhhSCGSB50HwpA4j8dkijiiixeF5yJGr7oIYot1mgjcjHSCOOGMyKkyoxABvlPOUIWaeSRSCap5GxELunkk1Aq2WSUVFZJ5ZRWZqmlkVhu6eWXXX4pZpZhGrnhmSnKWOKNbLaZmZo6wvnijm7WaWdjJxaU545z3unnn3t5mCKMcwoK6KGIJqrooow26uijkEYqKaCUCDXppZgWFUAN5mTq6acxqeCBAV+AauqpHPmDwBk1zIDqq7BO/2SMAJRw4UCsuOaqkCQCGONIANvoKuywZyzgjzABXDLssrj2sIIA/ihwBrPUonoBEia2kEO13PoHDGgmvFLQtxSEK5AEFIQQQiKWrjTPAHqY6MQE3dYbHwuACJAICgXhqy+/AkggbkzIYmLiIAF0au/C4HGTAD7QMhDMQA5D7I/EAQ8MkykCrCLQKgFwzPDI1aWCwUAmWCWQyShbJUEIGBjBDUIoxMBHOTjnrPPOOwOjsyIC5IJzLgP0wfPRSCet9NJML+1z01BHLfXUSj9N9dVYZ82z1Vp37TXUXH8tNtKewOdJziwLRILKAqQtwNoCECMAPlDE8NIfAugjkD8GvP9B8t/KVRzxxAIJfjHhAk1zwEvF0vjPBU4ALvlx/u7bb76Wv4OOQG2w8JITFzg+ww2Tl57bLqCRMHAMqQiAOgWqCxAMzBjYgDhLPrRA1hAlmO57izLoQFaxvxcfIgfYdojwPMY3T2EDYxAUSgC9OG/9g/7AS1DB13e/oDgBOEKQPgHg7f35Bs4SgCgE/RNBqejHLyAn1LefAhDy59/fIQKw037u+gsgfOxAgHb9Awv0EqACw/OFCOjIRARs1wInqBwkeOCB//iVOCjIQeXkDoOiCMAsOkhC3ozugQLgXglX6JoUCMEg8wjAIFhIw9VAziD/QAAbashDzjggenq6YQ//h/gYAtgBhzDoARGXuJgYzlBPPngWE6fol20EgFd6ckIFqMjFvfQiAKHA4RsM0MUyusUUIsQhIQLgPzO68SuXCMCs9ES/6r3xjltZI/P09MUw4vGPV9HDACRoInYEgH+ATKRSGncQvs1BkZA8ChUqgMIOTYAKkczkUHhXSROp4AeaDCVNdCCDTv5jBzAQpSphIoMemBIJHVglEw3FowD1aCUlOIIpx3ArWRJxT2eyZSdTUgEsmFKQhPRlCeHEI0LRySULOIMpf6UwZdIwR2jiE4cO8qMrzcYAdhDS9HoxpnIKqUzmTGeS0KnOdp7TnfBEEjvjGc950hOe9rzlM7GJ/6I+pYR8fzBlH61ZQ2amyZnZTIkhEYlDc4SPoAXtJwrzJEyWUCMAlEDIP7IXL4iy0FAnktOaNjLQg8zmhx5NaURAJjKTdiB5Ko3pQkI4Qo0GT6Y4TQgm5JgQFOkup0AlCDV7CrqgGlUAy+sp8Y4KVGT29A8B0BtTccoGBAzTRJIA1lRxysur/oOmW5Up6Lz6xU2ENaZHEIFXF3pWlQJhBV71hxHbmtIbzMCr7oMfXQkaPLzmcq8QdeFVTTQ6wBLUA0gY7D+AoALDWrMCVFBsUR3ryx8qdqmUXaUB5qBYqEo1s6H0RwD0oNisBgu0viOXuQiiWo0JwCyu5YgTFQtW1P+arnIAGwhuB6KKGAhsJeCThGJLalvJGQ5jhXvY4OaGgmD8ViUFU6xDxVdcybktZQO5rlWg8J3nGqRmN7saME4RgEo0bQBqQMfY1su0sLH3vVpzL3znOzX50ve+7cWvfsG23/46LWpug9vKTqY2UJQiKBlbCRpXodh/OGBa1QXccRE3YTM8QAISAMADJqGScS5kNsiLsOR2SxASD8S7HYnjHHv6jySKGHCvi50AWOe61MUWxRzR4If/0YNUvhiQSf0wEjjwY0BCNZl64mWR/0jAwXYogku+IxsU4GQTHSJhUX5jVxnyj03UL8tmRGCV/6E+9oG5jENGcvusiMUzc5H/k1wGqJu7+AMVjPkf0ZwzF3NQSi7/owKR0/MUT+jn+wl6ikm8s10PzcQTCOHOvGP0Ej2gS49wIQKSJiLkqgzBAma6hxPgAqf/scY2fpqGDZCmR7wsjFPXcLOjZqmraQivUV+0zbPuIDjKN2o555qExTjkqPEM4V9zMBdXHLYQje0pWqbpQ/7cyCkGgIlhf5LZnwLmoHI0UoyQVxTDzoGrsI0pgzpTpCrRRAAY7JF/pJXc5Y6TvIMpUR9VqRIiXFID77mlfPI7nf7+dzkDLnAxEbzg/UY4vw8+70E9u94paUQAhDFsKMNbUuYWqbM1oghgcdrKbLz4pLStTT19PCJ9/2Djx7v8ZZFDCqQSjXa3L3KHAOzRI2V2uf7kMMiH/IPNOpefP9RggJP/w9dBR98WFmB0Yic9fldwQNOX/fTuJWECTV+BD6p+viKEzuf/ICXXvUeEDjR9yGPvHg9S0PQzNCDt1+MBXMHuWbg7jwZ9dshsTGv35tGgBic30YL7bjwX6CDw/1Ah4X2Xgh8g3omL/90IhoD4HPot8qbbQGIhMhvIYt50FnBC5VWAv89PbgJaqDyfTT856FUe7awHnLQqP4a3x/5vsOb8PwT52dsvrNa657vvFwbQytd2+PWKISECbyJkmRX59Zou8/8Beeh366KUmP4/+mb9bkU3Ip3HZP/3L9TacYFrdRgIAQtUkZI+at/Q47eQiQVC4s0J4BEhSAlLtb/o+FNowhSjXIdDEIBAAimxYNp3BCDgfxSiXdlFYAKAXQIQBA/wALE1EOB1Nfh2ClizBQ3gX15jXyDYXyI4gvpVgiZ4XyiYgvC1giz4Xi6IMwHGNjNIgHbTEaymfXXHgBECgMllMcg1EAWAGhxBCQFADdpnhCvGgw8yf0CBOfzyDnlxfw+gZhRBTdona0wIITG2Oq3ThXFjAum3fimhR9oHdFuIK57FfCbCUWmIK4LEhjDyPm8YK3NQdBMxGycwBHUIK1Mmh7PRf314KlsmEbMBS4OIKlowAVbIYm7/l4in4gQWAIj/sIOQ6ClIsAGUqGKX+ClDMAKUqIWdiCk/kAKNqFH/AD7UNYqXsgMuQIlydUSseCk1YCJ5OBuhNouX4ipyCCOOpouT0gI80IuzIW7AKCkpMIwUcYhEdoz9sXEwF20ZIQJEcIqoiFnOGB8ktyeO04sKcQFFQIz/EGTZiCEh1Uz+NHMVUQFJII6sVo7wgU0ORyfbVB5UEgFXYCXup3DyxI/0xHD+6E0B6U4AOZBOUpAGuSQMl03yOI8b0QBbII6GRAjwaI4xh44loo4TgQBqYI0mNRvSUpHm+EzbBnHSeBEEoAbi+A8hJpLjAXOEElInaRGidQceiUOz/1FYLnko5HMH3jgbkbaTgGJIffCT/1B7Qgko4FOUFTEblpiUdWIMA6AIRrlTrQaVdvJFjWCU6uNHWOkm6lMJRjmRX1knIKMJRml5ZekmaHQKvQd+IAZTa2kj03MKaamTc2kjO5ULN4mT/xCUeVkjWZUL3ggjShaYNfIrxVCYThlViNkiCLOYFjEbO7WEjwkiUEUkk0lm63OZKyJImtmU/0CWnhkidxiay4gieVaaIFIsRCia/yACR8CaIMJLr5ma/3ADMkCbF7KIt3mL/zBZvEkhoPObhjgbFjecEmJBxnmcWUUNyjkhQ3ACzQmXORedEfJW1al7pImdD9IDMrCdYP8nAKvpnQ5iV+Kpd7Mhm+b5IDOQA6iJm6vXng3SAj6Qnu0WnFtEnwziQvjpZ/+QnPyJILL5nzv2D885oAoCOfGZmtepoAdSTAa6Y90JoQXyPg16i+RZbBZKIKk2oQoBHSLAhx1aIAjwBiDKYmHnYyXqF+XHWuc3NzaQLjFwOxlhRCmKiv+gBZjWon7hhLuFD5OAEnkQA325EKL1Bzn6kZVocz7KFz4oAFHaNj+xEU60pH55fE/6Fg44YC1DEEEQFQeRgVITbH0Qg1CDbH2gXi+INGjapl/zpnDaNXI6p1lTp3ZKNXiap/UFYBAoYG3zp2xjBiiwHxvBZliKk6qyQ1v/ChdR6oNtQAL2txHGEACYkKEaOqKNqhdACoWcQwKJmhB9FKrtgyI98FOb6hZgOGNfaGNxAwDpEgImwBFlRqo88gW9lKrvATKrYKtpQo66Kh405auEEkIeE6zjUUfEGhyqiKzjoWLECiPRwqHOeh1ZJQ7RCh0l8ELVCh5Xxg7ZiiI+0Fjdih0Iow+YqqFIWa5dAY0cok8ZcWThOo4hx65bsY31Zm4Y0WTpepz/IIr2ehUZd44JhRFvYFXzGkPmE7AC23D7hEHD1E1O4nZDUk6AlpAVi7HmhJAaeyQc27FF8rEgCyQiO7IzspDz2JAzSRH7Fq070ioMixUDe5EItRGT/zQkHAEdPBqzMgtx9HZQHTFkhfmRSFWvPLsUMCko8IoRR1ACQ+uXIGNmR7sbQsB2HREc77KwU5sbPgADT2tyKAJoW7sbdvW1pYoiujm2ukFoV4sitqK2uQEDPmC2pSoAa1RNcLsagpUS0BG1edsauUS3PPIuHfW3qsEBose30HEthrsaxSS4B9UDKdC4qhEBYwC5g8IGBvCWlIsZ0YS5O+JlNdW5mpF7iisADvVEpJsZwKe4YRtoq/sYxacSL9ID5Bq7jrFQoPsimnukuMsWwQW6odtyv6sYF3UJwgsdqVu8jPFFnJC8NDIBsMu8gFFm0IsiOyBF1AsYvHq9AtC72/8LGDTlvV5mR+HbFznIEtBhSFp7vnphhEiovjTSASTqvnuBhfKLIkdwAfbLF8sjvM6EMHjbv22xhvmbQhhFwHChBwSgkRcBHf7gAFqgwG8xB1YFwHSSA9pLwWtBsRj8InNAAJzLwV2xbx8MHWjUUiT8FTd7wigyD3O1wmkhtBhMJyogPDL8FZxUwwGCBQ3guzk8FIzlwA8MHV52rEG8FaRUw84Ew4+UxFvBti0xJzKwm1CsFXLLxHSiuTd3xU3haFr8IiDDCV6MFYgVxhDcABNcxk0BWWhMIz7QO2zMFO+jxXQCVQPMxi86EC+qBBl2gRbxuTHxIpW6inP8hP9yOYn/HB3EgGMXYbovMScXUL9z/KgCGISOXBGiRVqD3MPGcsiB+qVeKhASmGA0YzNRUwwDcAc4s6dZo27mNYKuzKf8Rcv0Ncu2/F+5DIO73IJ+OhCAWoPnAsgUIX0y8SL+EAFyWcaWDISIk8kUgX12jFBIEAFAbL+dusjDTFIB8LwzESDTo8JlvAtqMxA0Rs5vMxBG8AACwABVihHqYwrT7Ez6sABYAMr4So8rKxEI+M0BMgQVcM3hO7M1S8QOMU7zPCdGOLperLIOO3MSmyQqxiQCNw8KkHr/aLJgotFeUrIcTdEfbSUe/dEo+7AMSbf46880cgQRMMI5TNB9YtAN8b80/zEnaGQwbJzP0Ea3RzbPDucPHKBEOb1NMtmN+wwRTebTCPUGBJDHoCwTbMB0Sj0n2zAAsvjUNWHCNqEhNyACWG0TY6XUCJVVSPzVMZFWMp2zAaIPEwBKZi0Tb5XWak0jdjAAlvnWLFG2Yo1Q7LAA04vXLCEDOSDXaj0QXGAATg3YHHE/ew2020AA1KrYHQECmzcUfXIEDdDFks0RblwUc9ILVr3ZKmFZnq0hQ7AApibaGnGijd1MAkANBKBXqo0RHNXaQCsAVGAApzXbFzFbRzEn5qAAy8zbE2HMRtEnbDAA5kvcsmKptu3a8zABMCDQxG29SNEnO6W6zB0R/XzdGv/yAwuwQdsdEQidFH0iDgvg1uP9EPD73Gc7EAiTUevtEKXm3rW0NzWwAHc93weBTPZ936g7ASfg0vw9EAdL2JGsIaZAAMNd4ASh1UzRJ3YgQw6OEGHdSPdwD/xwE9vkD0BAADhd4QQxnSXiD+2gDAJwDMlwDvmw1XOiDzNgAOJc4Uv8QP0wDgIQDvJAD+fADMnQDtSNmzQyDyewAMtd4X2lI/6A4+3gOPswDscwDsZR0xpiDhzgAAzt4GCsI+twDE1equ2QDNCwDzXRJ9sAAgogtQ6OPDryDclQDaZkD8zQDC1O5TrCDi1AAPLt4HU8ENLADGSuUfWgDMpwD2U+J/P/kAMDcAZBDsqsLRD1cAzrgFf5oAzMcA+NDpdrzQWbktizXdsCMQ7MMOUslg/OwAz1cOgaQgkLMAEzztvGvA/JkA0aORv7cOr0oOo6IgwnEABOkNq87Xwoog7J8A3Dtg/QkAzyoOs0og9jNAHKwtzd6w/NMA4TOhv8EA6Szuw00gswEAAyUNaibZX/YA/HIA/9ipP9QA7HcA6kfswd7ggXEAA+cOSK/a3/0OPvrp7/0OXYUOd2vtZ/4ACbEgqZTsHI1A/McA6U+A/0wAzMsOzcLhDz8AccEAAiYAfijdeNQw/HYA8CbevdcAzkEOgBj8yYUAMDQAA1MAi7jdU3Ww3K/7Dvx+kP65AMyAAPHA4kAiAOdlACARAAFoAEhwCdoDydCs/wGBEc9zDy2FAPB++vgkINhAAEFhD0FSAEerAKBE7CNVAD8vDxCA62/iAPynAM4ZDqOz8jQkENjoAEIjAAAWAAK+AEgzALXW+/jjYOzSAbGxEcxnH23UAPNA/vGYIlAjAPofAGOjABQU8AJfADZ0AJvZD3xTsBW5AM6hD1PMIP7eAMx6AM6mDoRAHSPM8OoTAH04kAQT8AF1ADTmAHmFD5iPnfDIEAiHAM93C9/kAP45AMxwANo8/5nPdwQtIrm6AHTjADFUAArR8BKwAEX/AHlDAL5kD88UfRWxFD0P/wDGPP7//g+eEA/MowDvAA8KWvJPogDMnPBT6QAg4g949fASqwA05wBn9wCatgDJa/hQDxT+C/cgIMHkSYUOFChg0dKjSm4Vi7fw8tXjQ48B8/eeeaHTuGLJw6efn8YUSZEqFGli0H6jNmypEdKkBgXFgQQKdOBBNOzADiZIyeQ5hM9TKnT+VSpk2dPoUaVepUqlWtXsXakGXWq6PMMOtXketClvk6YksGMhm0cena0cvXb2xKl3VZwjR1adAbKkJqqLjQYMDOnQYicEgxo8cQoXP+HKIUalUvauyUzsWcWfNmzp09c9b42WmkY9rEimbp7548deOeMQMJkpmzbm3/1bWTR69ePn4nRWe0G1ygP3bGVm1y9GfOFyRCbsA4ccGBAcLVCSyIcAFEChk1eAg54oTLmTl6/gxyRGlTKFOThVETZ9n3b/r17d/Hb3Vrfov+PrXa57T7WuKnHnnWSYecbqBRRoDYHmSGmWagwaabcMYh55x00lFHnXXW0aYdeOCRJzd66LHHnnpWvOeefPLZB0Z+ZuxnvqWEw5E4anpZJRRKDvlDDza+oOIIIXqowYUTRLhgggYQIKA6KQkjwIAFGoigggs4EOEEFWDo7oYdfABiiCOOQMIJKg46g4037LDDvPMGOcQRRySh5BJMOAlFFFFMaW+VWWbppVBjDt1m/xtxxCnGHHbmgVQfffzBsVJLL8W0rnIy5ZQ/T6HaTwCCPlXolWPo0EdAUoFjiZ986qFHHnjWUSedc8YZJ5wFoWlGGWSYSSYZix4kttjYgg02wgiRQUYZZ5VpJtpmnKHWGWiuxRYbCp/BpsIKuwHXQgvDIbdccnNFd5xocGWX3WqkqWaYYX7BpV5WUEGFFH0tIcUSfy0pBOBCBvajYD8EwANhhQ8q46AsHq4iYomrsKJii6fAOAqNn+C4Y4+bADnkkJdYImQpTka5C5VXVhmMLsCAWQyZxSCj5jRuxhlnN9Jwo2efe47DjTiGHpoOo42uI2mll1Z6jzqcfvrpPaamuv9qq6+mOhCtt+a6a6+/BjvsrQ3RmmyzAzE7bUPWZrttt9+Gm21G1p7bkLkZuTtvvPfmu2+/97Z77UCmriNoMna5bFWD4NAEnYIUh6ocySenHBhuuKlnmm82/8Ydb77xJnRv2vHmww+1AVEb1VXPpnXXr4GdHGusIaca26sZ591xpOFdmnCkiSZ44YXvtnhsnkH+mWWWXwaa5rGFxlror3VGAGqtr7Z67a03qPqDmhEg2vDHB/8iZARgNn31mfUFmfbf9yV++eePnxdfeME/f/335x9/XXjRRQAFOEACFlCArtCFK2yhC1s00IEPhGAEJRiLWEjQghdsYC00uEEOdtBIgx8EYQhF6EFYjJCEsEBhClW4Qha20IUvhOEKNfjAAJYCHJAT1UBwGBWBAOcgm/JHEHsYxJNUJIiSQiISd7hEJjbRiU/MT0AAACH5BAXIAAIALAUABQBPAm4BAAj/AAUIHEiwoMGDCBMqXMiwocOHECNKnEixosWLGDNq3MjRITEjDwoICELs37+OKFOqXMmypcuXMGPKnEmz5kxgDATEEGADAANgJ20KHUq0qNGjSJMqXTrThoA8/gQmAhAjKNOrWLNq3cq1q1ei7wowiDowhIBgX9OqXcu2rdu3MqcBMGFS4L+efODq3cu3r9+/TMOONWkyBAAogBMrXsy4seODLADkIfwIAAAjZB9r3sy5s2eiqg5QhdLTsJHPqFOrXs3a4b9dNhgUwMCnTevbuHPrZkyYYBABkzLvHk68uPGkhIO+S8Dg3fHn0KNLT/lOX1B8PaFO3869u3eDoBgE/4FiRMJl61a/q1/P/jYxGxIKJGDxyF/69vjz69/Pv7///wAGKOCABBZo4IEIJqjgggw26OCDEEbIFTAoUGDCKwVRaCGGAuBjBAUYBCGchCSWuB0LgAiQCAoFoagiiwIooUQ/Akxj4o04PsdNAvgI4A8DaAm0Y48/BrOcczkmqaRuqWAwkAmgDNTkk6C8IgEUJLCQCUIoxMBHOWCGKeaYYwJD5plopqnmmmy2qaaZbsYp55x0llnnnXjmKSacevbpJ5t8/inooOUESuihehqq5pQCkRClQIwK4GgqAAgigCoMgLPkppx2NqSPQA70aZHgAECjACZ40umqrC7m4ootpv8Iq06TnMWAja3mqitcu1RIAocxpCJArxT8KlAwLGAQwiO7Nuvss9BGK+201FZr7bXY4ojJfdl26+1MA5jC7bfkltuRDAFcMI+57Lab0T8T1ECAHe7Way9E6/5RwhD39uvvQbMIIEoPLYz778HsOhKAOFxEYDDCEHt7xgIC/BHAuhFnXC4QJwgcQMAah9xecveRbJfJLP1zghACbBOAJCLHrF5ddRFEc1A1v+SPAmf4aMAbD8ss9HC99XbySUUH3ZE5AhwiEAhHKD301K3lbLVVNxttkCokd+11cuUk14sAnJikAwxfp6322my3zXbYbsct99x0kwx33XjnrbdJd+//7fffa/cN+OBdq7Ie18kNdLXiSAug9UqmCLCKQFhMIDXVmKOWNNZZ23z5RZcEYIxAFmOc+em43VyQ6jXnvBIhFwsUSgBjo247ayhnrbvrKtlBAFm9BMDJ7cSbOIYDA7ETACHFNx8hEhwQZMAcnztvvX8/rEBQBVRUf/33+P0zww0ErfCD9+Cn/53K/A7UA9rqx//fP9wT5MQF6Muv/3P/LNDzQGxYQP72R8Dh+GMAeiDIIGJXwAZ6xxwBcARBMBEAYTjwgtsJ3iYIMosAiGKAGAxhZ0wRgMkNRBwRBKEIV+gYCo5uIP4ggB5UyMIaJgZ2phNIBL5AQxv6kC++G9G+/3r4wyK6ZQwNMEgNakBEIzoxLfczyBFE0MQnWnErUzTI8ap4xS4u5R/ZM4geBjAiL5rxLf+4wQwMcogAsOOMcITLP2SQA4NsgnZxzCNb/pEClhWkg+LSoyC98g8PIMEg1AgAJbg4yEaqhH5UMIg+AvAHRjrykhv5hwPGcBAEAA2ToETKP6Z3kAlgwZKhTKVE/BGABBrkBENApSpn2ZB5BGAQB6nBDWRJy14iBIUwM4gQUsBLXxpzIMIIwAYNcr9iHpN4GrpQhiokTQFIgAIhCEEiyriRDoriIBNz5jNt9yoYDaScApEAh1pCQpAVxGLWGacRRxUqIfEIVGhR50vuaP9Bg0hiYeKUJ9UiBSUpOUkgBZVACDBgBG5wyUt3gpMiApCLM1UiAKdAlEbRpKiNerRNHf2oSDk60pKuKaQmLSlKUzrSlY4pUo4y6EBiSowOQWEnj1xgDgcSvFAEVKBDo2eQBCBUgkzjACv5xxi5iUJH/BSoQkMnQdD5DnQIpA0sSOocDIAQfSDwqVCNGbGMpRNhjRVDwVgoBmwwVJT843gJ8R9Yw6rHf1QuIRdwwlzpGsd/IKEDCVkBEPbK1zP+Y5gJUSNhC+vFf+xABgkZQgkWy9grio98CMFCBShb2Sf+w3wJYYMCeNdZxv5DBEdICDw5W9of/iOvCVGYOFjbWhv//mOHCZldL2hbWxb2738A8yBveyvCUc4hIYlcJHEZe0BXHsSWgxjuci84yT8oZHrSnW4Dlee0hEyAC9nVLgGBqRCohVe8+jNGADChEBj04LzojV9PFfJY+MY3fYBUyBRJe19a/oOEJkQIFyxn3/7mCmWMe9zjOPIP3Spkq/w18OlU5znHcS7CGPmHCxWywHhKmHibS7CFkZa4lPzjn9tQCIoL/GFOLe5kjLOwjA+COLyFrY3sUJsoPka4Hr/Nx0D+m+CCTGS5DbnISA5ckpf8YyY7+WtHVluMYXw0Cru1wwrpKYtbvKQQH23EXjPxUhUCzC1zWUlWhjHvMHyRf9iB/6sKqa6Zz5yj3JF4wWy2yD8CyBBPzpnOQ3sr8hZiyj8DWmZ2nQBDhnjoUP4jiguhY54bbcZ/ZHEhPiiYoSmdscOmgCHQmzSnLesDGDBki5seNcLSuMaFBDHVqv6X+Oq4ENjlONaC/EcLfMAQF8Ia1/diH0MA/Gtg16uQh1xIMjdRbGO367VOYAh3m+1sc8GLCwxpLrWrTa5/NAC4CmnAGLbNbW/9w5MNyauoy13ceTVEBecjN7uvxUrrMkSx8p53taDbkCGcYN36diAEJcgQKmw23wGPVjmS25BwIjzhzyrHshuyWoj/sBzebIhsH27x7URznQL5OEG8AACQb6Qcq/8oYUN0y/GOS0eq55SVOVURA32ipBw7dqdCvNlyl+vonkUSFdBDhQ8UBMPmHSmHgxmSSEn03OfGIeijBCB1AUAhD9Y0+UC69KU6AWMRFG0TOAJwB5b+yaVm3yja046otbOdUG5/+9nlntK4w3Tqdy8FC6KCdI6UA8UOwe7ToT6cotqTSEAywwMkYJ4H1CrpCmNaQyagBYATvlkwF0jms56ScujUIai1/OV1dVaBBGtYvjJ5309uMW4eRNKDHz2OyjHGh2Ra9LK/3T/KsdWHhDr2uS9ROSb2ECTiPvioKwdcHbJU4CM/QuXQgqIdEnnnP/9B5YD0ymln/es3qBx/fQj/z70vv3JI9iEuczr541eOH6jgIZOc8fq/V44dmPohC2DD8ecfs3IIoAYQUQF61X38ZyDlMD4Q0Uf7V4AaUw67BhFLtIAMGDHlkAJAABH+JoETiDDlgFoQUTkauIH/Ug4ckGwO8QYIEIIi2C/lUD8PoVMEuIL/UQ4RgG0PQQkBQA0xKIP9UQ7iBhHExoO2Uw7o9hDLpoJCyC7l4G4PMW07mIQjUw6tBBExZAdICIXf8g9jZ28PsUlXiIXd8g/FsDwRYUhfCIbY8g+5MAAE9xDudYZoaC1qqEgRUWpwGIfhU2IJ1jp6mEmnoEwR8Xt4aCJpJmOtQ2UM9oehEBFn0AB3/ziIM9M5X6ZgqPQPmhAuEVFxkBghLyZ/fBhhNVY3mlBCc/NPs/VkexNlqLhkqriKSNaKrkhksBiLPjaLtNhjtqiHneg6cPgPF1U7D5Fzj7iJ3OFlI3aMFcZgjVBBERE8ZfOExJgVhcg6OHOG/zBR1BARThiND2JnYHZnC/YufTAA4hARVTiM3Ngq/9AHbiQRO4SO6bgq/3AHAaAPElECUQON8Ugc8xgArqcQ4wOP+7gp/6AGBDARQEBM+jiQuvEPW0AxEmFwAsmQSeKQSSQRbJCCC0mRt/EPVxABE9FhE8mRhJgEFTAROKiDG0mSqvEPRXABE0FC8seS3UYEHjAR6v+1LStJk5/xDzzwaRIBXSPJkxDik9ozEYJHlN0mAJA1EYW2k0q5Gf9AA60mESszlFHJIP/wArQmEREIlVm5EiJHEGMZA8rCAobTEf/gAj1AEZKFlWG5GZsnVVYlAI9gFmo5An4kEQMWjnGpHoZHVEPXVoBAAm71Aak1Ea8Gln+5EVUHKQeFKo8SBA/wAFonEFx3JxZQBHfCjrmADnTnJnEXmolCmi1lmiI1mqhJJ6q5mnNid5EZU5A5U1MnAICAUwwmgBQhjIzZmBkRmIEpEAXgfwwGATYoEUfYm76JEXMpcwLwDrjyCA/wjxThbZw0EUKpnMtpEaVXVqhXLBhCDCb/cJZpmUn/wDMVgQD6p53biUbGVRHqxp7t2RYmIUMVsWtwOZ/+8Q/1VhG3l5/6uR//wG8U0UwAGqD58Q/cVREZ6ZcISpDkRREwKJ8P2hX/oF6XUBH8dKAVuh7/MHEUwXMU2qFa8Q8ZRxEDx6Ek6h3/kHKRQxHnOKIrehX/pXIV8V0qOqPb0WB4VBFXmaM6Gh3/wE8WgW8yGqSilJIWcQQg4KBIyomyZRHGB6RPahz/gGMWsVpHWqVE8Q9YVhE4aAxUyqVE03oWIaJkSoi+cxEQdAhjmqa58Q+9ZxH+8DNOCqcJ8g9noAAYEZ9biqcy8VYQgBEysEtvCqir8Q/SR539//Zvh4qoqfFoFoARcPWokNqTSLABGKGll9og/zAEI4ARFCQMltqpnPEPHMOoDNFBPvWnpppUPeACGKE8hHCnrzo/N/ACGaGetnqr/SE+NJARJdirviqgMMADqsoQAVmqxboYn8UDGXF+zNqsiaEy0EqpSTSt1PoXp1UEyboQpaOt2/ouffiN32hJr1UEGXFHu+WqFTqNJHaMxOoa8JIEGaFl4jquFWGMxjiTGXZbV5AR2emuAbqLnJOMW5M3DbAFgOMAPHSLSgaxTJaLEus3FFuxenOxGFs3GruxdKOxU+aJF8Zg56YGGmGB86qvacGvkpiy9EoAJpsR7uevKrsX8P86Yy7rGqx0B9+6EF8AkvlasxLhjSbTNQw2SXegEeFKsEL7EAMaAH2gESwXtE37Ff8AQVGbERias1VrpS6jCBrhVTNEtV3LFRcaAI2wEdzDtWVLNMFTCRtBRzTbtsXYQXCrEdLKtHR7EC0aAJqwEXs6t3vbFWM5ECKHHdgUA22VYTt2CvaYEW1kDmw7uEXRnC/SIcHxFDHQswzBo6ewEcRGtpR7ePgkdIjXVqlAAQxGQbnAuWSWQqI7uo9JdZFZUAMRBErwUF0nJxP1CoNiAGrgmmHSmsIrmsXbdsd7KMSbvGmyvMxLUm5ydzLVKFNnBiiAJBrxDwqTCxzBAakVu5T/C5yDeVUkUJeZBDvFwBE3AFngS7mWOyttQALEyWAWoykbcVeTO7o20Z2nV3rEAADYFAImwGC1xxFLq7ej62ZwthE7tgr5q789KVodgUJO074QLBR6epEc4T+Ce8G78Q8/ixIpwGsW7ME08Q8GhxJ5i8CD+2gw2RFsYAD2UcImHBMnIQIo8U8qycJ7+6kd0xEa1ME1XDVh1BFiK8RDnKiPlRKw9cBJ7KxqlBI1sEZO/MTVOgNdyRFUoGhVbMXc2gI/kBKlg8RefKrChhINTMZlrBkmAQImyBHsMADW1cVrLEfQphK6Scd17BYmQXkqkQMtgIx7rDmadJ0oMQYLEBU0/zzI/5p/KvFPo7PIjKxn75kS6kUJgjzJUvkPCKQSO9MzeqzJhFRdK7ECbRnKomy2ttRdKYEELyzJqQwR/9BUK/EHA7AusBzLrpFIGaoSJBQ5qKzLNAqiKTEPcpzJwlytJ6oSF3BIwZzMStG3AZYSQlACiAjNgPEPOccSY4TLuYzNBsGjwJgSKbeIzwzORfEPofNCKqEPBsAGyIzOenFiC9MSMIBZ3yzPdoGlLMEFDaDI+SzPXlqPLYGDFnTO+lwTSkVGLYFCzIPQCT0TCvwSzXzNEU2ffOYS1fxlF83Hy9cS3RzPHW21A/YSHbRBED3SLeHCOtMAWmDRKk1ISHCTL//RAz+c0qKMYFVWjV/owzBhMUyD05p8s5/ISGB0lC6RTMEU0J3KsncWsv+qA035EhOQbEI9yAYbshgWinETgR1bN0OAP7f41R4bN2Rd1m1z1mgdsWtNOGrd1lA2N1p9sDC9r/8AA7wGE22UjVe9x04tyFdoEn0UEy6DSyId0whB1OkR2P/gxjLRAX7U13UMDAgVY5SNKgOhBBIgAK9QRSYBWzHhBA4A0DzMke8LI6BADKtHybgVE7PzTYeN2AQhvqc7EKtt1xwcE/rQAJEU27I9mwiFd7U7dbeNmRAlJ8BbKCYFBBMADmznvM9LJtAd3XtC3X4y3daN3dkdJ9IL3JL/QtyXWZ2s5Fw6EzogI9lWTNulm07hPRFPa9i6jQDXid5WfNoEUdzuPXA08QOA5du/zb9mlXoCARI+obrvwnAzoTC1Q9+/7bTzNRPzQADw7N8NjsEuWhM9wAFkwdQ53U41QUEvyuAVvhD/wAk9OhP+MAHtI+IjnhD/oKQ1MQYG8EYU3uI2HHk2YQzHXOM2/hIDvVMyMQM/zOM9njJ64I9CoTDnzeFYPac2oQ8O0D5EXuQmRnxD8QYE8EIsTuUgDJJDwQ4KEG0cTeUnrH1CwQUGIHlbbuMmwaRFsQ0EAFxrPuImgVhFgQQLgDFzXuFmM9VDIQxxLmJkbsOzdhROYAAp/wZmgw4Tgn2BRmEOCyDley7bJtEBb0wUdmCjU77o1QkvWIAU+nABMLDhTJ7EJvFtSYGDzDPmnG5ilYwUPbAA2ajorW5ipJwU4uAAM0Dqpe7BChoArIwUoeNck97R/4DgSnEEBuBOxR7R//Dgq8MP9mET7MABFVCOtF7r2Qtgq0MP0CAAzDAO97BYwrAAMPC45art+7p0drEOAgAN65AOyJAM65CfokAAQ8Drpa2j9JzojkMPAkAOp8IP5HAMAk9YFmPI6a7uEfEPODQQ+6AM0DAi63AM49APhHUGASDnzY7NC00W5aAOyXAPBwEPFo/xNKHxHN/rdCunCCAqAe96Jv9fDdM+E2MQAF+g7/v+oIJmF9pwDCSfEO1wDOeA3hq/A3q+8Azv4n4VPT7SDOHAEOpwDOqQn45gACIw69m+9CT+D5nmOPZwDPLQEOlwDPVOWKsQAQ3QhjrN9Xw7R3X0D+TADKeyEP5wDmafn9twAwEgBDTe9m7vOfj4D/3ADNXwEP5Q8GdPE/7wBwgQAY6g84EfzvBSefJwDN5AhQVf9flpDDUQADCw5ErP8CaBXePQDKtU9ucwwzVBCRcwAEOw4EYb+O9d+OlAEVMfDtK+WPowBw0wAEAg+4Bf68euSJdvDxUhD8ngDPXA4PNgBw4QADLgCPb4NaQPSOSgDK5bEPX/0AzJ0A6sXxPzMAgnEAARoAWrQNp80/H6K87McA4YwQ/jcAzdMO4ivgpHsADpMgbpb2EAUe7fQIIDBRxEmFDhQoYNHT6EGFHiRIoVLV7EmFHjRo4dPX4EGVLkSI7/BgVwd8yeP4/ykCVLx48gyYn6KAFBECDCEUfmDhYEOpPmUKJFjR5FmlTpUqZNaf4704AcMpYf951LxkyATKFN9W1yUiFAgA1ODhljGVTtP6dt3b6FG1fuXLpt/w05wezcyHvjjjFLl6/gW2GDeEwY22DGF0e99AlYu7buZMqVLV/GnPniPxlhVNK8Ry7ZsW7w9gF9u03SlxkOxhoQ8eOMo1Xs/yLfZqtZ927evX1PZIckl+aBFT41q0pz3zpox5KFW3cPNdxtmOYMSbFgbIAFJXQ4mePIlDF9uG//Rp9e/XqloSYgaERcn4Jj6pDeU7fs2DFl49bR42owuMQxhZAzhpChAgO2C6ABEGYAgoo3/pBElF62Kc+889jjsEMPO5yHigBWMEa3f0xZ4ph8ltpHnnOa26+ZcNJph558/AkqLn/EWeWSP8Y44oYUKsiJwQAQmACEFmoAAgkuztBjEEcwEWUVYahhJ0MNJfuwSy+/RGoWDwhg4zET74CFnOSY4seedsjBhpn9nFPmmXHOUacdeei5Z58Ap2tLH2pmCUWSP97gAv+JH2pYgYMJFiDASAYJUMCBCTgoQQUZasjBByGOcIKKL854w44oCXFEEkw4EcWUVWbp5RRqtjGHnXn0wXFLMHfllUN/5iCAg1V4+6efT2BZcS5+6pFHnXTGgaYZOefcTwBmmoEGm27GuTOddNRZZ5124IFnT3rssaeee77JJ599/OSnn1y3zA2jecQxZhZTOJHkkEHseGMMLJwYAogeapihhRNEuKCCCBZAIFJJJ5Z0AAMMUGABByKYoIILOOhAhBNSSKEFGGSYoQZOc+jBhx+AEGKIIY44AgkknAhVACy4+OKLMcY44ww22HhjjjnsQFoPpf9g+o9BniaEkEOiJuT/aaujPqQPR7aWpGtKKLkEE0w22YSTUM4WJe1WTWF7FbfffnUWuefuBdZe7r5bGL2FMabvvqkBHPBtBt9GHMO3AdwYve+exW1T1E7bFE3afntuufHOW2+/AyfccHHMAZ0d0W2dp/Rb9UEd1zV7/cgYGAJwYp7egOnkGFDMxIyffOqhB5521FHnnGrCCQcbaJxRhhlmRqO2eYiSgT4r5ZFBRhnrm8HeGe2h4b5747EBH/xuxh8/nG6IRz/9cMZZf31u34cf/mrGkWYY+4f5BRf9WeEfFVRIASAALUEKSxTQgIWwRCEUuMBC+KGBfoCgH/AgQTxU8CBwuCBC4IDBg5TB/4MezEIZQpgFEpYwC1VAYQpVuEIWqtAKL4ThFGQ4QxrOMAo3xGEOc/gEHvbQhz8EYhB5mMMZwtCIL7ShDm8oRCb+sAlPhGIUpdiEJVRxCVKUQha1uEUpdKGLX+xCGMU4xjCCAQxdMGMaxbBGNrZxjWSAIxzTIMc01NGOd6yjG9KgRz66wY9/BGQg/RgHQhbSkITsAhxYUTxoJO8Y31gdZTqxhmKgY1fc4MY3NPkNd3jDk7JoRzvCpY11aMOU2shGKlN5jWtYgxzWqEYs5ycN+tFPGuGQRjTCEQ1e9hIb0QDfM7DxDGIScxnHXAY0kpnM7jXTmceDpvakKc1mTNMZ1aJshgCwp03sbTOb3zxINgWgjHGO03oHISc5JZJO67UzneOsHjIEIE/q1dOe98RnPpHhi332k5//9Oc+fTFQghbUoAdFaEIVOtCA/hOgC4VoRAnKC4pW1KIXxWhGNVpRXXTUox8FaUhFOlKSltSkurBFSlW6Ul24oqUvdakynLGMaEijGtnQxivKcRl/oI51CvHHmlKXOsgIZUM/RWpSleqlgAAAIfkEBcgAAgAsBQAEAE8CbwEACP8ABQgcSLCgwYMIEypcyLChw4cQI0qcSDGhBAkE//2ryLGjQEAAAA0EwGKjQI0dgwAIJtATAC8mNZrkeDHjTI8DbWDoN1CmQ5kzWZjwh7Oo0aNIkypdyrTpUgBQoxoEinKgFwCeela1iFGrU4YuvWi9iRCkSIEkZ24leDXrybUDVbIUEDYm3IVytdb0ejQTgEQDuZmxQQGqAKoaU8VIUMCEoK0uExH9Srmy5cuYM2tO6KVzZwAJ2CJmi3Xswr1vNw8Ma3qh2YG7iKklK7Bt64LTduFr+dIubYV53wIDZhMpiq68AVA4AADxP08FDhhRUtjMzRAUJqvezr279++bASD/P/y7dum35QeiJs+dNXqGr98vtC1foXvy6Q8Gx+/01cue3IDyjgCFASUQPhQUoApR72BQwC4ztQFAJuBVaOGFGGaokHgEveOFgwnYAIpMLEQFlQQaeRLEcgeEwAdV622FThssMFDAA0EAAxQ+bYRwwAESBKGKRv3wYQJjEogIFCg2MEaBF+9odJWJK40mQDlG2GjCI2bJlJZA6Hz4IwVByFaiiSj+cxE6SjwQ0j9ypfgSKCwckECZQJGU0V4SUFmSmmkK5CGISsrUViIhFMCAElFSRRAUALwymYEFbuVXEDMlAgAUVU0DQBA8aSjqqKSW2hSHB6IAQAhQBFFAAY/4//MPICUG0Vke+vwTA5lQGNEnFLJqdNFsA5VSQAxGQGEDAAwEI9OyISjRKgOAoKRcskFIAJNGfIAWBBQlooDPc0EIwIJn6Iz2TggAoNDqsQJUq9GX/qAggLvKJuDJrLXemqsEDGA33SRwVvkcADEUYIMXMQjwADc+ldTTXj0CoERn8g67ET6qsuoqrMFeZcMBQSiBgQBBBGugQD6Gyh+Bzd0EqWQDldPuTQ88oJ2pPPfs888HoSqAGSiH+koBCQwoQFv/+BMsSyjhEwMAxJw0LF8CoFMOQS4ZwSAAJvTTtD/9pCtAAg9EKZA/5Wx0dAg9mQFAG7zBVJ95XgtEYUgnmf/rNgA2xISP0kw7LSzCSmsUnEsC8HES0eWiJbHVyO0nLHJygyrQ0UmbJ8AuDGIAwDQbrfwOSZP6BLPqAiw7JEEMMLDzsnMBbfvtuF8odIJVn2QEAIKYt+/dAjzCt0BXp5YQBl2djoJvAiVAAT6pa6QEAKD05A8DJNQNPUESFMBNTyWeJcCX/mmO30b0kdfnK1otrlxM7zBwAPXn/1k6apYDOhDvPfld8JbWm5NcZRLV28guAHebSs2kYTqaCQUEIKuB/C57ucugBjdoGVSdDgN20RSwCLiv0v3DQ4kykXUuR6zV2MBGUSmATBoWAjOAYlwy+d2TMtEojZjgJZ7pzAP/DiCrupjwJh/UitzM9yV8nEwAbUjF+tonrAJoR3Er4Q2m3jI1+OWvKv4TSP/28sEQboooV3kESv7RrQG+rBQAMEKoVubAGQJARwRJ0M7SyME++vGPHkEVMb5Enq7xhGmlwwe7QmCEzpRrW4BqoQA0dQAbQKEzfZKJh/oEgAMwSiM8Eh0AChAEcGikMFTSSlbs9jKBDJIFWukWEycHDiO4iVleENs/mPaWGBVsLi7h1FtUgsG0xIR/WexlV15pF0OScI3xeZkqPjVH1RVmff9w3U1iV0GBXC8TLgOkOMdJToJ4EAAgfIumlCC8mGhKjifRlFiQhyKsOYg4J7mmVoIB/4gfeg0o00jE1Br2D3aprZX3YZ0AkviWq8xSLf7YRR5Et0Jeum88WARmHKvZRbQ8LyYJqFwyLyoodJqRnc88STRV56mG1UefpJGMSWz20bgAQIrlzKlO/bi7AvTuMAIUiNwyERO5IdB3/6GnJAsAt4FMowAAaM07DsAArTitH4XZze8yoTLVgSKprUSe+Mh3vC/yZZD2GtqE7OJL+VGAfjbazdkCJYBgCK1ctbvc/3waQOC1U6VlVd32soMek8B0IJfK1Ka2goICKG2nkI0s0IQGuclwTml5AN6kRDgQUEB1npHEGgUSMD4B4GNZURUAOErRqQJgBB9cRUn9CrCbo/9RQDbkQYcqNvep71kljpPZ21k2IrFgvKIqqdCTADIriNS1NZmMc9xhIDeQhrnltALoyj+gIAAMklSon7Is0giHlZisdCvL2pp8KjUQfyBIQYJyEIRMgo8CpFWy+M3vqISGjx+SoFevSoRM/PMAKLQhD/54R59ioCwGQjJ57BFIZh+gBCNQgALs0sg0MfCtLDXOH+hQTocxwiluCUBhvUqYEYj0AKG2IV2OalC73tUwef3jS8Yzga2CEBqC/YPABs4DC+0iv4QtrGESgJhGJjFKIxgBAyh4QJr+weQnmUGmGvtHfwHwXyME2FDnOcx5ZwISwAwzCDz+VLlMmaLoTKf/Opaa2870S+c6c0doC/VCghIQgxEBBRApxMg/gvHCxiTiqw+up/IoyAcHMcAI3CiRRsLksBvFILY8qjQDWCBTmaQiCDYKGBTm+49S1AkqznLUlbJUABJw6U3zkhgxoIACGyUpFX8O9GE0NkzozokFSAtCqmWSCEczKsv/aEOC9BRJk3hoz30GChXHPJB3hEgrVIrKsEu9mMY85iauAoedx01uOzutOBU5N9Zsp+5FWwgKfCXeQliHDpKV+974zre+NVQ/I9yGIQr1QgGmse+CG/zgCGdKJszgMoUqRKFteETCJ07xilscIe2O8MU3zvGOe/zjIA+5yEdO8lGpeixg/zx5yVfO8pbzbI1kgfl78uPymtv85pfxCet0rnKc+/znQGfKVoY+GysZZEjOSTpi2qb0pjv96VCPutT/wfSpW/3qWI961bPO9a5nfeteD7vYmw72sZvd7GU/u9q9nvamY43oPKd50OdO97pPBeZFx6Zd7M73vvs9NXCROXsc/vfCG97lqsZ7ygl/+MY7/vGQj7zkJ0/5ylv+8pjPvOZ3So1NbP7zoMe3DATAidCb/vSSXUUAIuCAbaD+9bCnCDBQQAETeHEgs6+9FyWA4RDQzCk9EAA1EDCG2Bv/+AthgUgScV+BKH+SaZXA7b/CjgHY4R8zqAHyt899AXAjAbvZXv/tvh/+ZmV3+k5RvSn+oYUIdP/9sU/FEwVgAu/KfyD1z24IMABphKAgBnxQDgI4gARYgAUIDATYBwOQC+XQBwHAgAYYgRI4gRRYgRZYgQh4gRq4gRzYgRSYgR4YgiI4ggYIgiR4giiogSaYgiwogW7xcZ4wgPcnECRgf/NXgwJQNfgABS7VFHZAAETRCwKACfBXhKZHfhRkfgKBhOJHENNwAF/hBBewEf6AAGxghFj4ec/HfAWxhfbyDuggEDTyFTcwA6WjAsGXhWp4ebtAeyTgRTEgRW1IAW9YV/uHATZQO0wBAkdQOkhwAWsYiIJYFApwBibxBwHADoO4iIz4EOz/EACHYBKmEACr0IiWeIkGoX4mIQ4B4AiY+ImXKAkBsA0m4Q8GMAegmIqL+IPd9A8X4ASqGItrSAUTAEYzcAOymItGOAQloBZH4AG6GIzdlwMycBNnsADCmIzHBwM+cBODkIjKGI2ox4c3IQoBMAvSmI2gNwFccBPGEACUoI3imHkI8AY3oQ8DoAfjuI6Upw8B8Ac38Q8TQAXsWI+Qx4mSEI8tkIb22I+F1wsBEArxCAQn4I8G6XeTOAvx+AUOcJAOWXeXEADGEI96MAD68JAY+XOEEADzEI+UEADUkJEiaXOsSBbqN5IoyXJj4ABwQQ0BIAkpGZMjJ4W0gY7qKJM4/+lxQpACtPEPDlB8ORmUF1cDNdCTJTAEQpmUFKcCQNCTRKmUUHlwr9iTRwACUXmV+vaTPbmSWNmV5VaOPYmIF+mVZJlf/pCOPfmRxlCWbBlZ8xAAg9CTJ9mWdFlOnOgIv7ENL1mXfClO34gJv3GWN9mXhLlBsxAAovAb/xABX1CYjplBk7gKinkCSPmYlgk0oRAAvaCYZXiZntkzH0kNinkEIvCZplkQPZd4PWcUh5CIismQpxmbgxdzJuRuSyGWilmRcyabjhl3psFzX/GDd3EYjhAA5sCbnkl0b3dEwykASPd1/3CMTZeZm7l21pl0bXed2gl12bmd3omd3xme3P8pnuQJnuV5nkDRnc6xnF5xREzBBbWomAAZCsh5mb45c2vRnDhBk4ppDp1Yn/ZZm8UhePrpEbxYHk2TjgBqmaqJTXrHFD7QAunhk0C5oBZqGUQ5oSJwBBfaoZQBAz0woTOQAx5aokxBmRMKBCpgoiyKFByABBNKBRXQojSKExOABRPKBghQozxaEQ1giAnxD884Dz1apBBxihMakWtppEyqEP7wjhOqepXYpFRqEG9JCBP6jZdQpVw6EHqZj0H6loPQpV0qDAGwCRP6DwpwhWRapYe5fkHqirDYplQamfnxDyrwA3RKpdR5pzkwA3sak7lnewUxqNN3FehnFEp6pwL/UJqBipJe2IXLd1+qEAPStxSiKA53+gXu96giyYRK6H3gl4QswTHBcKlKsZHscKes6KkZOYP0Z4P4lz1QkAfn538AKILAcAcBAA4W6IDF0ILCeoErOKzGSoLFeqzK2oHJuqzOaoHN+qzSWoLTWq0YuIGwioMCka2gYGpEgapJUZEF+g+boJmuipGgOn6jKn5mIGV98gCToBRzYADj+qbnipGRShD5qh6JWhTSeadfeq8POYd1KABx+DluiH7gihScOq7u+AcC26IyOq7/sABnELEsigQcQLGviLEmOgQnQLF56rEl+gMrQHMa8ack66HEKHf/QJor26EZCnCcGrMX/8qMLtuqNgugKSAELtuairiz9VmaLluuQii0yDmVAHeYooC0yHmjLhuwTiubWglwDzu1srkAbOCyFXuxWHuaBHB9ACenX3uaAaAHXLsCelq2ngkOcMm1xMi2nlkMnci1VSm3l5kLL8m1sIm3j3kKA4CmDfEPOuu3hHkKiCl3xGmchluYmhAAcApw1Nm4hFkJ16i4/3CY9Em5fNkIA7CZg3uXnMuXigCSmCuYo1uXCqipg0uhqUuXDtiRrdsBSPC6bcmrudK6MqADtmuJqbky8oYTakAABaoVEdq7jSh47Vl0iisRakCvmPsPUoi8i3if/BF3xUsRW7AA2Usex0i9g/+onIsmc835nFh3BRFgdbiJnl2nnux7ne77vmsXv/J7dvRbv2J3v/gbdvorSXCnvEeRBPH5E6LoeuC7htaLvUZnFEUwhc37D5F5wIEIwLOJms0bEUTgAd17GGbqeRKshg36u0rBAzz5wFf6wVDJAyf7EBpxiiislDRQjCwsj1rwwklJA2Y4w5Rpw0L5AjlwwRrxlDycky4QojPMi0OckyPgszMMn0mMkx/QhzNcuE88khkAozNcnMdZxSg5j0D8D5PLxSMJAV9wwYcxn2I8koVoxv/wiIeQxiJphWzsD2ELxxkZtmxMw3aMkWgJERqxw3t8kA+bx0IcyP54pXkMs4b/7I/+iZd+/A81u8j96JKUkMd6QABjKcnsaKaA+cjFKQ6aXI/zmcfWiI2hvI6a+MgA6cGnLI52+siPSAitPI6lbMbk4cKzfHmGWqi0R6gGiwEhwAK7hRTlKgy2rBE3msuXt6/ON6lgIhCP0FRHEZGiGREakQJAoMyVl66Bsa6hGi/dgxSZesz/0JnaPHmwmn/bOn/qHAQ506/3kqseCKwiSAQZYK0oGK34PK36vM/P2s/+vKwAHdDGOtAEPawGXQ7cOhALPRCA0INGMaTH7A9j0ADnPHncvITerIcnpl5GgYjdNMNiedGSx8zm4szvQHDFozNIIZzkrKQkHXkEC4dy/5iwOWgCwCzMSfEG0GvN/zCXMZ2LZ6AAG6wVohvUuTgGEFDUb0HHdoDUuYgFA/zIegzVsegEFsDUb3ECQmDVsYgEG6DV5BG3Xp2KQzACYq0RGlvWqfgDKbCbrfu9bP2JPeACtvwWQzrXmHgDL3DX5FHMen2JM0ADfq0RTBvYlggDPADXY9vIiN2IKcADhd00uPzYg1gCFDQRMlEB9GjZg8gBRTDZ/6C2nj2IF5AEfk0ePgADpS2IE4DaFKER09vaa+gAV5DaGvEGO0rbargAW4Db/6CqvH1zv6s6q+kRCKAGwF3Kw21zFEygtokTBKDcsf0PnNzciId3v5mfqZ0QT/96B8B9tdjNcuKrcYtXHuY7dW8J3l7XAGOwv0/Xv/ANnfPtnfJd31Z33/itdfutnf3Lnu4m1gvxiH0A3P9wlONN3tqNn7R5FJyoCJns0+UMqAm+cs9dm4t3FN+oCAa+1hVeciFsIAuME2baCN2tEWygAB++fYdZCSce3NC44saneprw4mEs47A3iTVeERrRwTgee6EwAKfw4m8JsT/+euU65Dy+Ee595K/3kbnw4v+woU6OesUZ5Uv+D4Vc5aDXmsUg5UjQAVxues9oSlku12P+eRXZNlme12m+eT/I5kt+42+Oebot59W9ynWueWfQAHiu2f9Q5HueeZz65xKBEj//OeiYJ9WG7tMCgM2KfnlS2OhU7QMrEOmWhwQeQOkz/A9OjOmUB7Kc/hMaMdKgLnlAsAIeXd3/gAkBIAynLnk9IAOrDuj/AJClF+uQV4a1DuiCruuPd4u9fugb4QCNCeyOx4yjTuqPns3I3ng9O+yObunP3nglcATSTtVaMAHVfngvmu2dXpER3u18dwFUsOyt2+qvTu5/x43gTuq3HgC5zu5895PvTuq/Tu92p7X33roCYOz6zneniO7+ngJrG/CQtcsEscunhWExwNEekY79PrYC4NYIH1kmHan4cFR5EAOMPREPO/HzthEVffE7ldGiWn56mAoTZBRXSvBjC+NB/2vy5JTOsioQ6ixGKGUQ/xeAHEi3fZDQF/i4mnDQH2j0+Cz0SH+CSr/0I9j0Tu+BUB/1zIqtN3jzAqCtQ4MCj4UTLikJIv9wGuGfb0zz5ITyGd0GJBCGGh4AmBD2cboRC1ChZi9OGe/MUEQCcN8Q87n3CIESJ+DsdS9OMy0QB1v4g9R7JnAUb+r3B4ESQJACg39zUur4dycAJT/5NVfKME/xrbnFms9ynKCZlm/BEAy5od9ySlr6NtHGASDLqb9ymcr6ptHksV9yQEv772Hwt19yQ6r7qSEEBdn7IwfSwM8eaE78ICecx48Sn6/8ITevVGcUKKF6TQv9tlPciifgCf8hnZ0f8/OgoNgPNBc+m+5ZFCs5/UXhExdQu+PvMwm84NHNEdtOdd1t+gKQA6z9/j1T3gDx758AggIJFhx4UKEqgQ0dPnzo5MK/chAtXsT474uDjB09frRYEeRIkiVNPhR5UuVKlgJTtoQZs+NLmTVt0rSZEybOjgcNIvSZUEBDhUWNHjWKxANFpE2dDh14KIC5p1WtXsWaVetWrl29fgUbVuxYsmXNnkWb1ixRoggHtm1LdsgJpmQNzgoQSu1evn39/gUcWPBgwoUFG/wZFKrbs0BW1B1rcN4APYYtX8acWfNmzp09I30INDTEsj1kCI1s8AKSz61dv4YdW/Zs2l//b8xALZZoDhi1ff8GHlz4cOJWZ+TIHZbolwbFnT+HHl369LItfCRXHjWAOOrdvX8HH552CiHYwd7NK179evbt3ZMVccT8V4P6KL/Hn1///vUXhp4lajX+BiSwQANnm0CL+bwiyocUDoQwQgkn9MuBMRbsiqg5DNCHQg8/BDHEpxY4A0OuiAolgFlEZLFFFw80YA4TTxyInQAGeTFHHXcUj7IZt/pJQB6HJLJI4PQJ4I8ftfrJQSOfhDJKzuYJgJAlsyLqDQ6l5LJLL/kyJwBHrsSKKE5U/DJNNdfkipoAKCHzKqJsxJFNO+/EkyBhAtgkTjkTqsCJPAcltEu8RPHT/6qfelChUEcfHXKVAFZJtCqi2NgSUk03BdEUFSt9ykw0OSW1VANT7AVUp+Yc4A9TX4UVv0sCMEbVptoCYYhYd+UVPEm2s/XWhJDwr1djj3VOKnaCBS2hQbZDNlppa3tWH2aPImpPSqblttvP9BjAn2uNIsofB7DwNl11LbODgMQA/CmHFdalt16/2FDgXXgJmoOADu0FOOCxxuBoXHIT8tQUgRdmeCsuJtB3rfoImKNhiy9uSqKIy2pLhR0wBjlkJDrY2K6fsGjAn5BXbniukk0maJNRWabZ3h8eM/jggeahuGaf6c3htJyLakuGGX5G2tsZbng5tYQwnSdpqaO1bv/ogwmSVK+pt+b1hCGsJjohfxb4gmuzYe0ACbAVaquHE86Gm9QKqFg7qIT+CICduPd+NIIv6mZMgD0l4bvw94BBgQITXikKccUZF0AJCQCAfCwSAQeKoAqOMLzz9VgARIBEUCgKdNFJFwAUYiSoXKwYMYcqISccUNlz27vjJgF8BPCHgWAOyn333n8niHWy/AlAD9jbSlGU25+XLhUMDjIBlIOkp9764lsvCoUY+CgnfPHHJx+cAO4IHxjy12e/fffXB6eBJN6nv3731bc/f/335/99/PsHYAAFuL7/DdCAB8xfARG4QAaKT4ENhOABH+g+7BGEBNoTQAUFcMGDGG//LGEaE2ASM4QK1A56JxxO8HjnO+DpboXEE4AHxeImOInwJ7NaEQp1GBzTja50ofNhB7n3lT31yYYJmQcCxrBDJvpmF4kjAeRikAoBPJECUSSIER4AAAZQYCyHgl3mBOADEDTRjLIJDdsc4pZreYpSgWmLIwIgjDPWsTWIyQ0e2UgWVIUxdgRhhwHOYEdCboYtiTmkUJqmFUzQyo9x8cEFTFhIShIGkYrEpGKQwhCS/EocLtEJSBppilBehCelRCVITplKVmJkla2EpUNeGUtYzpKWrbRlGhcjxkuShRB5e2Rb9BEBzlXSmIfBIybf0sux4M1ayBQKFxAQtWNW0y96/1TjLsUYlnYtEi2J6UUADmFNcu4ljcn8iS7B8gYEeBNeQknB0co5T+kQzJ0SEwrejEFPfjoHCxDzo90AaQAu9NOgwkECB+6Jz4M4YQHUPGhEZyMEugQ0cIK7j0Q1CpsewGChDCXIDkq4UZJ+pgY1+CjHEuMpwpXUpZqpmkU1SZAUtOClN71MCb4m04vKUWE4BapgLuAEnl5UHxxowSSDulS1TIALRb3orzDBVKqq5XKXiYs/UgACpVbVq2B5HWbiIgpxftWsYEGeksT6rhpU4F9nhWtWbGSlzMRlFgNgQ1z1epVtBEASUBVoQw3Qi70WtilFBGxgBcCOCcigq4YtLP9eSKmZuAiAElWCbGYJ4qlZJFaxAthBA7ijWcPKTBie3SNBqLGAGzyWtF/1JGovKoBfVey1en3WPGQ7WycM4Ke3PaseCCCuzqyRIPo4wQRGC9yvnmEBKb3mu4yxABhAlLlU1QJAP1PZUBDAB6697ktHtrF91GMf/SiMcQkiRyeAN7wkBUIK9EUPaBxDAMdAhjr2YcnK6iEAg3xvUG/zrnYcAxrtoAc8xiEAZsCDv+8aQwC+4N4AHxQGPUiMPI5RjX4k5B/5CMcxyMGPwVRWAGwIABIoXGF+6vQn02BGN4irEH+sw8D7hWZRwPUD67JYokP9STWSkQ/s/MMezGjGPUr/rK9DEOAE+/SxRi2UkH0cIx0l+8c9lMGMeiz5XaaIQAM2EWWJIkBGBElHMvaxoA87gxn28DJqxCEDCfeYzOREklr7wYxqrPgf+4BGMuixYnyiRh9jIMAFnHfneYJwIBr2xoz+wQ9sHEMehFapvmZxggAcgRqMJmc4jRgOaFREUf/oxziOsQ5Mm6yy+piDAghwBMKC2phu/POqy1Gmf/jjHMc4B3rhqE52sKEBAcjBJt5q6zo2slYFzseuef0PG3cDx8M28Tz0wIEAVIAN22B2HZX1j248I04NoQczkGGPVrtaX/4QxQ8IMIAZDMLO4X4euPxR5XUkSiD3qK862u00/xMLwBx6UEEADJCDPugN39A7QwP+Ae1KCaQf6TDwPQauG9IUpRdsEEEACDADO9T64Z2jQgXI/YwZZ0gg9GhGMtJB4jir9yCnsAMMCNDtIwwCyieP21z4vXGd8eMcyUAGPIRd84KzQxJHuEAAAjABH9jBFPcGus9uQ/FgNeQe3TiGM5Se3oscRRyScEIKdu5kJPxhFsvOOstW8INuLAO6wno52JWhX8NA5CVGmYcp7ACECwxA5CIQwhwwYQyix31aF7jCqnPmEHuoOhnhkMfS+btKo7AjFHYYQgkMIHUDlOAHYyCEKRzueIA1IBHH2EfjLdWQfKjDGcdIxjjkcW2ye/+kKPoQBiXeMIQUHFvqCyhBD7CgB0rMYvWsJ5BLZOOPAfhCGnefdq/tkY5mHOMYz0gHPXjf+5EchB2mIMQZhgCDCRhe6gi4gAyAwAU7OMIUwsA69L3TEGnDhh0asLTlcYh7WIdwSAbvc4ZxWAd6yIe6Wgl9MAZROAQ2cIIcSIEI2DmpCwAEmIAUqIEhoAI2+ANJEIVe2Aa407/gUKfXEAYzYIYOgyaB8Id6WAdyuD3vYwZoGId0QLB7oDnLgAl/EIdZwIRBeAMsEIIaKIEJUAAN1EADiAAOWIEaAAIk4AI20ANCkIRQWIVeoAZ2kL0UTIsVdA1/OIVjkAUYJD+Lqwf/eFCHcYAGZvA+HGwGbAiHc1CHdWgHebCHesgHftC8GHxAapgFUZCEP5iDL0ACIKgBFeiACVgA93NC0luACbiAE2iBGeCBHzgCJ+CCM5gDPfiDQ5AETAgFU1iFWRAGahAHdtCHMExBMnwNf/iEWIg9zrAIfrgHeWgHdSCHcMCGZrivOSTGZFC3ZnAGaOiGbgiHcRiHcziHdLgGdcjDddBDeIAHeZAHeuBGe/DGeqiHe7iHfMiHfTBHfkDHfmi3IJwHauiFVQgFSjiEP7CDM9ACJxgCH7gBF0gBEbiACWgAA5DESSRIAkCABYgAS+QAETgBFYCBGaiBG+iBHxACXREA/yegAi4YgzM4gzeYAzvQA1EchEE4BEdwBEmghEvAhE0IhVAQBVNAxVSchV7oBWEwBmOghm3YBnEwB3Zgh3mYB3B4RXG5paKkCKMsOxaRxdd4hWOgg2eKjYvwB37Ih3qgB3mAB2tUh3Q4B3IYh3AIh3KDBmdohi1jhmRIBqMgxrVky7bEPbQ0RmaQS2RABmWwy2bAS2R0hr2Ehr7sS2yABmx4BmzAhm4ozGVkRmYEy8UEy690zHGIBmeUTGeshnGohmEYhl/Ahc1Ehc4khc+0hNAMTQGwhEIwzULwAwHwgzw4CDgQANcsg9iMzSygTdqsgtu8TSvQTSuYgt70zSgAzv8nEM7hHM4mMM7jXILkXALjlILmdM4ukIIukE7pBIPqrE4xwE4xIIPtTIPu9M7udIM0cIPxJE83iAPzjIP0pIP1pIM6cM/3hM862AP3nM89qE/7xE/8lM/85E/7DIT/BNAAFdABJVBD+E8DRdBAQNAFVVAGNQQHhdAHlVAJbdAJtVALZYQHzdAN5VBDYIQO/dAQFdERJdESNVETfdD/tE/33AUU9Aw40ITw8Y71QYdyqFEF4gZuqIdp+IYe/QZ38IZv8IYh9YZ2aAdrXAdtSFJtYFImzYYnhdJruAZysAZrIIdqwFLLHAdp2FJpkIZwkIZoEFMx7QYxxYZoONPBfIbFNV2GNm1TaFgGvxxLOfVLZxCAvbzTvcRTO+XTohDGPxWAslQIYWwKZBAAukTUREUGX1jURvWFR4XUSJXUR+WFSrXUS8VUS9UFXtCFTvXUTwXVUO1UV9AFUrWFU0XVVFXVVbWFWIgFVoVVW6iFWK2FWrXVW8XVXNXVXeXVXvXVWnDVYI0FW4WFYjXWY0XWZFXWZVVWWnDWZ4XWaJVWaWXWW0VVVwAFdHiNggOPd4EIfwDXg1CZcOUdf9CHc0XXZYNFMSSQgAAAIfkEBcgAAgAsBQAFAE8CbgEACP8ABQgcSLCgwYMIEypcyLChw4cQI0qcSLGixYsYM2rcyJGiICMhCgAA9K+jyZMoU6pcybKly5cwY8qcSVMCAAY2SZakybOnz59AgwodSrSozH+Zgv0zM/KfU6NQo0qdSrWq1atBnZZs0/Qp1q9gw4odS7YsTK0CmOrcabat27dw48otipYrIAFo5+rdy7ev378FtfpTi9cr4MOIEyte7LPuyMJsGUueTLmyZYWCCee9zLmz589ytf6zuxm06dOoUxPN3DWy6tewY8vWKHp069m4c+vefZBPkCAhAKD4/Yi38ePITQcBwLw5AC/Jo0ufTr269evYs2vfzr279+/gw4v/H0++vPnz6NOrlwoMBQUTrwq2fx9fAD4jFDAE8be+v3/eLNyVCAoFBSjAgAIpoUQ/Akzz34MQvsZNAvgI4A8DwQw0YYUXBvNOAu9EKOKIoKWCwUAmgDKQiSiC8ooEUJDAQiYIoRADH+XkqOOOPPIITI9ABinkkEQWaeSQPx6p5JJMNumjk1BGKeWOSU5p5ZVFVonlllyWo2WXYE755ZAsCkSCigKVKcCZqQAgiACqMAAOiXTWqdiGFmKoIYV5BgMOAAwKYIIndhZqKF8GIkhQogQKEMMkAgTDgIOHVmqpWbu4R0J9MaQiQKYUbCpQMCxgEEJxl6aq6qqsturqq7DG/yrrrLT+Zwwmteaqa09IBIDrrsAGq9I/MwSwgDHCJgthbYGJJlBtrp1U0hALfKHstf09ZdizJXm17Ur/6BPAHy30gO2556G1mbraRpvSP70EEMoQJaBr73iG5ctWu6URpAq0AAf8Tzm1SRIANWwg4I/ADDfs8MMQQ0twxBRXbPHFE1+s8cYcO5VxxyCH3PDHIpcMrSrH/esstwPpixdkLP3zhgH+OCLANvfm7B27+/JL0LfSHuGBALMEIIrOSG/XbrOFNe30sDDsIMA84yZt9XXMNs0stDFHwIVAXl8t9q5U/yFQ1O6Orfaq/xjjq0BDiJD22nRX+s8qAZgiEBs01//tt6r/cBJALwIZjPPfiB/6jyMBmCMQ3nonLnmd//wRAH83ByDJ5JyP+A8bCwzkzwB6dG76g/9gUQFBDoxx+uvr/TPECQSVMMTcsOfe3T85zEBQDTXgrvvw2P0Dgw8E0Ss88cxP948HSBD0hQPLN2+9cU5FYO1Aegygz/XgV+eUAXMQZHj46Ef3D9WDEGRKAKukLz/22wRACUFuXzL//rn9U/TRAxHXH6rHvwJa5h+iGFxBFnAGAhrwgYz5x/kIwgEkOBCCGDxM5QLwPYLIIAcXzKAI+fKPORjAIEJIQQhHyMK4/OMLETAIFiawwhba0Cz/cMIFDGLCGt7wh2GRXb3/CjKIAMwDiEgkoQ9aYBBMBABZSYyiC4FnELzFT4pYbIvxzFUQt2HCh1kM40+ccoIhGIRqhACjGNc4E6dU8CAGsIMa2UhHlzhlAlo4iPbmWMc+vusfDTjDQURwBD768ZAcGV/5DCIDHRgSkZC8yD/8UTWDLPGRkcykRP7BjgAQ4iBI4AAmNUnKhvyjfpszyBioV0opzgc+8nEPLAUgAQqEIASJwJxJ4BWATRyke7psJRAZVSABNUoC9RkW5A7COHOMUpi6w1OH9sQhPSEzZgmcxUFCMbhnQhN2akrRik4kEHFKIAQYMAI3anQjKCWpEQE4BTp6dIoAVCJM+AzSmPLJ/08j7bOfANVnQAdKpH8SdKAGPWhAE8ojNZ1pnAN5KDHsA4UYvMtg4jgIKr35zdNJU08C+WiGBjKNA7yriEc0iAA52lHTEXNRxhTAO9AhkDaw4F16uBxCFMAGlraUc6ASlaM8FdT4BAOdGLDBSKX1BgQkpAJU8OlPI/mPVSYkBUKQ6lQR+Q8qrA4hwNPqVv34DyR0ICFCOIFYx1rHf6QwITpcK1vZ+A8dyCAhZ2iAXOcqRmLdICHA3CtfsfiPFfwgIc0U7GCT6BRCJmQT3VysZFv2jws4ISGQU+xkb5i97R0kf5rdbAudwsCEsC+0oh2hIhVCADmmdrCTJJ1CWofa1/9iMFyVREgFa2vbXWWNsqXp10Y4GYBDKKQFPuBtb3O1tJ91q2dAo404NKeQ3il3ubPiGXBh9tuOtO1tCVHedbELK5exjGXNNYjKNEaweIWCYTM0mXwfRrL52pe9983vxuqr3/6OzL8Adhh/A0xgj1WMsgjmFrtQ4r+8KSRh0SWv6bSrYMgATFrvuyJCLKeP8UrYVelFr2sijJF/cJNwCcGohz/Mqqzx61sklqQToYiQE6+YxcyTYAAOh5D/3RjHw/vHIQLADoVsFMjC/AdKFbJSJLfyHzkNJhzn8GMnv+4fdiAAQ/BYZStPmA0KYAghu+xlzlXVAQxpZIzL3FctTID/IT2AwZrZnMUc7nAhQpsznaX4jyOIgCEw1POeGfvWhfSQzIOu2z98AAOGoBTRiV7bP27gu4VQ4mCQjvTY/MqQDGda01f7B3IZEi9OfBrUSCPYCYTAEHMEwBGnRnXOCAaCIzBkdHqItaztRTDLNoSBut71uQiGx4ZYVtDChiDBWtcQrCI72QYkGE8bEtZgQ1tYBGttQ4CgQmtfG1jloKTZGBJXb39bV+VgX0POsIBnn1t+5eikzRgS2HffsByobEhi7W3DcnixIZDthbn5LZ1XJlMgBieIFwBw8I2Uw70NySzBsfXSgVRcFTG4pknKsUyGgHbiyhIpNftkHxQEQ+Md/ylHhhtyWpAnK5xoEgDMBQCFPNCy4QOxEY6cBIxKxPNIBFCDQrHE0KHns+hGDxPSk96lpTOd6E8/qNMdGnOql4IF/EE5R8oxY4fsceAu343IQ8qnDpnhARKwyQMglfIJMqQDFgR72HVTcYHU/eYnKUczHQKDHrh77pcqqkA69SlNNVzrDl9yQ3YgZ7kD3lLl4LBDzPr3x7+uHN17yPQqb3nTlcOED8nywjq/v3KA7iFDZofjSW+ncljVIZAVxupZT6dycOHNDpE47dFXDh0+hBr24/zu/1YOAXDgIaed/fAhVA56QQQBbxD+8ulWDm5DZAJYkP701VaOOEOkjNrfvv/YykFpiMzgBuEXv9XKcX6IcDv96k913yFS7vjrbmApAAJE2A1/+9trYLYDERymfP5nHgPzRg9hOARYgOQxML72ENnUfwyoLAMzAV/zEO4lgRMoLAPDbA/harC2gBv4HQOzAGwAEbimgSPoW+VAPhERSCq4gsxVDrIFEccmgjK4F91lYTuxgxnxD+CQWw7RAj8QgzlIHSGmNT14XolUDAHQPhBhV0Z4hOrjMxUWXN70D044bw9xBCAwhVSIHOb1NN4iXAKxXheTC5pTMatUYCEzYG4IYHAYh/01h3SYX3Z4h/OVh3ooX3y4MmTYM861S6cwAL/yEHpAAKMXhv9BYdz/BWPP9A/1FAoRkVg4yIhukYRLU4aRqAkDEDkPYWOXiIk4tDIv9lyAOFyaAD8R4WOjSIrJ8Q8+p00QMV0hCIti8w/whGIPkYKviIvYowhPJBENMAZgCIx20wcDkFERsVu/iIy68Q99QGQS0XfHCI2F8g93YEQSwWjXiI2Us41S1hCh9I3gSCL/oAZaJhF5ZYbnyIFqcEISMYDP+I6v8Q9bEDoSoWL1aI+p8Q9XgGYSEYH96I+n8Q9JgHsRUWrmaJD+8Q9FcGcR0UmH0JAOGTvGNxH+0FoWeZHp8Q88QDsT8XUeyYE8oAIUMWYFWZKcAZKNNhEzAEIryZIHRAOVJhFA/6AC7kiTyZFwBOGTMWAqLIAy3vUCfzURXrWTPHkcd/dSNCUAjxACu+QCXCQRM6OUSyl2ZQdSAjB2AgEIJOBd/3AC+jcRhEBkHZmVfzFzaUJOgoImQfAAD4BzAqFzUPIBPDBPTQJPpxB1SuJ0fikmgblQgwlQgFmYTXKYiMkkU+eWD9WWERVzAgAIFpVI/7AB0TMRrqiW0+GVXikQBVB8w/UPFnBZEwGCacmZfdGUMfUOlPIIDzCOFnFHWEARGylHM6maLCF4Q1V4oRIfxGACQkmUo+mBE8Fluambf+EUCiBIFLFqWKmcdjI+b1ARlBad0kknTqFtFEF5qZmd4iNuFf8xBnr1neDpPOIChRNBj+eZKsRlXBRxadRgnu0Zi7ZYEVZEn/V5HP8AfPdDEf6pn/vJG/8gDL1UESuVnAOaiRBXETAooAuKG3fjYBUBPdgZoerxDytXETF5oRiKHggUALRIESnkoR9qgLFnETP0NCcaIf9wCQdjEaIHoS2qGjrGjBRhiTUqIkJGjRXhaQq6o1ihZNxYEQFKo0IKGhskmw+hD6Rjokm6M5l3EV4DpVHKHSUkjxaRf1Z6pdrxD2cQZhfhfUjqpZdRVQ2AEU6wOmVqppXxD1wQQxcxo0HqpkaRQxaAEYwjDm1qp5JREhmAEUBap34qFH32ARgBfJLQpYX/Kh1uNQIYsZG51qeNihiL5gIZgX2MWqlimAMvkBEqcFiUyqnLWQM0kBFLxKKk6hc7uDU+KEkycKoYQQVvNqqrKi3PxTQ+s6kG4RQrwAMZQae3upxW+IiRIYFkBKwYoYC2Oqy0IYhMuC0RhoYVIwJEsDAdk599+F/bGmB/2K0g863gyjHiOq4YY651eGDRCq0wM5oXUAQZUT8hSKhm6ogUxqsH4RQVkAQZ4Q8u2KzO+oO5OoicuEv/EAFXoBEXED0AG7CSZIqoeIqj5BQNsAUaQUUN67BlwZwWmxFIsEMZq7FjMT5qoBEmhK30KrJ/NAB30EEXwawpq7LSIi53oBGZ/xWyMjukVNMHGtFJn4SzOWsV/+BqPKsRpQW0QUsVpxQAisCkEhGASJu0UvFdi7AROtBoUSu1UMFLleC0EUGr7aq1YuGTA5Fw+GADthQDS/WDRVMJG9E9HZa1Ymt3MQVTB0Ig+DAJ/JEHMeC1ETGhmrARTiR7ciu2nrmVa5sKFJBI73MKLnsRpaaqc2sVbClzbilOAxEESsBOO7ckPhcJemklQXgHi6kjilm6R3K6qJslqwsmqtu6AgW7W9KYkQlRZhJzZoACITJcmDAAueC3EBE2hau1h1tNI9UGJPCUw3VpucARK4A8+Dq5M8Gad1tTJCCaicQ4xQC8D+F80Su9Mf/Bm4QneMQAALYUAiaQSGdZDByRMCgLvhJqOXOyEQZDDZILv/84pRsRucOLv0eRZR3hpKXTv/57Fk1lEhVwWd9bwKyaVyZRA76zwAxMQjBkEk5QqwQ8weCiOiZhOUeUwRr8Lr7XEdykTSAcwtKCBEPTEfIatijcGbIjkhzhDwggSBL8wm/xD0CwAiexai6MwwfUA3dlEkAgkicMxCU2aTfJEWHKH0eMxLNJLDlwEoyDMzcMxWLhFKNmEvHiS1eMxWDhFFh1EvpgANX5xWA8pP/gWD1clk+cxhDhFA9oEkOwwm8Mxw5xRxdoEln2PWiMx1PhFMbZEQkUP38MyFFBWif/eBKd1D6HjMh3+g9xlBITQAVMCMms+g81eBI3MMR3jMn5KkAp8QVp+sOgPBfrU1wpUcWmfMoudJ8oES+48siuPEbApz8o4a/Veb+1nIkGygkqkQLI08q9jEP/oxIXXGHF7EJWpBKsTMvLfBTZpBJuk0qfXMuBo0AqEQG1SczRHEQwar8qoQM87M3f/BU3uhIm5MfXfMo9WmQqUciXfM4jW0SPexLzwJ3QTM/gor8qcQKHZc78rLR2oKXI/FX7PNAMdnosMWSH086YfGYt4TbzltAK7V1u5hIXYGsCfdG9moo8qGATO8IscQRfxcsejRCaOLAgLUkq7BKMA0UWDcX2/1qs/ecUs+MSrjZuM43EY/jTc0OtEPMDLTAwACYCRdiH5YquFbPUTB0xTv3U9CXVe0jVVU0xCRaIWZ3EvfMSVOAAmNPTOFzTqLjVD1sDR9kSTkSLYj3WA4tg0opJTnE8L5HPdqDMKb0QLhaxPdjSFEFGZvQSK5DWEH2lZItwslQfSmATdPnX/wB3MHEGBpBSbY3C1KsooEAMiBfFUAUTRfOfla3BxUtyArHZFZE9rvMS/nABgd3RF125lWvaddlOS6IAW+AlBJUECgAOSfe6stsjvv3bVCLcVxLcxG3cx60kVGe7axJzsj0R23nXMPE+lOjaCj3a01TajQ3d4gkT/v8QAZlp3QN92Y2i3cOFRjKBBBEQ1oW9o+JLVIYnEEbwADexuD84XakEE5AFiu3t0/8WE/qwAN0s3nkdE7xU3TFxBA7QQaFd4JjRcTGBN/9J4A7eEiE6ot4NAoTd3y/8Dyk6E3YwADzW4BUeGG4XE+ZAAItM4SX+LqnHEz5wAbrE4SG8QfcME4KD4CTe4njhzzKx2htO4wwsM07VE5Yzojte4hLdE/MQAawm0jzOE6mjkDzxBgRAY0le4E7hBMfnE+ygAKaJ11H+Ejg9RD7BBQbgOGI+5hb+Dz9Qzj6xDQYQ5izO5qf9D1QEFGdAALzo13ZusPMHFE0+xdv15+DyDwH/GBRFhOB1bugPIcd07hP+UAIlMONZPtCdNRQJJN1r7uijCX1EgQR87lwxK7KxVTpDMQ8VkAIu6+eeftrqRhSiMADOCeWvLl3UVRRYQACgaGG3/oMG6ku9yg+LKBPzkAIOIM62/uunDeHPQg/PIADJEA71EFrbEAElkFKdzuxxPM0t0w7HAA3roA7KcAzqEFqrYAA6EEyuzu2YAaNYbg/HMA4DwQ/pMO/8oFmMgwTsfunYvHcCUA780AzQIGXtMO35LhM55QT9LuSmLnkBrw7JUA8HIQ/J0A39oFl2EABU0PClXqlYto5AyAz0jhAWHw7F/hJzEABO8Ljt7u4/w27P/6INx3APTgsPx1ANKe8S3TMD8CzSH++mTuFVheEM3cAQ4J4O2BoTmIAAHCAMpO7wq+oUb/UP9XAM8NAQ6mDuPT0LFYAAhODxQR+lToGx58AM/OAQ937uHWkOPhAAOoCjPDj2OyrGWeUPzKDzDuEPay/Wh7AADTAIYi/1Qv8PUPUP9HAM3oCC9670aUkNOxAAKdDrc0/3EUpaDUQOyDARW08O+Z6WocABAeADGF75ll+fuPUH/cAM50AR4N4N+yDW+qAHERAAPVD6c08wr/4P+J349lAR9JAMzWAPL4/PejABAbACh3DjWvExhn7gZ8+9CXEPzpAM65DxqakPh9ACAf/QAE5gCuM4YGN+4chADhjBD+RwDM9g85U9C0jQAAFggeD/0QJT4T36DcdADxpBD+WeDgCx79/AfwIMHkSYUOFChgz1bRqyIEADIYfELSSYUWNDjh09fgQZUuRIkiVNnkSZUuVKli1dvoQZk+Q/NgjOMevH0h+/dMmYqRNIUOZHfaKwcAgQwAISQr0waoQ6cOhUqlWtXsWaVetWrl05/jvyARk5mPmqHWOW7t5Gr9QIEamQdMEMLYd66VMYVa9Xvn39/gUcWPDglf9mhElGT2a+c8mOdWsXVChXfwbFXRpTI0JSAyB8nHG0il1CvaULEkadWvVq1oTntTY48IIlZJX/h/JrB+3Y43X1oPoVt2nOkBQS5Z7o4cSOI1PU8MY2bRr2dOrVrV8X4O/Pgkqw/+lTcEydbar51mHbzWycOnuSJ/P1J84UoTNCYFQgkDSpAxEzgFBh4w9JRJllG32iQ1Aq7BZksEEHUZqlhQB+yMW7VZY4Jh+sKuNHnnSWceyYZsJJpx168vEnKr/82WYVSv4Y44gbUqgAAf30MyACDlKYwYcjqDjDjj8coSSUVWYxxpx5UkywtAefhDJK17ggoIJNphvojlaq4Ysfe9o5pxtkdttNGQHGOUedduSh5558+pGuK322mUUUSQaZ4wskgLihBREqaMCAGwcdAIEGJrig/wQVZKhhByCGQIIKLsZgYw49/hiEEEckuWSTUExZZZVeTjGGmm3MYWcefZiMTkpXX4WVIUzw++I1LP35BBYNA+OnHnnWSWccbJphhkwykxGgGWiw6WYcNNNUZ5112oEHHjbpsceeeu75Jp989tmHH376YbVJtkDSxxxqelkllEscGUSPN87QwokjftihBhlWKIGDCyZwYAED8hu0YIMDEGAAAgxAYIEGHIhgggouuKADEEo4IYUUWoBBhhlqqCGHHHrwQQAghBhiiCOQYNkJJ6igAgstuPjiizHGOCNnNth4Yw6f7QAaaD2GJvoPo48eBNNB7hgk6aSPhlrppgkh5P8Qqx3BelNJtqaEkksuwSTsTcbmJBSzQxElbVFMYRvUUN+eJW65e6G7bmF6ESbvu++me5ZQTalkk7AxIdtstdt++0i5Z6mb7ryNgbxUU7fZRhzLzcGcHc1TnadzfT5flbxYTdrGhwBacKo6YDo5JpPnVvOnn3zqoUeedoA9h5xwwsEGGmeUYaZYY4cnXqFkjvcpeGSUYV6ZZp53Jnpopqe+d2yewYZZZrvhPpxudgc//HDGGX98Z89HP/1qpBmm/WF+wSV+VuZnBRVUSMEff0tIsaR///svhCUKMcABCqAQfhCAHxBoEDwsEA8PxAMcJDjBCZYBDmXAYAYxmIUycND/g1kAYQhFmIUqlLAKI0ShCE24Qha2sIRWgGEMrTAFGtbQhjaMQg51uMMdPsGHP+RhDmkYQxfK8IY0DGIOf7hEJjaRiU2AYhSbsAQqVnEJUmyCFLS4RS5KoQte9GIXxDhGMoLBjGc8oxjUuMY1ksGNbkxDHOU4RzrG0Q1puGMe3bBHPvIxDn78Yx/52IUyoMJ7y/gdM74hutR0Yg2uQkdCuMGNenzDkt/wRiZl0Y7brUMbntRGKLMxylFe4xrksIY1qrHKaoxDGq50pTTCIY1o1LKW3bBl9nT5DF7ychm/XAY0ghlM6hXTmNOLXjKVGb1mLJOZBnlesp43zWRV0yPNnICmmQ6CTYSYqXnfBGc4v7k8cioDGedEZzrNuc5yptOd74SnO32BjHnWk573tKcv9LlPfvbTn/+k5zzfmU984vOfB0XoPnmxUIY21KEPhWhEF6oLilbUohfFaEY1ulGOXtQWHwVpSCvqCl2QtBW8UIYzoPE9aVgjG68oB2s+x0hY+cM2NkUI6ED3noIoyEkHOY2DaDo6ohbVqAsJCAAh+QQFyAACACwFAAUATwJuAQAI/wAFCBxIsKDBgwgTKlzIsKHDhxAjSpxIsaLFixgzatzIceK0NjEeCGBgo1THkyhTqlzJsqXLlzBjypxJkyYUABSCeLFRAECimkCDCh1KtKjRo0iT0nwE6p+Af/9AFUiAT6nVq1izat3KtWtSqP9iAEjltazZs2jTql1bE+w/GwBUsZ1Lt67du3i1Qg1WgEG/vIADCx5MuLBCqPhYABBkuLHjx5AjK+0XBIARf5Iza97MufPEIAKC/PVMurTp04QpAwhSFbXr17BjZ1XNGrPs27hz61ap2kY/qLuDCx9OPKEXAAe8KF8ut7jz59BPVz4IKLr169iza9/Ovbv37+DDi/8fT768+fPo06tfz769+/dY3TolKF+g/Pnw8+sfDhw4faf+gfXUfgQWeJuAAtrXX30GNujgaf49hV+E90VYkCoVZlhhORp26OGHIIYoIlQcjmjiiSiKWGKKLLbI4oouxiijhzDOaOONNd6oY4w5ejgQhRO6JSF+DxZpZGMIAgkggxYe6eSTeC1YkJQSDgnllVjOxeSSCTKY5ZdghinmmGSWaeaZaKapZn6OiGLbmnDGORM1AQQwA5Fy5qnnSaEEIMQA8+C556CETvRHAH2uImihjDaaEBcRsDPAH4s6aqmlPbTwTwVOVHrpp4SWMMQ/N8jQJKiobgcMChSY8EpBq7b/+qoAElAQQgiJvJnSAmf8M0YDp6YqrHUsVJcICgUVK8CxAkkwa0vmBHDIP44EsI2nw2YrHDdUCeAPA8EMxG1V34br7EumBKBoLwFggq228OKWCgYDmQDKQPPWe68EIWBgBDcIoRADH+UUbPDBCCMMjMF9BFBMwQSokfDEFFds8cUYZ7xwxhx37PHHFm8M8sgkl5ywyCanrDLHKK/sMsWePOeJwfkKRMK9AtUswM0CECMAPlDEwNIZCwDHARLvxqv0a+N6C6643ZZL0DQHsIQEB8DNcEPSS3dtmrLMEgQ2su+gI1AbLLAERArAHSFCsF7HbdourJIwawxk0U2B3QIE/9MvBjaEu1INNQBHNNxyJ06gCkAAN0gAgSouuYNHA9dnL1xPrvl5DowxnzHtZr756OIZMMd8+kwqOumsc6dPAIPgF8EXq7du+3XbBCAJfikIUfvtwDvHbij4+QDD78EnH1y6s+BHRQXIKy/9bZcEYAx+dhDgT/TTd48aIZDjJ0kA1HDv/fmeZb/9QKsEYIr56Mef2RnA4idOAI7AL//+jjlxQYT+IIAd9Me/Ag5mCCew0ASwQEADOhAvN7gTkVLwgwY+8IJzaYEPLNSD42Hwg5sBwRHw5D8LgvCEXpkAF/A0BwPoCoUwHMwC2ICnQwTAHDHM4WAEiCdRBKB5OgziXf9eR6mCCCN0QkziXNghLTwR0YRKjKJMcrc7gzTAc1LMYlmOuAlBiWCEWgzjVmbhPkERDopiTCNHmCeoI4AAjWqM40U2EQDMGeRXcJSjHiVCCWsJ6lDz2KMggWJDdggKEwEQxiAXKZND6UNQZBQFIyfpkuydiomHoGQQvaSgLnGSI2womqD8YYA35FGTo6PSj5akoJZ8IQLBukCnUAnDJAWJS1ViSQkXBYMenJKWkgPSKof5yYFg6EX/cJuG1rajZtLImdBEZjSnOaIeUfOa97EmNrepzW1is5sVGmYrW4nLlDBzUVyYwC+BmThbrrKc40RJDky1KD0M4IXsfKAqycn/ylyiRGvBGt828gnCLQ1pQUJKyQoqiJD2mYKgEJVICcB4ECpG9KIOkWWlAmgHjHpUISr01AS08NGSGoRXnkoBEEzKUoGYzlMdbKlJ/RGAIiLkajIt6TwCQAhPHS6nHqWip/4gAH0AFaNHdFdCLiEAYxz1opH01CoE8NCnQjRdikoINQRACatC9HKeIqJXCYpIYWCrAWMlqEDXmVYlVssc2JJBDtoKzMdFLiFAUAFdaXmo9SXkeXtFpSWx9QYDBJZ1sXIVrFil2IEc51kdeQMCECcAux52dGNLlrGQJRBVxOBcKKEfZTchAEVednJNk5pAUvs0fKAgGKA9yRfUia1Z/whAkqeVnM7shS96CYS3UMgDrSBLEIERbGTASMIEMJaLAfQBHS+LrsakS92Xtay62AXZdbPL3el297veBa94K7ZdiumMZznz7c5AUQoWYCa2HbkaZQOoh9xKjrWCEwB+zfAACUgAAA+YBEqGUALK/mN29pVcZsW22YLAlyM/WIGBJ5pgxemNbwLAmwAuTNwHb2QH9FyI1iqsxzMyRAgnILEc5Zo0LUxAxXFcaNLUB+M0iipphayxGDuANIZwoo46DuMFqJC0SAZZiyFlyP0cceQsNqBXDPHHAOrb5CgiwJQMOfAXqhxFHmb5i1xWYk2T9o8RhzmIxRhA7LKM4jOjGf9/ZMbCi92cw1zojmstpHMOTzEApTIEfOzQMwxPgSiu0bEXgkahJgbwvoYYOdEg1IS6uLZkSIOwEnXkmpSpbOkLNsJ6XPtH5zqNQUX4sSH/ECGpL9gwQ6LazKs24B3Ch2ohpCDWe/okJxPUkVn7dSH/kDOu9bTPKikJjmogAGV/1EJ8DvtM7uyklYqZkS2IEtU5fvaahBlPKcHtmCnaQv1CBFZvygic5o4mutPtzHWze0fufreN4i3vGdE7SOI8aD87cgVYZm542t42Qt+pb2pfJAnQy1y0mBxwNRX74XAswv8yx9GGOzyhCG3SsilCBA9s3D4qtLj3/MEDtmXuHyf/GILIvccDTT3kH4RbefdocKeXE1jm06NB4V7+SpxLzwU5EN0/9EAAo/o8eC7Y4MurJY6jB28Evnu5D23r9NttgKKoZhdpq247C8zyIUwkBNdtNwEiQ+Qfpht76yBAu7NXgApqZ50CoPxylcaddAig4dl1IIO7j87LL8ep3zU35dX9g2iDn9wTz27ZxCdupz09e1kdn7iFG/7RlPcanShh+Epn3mug87ND/lHxz3dteIb/x0hN3zUyNvrsJxAC65eG1dr9Y56zV9rUbS/43Gvr0LZHvO+1Vb3rReQfjhw+fBJLXOYLJAYYCAELmsOR8YnD9sVX/nsWPJAFm00AjwjB/0kKaXuHar89+IUauZ42EECQ4CR2tb3nz6+e3eJMAPYXSBAe8ADiDsS4IzNrJTMAagBd42Uy5XWA4pWACvhdDNiA3PWAEFhdEjiB1FWBBXNe96eBBAEIQtMR9vRx/xEBXEB/65F+qxU17DcQBVAOHdFCIrhKKWeC68F9ApFZ7zANAvEID+BsFnEGChCDChJBNKgeHPZ8eVM3r0IMJhB903cSY+AAQmgfR9ABRXgpWuBvEnF4C3CFluIEFjCFT9F4XlgoSJABYvgPh1aGjDIEI5CGAMeGhAIEJ+CDwLZTgyCHhOIDLoA8UMErejgoN/ACfvgPPBaIezIDNFCIsIaIcf8iA4s4EVDhNo6YJy3AA4X4K5UoJyeAiZKIfJCziXAiAkVgh8BGR6YlimlyAUUQPf8Qh6qIJhWQBK4YdrGYJhFwBa74D3l3i9ihaxiXUBzRAFuwi0fji9cBcbk0H2LIEAigBqZ4GGV2A8gYHdE2bRbSjAsRMbt4c9X4HNzmTwHCaxfCIgNwB9vDIlFYbyrCjtzkjt8Ej9d0b/J4IvRYjyZyb/kWjv6kEa9zB7uYfN9YHNd4jfGUETvVB7s4eQNJkPvGT8uojQgRLQpJEVABiw0pHAZVH/fREbmjCNF4GHiYkV8COovAPX94BiSZJexSCSj5D6KyklhCRi5ZEVBBhDL/CSXtowkv6T85CSU+dApG94nN9pNO0ien8JJvZZRHgki5EJIJARVYxZRGMj658JIWRZUPUi3F8JKlp5UNAj5daRFQ8XZg6SCHAg7mAxW9dJYNYk8cQpb/0GZuWSB2YABxaZP/8AUOUJcFwgYKkJcWCYpD6ZfwQT+C+YkMaZjw8UqJuYWvGACcwJj58TyPeXz/sFNERZnv4QQccJlnBxUOsGWc6R5uA5ovBxUq8AOl6R4I5IIXARVr05rtEWGwKZeaSJvrAWK3qZdkqJvnQTi9OZhTB5zpMQM5MJyfSCeSYJzooUHKCZlf6Zzk0TvRiZn/IEvUaR4lIADXGZowVwPb/1keR/OdqfkPSHAB40keb2eeqVmU6xkeKuSeo/cP47NV8QkeT0afqPYPmJef3aEAbMCfWZaZsAOg32EAdkCgwAYVV4SggOF8BOF8+GADthID+aURU8ag0vgPFASheWGDApBZ+DAJmJEHMQCVDkFEqAmedAiid4GC+qWCGZoKFMARkMehUQkVRKOiMLoV+Zde+kIQQaAEATMwH1MMAdAHwRBdDZMLFhgyUXqAGDilK1OlVpoyWJqlJLOlXIpcHcOBQmoz92cGKPAOHLF5Orqj//mjaiGjKNgGJPB9GxF6a4oQUKGZbkoXIrpgcnqnCzE8gGoQwFF2ezoXR5hhSbg3S/+IE7diAhzheoM6JVAxA+J5qNCBVS0KnumJqdAxdZP6H0M3AIXpqcKBiqH6TmtoqsRRPdSQqqsEOl3FqsNhfZsamqT0BrQ6HIUEq60kAiq3q8FhV7eamgLgAysgrF4BjLZEjhjRV746JLmprFuhjAPnrBZhSdEKFuCDQ9SaFQU5cPmWEXMwWcVan//QPrj1rVcRjvz4bSgiWvfoIfNQePg4r/gYIviarx+yr/zaIf76rxsisPBmIvuIb9K2EWMAS+danwJwAUjArvEhrtjIjBKJEHL2D9FaJT2QrBLbrg9pbBaLRiXUsP0pAEDoox8rExspJB25EUjgcRsLFuPjVCv/6xoIpLEcARZHxFQ3ixpAIGEdARakxAY/ixo9YCpDCxwnwJpHaxoRhEbAMQQe8LSmgZxS6xTZU6pWqxkalLUC0CdU17WckXJZ+w/3k0lkyxki0GNL6xQOUIJruxkadRICMgMzMLebMVJnKwBfsAAqq7d30TlwBBx9lIqC+xgzVLhOkTtqm7iP8VIoISAT4ASQCxmFN7nAkQMee7mGsXh2CxxsYABc67mAgUmM6xQ/NramKxhLlkfAwUSb2bqCQSeXALvzAbG0Oxhah7tOAQTdubuBEVUpISDZE0jCmxftk1Wa6xTpUlXJexe7pxLAoQ8EMAfRixc/ZkfFOx8tQI3Z/2sXrnpK/vEFDRC44YsVTEe+wIFIiJa+c0F+1Bu7kwK/c+FI7DsfIiB79rsW9vRrmisQSFAB/bsWd3mxBSoQNjRQBYwWoYTADeoUdMJwDWwW6/hLCVK5FXwWLgbBDSoQQCACG2wWu8QS/vE4TTfCXRGzHtyhAkAnj6vCWpGz65QgHMC/MqwVPqApNewfTuAA6JvDMxG1LuEfiMS6QqwUWFvE8zEP15vEWCFjTDwfM9B3UGwVNzbFAjEHBIC8V4wUlfMS/kFGmPDFSbFAbDVO/hABlmvGAyGhb8xYs6IE/+V/FkG4YuwfSDABQQy/fdpgAgAKxOBhFiGgaWwlAvBj0P/7xXBKowNByBUBeEwsEPrQAHDnxkGKf+rFW81ixwIBgBwDDgFwBwXjpSpDBBDQgKb8pR6zyqzMMq+cXa4cy1JKyxcYpuqFXpo8ELoMyRMBeYdsJf6ASFNlxo28fvnlyxJxP1WUx6izAHJrxn+8LJzVyXWKRDARIUJwAX2cvbtgMwOhYd+8MwNhBCLBADeaEagXEwnSR0icxNY6shbkUMGMyPOwAFhgxuEKTy18Wz9Uz7yGBA5Quirsrgjbj+U4IqhIIu/WPrsTjwSLIxEt0RNtbxV9bheN0SNysBytEX10LSwbISVwqVC8z4iM0BZRLa7GzhFiT/hZ0iG7T/38OI//NBMJwg4GoJJX3LKehK0U8b/1nLACAAQV0M1ujBEwGNQn3SdlfNQ0IVpKjcj+AAJW7NQykU79DJ4DAT7FbNUw4ZlZfZ4DoQ8T4LRe/RI03BYRYgcDYLNn3RLGE9ZiLRD33MZvzRJnFNVC/QUGkMJ3rRIwsEF6fdLiYAB2/dcoYbZBQY5nQACIi9gcEcaLHSHz4AA+ANkokWSTTSSH0tWYrRFPNtgER8kXAANG/dkFIblCQY59RMGobRE0ZVOrDUA14ADe+toVgbpEQY7UgADBitsUIVRFQY6HsnXALRG9O9wW4g8wMAGBdtwRQc9GQY69YAA/cNqYPb3KbSE21FHQ//0QZSXahNokTjAA6/rdC/FW4j3eRKIPK+AAL43eCYG/SCGMArANEdABty3fB3HA683eBTELC1ACz83fBgHVSuGsq6AAKVDgBj4Qz3Mq/bAPABzSTWIKCJACfv3gAnAEBUYk/qAOyHAMyRAO9qDX9k1VDTAB7yzfcY0f/TAOx0AO7aAOynAM57APat0kxtABCDCrD14DW4Mf6nAM8DAa/aAOyaAMJ04TKc4ONxAAXEDQwM04/vENyXAOAHwP0HAM6hDVKe4PZzAAKfDY0M1j/hENyMAP+NQP53AM4aDjNo2tpjABCDC7363Z+XAM6xCNznAPTo6t7AAEASAD7wvdi/8rEOeQDPyAOPWgDMxgD4EeLJcwATlN5X+9aU7RD8xQDUmzD9CQDPAw6YsyD+U9AYeA3SqMh04hD8fwDaOxEPwQDl5O6osyCzUQACkQCqpewZvnFOHgDA3rD+lwDOPQ6+AJN5sgArp+Cchuv6i3D8mgDg0LFe2QDNBA4XPu0/5ACScQACLwB1781rXXDseQDxwKFfbADMxAD7aOEP6wCTMQAAiABC3uxoh0PeEADX6YD9jg5fzw7gghDFrQAAHAAVtg5l/8VtL+5RbZD8UODYC+7T5NyZLgAwYQACVwBof+xY4ED8dwDy9JD8ow7bHO0gYnAMVACDqQ8UPGCZjewOX/+g/7frFQwQ9v7gzubusVLwDzIAlCYPAGcAN2sArPvravxA/Trj9gYQ9dbuJAkSEJ4Q+rcAYrQAABoAA1wAaiMO7965kgL/IaARX+AA83DvU7/rIIMQ+hMAYwkPEEcAJIMAizEPOma2vB3sJu0Q/t0AzHAA3tcPIWDhYrohD6sAp28AMVUCcGoAJHoAei4OC0OwM8sPSh+w/9AA/dQOLkQA9Hj5nalBDmsAls4AMcMAB1EgEygAR6EArG8Pl7KgJrcO6++w/1kA4j3unyIOc23Uk+chDzsAqDwAU3cAGoHwAGwAE34AR2QAmzIPm3+N8OAQGd0A1yLaqkRw/n4PfH//AM6bD7Q3EiBaEPvSAJc3AEMlABWF8nCwACNYAEZzAImNAL5gD7Y0f4W+EPGmDkFd69APHvn79768IxO3ZMWTh18u71ExBR4kSKFS1exBhR4EaOHT121GcsFKEzR2ZwWBBAZQACE07UGKJlziBMq4Sx85dR506ePX3+BBpU6FCiRY0eRZpU6dKKHMsxhRpRnBlm/P5FvXi1I8F2554lS3isWbdz6uDRy8cPq8+Pbd0KnNdL1CE7XIbMODHBwEqVBBpcSDHjBxIubPQcuiRqljBz+tY+hhxZ8mTKlS3/7HiZaK5jstRq1rg1H71157o1Axs2WTNo4cadS7eu3Vl79f/y7ctp+e3ujvOErcJEyM4YJ0BqrOgwQQFfvgQWTLhwokWNHjyQUBnDxs6fQY4ucTK1qpcwaubmOQadXv169u11c3TfkxSsclfjf/S3r568durOjQsHGgGYSS0sA5lBphlnoMGmG9fGkeYc2NShcB3ZZpMnQ3rosae2euq5Jx8R9yGRH376yW0n3njzhx1jejEFE0cGsYMNLpwYwocaZBihgwoiWIAAiZhjbgADEGggggou8KCEFFqQQYAbevhBiCGOcMIJLLgY4ww23rBDDz24G+QQRxyh5BJMNgklFFFMCW+VWWbpZTxhjKGGmm3EMYcdduY5Tx9//PmnvhUPRTT/UUXfMnRRRx+1Lz73MpN0p1eOcUOgSi3ijZ997rGHHnngaWcdddKRcBwAu8EGGmeaaQYZZgiUyEBbb8VVtWR2nRVBZJQBFlYFnSEWGmOPbZVVbBrsplkHHQwnWmkBVLXaaKpVtZpxqhlmmF9wAZcVVFAhpVxLBLAkXXQjKsQPifDAQwA45oWjDHvLyCLfLKrgt98qrAB4CoGniKJgg59AOOEmFmZ4CYeXWFgKiSfuomKLwcAYYzE2FoMMMtIAOWSQ3UjDDZNPjiNlleOgo+U6XoYZ5j1ennmPmm3GOWedcQ7E5kB+BjpooYcO2pCfjUY6EKSXVtoQp5+GOmqpp6Za/2pBDGHE6ayxxjprRrwG+2uxxya7bLPPRjttsp8Geo9dNrUIjkrgLuqpicrBO2+9gdFbb3C44eabab4h3B1vDke8nVIt1GYdbR5/PBvJJ7+GHGusIacazbWtRhoIpQkH9GjCiab00rGJZllsnmH9mWVeXwaa2I91lXYBBXAmImJxz733nZSJCHjgBRheouGREQAZ5Zdf3hdknPcleumnpz56Xq7HXhfst99ee12+Bz988ccX3xbzz0c//fNjiSX99tWH3/xa5qe/fvvvxz9//fe3Hxb//wdgAAU4QAIW0ID+o0UCFbhABjbQgQ984AHtFwtQoINuEhnIBZeiKQFwMB408LnIoCYyKH2U0IToEUCKNJiRSK3QhS+EYQwhExAAIfkEBcgAAgAsBQAFAE8CbgEACP8ABQgcSLCgwYMIEypcyLChw4cQI0qcSLGixYsYM2rcyHEiOiUoGAh4wOKRv44oU6pcybKly5cwY8qcSbMmTWAHWBiBYkSkkZM2gwodSrSo0aNIkyqd2Q8fwXcYALxaSrWq1atYs2rdWlWJgEdcw4odS7as2bND8YUQAAyt27dw48qdaxWdFy9GHgDw8o+u37+AAwsenDAYgMMF2gAlzLix48eQlQYzU8BGv8iYM2vezDniv8//2gDgc7mz6dOoU/8F/VkVABuqY8ueTbsq68+TAARZXLu379/AN6p6B1pAuRAABAVfzry5c4NKDtjYGaTA677Ps2vfnhpUEAwHBDD/iJHIH3bu6NOrX8++vfv38OPLn0+/vv37+PPr38+/v///AAYo4IAEFmjggQgmqOCCDDbo4IMQRijhhBRWaOGFGGao4YYcdujhhyCGKOKIJJZo4okoclWcPoOIk+KLAQKDAgUmTEWQjDTaiI8RFGCwW0usCYBJAAawAeOR/LEAiACJoFCQkkw6KYASSlw2jUu36TEAEATog+SX9nGTgFP+MBDMQGKSaeY7CbwT021UVBBKALOAaad8qWAwkAmgDJTnnqC8IgEUJLCQCUIoxMBHOYw26uijjwIDaaM0uJDLAH1MqummnHbq6aeMSgrqqKSWamqkp6aq6qqOisrqq7B6/+pqrLRO6ol2njT6p0Ak9CnQrgL0mkpyAqjCADhA9vUZCEcI4MAXd0brXpoClHmmQNRaCw4ApZlwK0ufCfCPPwgYKcMN0qa7npL/NPkkIO1KGcMk/wTDwJXgKmtOAI4I4EQF6gbM3S4zkmBjDKkIQDAFBgsUDAsYhABWvsqaEsAqAvwRwDwCd9xcccUJBHK44b4E8iEBmCOAxRh77PJvJYt7XswkB3mQKrflrDNr5ex8xgKfsRPAIDsXbfTRSCe9c89KN+3001DfxnTUVFdt9WdTX6311kdnzfXXOauiHc42yzwQzcrKfJ5KMQ9RwkATUPHy3LWNPHPNa8fM9nkw9P8wUA0z0C24bDUXVHjJeqcUc9wDIcHB4JCjdpvIygaZc7IDGTDHQGwgEPnnB5Y8z9DYDbIx6KgLWDI1AVCCHScB9JL67P6VPEsAomDXSwCh0O67fiXP2Qt2ow/y+/H1hSxJANucVy7y0McXssb6nHeBE9Fn317IcyAQsww5aC9+eiFzMUHMQpww/vrahXwECOVHwP78H5fcAwwha8kb/fzTFrIMOlAe8/pHQP+dpwRHCNkqLlbABqpmcVgI2TYCIAkHWtA0MVOAkUrmjwHo4YIg1EzJ9BGAP5hNIBHgQghXCJmS7atfMTuBEFhIQ8aUbHecOKEAbhC4GvoQMCVjmdr/BOK2HxqRLiW7RACMMUQBmO+IUIRLyQhxOu4ZIIpYNEvI7ECAk4TMdBzLohhVVLIxOIBy2BmSMMbIxqyEzAkXOBt2FmiKNtrRNiU7wtsoJxDWUeKOgExKyH7QAjkKZHQmDKQiiRIyHhpSIAh4wyInGZT/+Y2PAqmA3CjJSZmE7ARDkCN2UgCETprSZCXjABJEKRBHnvKVe8POBFSIRiLuEZa43EjMFnAGVgpACxPIpTAzEjMC2MGXc7jiMJdJkRGWkCAlAyMzpwmRkgntENBMYwDWSM1uLmR1rcumQOjozXIi5Ia8E6cA/GjOdqpzgS2rJSLdSc/gxS6b2HkePdtZ/zJKBIAa+MzkJvdZzpI5IgDsCKgASElQc5aMegqtQQ0aOj4c1aggFrWRBCgQghCUZ28C4aJBSiaEFFBUfFByF0FSKiUJ2ChfAjlDA0aKHTieNHvZMhOaxlQtnboUS9h5ouGw87ObRg9YfPKTngSSVAmEAANG4AaiFJWqWZWjCBng1B0CUKuucsqqXg1rVcVKVlWBtaxo7dRZ08pWVLX1rZpa66SA1SulDqSuxBAAPqAQg1gSUX1DFchBVWbU4+X0WgI4LEGmER7F2Q8GNO2L8AqLPJa+K0oCeAc6BNIGFvhVADVA11D7crs6UvZ3C2uYABCmsIJNJRhPxYANENuRkP+14AeRXWc4T4vLkCEwt8XjbW9Ldr3cCkBzwoVlyCIwhoOUbAJaSO4rQ6YASdJUICJolnRNWZwOfvC6AgDfdrkbruCC937j7WRxXuhc7DguvZwE5yXaK5AvyA++kJscPvUWMpSgs3e5FSl+B1c4caItcbqcYwBMO1oBSHPAc7MbK+2GYI0EkYG5VSITIfwytD3SbAU2CNmoljXhHY1lYEvx0lTM4q15rcUwdtqLY0zjrtX4xkibMY53jLWnffjAIa4tdjTc3r4IIwCb4HCH8TbhojlWsAFwEX2vqeQl65CPiaswMUt3Ovp6t8ou0y/esrw2jjw0APt7ZAN6CWY2lkz/wPQVQHHbPMaSsWEBCSmZCkpJZzGW8YznDJcr+4zFksUpz+EaAmAJHcWSvTfQfTk0oxuNnSJCWgBsUMCkKS2QH6wA0X2B6KaNWLIc9LDIAlielEftw5LNQLSBFsBkWd1q7LTABwoJ1+1EQetaCwSUue7LBCvYaxYyTSCqDLYASJjIYofw2ALQpLIFEElnrxDaEYAWogUyASxY+9kl42Ww+1KCUH77gtBGLqgF8Opzoztc/gjAdy/taXdb8NjmvfSj7V3AY7N33WOYKb/7HS52KpuLaR74+o69uyQrG2UJVTj/jr3rb/ZFjRKfeLiEqGxyZnx+x571to0RAEx8HORD/16ixf+R75OLr2dQXjWk/WFMly8cO1QM47od0Fybvxw7Gkt4QJPtc+3BXABwXveti2507HSOIcXJgQyYnr2jm7Eh4TqCCKiOoYxidEYXHYgXpOLfo2MhmFDvi1C5XiHLrnRJKi1WDH6KkqPbNO0CSCbbK6RYbPHUWnpFQTDo3pGjax3rfXnw3iOEVF8JoPECgEIeBED4giRqUadyFQ9GQKpFBOAU6ICrWUVP+kbJtfRlPT3qxar61Xe19a6vFewZRVfH174ULDhJ5Tdy9B9ANu3/gOfiJdT3xP7dTGZ4gAQkAIAHTKLu2Bn0uElu8uFHyO0Dwb5Adq+Ro7cb+C23fv+DUnuwhJG/INzPyNFhgGvgH3dz4kfd0VMwQ/dDN/7yx052HRKu/eP/c0c3Z3j3ff8HOUdXAd6GeAJQbwVogNjBXPzXF3fXgIJzdOKmgEVFgRWIHeqGd1riJRrYYUfnQRH4DwclcyEoMP8Ac8xWgiKXgioIc6NDCCVYcTDYMSvYF+LALyW4g/1ygzHYFwYHfC0IhAGTgwJwZA6ngBdohOmChDaogALohNGChMIXgQKgArhFhdKChKJAJw8haKfGhXaChLAjO1hoaWRYhjCnRABVgsC0hv2hX6KEOGWjSzB3gmH4GXonh/sRZCCGHYJYZsQEc1QUcYj3D4rnh/YhYbX/1F9XZmEwJ2qJOCQbxoiNeDc/NohaNmJRwzRaEjV0xGMkRoqmCBo6doo0loqqCGOs2Ioq9oqwmGKySIcehkm4iIcC0Yd7OISYSB+OOESQGIkYsYIxhWfV9A9F+IvJUzmBVWDDWIzlIBBXl4wCoABsxozAaDNjVjl3KIkCcXae0RdTqI0lYoz+EkfWqIXmiCLoeHjJ+A9S144ngo4lNY7/8D70aCLo6AO/t4f/8AWAto8jgoTSl4gIR5AFOY3sBmt7OFgKKSLoyH4S8RkvGJEdgo70V5H/cDsAhpEego7+l4w+CJIfgo7liHhfZpIZyZDdxpH/wHMs2ZJ9IZP46AGr/zSTG4KOTQiQ4qWTGoKOHQiQDAiUGIKOJMiRE2iUFmKMy5iMGciUTdkzMzgRn0GJUjkhxliSHOlP25CVFZKDvriHHAeWEYI1SYhkVvkPR1Z9ZgkhaBmFyRh+b1kbXncjYHcwEcMCYmNmxniF+KhPdekb2icAbrdZX7EWftkzX1gnMJmSgxkbxVd8AgAIJCBk03iGzfQPSxeZtQF5v7JUApBUAhAED/AAL2V5VJV55aAIAZALq8IDKRB7akWbbTV7tskquJmbo8ebZLWbvmkquFl7dsUrjleZfbWYAqCHa7mUnimZx4dYlCkABcCQFmaMh7iZb+A5z0kbhWlZ74Avj//wAEK3mT2Dlcm4iN2ZGue3WubnWgJADCawl32ZYNOoJRXxGZtwT+uJID3Gixwpl/1JIGh5Z/n5D/82oAWCltW4ljR3TAq6oMYojgf6khFKoMbonOPIUBc6IHm0dQdqah3qodiRPhbxGUjQASOqOtjhA4V0oDK1ogFSMgc5jugpo8CDHQS4lv50iTj6h9jRNycafAv2o3M4SvWXn8NmpPxRMr91ovqQlEyaH6mUkwdqk1OKHyUjbUM6klmaiSikbQcqUV+qpdjRk2upj2UKpu93EZ8RlWs6HyUjpZupnnH6HuHylM10kXfqHuUVADTopg3Xp/IRLgman/NEqPBRcLv/NaQN0HOK6qdGppZu+g9eGqnroWu4U4z/UKOYih7h4nFDum+fqh7h0pjE9HSlKkXfODmX45cCoJnFmJ2r6haAeDhMdp19QWTFOCeOWatalKvCyF+EOKR9wZxu2pbAeha3qEPEihCeCDXlcIhcw2yzqDO1eK0upq03lq3cajXe+q2fKK4xFq6aiIsH5pehFgAgWKnPsqzB6o1NxolC1hf4uWUyBK/BGonQqGXGmnfKREzzqK9kIWbe2I3FeqB9EaMWpqEECxzFYV+69AYGUJ4Pa0CRBjAWhjKEdbHBURyk6qZl6bEwk3W3VIxcSbIl2xdAoAK6RC5GorIrKwA9MHW6/3SpMjsbxUGmupQD/5izGBteOmBmVIB2QGtAArECW2hhH3i0SCsA5WZmQ4KGThsbVWpmylq1VosdXLoRUTpvWnsUdzkQXocPNsBRMUBbnBqmtcU4YYsU3wl3ToIPk3ASeRADFjuOArFmtfWTb1sUkxmdBJEKFACr1GZduqSmf0sUoPl4okmaAhEEXnEQl1dVBKAGoVcrW4AAvgmcwUkqnvu5oBK6oisrpft6p4u6oEKcoXlXjmcGKOAmCSYA4PBMZoasixsUgasm19IGJICYs1sMgIoSopq7QRG3mCUAvmudwcuDHUFlxisU7cla50cMAMBRIWACsJoLjapLaBq9Lf/UF6dAqWZWAkkKvpERLuPLa7X1AyaFvpgRLpqAYR3xM3kLv6vRF5UAhihxUF+Jv48RLo2wTSnhkQAcwH3hmm/YEV97wI4RLn0wAB1rZpDpwPkrAH3QZShxAzZrwYMRLlvVrh1BoR4cGMWhBgSwEhqjcyXsFyccsChRR/HUwkgULlcgcCsRqDRcw32RBEabEu+6wzwsAEWgjioBA0MrxHNRHETgASxxBByQsEpcFqDhD7LJElwkwlOMFsXBAy+qElO7xazaFzIwUSsxQT8oxlwcLi6wAy3hAFwgxWq8FcUxAuebEjMwA3I8x24ULh+gXSvBBQ6wx3x8FcVhAdjDEv7/W8hUHC4p1BK7M1+MPBYl86gtQS5nQMiTrBQlI5grsQI7oMmbjBQlU3Mt8S+iPMpGkae2yxIag4iqjBV/qsMrsUChkMqxLBThkrIroQ/GhMu5bBPhQnKS3BIiIATAHMw0ES6785EsMQQd4K/KzEh9UbwqPADskMzTDBMbx7+QXHLavM1AFav8eckL8AXhLM4w5U8L3BI3gD/prM5PBpEvQbHVI89HES52qhIWYwrxPMV0iEZ2KM0cmTFoBhO+PAcEPcq36oxq88+BlXQu0QI3sNCTHIwYDdHipKowwQUNYB7y3KwiLcXR6jRmxGNKNDymaK7kKmMt3WIs/dJJE9My/200NF3TRWOum7jTuioARSsTQvMHFl3IGS2vuVipfYEEGTATIgAEQ03UDm1Iz9rTQ/ABM4EFDVA9Gl3CBvvQnPjUKycAPuAC98sRc+LPW43Pm9kXNfACM6EPCDAGYK3GYysQd6kEzJeaSC0AMMADNKEDJxCNsYy8KgUKxJB+ay0AJ+DXM6Ex4jDXU7y7PYVYiL2WfcEBRUATrEMIkK3Ejdu4lV25phIBTAAOpLcBPCB6pJu6ccXatLLaru1Wsb0qsD3boTIqrOu4rjsQlQ2TArAAW1ATXLAA5pHWACzZgLd9ev2vBqAGNfGFaG3c+EvYUqLcs0tCd1AT+rAAVCDYm/88ve/JMDaSFwDAAIW7ZQIgNH1gE0cgP52t1pUqABOkCGWNEnOSO+8N35spALvTCDbhDxGQQPmt3wW9QJoQFFSwAFot3QQea194ClocEwt0Cd7d4LA6JKcQFP5wAaVU4RaO3o4wAMVQ3ykxBgYwDx7+4fFtOsUgFLtjPCmu4vt9r0IhAyVQ3Awu4+GynUThT7wW4zKutw2q4RWAa98Y5EPq0xo7FHYwAAAF5EjufoorFOyAACp05FGOjwLQskaBBA3AMVCe5ZcmokXRCwMAf2Eu5g0mA5dUFEOwAAmF5Woe1k9aFNRAANom53N+aV1bFFhgAP+b5nNeHN8rFOagAFb/KuhiXsV0WhRsMABoqOd7jk9ViRTzUAEqABSSPulmwzrFfBRzAqEPzenbJqBdbgDcNOqkfl2oykr8AA/wQA8kvhHsMAEwsBibrubhws4C/Q/twAzHEOzOIOszMSTwJ9CrLk7SdBvrcAzhUA/8QA/QcAznUBoxQQUDsISqnuzhkpCsQQ/UjuP+oA7H0A38MOsXoQ8ysACp7tXcvrAzNTX7gAzYcBlBQg/JAA3nHhPmMAEewMIBvefhcmhTcw7JkA91+A/2kO/7IBOzYAAzwMLbLvB94TY5+A/5kAzpEFkKnwzYwA8ygQkEUANaHPBZHi46IANIaPANz/H43g3W/hKX/0AANyDx7r7o4XJrxrgPGg9q/yAPyTAOMe8SlDDysNzrOa7GxXE9OdjsCO/z8HAM5DD0LXEJCMABVLtfA87Q4cJLfeEPzRAOwOfr4e7wF7AA2q71SS/EoGGtAgDu9BCB/tDs54DuF2EOMzAAWGDzXr31fAwaJOc6AjAOzUDioNHs5ADyMaEPbEAAHDDDar/2HgwawjcNyaAOsw4a7XAM46D4MTELIjAAVDDBo9Vj8A0aPSoA2nAMTx+PUf8M+2D3FqEPZ2AAC2AHES5KWRPSV8muAuAM3XCg9sAMylAPmj0EAzABesD3A6Fj0xwuRVUPxwAPQ3oPApAM6yD7FzELOv8wAAswBv/r86/K9f9gU+mQDJ6fn/xADs7e+jLRC0hgAANQA47A/Ak//n//GTsAA/3ADAAhTcBAggUNHjT4zx88ZsnW9UMYUeJEieb0lAig4IejeRQF/AMZUiRIjyVNnkSZUuVKli1dvoQZU+ZMmjVt3sRZMiSHI/KOffM389++agKawfuXk2KvLxwCGKhhR5POkVWTKsWaVetWrl29fgUbtitIfQTsdIMmICjNf/YGOmvX7+rXXmxgEBjQ4AabUB09WgUsVvBgwoUNH0ac2CVIYQEiHWunlF63Y8zS3fM31+u8RlxaGAgw4IKPM5SE6fsLOLBi1q1dv4YduzVISgP/qjHjl7UeuWTHoKmrl1lzV32r/hxZgSBAAAIddmD5g+k0RdXVScrGnl37du7ZQ7LRcCwdV37wwvVGNm5dPbkhwfozhsnOERgTBiwP4KDEDSRn/lxaxRi/DrKuQPe6QzBBBRdk8KSQZPAjmX2+4keedKA55phkoCFnHXryaU+kr/TpBZM/xhhCBg4WwG85AyYQAYYdhqDiDDsGkYQTU3qhhh19DASyqgaHJLJI1oR5oxjZQJoHh2PWGWwfetQZp5kMMxSgm3HSWUceeu7ZR7jqsNLHmFUuGWQOLY7oQQYRKliAgBZbJKCBCS4QQQUZauhBiCOc0GIMNubQ449BHJEE/xNORDFllVl6MYYacdiZZx4xQyonyAON5LRTTxHq5QwRmJsqNpAiaWUZ1A7rpx551jknHGiYufJKZpRxpptwxiHnnHTUWWcdeODxkh576qnnnnzy4WYffvq5VNPVBvJnnm16WSUUSg75w44zvnDiCCB0mAGGFES4YAIHFgBtTnffHYAAAxBYoAEHIphgggou4JeDDkAQoYQSTkhBhRVagEEGGWaYoYYaboBYhx168MEHAYAQQoghNj7iCCQ+diJkKkbGggsuvhgj5TNWZqPlN+aYww6Z9aC50D9uNnQQnQch5JA+DnEk6KAlIZoSoy+5BBOlN2Gak1CeFiVqRk2huv/RRlfBOmuts56l6657ATtsYYQxpuxIqaFmG7XFYdscc9iBm9JKKwVnHn3u9metifLWp9K4/6ZUbrvv1kfvT7fyZ5YxnDKgh0MGfC0YSD45ppMJY/Nnn3rogWcdddIhJ5xunnGmGWYaqjV11a8UIJlkTmcGGWVmb6YZZ253BhrdoXkGGmx+7wabbobXVddwjkd+113HYb55552vRppqhqH+F1yuZyV7VEjhnntLSLEkfPHHL8SS8gtBP331/SiEfT/ef38gPAbKQwA87scfDjzg4L///suAQxkEOEACZqEMWTBgFRCYhSo00IEPhGAEH2gFClbQghWcQgY1OIUodND/gx8EYQifMEISltCEJ2xCClW4whUuwYUvXAILmyAFKajwhCiUYRNeqEIa9rCHXZACELswRCISEQxHRCIYxLBEJpLBiWRIgxjSMEUqVtENabiiG7S4RS66IQ5fBGMY6TBGMtbBjGdEYxrNuIc11oGNb3RjHNGYBgMWghXMO943hsOaVnSiDsQYEjoKAg5u1OMbh/RGIr3RjnXIYh3agCQkszHJbFzjGuSwRjU0WY1xSKOT0pDG8aIRjmiUMhrYOOXvnrHKVS7DlcuABix3N0taQgN3t8QlLm23y9Lhqna/bIZRgFk7oxQzIsoQADInEsyCIHN2z4RmNKUZTdkhw5rXiMRmNrW5zWv6AhneBOc3xRlOco7zm75AZzrVuU52tnOdvIBnPOU5T3rS053orGc+9VlPXfTTn/8EaEAFOlCA2sKgB0VoQhW6UIYiNBaxsMVDH6pQXbjCFq7AqCt04Yva5S6Wz/AGOGBjOE/l7SD+KBxKrjMQ1RBkj4cx6eFkOlOaFkQfIjVJQAAAIfkEBcgAAgAsBQAFAE8CbgEACP8ABQgcSLCgwYMIEypcyLChw4cQI0qcSLGixYsYM2rcyHHiv48f2wAAUKqjyZMoU6pcybKly5cwY8qcKRPkv10FDggo9Y+mz59AgwodSrSo0aM1e/YzYSIIyZ5Io0qdSrWq1atYi5op8Mopz6xgw4odS7as2ZmvCpjx5xXq2bdw48qdSxcpPhIh8P0LsrOu37+AAwsenNAMAFUfvRJezLix48dEVRWAIiDxU8iYM2vezNlhCAr4BrZ127m06dOo545cvVoAgEepY8ueTRupkSC3b1MAYMOIqtrAgwsf3tGf8eMCvPYjzry58+cGbSbuC7269euppe8lib279+/gw4v/H0++vPnz6NOrX8++vfv38OPLn0+/vv37+PPr38+/v///AAYo4IAEFmjggQgmqOCCDDbo4IMQRijhhBRWaOGFGGao4YYcdviWPh6GaJ90BZFYmYkuDSIAIaSJ6GJ7H51YYk8xnkhjTDIEIII/Lb7oo3kg2ThQkNrNtM0AOwSwSY8/NhlejTIKBKV2UBaEGJVYalcOlnYQIA4IM2Qp5phklmmmTVueqeaabLaZZptwxinnR2/OaeedY9aJ557a/VbdlUFK6daUNgnpUgo1/DMHAf446eh4RBJKo4lVquQPAXb8I0kA1DzqKXgxVhoqVKMyeZI4ATjyzywBiPLpq9hR/zppoCiytEoApvwzTwCDmArrrwxeEoAxPTUwhq/AJnvgHwGAKMAJQiCr7LQCjuEAVD6sIC213PZ3hAhQcRHBtt2Wi18NiQrE7DzmtgsgCEdAtUkAvbhrL3/GQiVMAJiQe++/6ekTwB9Q6TOAHv4CrDB5xvDr1gRUJLzwxN+JEsAsbsGgg8QUd1wVMChQYMIrBYEsMskCSEBBCCEk0ihLjgRgjltClMCxxzgjxQIgAiSCQkE79/xzyii/NIcBPA4k7s05Ny0UNwmE5g8DwQwEtdRUEx0TFhOQ1uXLTodtVSoYDGQCKAORbTbaEoSAgRHcIIRCDHyUY/fdeOedNzB6E/+xQd59BJALOnoXbvjhiCeuuN58L+7445BHjnjjkldu+eWMY6755pFTzvnnh3tinSd3qy0QCWgLZLoAqAtAjAD4QBFDS/70AANpFs8i9u5UXS3A1FUL5DvwBE2jU0sz5EDavv3y7rzOPPsMdPQ/v4OOQG2w4NIJQ5C2a6/Ph0/ULiGTgHIMqQhAPgXmCxCM2xjYEDxLFzjRogJnMC3+/ow5cGxB9dMf/wYYGEy1CAY9ECABFziX77UoWwpkoATPso0ASKJFTqhABCfIQbH0IgChaNEbDLDBDprwKqYIwCpaRIgAsOOEMAQMJobVonnVK4Y4nMshXNgiVoUih0CEix7/BpA0gpgjAIcoYRCXSBM2KKBHl8oUE6cIFi507SATwIISqcjFlSDBA0xKARC22MUymsQHLWDSDcJkxjYaZQaVOci3yOjGOlYkBdE6yBfGZcc++oQDSGDS1/xIyJhE4H8GiZk5CsnIlhhgDkwKBb0aSUmUCIxgB2GVqyrJyY0cUVUH+WQnR4mRhl2CSf44GB1JScgPhhAh/lslK/t4qxUixAOBnKUuHyLJXphKBsrbpTAXIixiIeQH2hqmMg+iSFM54QKyXCYXBxGAeZiKDQuIpjSnOMQiGoRZztrmMt+AgEoNhBKcEmfYamWjGhVJJdbyVQpXoU6njWpGUTJnSqig/8GENAwT9cxZpAZVqii1BAkd8NX3AoozQg2JoO00FaDcZBMhpGBMCHgDnzYqJj1x9KNw8ihIR3omkZL0pB1FqUrJZNKVuvQfLcXSQ2cqqDgGSiU7kAGyKhAxhnZsoA+dFUH02RF0IUuM2vSpiO451EnlM6kCaYEPkLVGqCq1Q7KKaEStWoLuKWSOV2VlABWyR6uGlYET4AKyBnnWTjYgfwrZ4QvbyslHIosTk6QrJf0xMGRpUq+U3BWLFIIqSQC2kRW8oEIueVhGMk9ab21sITUpLUBKlpDzlBYMpnrZPuLVlwuxnVk7GzZ0UkNaSODAaEnbNLlK6wwNWC1rcQZOaf91c7Zt7BJRB7IpceDWjNjcrUBy99sylpUhrizur0w2spKFrLkD8QIAioYSfm6LHUhULqyCJj2CcHdoAlBFDCRA3ZMgdFtR1O6nhpc14UXtd1nDBwqCQd6VDOEE5IrAF9TrqdWdLW1lE8h/oZAHrR1kbnWrHOV44ALHfYAI4ACdhA/nuQlbWHMVvrCGJZfhDXt4cR3+sIgLF+IRm/huJdbb6lqnugCzDhSlYEGj6quSqjZEBjfg76PYOz8em+EBEpAAAB4wCZUkj1xAuKiOHfXd6QmtIDROyQp+QC7rLtlJ62ufANCnvvKVN8oo6Sq5yCnbK5sLkORSEbvMHEOekgv/oMJgcwxj2RB6mkLOMFwAG8iVWDyf0IANYayfOchXTDZkAWcYNAcd6BDLKlqCn/QXAh8tQWoEgBL+QiOlGfhBTvjrmZteIKty5ZAzZDPUA8ysQ/4ggHCiOny99BclBNCpV4uvmP66Mz1tHb6YiaPMvC5XC9kB7GBzq7YO+UdGje083SaMp8zmHRvKmTAxRnt3Y4gtRHIAx2uHjWsSO4IHvB22Z0rMWuR2EDtrddOTgPUhQ3R1uhHE1JlKKqlJltimtjFvBQFVUEJlZ0d0oFOI6LrfCXJoTWtabyvJKU1GVZMxBNCvl8YpphY/KcYzPtKNc/yjHv84n0Iu8j2RXOEG/yWRcDGCQImxS0UIP9C/hSSmlCAVIsp+Q8zp7dSmGnThKIGXxP5Rv53LvFAyWndSxwoRqRp9YRPQAsds93SFvZVjqa06wDLKMVNr/V+Ahgg4v+6uQnNMWLUme7kYDZFaqt1ckY6IpWf99m7NnWMgYnXdubWvJUXkH5HdO7Uo+3dHC15ZteTYP2Sgg8NPK3eKR6bjlWXDm/Fz8sky7c3IiXlgNVMi1Fxz5z/VQmtK5LOjfxWyI5Lc1HtKDwRY+UGwSwjXe2oO1JZIzm3/KNjKPjpF572Tynqzf0xa+E2ysu4lj/wfpZZp/7h88310X+izdfrpYW55tS+QGGAgBCzw0/9JkKk/RWJfPU32LvUEcj0BPCIEKSG4/oh7/vPw2GrvJd5AAEGClBiVIv9Uf+fhX6kjAAQoEEHwAA9QXgOBYJbDNy7AAxFWOeAQAHdwYg+IgRq4NxvYgeWQYh6oYSAYghM2giQoYSZoNytWgCtIEIAwOyhxcx6BaAJoHvfnXlgzPwJRAOUQZvFCEf+ASzVoHuk3EE32DtMgEI/wAGDTEWgGhDOQY0NIHll2PulTha5jAt8XfinhZkA4BCUwhRuiX/rzD3skhhqCaGUYb2iIIXYFhKbVhheiSkDodnJIIZckQH12hxOCXUlUEenFhxJSWAL0DxAjiBJiSoXodIgIIa7/VIhJ1ogQMmqFeIaS6CCqBoRseIkMEmsV8Q/FxIkMMkPCUIh/JYoKgk7bUIi0h4oK8nlA+A/444rEoXS0gnQmEXoK9A8dgAS0OBwNl3SkAnQdwSze5BHo8ovBMXMz93Mc4WwW8Q9Zp4y1gXIKh4sOd3FkZidn8EQll1LfuFInF44PR44qNY7myCbomI5rMo40lXKk8XsT4Xu7OGzUSBvMWFA+ZxJWJI8I8Q/0d4+yEYz35E7+CBHmtoumJJCzkVUqJ3AacV4X8Q8GowcMGSDVN5H/EAFccJEAQn4aaW0e6R/yp5E+oAIj6R//N5Ff4AAp2R8ykEAY8Q/r8pL7oQJj/zSTkqQ7NpkfYjaTlmZYPYkfTziRgTiU9uGFGhl8SFkfZDiT/5CMTVkfVweVSHABU1kfCABJUHl9WQkfBIAwUBmHXwkfFWhoE+lDZQkfxRAAgzWTu6J3a9kebQlKUOkA+zWX7ZELl1ZCH7ECPqCX7XEKSuKX/yAEJyCY7EGYomCY2aaY66EJKmSY1DRXkHkelXAxhjlPl4kejTAAoAWVrdiZ5qEInKJEH4GXpGkefTAAv6YRH9ECPbCa5RE4ppcRH3EEHUCb5HEHzYKaimIA8sab3aEGsQecwhJnxAkeakBCwMk8ywkeW5BNwKkPmBKd33EF4wKcvHgE2OkdSaBB3P+5AzDwnd1RBKq1RR/RkuZJFtxHENyHDzawMjGggxsBBCNARh9hj+0ZFkUoEE2GD5PQKHkQA02YEf7AAyqgn/9wK3fWn1lxgwIgoQZIASdBA2y0ER+BXTAHoVdxgC22NgQRBEogN3RjOS9AAxoGAUlwgniTgi66OTAao5gzozSagTe6YTaao53zOC0YoqdTgGaAAu9wEi6wAwy6eFLooVYhoTfYBiTQfiZxAjmpoR/hBBPApFjxnwKQflDagyjxAV5lpf9QmVpqFVi4ZVfoZa4DACsTAiZwEhmQS2R6K5t0psIBMXT0EfMQlng6HBDwBXvaExzgnX8aHPgzqALwAyn/cKjB8YYcARLTdqCOmhp0GKkfkZyVOht52BEgEZSbKht+OKj/4A8LMAahWhS2WCrtphGEaBIxAgM5kKpEQZBO1YwZoYiw2hMZRKtCkY9C9Y4b8Yi7KgDMYpm+ShPWCFHCShATtSaUOFJ2Go7ryI4lZa0dh60gVa3aCo7dOnJr8o7LukqZiKkUeZ3J6hPAaiitqhGe6KkxcgI/kK4/YatPFU0zZEzw2hNXSa/qinSsOivtihH7JksxYqb+mhkxQ2wnESOssgkJmxnUpA8G2xP6YABsELGY0U0V2xMtMKsa+xjQuKs9QQURELKP4UQH+RBBskP8hrKMkW0rm2wxsi90/wezhKEFXRNNMWKqeYmzg+EEFjCzNCsQM9BtQCsYR7ABRNsQNTIGC0CpSUsXQpCfKREk88KTU/sXPeAC2hQk83AwWwsYNUADX1sjJxCYY+sXMMADUmulAmGyb7u2ZpECPJBUNbIpykm3cgECv6MSNXJEHcq3cHEBSYC3NcIBQ0C4cjEBhwu4NYIEFcC4cdEAW4C4UOGylPsWBqAGUFUjluYIm2sWqXQHwwmvA1EBvji6ZLErd/C5bnEEEzC3rEsVR9QHsAsVm3JDtQsWlqYIuSsQfWoHvRsWH9QIwSsQMoC0xXsVrKIJVgUlb0AAote8VZFC0MsSUMIql2C9VyFJp/8QvTXiDxOwut5LFcKSC7QLm1ByBJN7vlQRM8VwuvvKW3kFv1FBTcVgVlDCDgQwB/grFcyyJS1RJTXQqAGMFHZgAASsvVBCTROXwEaBTQ28EjdlDugqwUSxRxUMuaRxwBpcFPzUwZBLENSUdiEMFAhFwlcLJRhMvCkcFPfFwijRbiAcw0DhAzBAww1bJRCMwz+xRmDqElXivxmbwO85EO+pBELGgBjBeENcwFXyAxWwvqzLpekHCsQAZhqBR1HswKQhST+Ev06af+1lYByBS19swVXiDxUwr/gLogboYv8lEFxMEA4YOY67oxa2BQRQDB/GxzzqOII8yIpTyIY8OYn/XIKLzMiO86NzPBAshsYb4T9rzMakQQ1iC79lnIMDcccYkVE8XMOVUgMiEMBYvH6f7MQXcTCX7MEFsSkPer67cDoDwWW1zDoDYQQPIAAMYKEbITCD8MolTBD6MAGzCb/2apBNmxCfRMwt3CJ6cL/Nu6431cwIYUrQTMotMg8NYKjWu6zi6ivPaiauxK0cdQZesq3fulHo3M5aAs8mJ8938s70TCfhCnTizBG1tM3cXBDmYAA/W7zWjHIakTv+3MM94gQLgKy9u8zxSEf5mtAkaxDGQACoGs4AK7Ckgo0Y4WsUXdEFQQUGEMFAvBKhN8qwXBDs0ABAcNIs0U0hXb8G/zHNswzTJ3E0MPWvPaIPHLACVozTFBFPKr3SBTFDhyDUJwFuM03TBpEDDbBISs0Rz1fURk0Q1IAAizvVG1F9Te3UBcEsEMvVGSFaQTGw/tACE1C9ZE0RK1mvRNULBGC+bU0RUlVsM+IrdmBBdV0RIvCDZ01U/nADC2DSfQ0RSgkUAysQ5hABK0C/h50QdParuxUKAzDQkc0QkBrYyHIG2ZXZDGF2tbpb/uADBHDToD17SITXB7HYwpsCDWDYqV0QlnZKqipc2zABHSDVs10QhDfa0jILC3ACDt3b5ToUri0Qq4AAKlDcqT0vpWgUHm0QpoAALcDWqd1brJ0QyT1cBv+QAi/b27qIFN0tAKbQABXAu6nNsQfBD/TQDvLAD8A23QYhDBewAGOc2sHVI/TQDMcgEMmQDvtQZuUtAOYAAwNgB0GN0/3YIvBwDMtgD/xQD+mQDMhgDwT+e/rgBAHgA85N1s9HGvaQDOHgTfcADcnQDtj8dwUuAIdgABegtX2NmKTBD80ADfJdEPwwDsegDiuOcy0+CxyAKZCN0zY2EOpwDPWASulwDOmw4Owrj/PA4TAg21N91wOxD8lwDsiS5OQQE/SNEJsQAQhgB0WOw73oFhW+D+vbDscQDmDe4gLADkcQAByQ30r9lAKg5VzuEMfQDfsAE2GOEKtwAh2u3jD/DanqkAz54C/0kAzOkA+CLue/8wcOMAA8YOUp3KkC0AzhIDH1wAzKYA+TvrLzYAcKQABHgOghnFg94Q3HQA9Dlw/OkAzwUOorWwywNQA9sGsp/Ij+gA3OcIwOwQ/h4OTLQcSDnhDzoAcVEAArQAjYDb+Qtw/HsA7E7hD+kOTQcA+4fjP64AgtEAANgAWs7r2al+QD/on2oAzJgO0v8U4RMQtOgAABUAJzEN7eG3r+0AzREEH/sA/kcAzQQOrxDpEMMQ+OcAMEMAAtYAeaPrq6ZQ/H0A5n7rT+0N/HMA6SfvDLrhDm8AczQAD3PgamAOVA25L/UA3IAA6G2Q/rwAzJ/1AN3u7xH58Q7EAIO2DvC/ADfyAMKK+xiMkPAf7V3P0R+6AOzPDm9BD00UglFKEPosAFIhAAARABPqAHq3DxGgtM63AM+WDVQP4P/LAO/t0M6tDxyi4dRs/YlEAFJTAAAWAALYAFjtALTr+p9eMMNkWyGR8OyUDw6lDzaw9TCJ/wofAGOeAAVo8AK4AEehAKvJ2w/mAAkXAM8IC5Ad8OgH8MykAO8KD22otxE7ENmHAGPXABch8ADtACQzAHkjAL0+6o4jAAn8AMP84QNuEP/AAP5KAMx+D546AO9BDoUmwmETEPs3AIX9ADImAAVs/6KfADWqAHlLAK5pD3nbkKGv9w7drvEdqRD/BwDige/MyADeSgDvJQD/wAxmzSEP5gDKEwCF/AqBOw+gFAABWgAj2ABABx5o8kU8LY+ROQUOFChg0dPoQYUeJEihUtXsSYUeNGjh09fgQZUuTIkH/MJOP3jyTFfy1dtuxXr126cM6SHcPJDFo4curaybOXr99KhS+NHkWaVKVCfdREObKDBQiMCwsCXL1KIIIHGDmGYGGj5xAmU7OoHSSaVu1atm3dvoXbtmW5uB6ZHFO3tO5Cpf/85aM3c1w3mzgNJ1MGrRvPdOrWwZNHr969fPwQfuybWbPLpqswHbLz5YgPGSUmKMCaOgCCCBdOwKjBY4gTLWf/5ugZ5IgSJ1Orehnbxk7f5b3FjR9Hnlx5Q6N0l09810lAP73LN//jl8+evHbq0o0Lh82ZMmaGzeNMxgxZM2iKw4UbR+7cucaO17VrBzkyPXr26k2mLJ99BuSHHwGuQ/Aof9gxZhZRKDlEjzm+cGIIH2pwoQQOBGjAANU+zEqBBiKogAMQTmhBhhluEOAHIY5AwgkquBjjDDbmsEOPP/4Y5BBHJJHkEkw4CUUUU3pbZZZeehFGGOC2EcccdtiZZ57h/FGqnAS35LLLBLU0aiIvXXquTI6UMlOiVmjZhbg0GerSn+zqsYce7rrLJp1zyAGvm26gcaYZZQRg5qbzDkX0/9BkFk2PGfWQUUaZZiZ1ptL2LoUGG8WwwcZPP8NZ7D1R4YNvHFOjMTXVcaqRppphfsEFF1ZYQYUUWy3BFVcBCuGVITwEgCPYMoYtIwtjq0A2WSuWnWKKKJ6FNoonpqW2CWuvXWIJa6XgVoouvgUXDHHBEKNcMcggIw1113UjDTfefTcOeeelo45668A33zr22HdffvcAOGCBBQ5kj0AORjhhhRc+2JBAHIb4YUMgnrhiiy/GOGNGJt7YkI0Z+Thkj0EmuWSTTz55ZJRXZpllSEB+mZGYZ4a5ZplrfjlnmXPm+eaYO54YGDffVKiQTIpBh+iMnEuoHKefhtppYKKGGu8dqsHhpp5pvuH6G2++/rodb9ZZR5uytUFbm2zWXvuaa8ixphpyqqlmVWnGkSbvcKSJJpxo/v6bU06fIXwZw5eBBvFLncG0PcYrhbxSAZyZHCJBmxFg0IeUQUYAZD4HHXRfkBndF9NPR/10XlZnvXXXdYE9dtlnp312W27HPXfdbYml91hu/3133Wshvnjjj0c+eeWXRx4W55+HPnrpp6e+elhowT577bfnvnvvv//+elrEJx/78sfPfnlaasGe/eypB4VpohHix0qlQWqJufwx8qf/hIb2hz4EOECl7a8iQ7tfAhW4QAZ25B/yk0hAAAAh+QQFyAACACwFAAUATwJuAQAI/wAFCBxIsKDBgwgTKlzIsKHDhxAjSpxIsaLFixgzatzIkaIEACABCDTSsaTJkyhTqlzJsqXLlzBjypQpIYGXmzcnzdzJs6fPn0CDCh1KdKYECf+SKi3KtKnTp1CjSp0q9KjSpVSzat3KtavXrzElMBAkgI+qpGDTql3Ltq1bpx9DAogB7q3du3jz6t2r0BO4d6ViCEDhj6/hw4gTKwaKVUA/FgB0Lp5MubLlyw0b/wMEAArmz6BDi757VekjAUr+jV7NurXroqWTegHQRvXr27hz6+b47xW6paAKFCC2u7jx48gNeilgwwiUGCL5JJ9OvfpqUDYoJCjwQECpwtbDi/8fv9gfePLo06tfz769+/fw48ufT7++/fv48+vfz7+///8ABijggAQWaOCBCCao4IIMNujggxBGKOGEFFZo4YUYZqjhhhx26OGHIIYo4oiYAYMCBSa8UpCJKKooAD5GUIBBEOe1pAcl25Coo38sACJAIigU1OOPQaKmRD8CTAMTJgIE4ECNO0ZJHzcJ4COAPwwEMxCVVmIZzDsJvDOTHgP8EQA1UqZJXyoYDGQCKAOx6SYor0gABQksZIIQCjHwUc6fgAYqqKDADApoEhGcEoAihjbq6KOQRirpn4VOaumlmGZKqKacduppoJV+KuqokYZK6qmGekKdJ4DKKRAJcAr/5KoAsKYCAFmqMFBXS//0AIM/BrCh5rDwcXlllltWeWww4ACApAAmqMrrCUL8k8IPxGbb3pBACuljtwLEoFMwDCjJUlINjPHPERxo6256u5xIgosxpCJAvBTMK1AwLGAQwmm8zhPAIP+Qqc+7CIf4zywBiPKPKAGskvDEHf5DyZkCsDMwxRxn+I8dBBT2zwROdGxyhf84UYFA/9wgw8kwR9jyywKkfEHMODf4jwhHsPwGAjkHneA/C5zB8iEBsCP00gT6M4AeLEM8C9NU//ePOQE4wrIwATBZ9df6/cP1JgPpE8AfYKd93z+rRDzQP+mqLbdbpRVUd813q/TPJgEI//M2z3MHrhZaaBFEuG2Fu/QP0kqzXEMNgkfe1VKaHa5a4rySed66HkjueVaJh24b3ng3VtBZsaWuejmpn7FAaa6rLvvstNdue+qs36777rz3Xlruvgcv/PBJAU/88cjTbnzyzMemCnWoV/726ISXfu4/VKz89iABzPP591BRLvrlmGOe0j9DlGA4372A735Th9tNPun0r/RPDjMY3ksAobzv/1B3s5wAzYeSf8DABwXR2CD+x8Db/MMDSLAbAoTVwAquZmRcsBsHImjBDn4mKQh4g91kcAMPmtAy/zAb2gz3gxWc8IWL+Yc4AiAJuznhZjDMoWH+sb/+Gc51OgyiXv/+YYoATM1wZjqYEJdIt4uhyXCSCECOmEjFwXHPe4YrosSqyEWvfCxkdhtbF8e4lX+MwQEH0RghyMjGqdjsIP4ggB3aSMenrEt9BsFgHfcImx+04CD/KMEQ+EjIoLQsf3mcQQkLyUie/EMGPQCkEFLQyErK5B8nGGQes2fJTipug4BkA9A8ScoCjkwLgDQTFkvJyo2gy2h5vJgxWknLjCTFAHPMoxZrycuKpPBsCDFG13pJzIj8Q2OHQIjAFljMZjLkH9QIACUQ8g8DzMGZ2EwID/lHzQlgIZvgtFvbtphHaoXznDULRQDaB0hFojOc/7hEAGYJSCBQ8p2SY1GKVnT/on0KQAIUCEEIEgGlkvzDEQEwBzVviE/JcatIA3moQCTgonMlkZpAbGjgjOWlZHUJWRRVHMi0qTmNzm1Wb4pTmwSSUgmEAANG4Mae+sQpU5VjCwp4VB8CUAxU+dRRNv2pUGs61KJ2KqhGTSqkkKrUpm7KqVBtFFMNNStYqXQgViUOPp5jvy9MQCGcWKdJ5cZRZAmkrFoayDQOYD+GJqRtphir3CRKEIm+Ax0CaQML7DeEEygkmtOUa9rwpa9w2YuwKgrGSzFgg7SeTwAwUMgyBcvLfzxOIdW8JmVpaUAEanMCqNxsKzGpSWoCTrSs/McFSqZNGeQAtamdQAa16YPI/8LWk0lZAAWpiYQO3Ba3/5AjZr+Axt9a8pcrpCbICmrcPV4tawshRPea20hoSnMhmJgndRkptgCQTSG73C4hF9awhXDNa+J1bngTgsz08vEf6mRnQuKYS/fS8R/Zpac2HTAG+9bxH1EUx0L+AUr/tvEf0m2cNlvgWQOT8R8XxSz+HJywvLHsKoYjYEe++Mz0URhh8ctw/TB8vp89Uwtf/bC2xEc9y5VOw7w5Y0NMrOJsiW56OA6xQaLnO+NhYQK2S2Lzhow7IhsZecs7spJ3l+QlO1l5T45y7Zos5SoXj3c4vvD0xKc3ty4kilOssZpYvOUXx+Z8RxBBQ6QmZmLpWP/L5oOxK4Gggob0sM3DCiD5TFe/k/xDBzRbyAy1hmchWhZyDDlYcgudw85mpmiMDqK1hJCZCrA20jB8IAcHnAJKYzrTq83MZT99wqRE4AsOmSSpS000WDLEy6u24C01y5CMxlrWToNaQ0p66wr+kpkMQahCe93A5yazIfEldrEB65CpiULZDOzudxmCpsBC+33kfXZDvAfsa4OPiG7LjAFE6G33wVesmQFtuc2d34ecdt2fA7AUH+JaeH8PwUl7iA/+aG/PQTgASmwIEtrVb8lx+CEyLviE9FlRgTCcILNpuEFp7BBeKxxCdI3otyCqihiEtIAJdwjShn1xB6HVo8v/ehEKgvFxP6MYIpwQgHxLziCUxkoANhcAFPLwT4kPhE9+0lSoimCBS2liAJWIqqemqnSlMr3pRn061Icq9an7tOpWRxXWy1HVm3e9FCwoTMtN8g8kdO4hOaohzRt08rMqy0tmeMBRAPAAyZC9rxBR9NodlHGB9L3n59t3RBSw270rCLECqde95CXxsRt0whCpABUMDzbLLvIhnab81wwYSYiMWvNMsxYQIoJ30Ie+BD2DCBVSbHqhEXjTDhHl6Fofs6RIPiJoWyXtYWZqVENkmk/cPe9bHZG4klP4JgMhrR3Svmkjv2NJIYCuH9Le5ydfhRGhr/WTP9mI8Hf70Mca/6Eh0gHYgx/EzI4IDDp//gqLMSK+av/Esi2Rgc9e/jaGq0TOeH/857mIRwQRy+V/7nJuM+cQWkNyBJhn8qRfD5FsC+hmASYRDKNtEThmjCMRg3aBecY9AfcQucaBY2ZxEPF9IiglBycR5dd/J6geFmZmF8ZnvMEGC0ARMqADLNiC6PFmpFM4iJODthRyEbFvQKiD4UFmMWg9WUZ2LzcRN1SERlgdN6ZlVEhiOzY8ufOEvhM7VtZjXfiFSkFlYOhkYjiGSlaGZkhkaJiGQ7aGeTOFfSZnGLEuIEARERaF6YGE1sNncmgR/yAEfjURYIaH68GD8eODfehLgjcR60WI5P+hZzB4Zn4GeRLxfo7oIf/gThOhRpf4IZxHEcAyB1DYiRIyaRUhW6NIihASSKk3EYKUiqqoM69XEY8Di7G4ILY3eRQBiLZ4i0PzD6dWEd/Ui754ILnlahIxBwZAjMVYILNWEVfUjCjzD09TEe0mjROCXBUBV8yIjQDyDwKzRhQBWN3ojf7xXOMnESpUjubIH9ZlbRORLuzYjorxcARhjzHgLyzwPGRniRMBQfNIj4jxd3SFVwLwCCHgZxVoEYoUkALJF20nABEpAIBAAn6mfxXBiw/5GjknKysFLbESBA/wAD4nEEBHVJUQAKfgKYiSdaXiklC1dTD5KTI5k0dlk0n/VZM4mSlb13VX9So3R5GCQXZhdYARMYAb2RoROZECUADlQHYNaBHC5pBJiRcEuXEC8A7m8ggPwFxzOIEVITVUWZV2gXiGtXj5oiLEYAL6yI8GlYEVsT+bMJZk2R7/4IEWsUx0WZeFSIITEUJ7yZd5OFIXsVqBKZiPSIMY8UeHiZjiYUbFZRG11ZiOaR3/0IQWoYWV+Y2wRhGyR5mbmRx0iBFXBJqheRzoE4gWwTfCYJqnWRz/sIgWUYGu+Zq6cT+IZBHiV5u2iRuZeHkVQV+82Zuv4WgYAVqJSJzsYYoYQS3JqZzpwTqolxE3MAPPCZ3kwToFdhED5w/DiZ2hwTq3/4cRP3Od4BkerBOMGME433memME6kIYRYume8cE61pQRwnQJ7UmflcE60pcR67if/LkY5YB9GcFf5jmgx1EO3dec1SKgCooY5SB+GgFoCRqhu1EO6YcRmomh0emPFqGM3umh0bmQGTGVEEqieVEOGCmfEXOhKuoa5QCAGiFMlACjMcoa5VCUGqEPT4OjOToa5RCVGhEBXACkQRqeCCVgGpECQICkSfoZ5ZBgG+ErUBqlM/GCdSOJHVEOd8ihFSCDWGpH8yNiLiamflgOZMIRInqlY6o4LpaEpuOmBlEOysgRS0qnb2o/LbaE5ZODPNY75XAGDdA83MiGv4OoUuaGiv96PIzaqFgIqUv2qJLqhbvjp32ahCVRDl8QARyBNYegp3t6PnG6h4hImeXASRxRNKI6qqbUZz34g6BZDgPXEa/Yqq5qUCQ2QGbWmOVwBHi0ETsAA2iaq0JKZx3xY8VqrOG5A4GmEQaDq8z6FuXweRrBPtI6rW1RDvXGEee1rNpqGeWwAtjCET6qB+AarpPxD+UgSCUxAVSQrurqEvY4EA+HD9kRAjHgWK5UDtu5Ea4lr/PKEldJJC8yCYWRBzHglb5UDuPJEUdQh9k6sBCxlG9nVrJCAQZVDurJEaLknSlKsT8JkiObUgMRBEowU0HHkwqwBT+1Uz1lkzq5k5cyszT/Oyk2e7MvqbNXx7M/1ZMfaVUeiVU3ZwYoICYbVg4IsHwacaghK7IW+1Fp1QYkYJBJ+58dAaoCK7InUbDgQrVPSXbgAEwloQBGM7FcyxBmqXiIRwwAEFAhYAIGVQwBII62Okhom7ZS8Q+5MADpuBE+UGdbq7dvwbfXVRJj0ABKSLiK8Q+K4nwbkad5y7jwoygWyBELObmUCxuaEG4dITBoo7mbC0ApGYAdAa+LO7p78Q+N0DcnMQOQM7iq+xX/oAgYYxIqk7qzixf/sFMKyBGqBKu7axe9O10moU5TI7vDqxX/cAcBwLAXsYHKu7xU8Q9qQAAo4Q+QNr3Uu7dqMEon/3EtVNi9dHMFiosSQoBH3Eu+TvEPScB6JsEGBiAyosu+ilMEOHQSUTRL62u/sEEEZ3cS+3MJ4+u/YOEPPHBPJ+EPCABL9WvAekMDz2oSK9B5/QvBjEEDiIYSSIBDF4zBPZEULsB+J2EmjfPAILxh/zACnoYSbaNtH5zCl/QPG9CKJzEPWBvDMgwTSWEBl4YSHqBJOrzDcAoBs5US6buERBwVSWG2K6GMSjTES6w31URuKYG8mjrFZFqNKoE1zCTFWuxnBqoSJKPEYQwb1acSN2BbunvGQvEP20BDLHEGCBDFKOzGD/EPwoReV+y5d4zHmXFnKzEPXNzGgBzCLaoSJf9QroZ8yDvxMEbUEk4Av3/syNTEmi2BUMEHxpZMERZzuysRx+PHyZ0sEQeVUC5RxmZcyjFxl8bLEkAQrI3MyufilylBJgpGyoSrpbvKyf9wpy7BMM6ny2lriGVqha50BgrwEv6gAP1VZmesh9J8mP/wBRAAEzfgQtAcxnDYzUAYqLuzel2Iy19IqZXKO+Z8zrqTzupsO+zczrPzzvAsO+aMqfa8YUiQATDBNelIzBQ7zXu2ynM4BCMQExdQWgU8xcYch9TcAy4QE04QATXizwMLDCyFYxYNLQOhBBIgAK+wl0lRAzQQE9lluhQ9r15bJKBADI43h//QAjwQE/MwbvL/87RYGrUpN1El6YeBRATQ+7psnMVE3JE495EmC3gqqykWUATg0HTXG7NOlbM+K1VTrXVVfSpSfdWAktVaTSmW4pNDC5QD0dIXkRQQcAUysT9qt807jNMdpdMq3LIy4Q8XMHo1PcUpTRBkzdMEoAYzMQYIoHuzbMBre1iMNxIPAAAMoLGuZDZ3MBP787eDTcsa8Vx9sBMisAN5VMl4rMcBsAg7Ib8KxtaUbVAMUwk7wTV2u2U2rdBFpAk8kQIbnGGtvcTndgo8ATK/K9Sl7UoXkws8sQ0DUF+03dtvyVM90QMXwFwnbcn/tis7oU58zNrG7UqEyRP+0AGzXdzVbUuE//oTZuI3gMTZRHyZ8LsT86AAurjZ5C3DZUdwPuEECyDY1N3dvlR6PiEMA2DF7G3fvtQDE8wTR7AAo33X/m1MvxkUxkAAzzze7W3ASZF5QeEEBsCkDl7b7JsUoRYU4oAAP8zeGN69SWGCQTEGBOCAIH7gmVFNxP0T7BABNQC9yKzigNSgQRFFx6ZNze3ecbzWQrEDDWDh1LTjILxNPjQU26AAdo1ZRA7B4HZ8b8MP8NAO8vDTJSzHA9bk/otf2mU38MAMAnEMytAOVt4R/lADCmCUIB7ilLs4+WY47XAM4VAP/WAP4XAM47APMGEOFdAB9L3mNP42JPgP9HAM5PAsNf8DDwLgDPkAE7NgAD9Q5jPu3/+gmFHeDNCA6CxTD8zQDPcAE0hTeEyu5cP7Dz9mOOmQDPUASPegDMrQ6C/BBQEwfVlO6rO7LmrGMvuQDOegEPmADM0A6y3hD0iwMQ7xgr0dm2z8D6ku7AhxD8zgDHruEv4wBAOw2rX+4Fz7SK9VM/zA6w3B6dDAD2WuEf4gBAFwBuUOg8b9D+XHMutwDJ/eEPYgANjAD8w8BgHwA38+5FdW2ujyzP7gDOGw7vSQDN2A7y9xCASQAuJ97Oxq6/98rgJQDvZwDPIQEQef8DBhChNgAIOw7hWP7J3d4+xaDWAuEQc/7iKPEewABAGQA2H/BvEkr8VsEwCm8A/ckAzpMBH+sPL5sJ+OsAAh1O86XvPlnV2tqQ3yXhH2AOb18MDigAQDUAGO0PK9yuY56srz8A/QgA0XkQ/OkAzwgMKzMAMBcAGDYPRHj/QQ/gbLeA/H0A4YwQ93Tg78gMKiUAMBEAFngOI0z6UYjD1hmuoKfxH+sA7J0Az0oOWzIAQGEAAzcAhs3/aCn+E/oAL9gAzSwBH1AA2Gvg+TnhLs8AcnEAAGcAODUOCBnzoZXgJCIA/H4A0d0Q+KnwzqkPda3gtscPoDkAJXIAofmMe0M7zAwgbh4AwnsQ/kcAzMkA6iP/opYQx6kAMKgPotwAU4MhG2/9Pm0RQJx7AOKXEP5JAMeF7ll68S4GAKb5ADDRAATjIDXEAIq1D5F178A7s3AWANzHD4ACFA4ECCBQ0eLLhPnbNjzMjJ4/dP4kSJCC1exCjAnzBHXGZECBByAowjZxyZoqYv40CKLV1SXBlT5kyaNW3exJlT506ePX3+BBpUKM9/diAcSzf0oD9755QdSwZNnbx9L2EqJWjO1B8tOkQgCBlgwIQUN5CM0SNJVC9xKi1ahfsS61y6de3exZtX716+LG/4SbZPr79668IlO3asWbh08Ozx8xf3qlJzqyjp0SJkhocGA8KGXFChhIwcQ5ycsfPHESZRq4Rtm6dP8myrff9t38adW/du3kD14aClrq8/jffancPGLHFDaOHOqWsnz14+yLRr99QnblYoR3/YUBmiQ0aJCw0MfEZvYEGECx5OwJiRw4eQI0icYOEy5gybN3b06PljEEIccUQSSjDZJBRRTFlllVNm6UUYYaihRhxz2Jkntsgm661DDz8E8TZ9VtGjmBAJ+icSAZbRh7jd9rGnHXXG6aYZ5ZZLjJlmoMEmnHHIOScdddZZpx145KGHHnvqqeeefL7ZZx9++tnQOiv/GUgfc4yZxZRNJCHkDzvO+MIJJITw4YYZYEihBA4uqGACBxpYwAADCEAvTz3DsmgAAgxAQIEFBHAgggkmqOD/ggs48ECEEk5IIYUVYIBBhhlmqOGGHHTowQcffgBCiCGGOKI++5xwggoq8PviizH024+/Oeawo9b/APwjwEHuIISQQw4hkEBJhqWEkksuwQTBTTgJpVlRnjUlWgYbbHAWa63tJVttJRTGGG+/pcaYcCmkZpttxEHXnAvZYTfDDPWBt0UXT6RXxFkGQaIEPAfQpF4BPjmmk33mDZGffOyRB5511DlnHBqhgUYZZm7EsWKLl0smmYmZEQAZZZRpJmRnRnYGYpOxgaYbbFbupuWWw+kmHJlnnnkcH310OGedd965mnGGqWYYoYX+BZdfWMEFF6RZYQUVp0mBOmpSLBGA/2qCLMHakkK0LqRrr7v2oxA/xiY7Dz/wQDttOPCAo2232y4DjjLmpnvuLMrIIm+9966ib7//9tsKwQe3YgrDD0f88CgWZzyKJx6HPHLJJ6e8CcsvxxzzJTbHXIolpAA9dCm6GH30Lk5HPfXUSye9dNZNV70LMGafXQzbbycjd93T4L133t1IA3g3hh8+jTiGjyN55eOgo3nn64A+euml3wP66q/Hfg/tt+e+e++/9x76KqzIAo5CSMGlmm+wpLeTOogpx9+auKnnG/u/8Sb/dmQhUpt1tAFgNrSRDQJegxzWsEY1FOgzaYxDGg8MhzSiEY5oVLCC2IjGylb2DA4+Y84ZH/wgNJYhQpOV0IQnhMbIUkgyFo6sGS10hgBiSJBmGGSGBqlhyHS4Qx6C7GMh+5gPgzhEIhbRiB5DIjKUuEQmNtGJvkAGFKUYRSr6QopWxGIWtbhFLnYRi7wAYxjFCEZdjNGMZxRjGcuYRjSiURdvhGMc5ThHOtbxjbbAYx71uEc+9hGPsYiFHwU5SFvUQpCAdEUiFekKXvjihy90hjfAESIs+SMy8rOJJQWiSY0IJF5u0QjBUFQRAbCPJS7B5EXYx8lUttKVr9QNKFcSEAAh+QQFyAACACwFAAUATwJuAQAI/wAFCBxIsKDBgwgTKlzIsKHDhxAjSpxIsaLFixgzatzIkeK/f49iJCggIUiwjihTqlzJsqXLlzBjypxJsyZNf0YAUDACJcgDUDaDCh1KtKjRo0iTKq2ZB4CRfgShLp1KtarVq1izai36joEAqVvDih1LtqzZs0EnAYCC75EZPsDQyp1Lt67du1W9rKUwcC3ev4ADCx5MGGFOACZSvQOFAQAfsIUjS55MubLQnAWmCfz3SgAFf5ZDix5NunRDKABYgN5MAQA607Bjy579lw8AG6sF/CMBQDPt38CDC1cKTCdBfAkO4BvOvLnz5yj/xXC82QyAILmha9/OvftmYAxuK/9hIUACN+/o06un/ZFYEAYkjYBbT7++/dAf7+vfz7+///8ABijggAQWaOCBCCao4IIMNujggxBGKOGEFFZo4YUYZqjhhhx26OGHIIYo4ogklmjiiSimqOKKLLbo4oswxijjjDTWGNtHOBaEY3667fjPTI7o86ONRD6YH48DHTlkjkPG9IcAVCBZ5JQHMomklTvaBAMCAUjSJJVgDnhlk2P6+CVBqpip5pr/lLOmMQP8cYMDbNZp55145rmjm3r26eefgPIJ6KCEFvqRoIYmqqidiC7qqJmqpJdmlpuRaSmWMbFBADuOBCBOmKAKiGmlP5pZaUwd9PDPLAGEEuqr/yn/qWOpS9J65kr6DKDHP/oQoAeswO7n46nD9pgjTMYEQMmPHCBxa7DQtihKALP8uEMLz0arLYqHBMDOj2M0kO225AoHDAoUmNAZQeemu64EFIQQQiLZscQGAvl1+mm5/DbHAiACJIJCQf8GPHB568qEBAdDsupqvxADx00Cy/nDwEkCTVzxxQjTVEMNQ+b6a8Qky5YKBgOZAJRAJ6cMlAQhYGDEeQehEAMf5eSs88488wxMz+VsQMTOFhQB9NFIJ6300kyX83PTUEct9dQ+U2311Vjv/HTWXHe99NZehw20J+l5onPLApGwsgBoC6C2AMQIgA8UMcS0wBlN5gDDuCX3/y2ZxgJYjLEAgAtO0DQHwMROAIQ06cQFfPst+WAFC0wwwJa/85oAbZD3EquiNDmHAfVObjphu6BLwroxpCJA6hSsLkAwMWNgw+AtXRKAMU06IoA5pwffoB4DCDmQKdQKr3yCX0SAZLKXLC99gUh4gGSuT06vPYA+YPtlBF9sL35/M9xw5glDjK/+fSkIcWYOMkS+/vzNXeDEmY/LT//+wDkwxplvwBf/BggdAtjhTIQQADsIyMDhzCMAgzhTKJLXwArSZhvKOpMwAoAJC3owNqA70wOz98ESimZa1TJIA8ZgwhZahhIBoMatRJA+F9owMoQIwDxu9bEb+nAwdiCAP/9uNYQS6O+HSBTLGcR1q+YdMYlQxAoVKiAlgQSxdFHMYliGcIIqCsB3wNOiGMWSgxk8SxQCmMUY16gVGKjqIL0IwCbYSEeriEA3B1lcAuvIR6VMAAvZMsAc+kjIoyyADdmqABUKyUih+ENX2UoBEBpJSZos7hDZgl8lNwkTamQQIUjoACdHyZI4hiJbY6ATKVfZkVUEwBTZepI+WEnLjKAwW5IQwDZqycuKbCIAwsiWKQSwil4aMyKSCMA2smUMAXTwmNBkSA6/hZAHDiKa2EzIHwIwxIQcMpvgLEgQvTgQ+4XznAI4wwLIKZAW+ACd4XTiuHoAA3iqr1hJopSpWJL/v3EtzJ7jkxVBBMrOlBxBBAUVQAMAur1RGeuhCe0IEFbAt23OkqHSG1M+N4rPgkxqUIgqo51yucxHmXRNjTqpSkG60pYSKqUujSmjZErTO8G0pjg9lJ82eipiPbQlM8gB34ZZTIwuz6EO7ZFLVvADvgnDmUbNKK1mpVQeRTQjIjgC3+YhgGtGVXnFUhKWjsUS+/HtH4L8Ki/BFzlFqrWWd4ucJN9KSwNG7gYzoOsq/RGAP0TuoHolpR4j17zAjhKDXlrIFQ27yQ1uInKdCiNjGxnChUywF5OlJPJWETnMPiyzheREAHoROeD5DrSFhKEMF+IPA6IWYu1SV0FimzAB/+iltinpFjUV8g/wvbZflTvYQII7EFXEQAK4RYlFI/ePEhzht+UqHMcyRrHAcQwfKAgGclsyTuaWD7rkapvKBiJeoEAhDx2r2c2strUtKKBpPBiB2OZ7NLDR975Xsy9+9xs1/fL3v0rzL4AHXDUCG7i+UGvb21iGsrSBohSqSe9KUnlVLUwAvNuS7uA0bIYHSEACAHjAJFgyxauODosYDhVxCbLigWyXJQu7qm5THC3YyU4ArXud6nD74pUUUX+ixSyNxfgDijYEdEMWo0gbYo4AnDbJUSyf/lprByhn0Z366234rAxF9GXZuVyGYgec1ZB/fDfMSKzA/crMRTQjkf+tZbawm38YV4csds42FOQRZ4znFj5yVw65bJ9bqA8IHtFhgzbhJY/Y5Ccn2oKIPSKVH/3BDWLiiFqmtAcrW+YS1FDTDXQlZx3yjx6CuoG3JHWbT83AXwaT1Fy4MKsJmMxlkvrOs95ft8yB6cjmmn+D0OETBf1r+umBm080ZbHpN7qrDuSSy56fOp0tEH+kNdrqk+dD/vFHbKuvxE/8R/u8Pb4YQ+QfeCV3iTpqLCmRNSVcfKJuAKvuEQmUo5eSt0S6J+9/pLLeIkKqWNut74jgtd/EuyjAPaTRnlZ1qgf5aKA+ImU/1TqnL8W4xnF0043HtOMebynIQ37SkZPcpCb/x2fDCa7UlWD53Jtd+IcEbis1reQEeNx2sp4p8w7dm1hnojZFmqVva/ac4fqsedALDhFF6vsfCHjD0YMH53Obc+qmq/O53Yl10+k5Iv+gZ9cnB0mwO4EDY/dbof0KdnWmvW8PbBzYLfp2konDyU/HxO7qHjFPLgvsrBom3/sVx8eC/e6OHvy2OL3tSSu+XKJ+Ore58PhypRrs4678tlxd8H/oQAaa35ZqO//P0Ecrsp1nwwJMH60c7lAi/wg2V1kPrOXC3tW0B5YeCCD0JCE596+aA74632jgv2ranbf2II1vINrOFl2yxTEGQsCCSKlE22D/h1uZX6AWC2TFm3tE/whWAm7Y/4Op3CeQhgey/oEAggQriXHnw17P9AuovORtsADGKwCfPCC5AmEzOEM1PwMEH4A1RWABB0aAC9iAOiNgDvhfEBiB+zWBFEhfFniB85WBZ6N/C8Y2Hrg2AgAIdZMS/gAEKsB0uhFA9icg7Uc41WU4BFEA5aASPRA/HjFNLRgg3icAxPUOvvEID4BiGPExKvgPxLaD/mFjrOM6TAg3JjB91bcSMqADR6hsSlgjTHWEi+NVWTgjXuYR/6AAZ/CFNDJmR/gPzWKGM3IBUSKGZ8aGMDIBXJCGRwACchgjDYA3YrhEeQgjUZeGsveHLmJXFfEPvyRkhKgifMV2Hv8RR5ywiCtiTSqoG0YniSnSaJX4EXeDiSmCQX8nhiDwXJ54Io61iaVWA6V4InEUOof4D6W3iiTiSrD0im4niySCPCkkhoOIiyJyWaiYhL74IXrHO6/oWMMYIskkDpVoiX2VjM7BbmFFKSihW834ESsEjc3xcw+3GQ7XEcFmPK/oado4HDT3U9/IEcTTTa94A6BXjsGxcg1HjR5VKOXQXYniBFR0cijFjzWVcv6YKAAZkPZIkC41kAY5cX3CUy3XkA7JEWygAL1nEB+Ba/A4G+f4bg+pERR2jf8AQ810kb/BjbJiVRPpELF2kgP1I60ikiOZdCy3TyjRTxbxEZfokhb/Uj0qmU//kI04aSHx1ow9cgJC8JMWUmRC2SM90AJGWSHwk5QfgQWy1pQSYoQY8REJR5USUoVQ+Q96p4ha6SAqAARdWXhhCSGe1pUCECdn+SBEd5UfEQGU15YN4nRweX7vRJcMUnU1+RFAgHN6uSB72JX+tlCBqSCBmBEfsU2zd5gHYohwiUKOiSB9lZQ9gkGJN5kBUgwDEEGK+SMIUIaaSSDFgHefKQAlUJSjOSC50CWWiSM+kAKrOSCnMACX9pmFOZsCcgqt8pofkUOSpZv9oQkDUIt3SYvC+R+aEACj9pldmJz+UQmjZZlK5QBbBp370Qi7Q535sQJ5iZ36oQjK/8SdPzIEdwSe+tEH3kKe/8AGpIOe93EHwqYROJJM1ACf9iGf7HiXiIaf9KEGvMee88CW/lkWzscu0NcZ+GAD8RIDuLMRamAAO0mR+TEBTlCgZdGDxIUPkwAaeRADRFgRV8BEG5EfM6CKGCoWL/iCbMMXKJEEEzChFAolU5miWoF/DOYyBBEESoAQAmg1CQgO9yWfxaCBD2ikBMaBSMo1SrqkWNOkTsqAUVqBCRaC+TcQH2gGKPAOKOEPRcAw1KlUroRGNqoVKxqD09UGJLA5KMEDKRCmxjKgJFSmWKGhmHMwalqDKsED2MIROXJ1dIoVT4hjTrhjcKMT8mICKUEDZv/kp/mhN4G6HS9gPo76I19gmJH6HC7wRo4qAN2yL5naHCPgPh2RH/0ZqszxATlXoj/SK1WGqsyRAWTWqQLAAaQIq8LxR3D6UD6wArg6HP6zqzmiTiH6q6ShAIhUqvlhn8YKHF9XqQKwQZTQrLTxZ7uqVP6wACxErUUhjVkikxtRaJ6prAJxotzarRCHbxAlo3kUAJgUHUPCBQ5QrOfaEhnpbtd6d4mlrD/CrPVqE/JoKSuJEBLnJzsXU8niJSSHkAnpJwzbsHrysBCLJxI7sXVSsRbLJgzLkAF7raZ0rTniDw1wnf86E/daK9eaRq8EsjxSA3lVsjVBkhCnkRuxWSn/yyNjsAD0CrPweixi9bPsehDAmBI8ApI8GxrFeLND4kmZebSFcXFE2yQOoAVOWxmdslv8KhA1UH9VKxmyp7RDcgYIoHBdSxjbtJ/QKgATVFRlSxjdpRI8MqAj07aDcS9BixBIcgLfSbeB0ZFw6zg1yrd/EWtom7adEpKC+xdOYAF3exDHgkGHkLiAgQQb0LgU2iQVgASS+xdCMAIpSyoDIQTnubl24QMu8LkOt00LRLp1UQM0sLOvOBBxxHOsKxcyQAOo+1PZSrK1exYqwAO5S1Y5IJu9KxclEDgsQVbEs7rFaxYXUATBiyQb1LTNuxUTkAS565AXcKvVOxYNsAXZ/yslSDABsNu9SoEAalC+YtgkMASW5qsVBKAG4Ysk7OBa77sVhXYH8/slLYCi95sVi9MH2euQYku2/1sVGKQIBhy1BOFKn3XAVZEsizDAZOUPDnChEGwVrFIJFCy+EaC+GUwTrqQJHfwlE0SmIbwU03IKICyGBKEPF5zCU/FLpzDAD4kEHyzDSpFMuWDD7zZBgqfDR9EtxeDDUqIPDYDBQmwU2wQORnwmR0C+S2wUxOMmMFFFohXEUywUwmfFL1FF+hAB3LvFNrFEXuwSGskFCNCYZFwTsXbG9lpFcbRHbVwTjwPHcWwQKvCOKXygA3GgSgBiAHgRB4XHyXsr24S4Gf9spwYjEKBADD22EUCQAoa8EhrJDgawrRl8phszOJGsETsgA3p6xV4EBBXQwomLoyCoowLxyQTxo1LzAjQQDEgqnY2ADlQ6pfgFpbrcX718X7z8y18jzBtYpVi6Ngq2Nq6METDgA6NMygbhDxxwAyHMydblyYNsEejzzF/sRcTzVIt8p5fTyC6WzRWBdtyMxl40DwugxAc8qDk2qEbwAADAAC66EROgBemszgdBBWtcxzKxh/scx7cCJ3P7v97qszSLEYI00If8LDlwAahMtzLbcvSYEY3o0JZMThM0rQg9cKBLVpYrENZUyXkczSpQAhPdtQHLseNSsHmirxi7Ur//tCwol7GPMtM47SM6vdMc59MCCdRBvZAO19IcsXMavdHP4g8roNL3e7IMqRGgk9R/my2/lEtPna5AN7AcsVlUXdUHwdQisNJOO40sd9YacVlfHbXZIlrUC9AaoVprzcBhPQMTwMZwzRFXO9c9ixC9MACimdcdYVF8nbUI4QQGoMiCnRG71yZCUVDs0AB7u9gYEZGOHRQLLRDb9MCUbRFj4DyFbdhhfQIVgNedPRElFtqibRC9QACae9oWcYeXjdkJZQccBNsVIQRvShSZXW0y4ADBidsP8Xk2zBC9LQDUgAA7QNaULWXoClkBIHXCDRGSVNzGHVFYMABzNN0OgYZG/3HcAqAPMrAAis3dCJHP1n3dkSMOEyACpm3eBaF1z80Qq2AANbDA8D0QkPndV4UJAzAEzN3G4pre6t0QwabJ+T0QiEfgBc4QZxAAr5rgAnGKSXHRYe0EEC7hAkGLDN7grEUFAbB8CX55Fe5s/oAFAcAGEq47xqgU4D0Q/vAFAYAE+A3bqHcQ/CAP6iAA9gCwQvcHAwADwY3btlcQ7cAMx5AMAuEM8kDgFp4QobAAF+C+sN1sZ6IOxxAO9+APOY4NPi50vXABBuCFuO23AwEPx5AO++kP7SAAzVAPJvvizwYEATAE7y3YJUYQ+8AM4VC4AnAPzcAM9BDg5zaRf2AAF//Atp19UF9CDsmQD9myD9hwDPBA6Ns2kbMAAgPABXdex/w2EPlwDOrAN/wwDqIuE0+uEPpwBgRwAVqc184tEOTADPxQrP6QDsdwDpZeZnJeELNQAgEABLmw2GEoAPmQDOqws/+wDscwDvwQE+zGEPqgBwtgAGfQ6UJslwKgDsmwD7D7D/CQDNDg7aTc6wRhDkVAABGgBzWuw3UGDsgwDkL3D/bADMoA59Bu7gTRCz8QABPwB+2ewdYqAO1wDPbwdPfgDMkAD6ie6gsxCzsQABEwB8yrw4vmD88ADUz3D/wQDrn+7OW+k7MgBASAAFQAzjJsaf8Q6uuw8f/gD8zuDPj/HvIqSA3+PAAy4AjYXr2Rx+3kLob20AzJoOb57vALMQ9/kAIBsABIIAq7DrOu5g/NEA1C+RH8gOvNMOhFr+++7gQR4O9YYApPf66RZQ/H0A4BT2ofYQ/PcAzd0ONbP6H+EApHsAASfwSYsPOCu46z7sS46Q/woAxZTg8NH+0PoQ+c4AQTEAAGMANvsApjj6rqxA9Dr9oJgSP90A7NcAzQ0A4g383gGhH+sApvIAMEsPQ38AamkPZHuzAFfw+Wf/mYLw/dkOTjQA+QQdA/XYnzsAlfAAMGwPgp4ASEQOVOWz7Q0A2f6yP3kA6CzwzjAA/7UPQpVRH6YApv0AOLHwAI/6ACSKAHolDxJXsBanD20Ysj/mAP6bD5nH8O8vDzLWFyFCEOl3AGPnABAxAAAeAAMIAEAGGHUi99AgweRJhQ4UKGDR0+hBhR4kSKFS1exJhR40aOHT1+BBlyoj4Cn5j1+ydS4T+WLf/lWzcO2bFjysKpk5fPn8qELn3+ZFlx3ipCX3JcIBAgwIAJMISM+ROq1zyeVa1exZpV61auXb1eNabgmLqdWoGyzAfvHLZkNJNBG6eunb19/a6exesToj5jnP5Q6XHCgVKlCzjMEEJlDqFNq7YV/BpZ8mTKlS1fxrxwU5Zk+8pyzesvnzx146Axo3ksmTJs49Kpg0evnmeeef9t3zY4r1eoQWeQ5EgxwQDhwhVOzPjh5IudP5RCrRJmDnJm6tWtX8eePaSaY9lSRk55+98+e/DWnQsHrVnb1MeYNYMWbty51+3gybNXL98+bp8zigcQL3aEEYWSPwSgYogbVrggguGIU8qABioAYYUXehACCSzGmEOPQQ6hhBNTVunFGHHY0cc/7VZksUUXJ2qpnBb36UQAfvz57rIA/dmnHnrMU+eccdJzBhn22kstmfecgQabbuSbjz511FlnnXbsk0ceera0J7977slnv3324edGAQJEs6V5tunFlE0c+WOOM6g4AggaZDihgwkcMGCAhYgbwIAFGpjgAg5KSAH/hhlqyMEHIYZAAgkqtBjjDDbesEOPPwb50BFJKMFkE05EMWXEVWbppRdhhDFmm23EMYcddubRJ0XbykkzV113xetFX7c6S0YWO6EllaBW5LWfffLxMUtt1pnyHCGH7OYZaJxpRgBmkjkSSW+/TZJbJZlhBhllzm0mXWfWhabddrGBphts5u2m3iefDCfffIccp99o+gW432rGGWaYX3DBhRVWUBGAFFIQKiTiQgTwo2I8LoYj4zI2LiMLj6sAOWQrRp5iiihOfiJllVduomWXl2hCCpml6ILmLm4GI2cwxOCZDJ/TABpoN9Jwo+ii40A6DjqWpqMOp592eo86pN6j/2qrr8a66kD2CKRrr78G+2tDuh577EAMKTtttNdmu2232WYE7bgNiZuRuu+m22699+a7b7/9zvtvwf2GxO7CGTk8ccMRZ7xwxxuH/HHJI2e8b0OAUfG6QhDZ5teJygE9dNGDEb30ctA5vXRwuOHmm2m+gd2bb7yh/coq13lWG921yab33q+5hhxrqiF+4GqkGUca5fONpnnnsYkGm2ekf+aZZa6HZhl3t99eAGgQckaA8A/KdiFlBDg3ffXTNxcZ999/3xdk5Pelfvvvr58X/ffnv39edAFgAAU4wAHawoAHRGACFXhAVzTQFbFIYC0kOEEKVtCCF6wgLTCIQVh00FqDHwRhCEU4QhLCghYnRGEKVbhCFrbQhS00IS1iOMMTwmKDGBTADTkoQlAICzv/4IcA/JE5zzHkWEc0iEsOcqyI7GSIBvFHraRYqyKuJEdVxGIWtViVK0IkIAAAIfkEBcgAAgAsBQAFAE8CbgEACP8ABQgcSLCgwYMIEypcyLChw4cQI0qcSLGixYsYM2rcyHEiIAAgQ4Jk0bGkyZMoU6pcybKly5cwY8qEqcqLzZsYALTxN7Onz59AgwodSrSo0Zj/kv4TgI8BAG5Ho0qdSrWq1atYhSpdKiARABtZw4odS7as2bNIt/6LAWAS2rdw48qdS1eq2mACHvSry7ev37+AAyNU6wWAF6WCEytezLhx0K39JAAIhtix5cuYM2tmuDUTAJKVN4seTbo0XcQ2ACQSENq069ewYxNVWq5AAnxbZevezbu3yaRtAChh3dq38ePIkwtMmvNVbuXQo0t3XQqAiefTs2vfzr279+/gw4v/H0++vPnz6NOrX8++vfv38OPLn0+/vv37+PPr38+/v///AAYo4IAEFmjggQgmqOCCDDbo4INTAYMCBSa8UpCEFFrIlBEUYBAETxCGKGJJLADSFQoFlXiiQEoosdc0I8Yoo0Xc3CaAPwzgJVCN+NyY4zsJvDPjkERClAoGA5kAykBHJgnKKxJAQQILmSCEQgx8lKPlllx22SUwXnJ5yh2KhGnmmWimqeaaW4LJ5ptwxinnl3PWaeedXLqJ5558qqlnn4CG6Ul0nmzZpEAkLCnQoQIkmgoAggigCgPgvGSKAAEQoE+RnMbHo486CvApjsGAA8BeApgwqEuDBOBIALN0/yqreyomgiJBtd4ag1vBMABjS/+c0YA5AQwy67Hq7TIhCRrGkIoAylLArEDBsIBBCI+89M8QJfwzgRPIhivuQP/IkMM/OcAw7rqzJlWBE8EqACK79M74jz8E2CEAJQEIU++/Mf5DTQCSCDCwIwAnDOE/osB6owBfKCyxb2oVVDFx2Kn0DyEBsMPaDDVMLLJuSRFn8VIlmwxTsAsshwQHI8fsGmKh0VxyytoeAcJybCAg88+j4Sw0VyZfbJAqaiWt9FblLD3DDUpxzM7SVFdt9dVYK9101lx37fXXam0N9thkl52U2GanrbbVaK/tdtKqRIc0dkOTizLGLv1zAbgChf/iMNCAX2Yz0YMThLPG/yDAxkDCBIBJ4JA7djPRy6FseeXA6hPAHwNpznnkoCd28eSDF4fSP+K4Sq4DY4Tuunv/9BIAJ+SWMMTruKv3jykBrELuDTLkLrx5/2ASgDHkvjzv8Mx7988hHRP0hs/NV9/dP3oMsDz0Hlvv/XQsF9RwrN+Xr9xSFRRkTACXmO/+cdueUJDn79fP2z83zGAx6/b3D1tSLfCBxU4gBP8ZsDRJ8QASLJa/AzpwM0mZABcsxq0HWlBw/zDAGwzChQlc8IOM+Qf9CmIHAiwPhCjsC+pUVxDupfCFKpRdKAyyiQD0AoY4nMvuemeQWQRAFDkM4lv//nGJ4xlkGwQTohLLsrHozU8An1uiFLGCPe0Z5B8NOMMUt2iVYDXgIP/gwAK5SMao/IMK6bsiDARYxjbO5ggiQEgP1OXGOgLlH0BYAUJeZsc+ziQpDTyIsPxISG2VKwcIyd6mCsnIlCQlBQU8iCQCII5GWvI3/+jAGA0yvkt6ciMR1AJCbki7T5rSIknJIkI8dohTunIiSTHAHBCCL3298pYOudfmBhOBiOHylwr5BzsC0Eow2g6YyAQjEimRkKcl85nkkl0pD/IDPULTexiq0IUmpE0BSIACIQhBIk5Ykn+sIgCX2iMHyHnN3OUqRSaylUAkoCGWMOxvBxmDA9pZ/71R5Wgg/sQLPfNmPOQl0or8HB6jlMQkJAmEoRIIAQaMAJWDXClLc/pTOfowgGKcqQ8B8GigRmomjZL0pHUyKUpX+iaVsvSlaHIpTGeaJ5ra9Ewy9RKjEtXQgfCUGEyBQgxW8o9WzSMhmxDADRMqvIAC1EakIsg0DkBUPRBAIb5LJ1PdGc9bDeSd70CHQNpAEo2xoWUJQR4zt5q7aE1LAM6C1rIsFAyJYsAGoTrdFyKgkKMai62u/IcTLhBMWQI2sEcowUIkeNhT/sMHLViICI7QWFP+owYhU4i5KvvJf6xxIT6gI2cbmZQT3E4hfBwtacO4SYToU7WrZSxsf5mUBf8sTiGEEED3ZtvHpORrIY/zF297O8KE+M53w7WjMIm5EOQ9Lrl1/McyFzKPAOQWuiIzWuVaY7qO/KNxSVVILbGb3csZzrwYo9xvfAjEhfSSvBIr3Hbxpt3f8A65ClEgfBVWN8xhbnIImdvY0Oa3XlwNBj14m4KX1rYFO3jAD44w2Ros4QqzzcIYvhqFM8zhs3nNbiDeLoAdWVCG9CB4+wWYfOlLNUdOchsM0Zl6U7yuEYP4cCo7nQsXstcZ01hco7NccXBczj8EYJEKKaGPfwxD7F2VIcY6KpOV+I/pNaR9Bp1yEP/xWobcV8tC/IcWPMgQ8IJ5y4NtyDCLeeYmw7H/If4YgB7ajEM8psAhDWgdnV/4jx2gmCFi3DOfMeuQFfxgyYI2oGd74JD8ITrR9ntkJBnCrUdD+n1JAQFlG4KFCVj60uZLyt4cMr1Pg/p7EZxgQ4yM5FP7L5VabMiLXX3AWM6yIZ2k9avjPOeGyFDXr9bcXxmSOoQBO9Jrdog+5HzsSCOxYA5ZwBlM3WzcfTcA4W3I3qhdbdf9g70PgSS3uw06c/LQIZgdN7kh9w+/ka8hQjiButcNuOIZ0SFonDe9f/aPWTuEDQrQ977vk816CqTgBCmMwcu541UfeeAJeieuujoQVcRgoKdj9UMmSQ2IH8ipO4LqP/GBgmBg/CRV/4RIrj1OoIUqSgAuFwAU8uDNhQ/koindkhoMAKdTBKARN71TToP+0qETfaVGP/pJk670QDG96YB6+k5fPvVSsIAnJ//NGL74kDULnOXwAbmoRB4MMzxAApJ5gFtQ3kGI1PLrYH+PxL9KcYJkvZxphgjr4B739ri1Wc/6e0Hu7l0kdCAiYuR732s8BPlBBMGKXzyQfxBZiMwx8pJHFrr0B5GXYT7z7SI0RPT5edB3atERKSE7TT+yf6gACBGBnjlYX+9/lGDTD6nhUmkvs6QEGiLsLT3vA/aPClAhIs8W/vBFlJT3QsRzyl/+wrAYa4goYNrSLy8Cbg0R40c/+w3yrf8tIZICIHwf/AvSZRQfkm7087e6w35I48/vfgT9g1jGhkin6V9/AwksAGsFEaXWf/9ybdn2EEbFfwQoIN/2QxJRRMaggAsIIOamVQ9xTqsggRPoHzv0bg+xPpeggRvIH+1mQxIBfyI4gqRRX0HWXRpBRPcWEQjwBimogqJhY//FFTp4fv1GSRPhfTZ4Hiu2YjnGcE4UEeIWhMRDOEwYYhlDEAIGNlvTKvoANo7WYVKIhVpIG1u4hRvWhRL2hWDoYGI4hgtWhkkTYjl2OET2gtgTAKu3EHBUg0qIQUJmN3d4XihXQhTRY3RYh5KDXjmoMi6IEf9wVhShen8IiCH0HKT/84ht+IJdJhHcs4iM2B5iRmYSwQk2ZImXuB6CRVgTEXyfOCT/oDMUkTqS4ImliB7xQxHLpges2IrEA1kVkUWzSIvksXkVkXi6OCL/4EwUAXm5+Ivg4VlsNBGhFYnGeCCSVhGeV4zNyB1JcXsVISzMOI0E4nutFRGsJo3amB3ucnwUMUniAI7hKB3N50sTMT7omI7QUVvVJxHS9I7wmBy2VhHDRAj2eI/w8w/MVhGylI3+SILF9YNUQJAFqR//UF3XRREqcGj9uJBRgXAEYZExcC0sEDe/gX8WsQMwoJAUKRpzJxASJ1YC8AghgHIDE4AToTwTOZJEIXZiJwCAQAIo/2dm17gAIimTmBFzi+JQqaIoQfAAD2BzAoFzGVUOPlcJd3IHAQAOUJcmTzeVe1KVVil0WTlTWLmVctKVXhknUieUPBWUPvVyNjlUv3FOFigRxiMMMemTQUGTZFcQBVAOv7FyE8GWPSmXjlGSAgBWv/IIDxCHqFRgFpF8cemXPiF4cBV4cyUAxGACGsmR5QSBFsFrfcmYmGiOF9FLm8mZoNhwFGE7oSma6fEPGmcR6baYqIkZVWSYDVFprvmalvEPfHgRfmib93GIaGUR2eMPp8mb48Fl+3QRLzacxBkemYgR96Wcy/kdoYgR64MJ0Bmd14OKF1Fdf3Cd2Lkd/xBvGf8hbd75neJoixiReLVpnn/BixhhLuXJntERjDeQEfFWiPJZnAiWEX64nvl5GpCUEYoUn/9pHE1jjRgBgQRaoL3RNL93EcHnnwz6Fk1jfBlBLIewoBOqG03jfBfhDxqkoRsaG00jbRqxbSI6oq7RNIaVEfCZoipaGk0TkBhxnzAao6NRDgdpEV+wTzeKo5tRDg6pEd8ooUCaFeXgkRmhoEZ6pFdRDi2pERHapE5KFeWgkxjhdT9apY5RDuCmETOIn1xqoGy5EShKpWMqYupVMWlYEuWglxexWVuapohThEVzh2I6EeXAibuHERU0p3SKcqSDh3ijhhxRDkXUcRrxWoD/Gqjl1IT+VYSRGIVfUw6vco5rU6RmyDSbmmFo2Klq86mgajaiOqoQZqoRVqr9tYZMqHz/UA4cI2UZ8ZZ56qizMajzVRm1qqermRGyswm7aqtaIYh3Ol8nUQ7ZwxH006jC6oa6KmSQGH3lMAcG0BETgAV22qy7UQ5n8JsasZ/Mqq1yUQ571RF/Gq7iSqFo1BHdWqjpyqGptRFSE6zvihnl0Hgd8WXoWq9lUQ7V1BHFlq38KqM68GcaAaIbRK8DyxjlIHocoUnuurAyKgM6UBINpLASmxIWORAIhw82AE4xkFcvWA6vVxJphrEZexKA+U74MAk8kQcxIJsS8aoIyhEl/7Qp+5qyB0GXPRJVTEIB5VQOD7oR/II8KKuzGwGUMCeUDDUQQTAcFoUlKTUBSUBSTemVYBmWLaW1SMe1KJW1XhtTYUtSY3mWPYUoL2cGKCAk3lUOHroR3BmxSAsTPAsqY0UCKNm2JloS73W0c5sRK1t3bUACePkb5dCiHbECbJSzfysQjhlXgkcMAABOIWACQUujHDEEcSS3jbsY/wAOu1QSb2AAOMu4nasVxcBcJVG0nHu6gvEPuTAA0NYRsvNcpuu6PwG77GMS+vBbAou77elzM2QSv+e3wDsW/6AJA9CWG5Euxnq8gZG851YSXMBXrQu9dfEPlWCCJtEq3XO72P+rLY0Qg/l6buAbvsCiCAEAYyaxj8+LvtkLUrtVEg7gS8YLv1TxD1ApqyXRAjtgqPgrF/oLhyhxBIcXqQEswGrwZCdBrYt0vwlsFP+wBd5aEkUkXBAcwbNxBcd5EusDbRmswVqRBGl0Ev6wAHr2uyIsFv9QBDCTEjCASO+7wmTxDzzgeCjhBJoYwjTcEzZceSjhvQDcw2HxDzTAeSjhQ8N7vURcFf/wAjKMEr07fjzcxNriAsmIEiJwWkxsxWb0Dx/AxSghBIo1xF48FUmRAd1oEjdLqGfcRd5Cjinhbm78xvn7D/yjEsM0bFVsx4J6fSwxAXLcxX58R//guypxA6L/RciF7BPqxxJnoABI1seNDErwxxI15IGUXMmGGLArwQ4DsH6bzMmoBIItIQKTxsikrC2/xhJIIIp1vMq5W6YswTGVFMuy7MO844Ep8cHnhaYR/A982hL+4ADY+su5nLv8oqgssQMqcDLAHMD/8Cqz1xJzoCknw8ks6IiUXFQBwL8qwTttOcp/i4PFml7lFJwuoQ8aBM2NPIS4qsIVgZsM3BIwkFnI7Merus+IRqldE8lYyAYGMA9aqKqo6jUGfdBck9AKjTUM3dBV89AQTTUGrYb8XE5fAAEwcU4HqMoaDM95KM8UcUYVILMc4Q8NMMgz7MXmjIMpuhQZEBNA4AFX/3S+thpk6bWDfbwtIxATrcK++ZzM2tIDLhATSBR/K93EG3tw3KQhSiAZSHkRl0UDMlECWYzLTRy4KyIAoEAMhCfV/9ACPCATXLAA5ETOElu3Pltz3mV7RGDSHeE3zPuEPay0SvvVSSm1cmIBRSCVQQcOCHAFNwW2Y1tShe10hx11ic0nhL3YbfImU3e2jfJyeD3P/wABVzATQnABZ43W/KrW/zRPUW3ZC7AFM1FE+BXUWV13dLfVot3WBKAGM6EPC6Bq0BzNvPm4kCktGmIEDwAADAC0oKQ5d9ATQ1DSYGTTb3x/AdAHPWE8qY2HuN25/7A+itATtH3MNT3djRs7Af9QCT5x3Kvn2cm8Q5rgEzXEvEkt1KDkN6fgE/owAanszuz9G/ySCz9xBgZQzdvN3Tr7PCH1E9tAANy33fVdZFEJFD6A3IOh3D1Mz0HhNx39y/4tsV4UFP7AAfWZEHR94CPddkGhB+Rr4B5uiE7wwkDBDguAew1e4fz6ikLBBgMgXC3u4u/6WIv8E/PQAPPd3yU+zw4bFHbAvRxO3nb8DwE6FPMQAVed3A4Ov9xYFCIe3U7+4xHRfCksFPpwASnQai1u5Q+Rj0XhN70WTEbexCIUukUxBAgA1EX+5NC7QvlHFObQAIzGGWdOw949TUXRKnP+5nDuujtE5azBD/CwDvL/wA8y4Q85gAA0vhAdDuasUUOPvhzygAzHIBDMoA5wzRHsUAEiAM6ALulXRM0WIw/H0A314A/3MA4CgA35EBOrQAAsDul5Ls29yhr1cAzhgCqsQQ/IwAwyYWTrZ+u3jr5VRj3L0Q/O4AyKXhD74AzJYA8p6A9HMAB/buw2jqP/8AWayBrqcAz2kBDQMO0pqA8+QADtE+aRzt7/YHjkwg/MUA0KsQ/QwAzj/hL6UAMEsMQNUV8H/g//uhzhHuv17gzMUA8pOA8wYADZru2F6+H0uRzyTg4yuw/NgAz5sPA+EABs0OkYszUSf0ys0Q7HUA8OkQ/KoAwbL4L+8AUBMASi/w7paFPf/xABE9Q00NANEHEPK7/xMPEHBNABvPzvAF/J9/Jb5bDr8BARPs/yNbgKHEAAegDyarrt0cncjvCq5MAMvv4QPo8MCr/wSBAAMFD0Rt/uLC1D/8ANzHAOFJEPCG8PwgkTl1ABA+AE88vuR2/FJWhg63DyFWHvydAOtz4P+t0AbLD3uaQ0Ry57/rAM0HAR/DAOmc4Pt24MR0AA0sbfV+74fq96+XAM7WD1BuEP4Q4NLV+DxoAEBGAAQmAKpp/Tag/l1fsP6pAM+6AR9oAMybAOwrmv23AGExAAHHAGfQoRVSPC21IC/YAM0jD7CLEP5HAM0EDttd8R+nAJO/9gAAEAAmOg3mm/NNLcAj2A6t5w0v5AD83A6/fQpi0xD47QAwgQAArQA3owC7NvNeGLRQAxJlwzAQUNHkSYUOHBfu2YHQtnz98/ihUXXsSYsaA+UVdKDAiAYMYXScL8aUxYUeXKfyhdvoQZU+ZMmjVt3sSZU+dOnj19/gS60FyASMfWBRXAb12zY87W5WNpEelBdqHOzGgQIMCCFUfsYDKmL2ZUslPNnkWbVu1atm3dvsX4T1SAX8z4mfUnL9yxY9jW1SMrFS81SmN8dCCglUCFGUfOEAolbJ7LwIHhXsacWfNmzp3h/vuj4Fg6tfvWdeOLbNzffpUFI9XX65IeJzf/PCzQqnUBBxk+nJz54yjULGrzTqZ07drzcubNnT+HDvSfkDzJ9rXdJ++cM77JoK2Wd691cpVT2c3a9IcNEh0tLuDOrXXAggkcTsCosQPIESdczrzR449DJMEkFFNW6UWYbcwxjryVooMwQgknpHAqfXCgRR3M+KFHnXGg4Su1785Rpx167MmHn4kcZKmclnbSR5xeRJFkED3Y0AKJIXy4QYYURLhgggYQSCw+I3MjwIAFHJjgAg9KUAGGGW7Q4YchjkDCCS3GOIONOdT4Y5BBBqQEk00MPHAWAXoxhhpxzGFnHn2Oq7BOO+/EM61/IhEAGnw68ycfetZJZ5xnmkkm/8QQmWkGGmzCGWecdNJRZ5112oFHHnlOtKeeer7JZx9R+VGRRVNfvEgfdsQxppdZTAllE0kcGeQPPeY4YwwtnNARiB5umEGGFU4QgYMgIxiSyCMDyMjIAZJUsoEGIpigggsu6ACEEk5IYYUWZJBhhhpuyKEHH34AQogrsczSCSqw4OKLMbjs8o055rDDDj0C/CNMMQk5xBFH+pBEEkooucTMTTgJJRRRHjblwFUmnqXiWXrBOEFhhDGmY2qo2WYbcUY2B052Tp4nZTn1mZPOPF/OzB9xVpltjFwg/ESATvKJkJ977JEHnnXUOYeccLrBBppmmGEmUUWfhlrRZKZOhv8ZAZhBRhmtm+HaGa+hcQYascVOGhuzz8amG7XX7uZot8OBO265IaV7HEgjxTtvAcYxSJqCqhFgGGmGIfwXXAw6nBVWUEGFFMcdt4QUSyan3JJCLLe8EM0196Nzz/3AI/TQ4cADDtNNLwOOMlZnPYsysoA9dtiroL2K2Wuv3Qrdd5+id9+niCJ44Z8gvnjjjW8ieeWXX34J55dQfgkppJeieuuvl6KL7LvgvnvuwQAffDHGJ18MMs4nI43002C/ffbdSAN+N+anv/74729f/vrrj6N//+kAIB3qMEACFrAOexggAg+4BwQy0IEPhGAE9xCICQbCghfEYAY1uEFDWLD/g4H4YAcFsUEKxkEMUiDeFKpQhlPcBTqd2EMwYLYQbnDjGzf8hjd0KIt2tMNS2liHNoSojWwUMRvXQCI5rFENJlZjHNWQxjikMcVwSCMc0bhiNLS4xWhgo4tdNNszsPEMMpaRjMtAYxqhsYw1js2NbuyTQQjiNWcIwGt2XEgd73hHPAqAIFxrhjMAOUhCNkMZhjyk1hS5SEY2cpFZQ0YkJTlJSkbSF8i4ZCYxiUlfdNKTnwRlKEHJC1KW0pSnRGUqU6kLVrbSla+EZSxlOUtavtIWt8RlLnW5S13GIha8BGYwdVkLYhbTmMck5k986QpXxMIVuuBFJyXpDXA4xx/XIywIqmaIEnSwzJtiEQA2UdISimQzKttEZzrVuc6D6KOaLgkIACH5BAXIAAIALAUABQBPAm4BAAj/AAUIHEiwoMGDCBMqXMiwocOHECNKnEixosWLGDNq3Mhx4j9/j1gwKEDBSLB/HVOqXMmypcuXMGPKnEmzpk2a/6AAeGAESgwAB16hvEm0qNGjSJMqXcq06UxuACS8E/ivjYAgTrNq3cq1q9evYJOWAhDEH1VgAGyYDcu2rdu3cOPKlVmugFSqeQBYncu3r9+/gANnbbOzZ4wCRvAJXsy4sePHkBMKOgAAgAAUoCJr3sy5s+elZgqYIfaulAkAjz6rXs26tWuHmQAoEfCvNrgDEl7r3s27N2Odk2jXvgwAnO/jyJMrd6oEAKDawykAmLq8uvXr2DsmAoAB3XBAAEhk/x9Pvrx5g/1YAGBgGECBzOfjy5/vG1+bEAUKPAjyai39/wAG6Jk//glo4IEIJqjgggw26OCDEEYo4YQUVmjhhRhmqOGGHHbo4YcghijiiCSWaOKJKKao4oostujiizDGKOOMNNZo440RQjccQToO1eNQOAYp5ErD7ThQkT4WOeSSTGYEnXBAPvljk1RW6VGUWB75I5AFqbLll1uWA6Y+g+gD5plopqnmmj2KyeabcMYpp5ty1mnnnbXRieeefKKpZ5+A/qiKfF7qqOWhVBn6pEx6CCCJkVZGmqGURlJqqHAy+cOBADdAKumnFSJZkKiYLgoTJwHcMIA4XILqao6XIv+5aI8z3cDBNgTY0eqrvPbqjwFs/HODCLv2auyn5gTgyD96DGDmsdAiCAwKFJjwSkHTVnutABJQEEIIiRTY0ioBmPJPKAHMUmy07J7HAiACJIJCQe/GOy+3284kSQDU/ENNAI+2K7B83CSgmD8MBDNQwQcnjG9NehBgpj8IBDvwxeWlgsFAJsAngMYcZyZBCBgYwQ1CKMTARzkst+zyyy8DA3M5SUTQ8gc8oDPzzjz37PPPQJcjc9BEF2300TEjrfTSTLs8dNNQR/3z01JXPbMn8nnSMsgCkeAx1wJ4LQAxAuDjk0w/rDBU2uti7PZxDAuAsMICxT03QdMcINMKPgz/NUYDbb8t+G71yksvvIa/g45AbbAg0wRYDHVIAOYEPvjlq+1CLQnbxpCKAJpTwLkAwZCMgQ10v+QPAXoMRa65mMd+4r8BC8BOAINYLvvuGJoSwCpARvCF7rwXP6EjlAMJww7EG++8g3MY4A+QQ9D2/PUXUlGBkWM40Dz24As4RAlG/hHAs+Gn32APMhiJSQDGqC//gjPkYOQsAYjy/fz8Y3fCEFxK1iH2178CKucC1hvIr+ZAQAM6sDcOGEOrLuCEBj7wgq4xAAMLAoMeWBCDIPSMPgLwh1YBIQUfDKEKIyMOgLWKCxNI4QpnyJheBIATrWqWuGjIQ9WQC3gF2Rc1/3pIxNVsIgDCaNXrZFjEJroFeawqyDZc6MQqQsZ86FNgrphoxS5uJXqeEgDkuOjFMjKle2FUwQ/IaMY2HsUJFwhjD2DARjfa0SZCQOGukMCBHd7xj1y5wQyKdYYF1BGQiGxJB4tlvnkk8pFaKUECC/K++EHykkupABWK9TpMehIpCzhDsaYoiU+a8iara91B/DEAVZ7ylTGZB+7WFcFDwvKWByHlukRwBFvi8pcCEUYANrGuGtTAl8DEJf70h5DxITOZsPQdEA/yhQg8E5qnRFcv1mUHAvgRm+B0yCX4tS4ohvOcEUFe5RAiinSh850NGcT51iVMTMAThLTiUazyyf8SHa5Llrm75wVJdagdhZElc0DAQQVSMYE+0FJaQgmlZILGtlHwmg6FVqWylCgoLbRQddITFmJ4phb0LVAoBdOfUsrSkLb0pXZaKUxn6iea2jRNMr2pTvMEJ0RhqqMSXShH+ChUH9AxowWEaKKCyiWhbmQIJwgcHDGKVGMRFKhB7ahLjBo4Nhiyqv3Lp6zG6lSNCDJwgxCAI8F6TxnoIHCVZOs9UyCEwHVSru8EARICR0q8vlOTgdNHK/2KTuFZLoKEPecCLKYQEBwhseHc4kJmcAPIYnOEJVxIHqlqWRreboALGSlnO7tCXS6km98krSeFScyFHMJ2qi1etqyFLWr/0XYgXgBAvlayTMuFQgC9iC3vCnevgRB3IKqIgQR2qxJpWi64vxVu7OzmsLoZTG4OwwcKgrFcl6Bqmwv5rHRjB7aODaS8mYFCHh52kJStDGlPU0QAcgE0AqjBavjdGdXyy9+l7be/AC7afwNMYJ8NuMAITlqCF6xfooFNbAJ5MChKwQKzdLclyGOH7iaghfFijrqpA7EZHiABCewkOCzBou5OIAQPY+64BIHxQC7czwGUlVMzcPHlQjc6AXgOdJtjLo1X8gaFEs8DOvZkRRnytyRjUrS6w6KTIUnUhlBCAJacMiKd2ZBVCMAUWk7kD1RAvG04KsyI1EH7GiLYRqH5/4/GJN4/EPvmOy6yIf8oQfXqbEe6Ns+YfLYjL5t3BBEE2o0XdUj3Dt1GDjevWfpgdBkbIEGHCFHSXkTAG5onTUx3UbIN+deVPe1EzDYv0n8gtRNlSYjm/YPSqm5iC5flkH84NtZFNEYALuFqyuKaiDYMhavH9+seLrHW1Sw2D537EEgre4ba/N6ln63CcRrje3elNgih+L2+ahuEhAiAhh/CSjd/+4Iqfsg/IsCFc2Owmzc+EovdjSN+LhVSplJJkeNNlRzIgN43umqpsMRvipwBcN/7Bx8BXiOlQunh9k4JDPf3DzYggOE02qhPRfXRO7lpqnCS5zx2GlOSmxw6Of89+UxTrvKXsrzlKX05zFEqc35q/N5ZZckRQEDxIwYX4zFyuKW2xJLNQuQfwQa6jATOdIxyNSK3I4TSg75Pj7aq4BM5a0T+oempy08G9ts6Bb2uvhVMstYC6AHZ06dnAv7jhGsPHwf2uvWRxh18gN06au9+PcNufV/i4PvzQun2TgveeBp0u6gPb7xWur3NjOedqbe+7nZHXnasbuA/6Hp52c1a8zv4d+cx9y9eS+QfcBw95mzY2q2/wQCqv1xvTz85dsRecD/UfDtncfu37V7z9ey9246YxNNjVvgYowQ5T//qMSD/YtxmPi+fr6HZMtf6AokBBkLAgkGtJNwjZz7/oKmPIRkLBMaLE8AjQpDieTL/CEgmv4VAvLDr3m0ggBDPSpqF9SMVUv4Wgl7ntTECYV5X8QAPwFwD4V5KIzNqYABMcwcBUAw6w2ACZoEY2DIHloEEtoEcCGAe+IH5FYIiiF8kuDUEGDZfk4IQJhCAEAMscXD9RxXEB4AUQn/W1TCpIxAFUA4rUU0zSBtJZ4MTYn4CcFzvMA0C8QgPkFoXoT1B+A8ARYQTwmOd8zlWODYmsH3dxxJVdiWhRIW9cgTkQxG1IQJ7JoauYnRXcgOip4agMkcfVBupB4egonVXEj1OaIdCUj9z+A/IY2Z8GCkm9YfZNohU8j8p9A+zhohW/6JXi/grb+CIVZJoZvgPY0eJTeJoFVEbvqaJTFJLnfgPOweKTLJYi/gP/2eKQ2IAujKK4WZ7rIgj/hAArnQluzeLODJCAXWJujZqulgjn5WKkBeMNWJal/gPE0AFxlgjuoYJMlQbLaB2zTgjwRaN/yAEklSNMoI/sDOKq8iN5BFxYnUpKcFssChu4jiOOVdQPqJVKRFtFlEbhreO1yF0sqJPK0F82NiI9niPHPVTP2WOXeJxytcve0IxwTJzYcKQN1VzDrknEBmRHkeRMDWRFjknPQWPNwePHaFO2Ghrj/WP1oGPTDUqyCRyIelvJAmQAolVAxmEDGE+0zOPtUEFE//QkiVZdbQyJSoBbyHpbDqJIgklk1ryPsIwlChSSEaZKKynlCcChExUG8UIlSQChVOJEstolSXyhTYpADCgA1xJIoXGRdBRimMpImxokxWHAHuYlhYihxgBHeYElx+Ch2xJLqJglx9CWWZZG7KUanzZIYXoJFqJBYPZIX5mmAIgA5WVmBsyaIyJBAgEmRpiiRcxHBETaZaJIZw4lyjhc52JIaIImv4CMKN5IYRnmB9hAJOYmhWSeKwpAGgImxXieLPpAypgmxMCDiRERk/SZLwZIcUQAK2mEcMxOeYwnBCSCwNAa4ypl8z5ILkQAJTARsMRmNPpIKcwTNg5FFu5nQz/0p3MNJszUAPiySCa8DvfiRI4mZ4LUgnp0p4CIE+yCJ8H0ggDAF6zeYj4GSDydW0bkZ0DIJj/yRfYRxDYhw824C0xsIMb0QerUkc7kokHOhdGeFz4MAlmkQcx8JYS0QfiRqFDkQMwcKFzgYMCoKIfQwEqIYFZBJoCIZwoChcCGGEpaIACEQSz0V4qozRqMADg0F8iSl8lKDRHmmAnmKRQs6RMyjRO+qTwJaUB5qQSNoAD0YJmgALUwRH+8IBNiZIoYUOcUKNwoaI42AYkkH4psQWGRKIooQ+5YqZwkaGIcy9q6oMrcQXeA6cCAQJpSKdskYU+hoVBNjYA4C0hYAIq/5EEMcQRiwJ3ghofRRBHHbEjFgeik4ocROABtrQjypeUm0oe/sADKHSpQ0E7o1oePNACnzoU/tAAX7Cq5EEDg4SqQzEDOUar2fECYQepO/IFDsCr2eECfYOrAoE8Q0Ss1jECAISsWGadzGodG0B3qCoQ/rAAzjety2EBFZQSRiID6MmtTUGOihJxGgEBwwOuQIIFEUCu5dqOMOlwG6EAosSukhMAggivSGGSD+dTHOGavrQoNmRP/NqvAdmRL0kQICUnWzRTFCNKLYeRGQknFFuxbHKxGKsmGruxZ9KxHqtSGymQHZlvGlGLmQWtAtACOXCwCHuSS/WvJqsRAIVMRv9CBe/qskfRdDH5TMkCndearPCjs0ZRjlZndb4kajYLJFP0WkTrGqy1tEAyAU7wtK4xe/g6ED+wjVa7GrmnEqbSLGvVtZ/xe2B7PwEQXWTrGfxIJECiDwhwBmv7GQf5TJCiq3PrGSDptgQxBgugqXnrFyrptkByRLwXuJpBk3ZrJOxQoIirGUBJuAQhAj/wuJHxemGqEJBCBQ4AuJYLF2egAJmbEJDyPof7uYzxBRAwuggBKfMwp6jLGFRgARiVbzAwrrErGEiwAbULKWeAAJyZu4AxBCPQu1ziO3spvIDhAy7guczHJXC7rcrrFzfwAlTlKTdgdtPrFzNAA9ebQwT/cJ/bKxdm971cYkPAOL5xUQJE4LzPSxD+MAFIoL5zcQFFYL4FgQQT4L70uxQTkASc5Smm279w4QBbEMCtMg9xS8BvgQBqwL+U1yo5kAIM7Bb2hcCt8gcDsK8V7BUjdAcYLEW408FgcTt9MFphdAItS8JeMUWKELwtEUZnYAAwzMJZoWuLgMKeQi6XYMNcgT+VoMOt4g8X0GI+rBXkoglCbBBjgABje8RM0U6nAMHMZxA25AhQ7BTvcwqjtbACIQIrnMVLsS+50MUz+wbhK8ZLMTnFYMZhZAwDkFZqnBTmAw5uXCwrsKtzfBQRIyYycVDNwsF7fBNF5scxMbPiQABs/yDGCToQCaoEJqaAGNE9hgwTMysAQLC/WWyn9iIQoEAMQ6YRWjABlfwSl+w7PXzEaGp/1cVeHOEEHKCnf1ws/iACuGvDN/oxOeoxoUwQDGg0RLABUUpgEngKFWiCVAqCydxfw7zMQdPMzmxg0YzMQXOlOJqlvCzJFuEPaSPLh3xQCmx5NrzKOjhj2mwR/lbKprxQSNAAT0zCnGw45pwSlOXN34wQNmSgLEyoP0aoRvAA6+GiHLECP2DPlrxQOVABNTzIMVECR2DQ67wu5CLHLGyus3LJF0FBEL3OCVEDF0DFiMuzBoXRFjEBXLDRLoHRvoPFJOyvpsK6BBFK6nzQbf8jAx0A0nNbsgnbNg37JrkCsjCFLssCKEAdsj9S1EatI0id1DzF1Hiy1ExNsRu30x2BWSid0kIlAxew0Orr0gqbEZ911TEsVORibgws0k1lS6Qk1ixB0pjcAOLbv0Zbjm4tEazF1m0tVMZAALPK0C/hjXgtuQmhBQaQZX69Er4zC4F9toHDDg1AjYe9j0i02IytEPJksJGdEvuyDZSdtQnhDzAwAe+c2RlRe52tsvhMAIhJ2hyBRaeN2gdxBgNwuqyNEfD22sBqOfpwASXA1bUtEUyJ27m9EKZAAMz42xcBhC/LEG8QAJiN3BMxVcu9EP4wAw0gyND9EGTYxQxR1wL/sA0NIAO+nd0KwTZJ4d0CcETHTd4PgZc7G292QELs/RBgx93dHW/+cAQDoLbzrRCKuBTorQ8ysAA/198JMXf2fd/NYw4XMAGGbeAF4XcAzm/GMAEXgN0QLgAKwFhKQZAK0QsRwAHLmeEKhJtMgd4CMQsLcAIjTuI16xQoLgCrsAAcsKwZjownjnWzEAEVIKoQTqYJrm5YJwwV4ABeBuHHZhD7IA/rIA/7EOQeBRHbIAIGwNL9LY8F0Q7McAwDQQ75EOQevhDz0AMBwAU4fcR1WxDrcAzjcA/9cA/qkAzJ0A5n/r4Q4Q9sEAA10OLZXXtcIg/HcA5Gsg/jwOb8UBMx/z4Ql7AAEcDfyE2TBMEPyNANNZnlyeAM+YATiS4QxrACA/AF433YRUkQ6ZAM9/BN9YAMzCA3MxHmDKEPsn0CtM3aaDQQ+5AM6fCWc67pQSgKF0AAVzDahy3dAlHq+7CH/FDoud7qmy4Q8zAGA3ABm1Db2y0Q/JAMgq47/qAOxxAO+8DszS4Ap5ACATADs87QcikAa/7ltSYPydAM9QDuQegPjlABA3AENs7QMHCsAuAM4eC5/3APzjDn/SDvFKEPc7AABIAE+T7HHUB33nAM8uB2yc7m3z7L4W47frvwPq7GoigNyNAPmvcP7ZAMykAPdV5rru4Q7FBIer4JKY+4q/+jK9eeDn+YD9hg8fKeQvPwBxwQABdgB4F3xMPYDsdwD6nYD+uQDMzQDgX/zSvfEP4QCjkwAASQA5QQ6uMbtd0ADVn5D/lQ6M4gDzsvQ+IwBx4QAAtwBJig9cIrTflwDNoQpjpiD9BwDNBA9hgf9QzhD6swUmovBI4Q19s7TtQQ59PQnv4gD3fvDO1w6FDP933/9z8/AC1wBqbg9oErcsowDjM9irXhD/TQDcfADOcQ75Ev+QxhDHpQAwYQAAhQA3OQ+cIbPfRwDPQg3AexJfdwDlvuDOpwD3v/D3pSEfogCmcAAwQQAASgAlRwCMIQ85PqBBUwDs0g/fqkI/wAD+H/kAzH0AznQA+Qv84pd/CmMAc9EAEBAPsw4AR/YArCrrMzwAPHoA7Gq/3wMA7IcAzHgA0AkY7ePgEFDR5EmFDhwoL/HD6ECJHhxG2XzuyoEEBjhRpO9Gwy5m/iSJIlTZ5EmVLlSpYtXb6EGVPmTJo1bdasACnZvn83EUZ86M/eum7Jjh1rNk6dvHwifRoEGjUiynmmBjmpUWGARgIXZiBhc0iUMX1PzZ5Fm1btWrZt3b51OY+ALnJO1Ur9569eO3LQjB5L5mxcunb07vU7i1cxUIb6elGy4+QGBwQaAwxwUKLGkTF6HInqxc4uXNKlTZ9GnVp16Vk4jt0bvXaxv3vy/9SRw8bs6FFk0MKdU9dOnr18/J4uRr6Y3axLesYMqSGiwVbLBBx0gKHjCBY2fxxtMtVr27zV5c2fR59evc0+rcL1ND3bIb968talG9etme7dgJE56yYccoBbRzh67PmmOMRiSq5BoPwRZ5ZNCLFjDCR8kEGECRSwrEMCFpiggxFm2EEIJLAYYw49BnHkklBMWUUAasyZRx+J1sMxRx135BGlfgp5DT7VHHyIn3zskacdddIhJxxsnFGGv/52S4YZZZqB5pkAxxlnwHTSUWcdMduBBx556EHTHnvqueeefPLZJ05++ontICLx0sccYVYJRZJB7DiDCyR4yEGGFDyooP8BBAYYiQAEFohgggtEOGEFGWbIwQcghjjCCSe0GOMMNuawQ48/BmHREUkuwYSTUESBcZVZZulFGGGM2WYbccxhZ54a/fEHuXLuJLZYh3pEFlmgytGxk2MyqTM9Yx3yx8h77PEmSSWXPIfLcLrBBhpnmolSyinPRbe/ZNatkhlmkFEm3mbmdaZeaO7NEhps9gW3G3+/DSdggcMRgOBoChpHAC65rGacYYb5xSBUUCGFFEsuvrgQjQvxo2M8PoYj5DJGLiMLk6tAOWUrVp5iiihefiJmmWduouYllmhiCSl2lqKLnrvoAoygwRCjaDKOTiPppN1Iww2n3YgD6jimroP/jjquxrqOPbTWeus9vgY77LADIbtss88+2xCy1Wab7UAMgTtuueeme25G4L7bEEbu3lvvvf8GPHDBBye88L4hMXxwxBlZvPG9HUc8csYnl7xyyhmHJHPNM7+88sUDB0bI9dZ4J9mTykE99dSBUb111dFxvRxuuLGHmG9u9yb33NtpR8x1tAE++GyGH/6aa8ixphrlx2lYmnGkkSac6KOhvvp9930m+2W2F2CZgqARAN/w72WoGQHmPd/88wtSRoB434f/fXiRob9++n1Bxhf89ee/f194AWAABThAXuiigLpAYAIVuEAF2sKBD4QgBGMxwVjYYoIRxKADa7FBDnbQWIMfBKEHYRHCWsDChCdEYQpVuEIWtpAWL4RhDGU4QxrW0IY1hMULc0iLHfZwLR+cISxAwSxpCaAsojMdS4Y1FQEcayTAWog/9DHFKSbRilfEYhZlQ8SSBAQAOw==\" />"
      ],
      "text/plain": [
       "Plots.AnimatedGif(\"C:\\\\Users\\\\nicot\\\\GitHub\\\\Heterogeneous Agents\\\\notebooks\\\\Modelo 6 - Calvo Pricing y dos activos\\\\tmp.gif\")"
      ]
     },
     "execution_count": 84,
     "metadata": {},
     "output_type": "execute_result"
    }
   ],
   "source": [
    "anim_dist_X = @animate for count_i in 1:size(results_f)[1]\n",
    "    \n",
    "    de_ss = results_f[count_i][7]\n",
    "    du_ss = results_f[count_i][8]\n",
    "    n_ej = 1:Grids_ej.grid_p\n",
    "\n",
    "    # Create the plot\n",
    "    plot(Grids_ej.X_grid[n_ej], de_ss[n_ej], label=\"employed\", title=\"Total asset distribution ($count_i)\")\n",
    "    plot!(Grids_ej.X_grid[n_ej], du_ss[n_ej], label=\"unemployed\")\n",
    "    \n",
    "end\n",
    "gif(anim_dist_X, fps = 0.5)"
   ]
  },
  {
   "cell_type": "code",
   "execution_count": 85,
   "id": "144fd621",
   "metadata": {},
   "outputs": [],
   "source": [
    "@save \"results_3_6.jld2\" results\n",
    "@save \"results_f_3_6.jld2\" results_f"
   ]
  },
  {
   "cell_type": "code",
   "execution_count": 32,
   "id": "a808daeb",
   "metadata": {},
   "outputs": [
    {
     "data": {
      "text/plain": [
       "1-element Vector{Symbol}:\n",
       " :results_f"
      ]
     },
     "execution_count": 32,
     "metadata": {},
     "output_type": "execute_result"
    }
   ],
   "source": [
    "@load \"results_3_3.jld2\"\n",
    "@load \"results_f_3_3.jld2\""
   ]
  },
  {
   "cell_type": "code",
   "execution_count": 86,
   "id": "ab765bfd",
   "metadata": {},
   "outputs": [
    {
     "data": {
      "text/plain": [
       "19×34 Matrix{Float64}:\n",
       "  8.32155e-317  7.2929e-304  …  7.74682e-304   0.0          0.0\n",
       "  1.0           0.95            0.00119746     2.22045e-16  3.68313\n",
       "  2.0           0.95            0.000366511   -4.44089e-16  3.66108\n",
       "  3.0           0.95            0.00116577     4.44089e-16  3.68221\n",
       "  4.0           0.95            0.00032527    -2.22045e-16  3.66097\n",
       "  5.0           0.95         …  0.00116473     4.44089e-16  3.6824\n",
       "  6.0           0.95            0.000282519   -6.66134e-16  3.66084\n",
       "  7.0           0.95            0.002052       4.44089e-16  3.80447\n",
       "  8.0           0.95            4.32397e-5    -4.44089e-16  3.7754\n",
       "  9.0           0.95            0.00175753     2.22045e-16  3.80552\n",
       " 10.0           0.95         …  2.82912e-5    -6.66134e-16  3.7692\n",
       " 11.0           0.95            0.00142495     0.0          3.80664\n",
       " 12.0           0.95            1.89845e-5    -6.66134e-16  3.75833\n",
       " 13.0           0.95            0.000633402    4.44089e-16  4.02372\n",
       " 14.0           0.95            8.52767e-6    -4.44089e-16  3.81588\n",
       " 15.0           0.95         …  0.00035709     2.22045e-16  4.02222\n",
       " 16.0           0.95            6.07257e-6    -6.66134e-16  3.7922\n",
       " 17.0           0.95            0.000165006    4.44089e-16  4.01911\n",
       " 18.0           0.95            4.32492e-6    -8.88178e-16  3.76888"
      ]
     },
     "execution_count": 86,
     "metadata": {},
     "output_type": "execute_result"
    }
   ],
   "source": [
    "results"
   ]
  },
  {
   "cell_type": "code",
   "execution_count": 87,
   "id": "b7e3fa8e",
   "metadata": {},
   "outputs": [],
   "source": [
    "# Requiere cambios\n",
    "columnas =  [\"count_i\", \"E_z_inv\", \"var_z\", \"Z1\", \"Z2\", \"Pz1\", \"Pz2\", \"rho\", \"lambda\", \"rra_coef\", \"rate\", \"infla\", \"K_R\", \"K_oro\", \"K_ss\", \"K_out_ss\",\"B_ss\", \"X_ss\", \"r_ss1\", \"r_ss2\", \"r_ss3\", \"r_ss4\", \"rE_ss\", \"rd_ss\", \"W_ss\", \"Y_ss\", \"Investment\", \"C_ss\", \"VarC\", \"Welfare\", \"C_rep\", \"id1\", \"id2\", \"KY_ratio\"]\n",
    "\n",
    "XLSX.openxlsx(\"resultados.xlsx\", mode=\"w\") do xf\n",
    "    sheet = xf[1]\n",
    "    sheet[\"A1\"] = columnas\n",
    "    sheet[\"A2:AH20\"] = results  # <- celda final del rango debe estar ubicada en la fila (alto de results + 1)\n",
    "end\n",
    ";"
   ]
  },
  {
   "cell_type": "code",
   "execution_count": 97,
   "id": "b2eb8c9d",
   "metadata": {},
   "outputs": [
    {
     "name": "stdout",
     "output_type": "stream",
     "text": [
      "Iteration 1: E(1/z)=0.95, V(z)=0.005, ρ=0.8, λ=0.75, γ=1.0,  R_f=0.0065, π=0.1\n",
      "------------------------------------------------------------\n",
      "Iteration 2: E(1/z)=0.95, V(z)=0.005, ρ=0.8, λ=0.75, γ=1.0,  R_f=0.0065, π=0.3\n",
      "------------------------------------------------------------\n",
      "Iteration 3: E(1/z)=0.95, V(z)=0.005, ρ=0.8, λ=0.75, γ=1.0,  R_f=0.00675, π=0.1\n",
      "------------------------------------------------------------\n",
      "Iteration 4: E(1/z)=0.95, V(z)=0.005, ρ=0.8, λ=0.75, γ=1.0,  R_f=0.00675, π=0.3\n",
      "------------------------------------------------------------\n",
      "Iteration 5: E(1/z)=0.95, V(z)=0.005, ρ=0.8, λ=0.75, γ=2.0,  R_f=0.0065, π=0.1\n",
      "------------------------------------------------------------\n",
      "Iteration 6: E(1/z)=0.95, V(z)=0.005, ρ=0.8, λ=0.75, γ=2.0,  R_f=0.0065, π=0.3\n",
      "------------------------------------------------------------\n",
      "Iteration 7: E(1/z)=0.95, V(z)=0.005, ρ=0.8, λ=0.75, γ=2.0,  R_f=0.00675, π=0.1\n",
      "------------------------------------------------------------\n",
      "Iteration 8: E(1/z)=0.95, V(z)=0.005, ρ=0.8, λ=0.75, γ=2.0,  R_f=0.00675, π=0.3\n",
      "------------------------------------------------------------\n"
     ]
    }
   ],
   "source": [
    "# Only K_gold and K_R\n",
    "\n",
    "max_iter=1200\n",
    "tol=1e-5\n",
    "b_min_ej = -10.0\n",
    "\n",
    "count_i = 0\n",
    "results = Array{Float64}(undef, (1,14))\n",
    "\n",
    "Grids_ej = Grids(b_min = b_min_ej, x_max = 3500, grid_p = 175)\n",
    "gx_0 = repeat(Grids_ej.X_grid', outer=[Grids_ej.grid_p, 1, 8])\n",
    "n_ej = 1:Grids_ej.grid_p\n",
    "\n",
    "for E_z_inv in 0.95:0.95 #1\n",
    "    for var_z in 0.005:0.005 # <- modificar\n",
    "        Z_ej, Pz_ej = z_dist(1.0,var_z,E_z_inv)\n",
    "        #Z_ej = [1.0 1.0]; Pz_ej =[0.5 0.5]\n",
    "        for rho in 0.8:0.8 #\n",
    "            for lambda in 0.75:0.75 #1 \n",
    "                for rra_coef in 1.0:2.0 #3\n",
    "                    for rate in 0.0065:0.00025:0.00675 #2\n",
    "                        for infla in 0.1:0.2:0.3 \n",
    "                            \n",
    "                            count_i += 1\n",
    "                            println(\"Iteration $(count_i): E(1/z)=$(E_z_inv), V(z)=$(var_z), ρ=$(rho), λ=$(lambda), γ=$(rra_coef),  R_f=$(rate), π=$(infla)\")\n",
    "                            #if count_i ∉ iterations\n",
    "                            #    println(\"------------------------------------------------------------\")\n",
    "                            #    continue\n",
    "                            #end\n",
    "                            \n",
    "                            Para_ej = Parametros(Z = Z_ej, Pz = Pz_ej, ρ = rho, λ = lambda, γ = rra_coef,\n",
    "                                                 Rf = rate,  ππ = infla,  b_min = b_min_ej, η = 0.2) #η = 0.1, δ = 0.005, β = 0.97\n",
    " \n",
    "                            K_gold =  golden_K(Para_ej)\n",
    "                            K_guess = ((Para_ej.Rf+Para_ej.δ)/(Para_ej.N*Para_ej.η))^(1/(Para_ej.η-1))\n",
    "                            K_Rf = fzero(K -> (r(K,Para_ej) * Para_ej.Pr)[1]-Para_ej.Rf, K_guess)*1.05\n",
    "                            \n",
    "                            \n",
    "                            result = [count_i, E_z_inv, var_z, Z_ej[1], Z_ej[2], Pz_ej[1], Pz_ej[2], rho, lambda, rra_coef, rate, infla, K_Rf, K_gold]\n",
    "                            results = [results ; result']\n",
    "                            \n",
    "                            println(\"------------------------------------------------------------\")\n",
    "                            \n",
    "                            if count_i==2\n",
    "                                break\n",
    "                            end\n",
    "\n",
    "                        end\n",
    "                    end\n",
    "                end\n",
    "            end\n",
    "        end\n",
    "    end\n",
    "end\n",
    "\n",
    "writedlm( \"results_K.csv\",  results, ',')\n"
   ]
  },
  {
   "cell_type": "markdown",
   "id": "b20b6adf",
   "metadata": {},
   "source": [
    "## Plots"
   ]
  },
  {
   "cell_type": "code",
   "execution_count": 24,
   "id": "1f9b31e6",
   "metadata": {},
   "outputs": [
    {
     "data": {
      "image/png": "[encoded data removed]"
     },
     "execution_count": 24,
     "metadata": {},
     "output_type": "execute_result"
    }
   ],
   "source": [
    "n_ej = 1:40\n",
    "deC_ss=de_ss/sum(de_ss)\n",
    "duC_ss=du_ss/sum(du_ss)\n",
    "plot( Grids_ej.X_grid[n_ej],deC_ss[n_ej],label=\"employed\", title=\"Total asset conditional distributions\") #, xlim=(0,1000)) # xlim=(a_min_0,500)\n",
    "plot!(Grids_ej.X_grid[n_ej],duC_ss[n_ej],label=\"unemployed\")"
   ]
  },
  {
   "cell_type": "code",
   "execution_count": 33,
   "id": "54053d22",
   "metadata": {},
   "outputs": [
    {
     "ename": "LoadError",
     "evalue": "UndefVarError: de not defined",
     "output_type": "error",
     "traceback": [
      "UndefVarError: de not defined",
      "",
      "Stacktrace:",
      " [1] top-level scope",
      "   @ In[33]:2",
      " [2] eval",
      "   @ .\\boot.jl:360 [inlined]",
      " [3] include_string(mapexpr::typeof(REPL.softscope), mod::Module, code::String, filename::String)",
      "   @ Base .\\loading.jl:1116"
     ]
    }
   ],
   "source": [
    "n_ej = 1:80\n",
    "plot( K_opt[n_ej,1],de_ss[n_ej],label=\"employed\", title=\"Risky asset distributions\") #, xlim=(0,1000)) # xlim=(a_min_0,500)\n",
    "plot!(K_opt[n_ej,2],du_ss[n_ej],label=\"unemployed\")"
   ]
  },
  {
   "cell_type": "code",
   "execution_count": 346,
   "id": "6722c43c",
   "metadata": {},
   "outputs": [
    {
     "data": {
      "image/png": "[encoded data removed]"
     },
     "execution_count": 346,
     "metadata": {},
     "output_type": "execute_result"
    }
   ],
   "source": [
    "# Capital distribution\n",
    "n_ej = 1:120\n",
    "deC_ss=de_ss/sum(de_ss)\n",
    "duC_ss=du_ss/sum(du_ss)\n",
    "plot( K_opt[n_ej,1],deC_ss[n_ej],label=\"n=1.0\")#, title=\"Risky asset distributions\") #, xlim=(0,1000)) # xlim=(a_min_0,500)\n",
    "plot!(K_opt[n_ej,2],duC_ss[n_ej],label=\"n=0.185\")"
   ]
  },
  {
   "cell_type": "code",
   "execution_count": 347,
   "id": "d54e90b6",
   "metadata": {},
   "outputs": [],
   "source": [
    "B_opt = similar(K_opt)\n",
    "B_opt[:,1] = Grids_ej.X_grid - K_opt[:,1]\n",
    "B_opt[:,2] = Grids_ej.X_grid - K_opt[:,2]\n",
    ";"
   ]
  },
  {
   "cell_type": "code",
   "execution_count": null,
   "id": "9ca70815",
   "metadata": {},
   "outputs": [],
   "source": []
  },
  {
   "cell_type": "code",
   "execution_count": 24,
   "id": "aef1b1f8",
   "metadata": {},
   "outputs": [
    {
     "data": {
      "image/png": "[encoded data removed]"
     },
     "execution_count": 24,
     "metadata": {},
     "output_type": "execute_result"
    }
   ],
   "source": [
    "n_ej = 1:Grids_ej.grid_p\n",
    "plot( B_opt[n_ej,1],K_opt[n_ej,1],label=\"n=e\", title=\"Portfolio Composition\", legend=:bottomright, xlabel=\"b\", ylabel=\"k\")\n",
    "plot!(B_opt[n_ej,2],K_opt[n_ej,2],label=\"n=u\")"
   ]
  },
  {
   "cell_type": "code",
   "execution_count": 348,
   "id": "e23e8b03",
   "metadata": {},
   "outputs": [
    {
     "data": {
      "image/png": "[encoded data removed]"
     },
     "execution_count": 348,
     "metadata": {},
     "output_type": "execute_result"
    }
   ],
   "source": [
    "# Portfolio Composition\n",
    "n_ej = 1:Grids_ej.grid_p\n",
    "plot( K_opt[n_ej,1],B_opt[n_ej,1],label=\"n=1.0\", legend=:bottomright, xlabel=\"k\", ylabel=\"b\") #, title=\"Portfolio Composition\")\n",
    "plot!(K_opt[n_ej,2],B_opt[n_ej,2],label=\"n=0.185\")"
   ]
  },
  {
   "cell_type": "code",
   "execution_count": 349,
   "id": "dec92f11",
   "metadata": {},
   "outputs": [
    {
     "data": {
      "image/png": "[encoded data removed]"
     },
     "execution_count": 349,
     "metadata": {},
     "output_type": "execute_result"
    }
   ],
   "source": [
    "# Portfolio COmposition - Zoomed\n",
    "n_ej = 1:30\n",
    "plot( K_opt[n_ej,1],B_opt[n_ej,1],label=\"n=1.0\", legend=:bottomright, xlabel=\"k\", ylabel=\"b\") #, title=\"Portfolio Composition\")\n",
    "plot!(K_opt[n_ej,2],B_opt[n_ej,2],label=\"n=0.185\")"
   ]
  },
  {
   "cell_type": "code",
   "execution_count": 351,
   "id": "c87d40a3",
   "metadata": {},
   "outputs": [
    {
     "data": {
      "image/png": "[encoded data removed]"
     },
     "execution_count": 351,
     "metadata": {},
     "output_type": "execute_result"
    }
   ],
   "source": [
    "# Distribución de Bonos\n",
    "n_ej = 1:120\n",
    "plot( B_opt[n_ej,1],deC_ss[n_ej],label=\"n=1.0\") #, title=\"Bond (safe asset) distribution\", xlim=(0,1000)) # xlim=(a_min_0,500)\n",
    "plot!(B_opt[n_ej,2],duC_ss[n_ej],label=\"n=0.185\")"
   ]
  },
  {
   "cell_type": "code",
   "execution_count": 130,
   "id": "2fc567ad",
   "metadata": {},
   "outputs": [
    {
     "data": {
      "text/plain": [
       "21-element Vector{Float64}:\n",
       " -4.806180550940357\n",
       " -4.764849549121382\n",
       " -4.895768772463963\n",
       " -5.110580477176115\n",
       " -5.545293387201342\n",
       " -6.0\n",
       " -6.0\n",
       " -6.0\n",
       " -6.0\n",
       " -6.0\n",
       " -6.0\n",
       " -6.0\n",
       " -6.0\n",
       " -6.0\n",
       " -6.0\n",
       " -6.0\n",
       " -6.0\n",
       " -6.0\n",
       " -6.0\n",
       " -6.0\n",
       " -6.0"
      ]
     },
     "execution_count": 130,
     "metadata": {},
     "output_type": "execute_result"
    }
   ],
   "source": [
    "B_opt = similar(K_opt)\n",
    "B_opt[:,1] = Grids_ej.X_grid - K_opt[:,1]\n",
    "B_opt[:,2] = Grids_ej.X_grid - K_opt[:,2]\n",
    "\n",
    "n_ej = 10:30\n",
    "B_opt[n_ej,2]"
   ]
  },
  {
   "cell_type": "code",
   "execution_count": 131,
   "id": "152d2aad",
   "metadata": {},
   "outputs": [
    {
     "data": {
      "text/plain": [
       "120-element Vector{Int64}:\n",
       "   1\n",
       "   2\n",
       "   3\n",
       "  15\n",
       "  16\n",
       "  17\n",
       "  18\n",
       "  19\n",
       "  20\n",
       "  21\n",
       "  22\n",
       "  23\n",
       "  24\n",
       "   ⋮\n",
       " 109\n",
       " 110\n",
       " 111\n",
       " 112\n",
       " 113\n",
       " 114\n",
       " 115\n",
       " 116\n",
       " 117\n",
       " 118\n",
       " 119\n",
       " 120"
      ]
     },
     "execution_count": 131,
     "metadata": {},
     "output_type": "execute_result"
    }
   ],
   "source": [
    "perm_b =  sortperm(B_opt[:,2])"
   ]
  },
  {
   "cell_type": "code",
   "execution_count": 132,
   "id": "e917947c",
   "metadata": {},
   "outputs": [
    {
     "data": {
      "text/plain": [
       "120-element Vector{Float64}:\n",
       "  -6.0\n",
       "  -6.0\n",
       "  -6.0\n",
       "  -6.0\n",
       "  -6.0\n",
       "  -6.0\n",
       "  -6.0\n",
       "  -6.0\n",
       "  -6.0\n",
       "  -6.0\n",
       "  -6.0\n",
       "  -6.0\n",
       "  -6.0\n",
       "   ⋮\n",
       " 277.47214878608196\n",
       " 284.6272240065043\n",
       " 291.8796440213714\n",
       " 299.22018289548356\n",
       " 306.6482187357964\n",
       " 314.1791748087478\n",
       " 321.7907849273029\n",
       " 329.52069455823687\n",
       " 337.3266607505267\n",
       " 345.2678745882788\n",
       " 353.2876687491463\n",
       " 361.45325355085026"
      ]
     },
     "execution_count": 132,
     "metadata": {},
     "output_type": "execute_result"
    }
   ],
   "source": [
    "B_opt[perm_b,2]"
   ]
  },
  {
   "cell_type": "code",
   "execution_count": 134,
   "id": "234e6bdb",
   "metadata": {},
   "outputs": [
    {
     "data": {
      "text/plain": [
       "32-element Vector{Int64}:\n",
       "  1\n",
       "  2\n",
       "  3\n",
       "  4\n",
       "  5\n",
       "  6\n",
       "  7\n",
       "  8\n",
       "  9\n",
       " 10\n",
       " 11\n",
       " 12\n",
       " 13\n",
       "  ⋮\n",
       " 21\n",
       " 22\n",
       " 23\n",
       " 24\n",
       " 25\n",
       " 26\n",
       " 27\n",
       " 28\n",
       " 29\n",
       " 30\n",
       " 31\n",
       " 32"
      ]
     },
     "execution_count": 134,
     "metadata": {},
     "output_type": "execute_result"
    }
   ],
   "source": [
    "valor_buscado = -6.0\n",
    "\n",
    "posiciones = findall(x -> x == valor_buscado, B_opt[perm_b,2])\n"
   ]
  },
  {
   "cell_type": "code",
   "execution_count": 177,
   "id": "c2d91139",
   "metadata": {},
   "outputs": [
    {
     "data": {
      "image/png": "[encoded data removed]"
     },
     "execution_count": 177,
     "metadata": {},
     "output_type": "execute_result"
    }
   ],
   "source": [
    "perm_b =  sortperm(B_opt[:,2])\n",
    "\n",
    "B_dom_dist = unique(B_opt[perm_b,2])\n",
    "duB_ss = zeros(length(B_dom_dist))\n",
    "\n",
    "du_2 = du_ss[perm_b]\n",
    "\n",
    "for i in 1:length(B_dom_dist)\n",
    "    \n",
    "    valor_buscado = B_dom_dist[i]\n",
    "\n",
    "    posiciones = findall(x -> x == valor_buscado, B_opt[perm_b,2])\n",
    "    \n",
    "    duB_ss[i] = sum(du_2[posiciones])\n",
    "    \n",
    "end\n",
    "\n",
    "n_ej=15\n",
    "plot(B_dom_dist[1:n_ej],duB_ss[1:n_ej],label=\"n=0.4\")"
   ]
  },
  {
   "cell_type": "code",
   "execution_count": 165,
   "id": "73b0e408",
   "metadata": {},
   "outputs": [],
   "source": [
    "Grilla_B = Grids_ej.B_grid\n",
    "\n",
    "puntos = length(Grilla_B)-1\n",
    "\n",
    "b_minimo = Grilla_B[1]\n",
    "\n",
    "posiciones = findall(x -> x == b_minimo, B_opt[perm_b,2])\n",
    "\n",
    "duB_ss[1] = sum(du_2[posiciones])\n",
    "\n",
    "for i in 1:puntos\n",
    "    \n",
    "    b_limite_inferior = Grilla_B[i]\n",
    "    b_limite_superior = Grilla_B[i+1]\n",
    "    \n",
    "    posiciones = findall(x -> b_limite_inferior < x <= b_limite_superior, B_opt)\n",
    "    \n",
    "    duB_ss[i] = sum(du_2[posiciones])\n",
    "    \n",
    "end"
   ]
  },
  {
   "cell_type": "code",
   "execution_count": 215,
   "id": "4af56cf0",
   "metadata": {},
   "outputs": [
    {
     "data": {
      "image/png": "[encoded data removed]"
     },
     "execution_count": 215,
     "metadata": {},
     "output_type": "execute_result"
    }
   ],
   "source": [
    "\n",
    "plot(1:120,B_opt[:,2])"
   ]
  },
  {
   "cell_type": "code",
   "execution_count": null,
   "id": "f6f9710a",
   "metadata": {},
   "outputs": [],
   "source": [
    "dist_b = similar(B_opt)\n",
    "b_max2 = minimum(B_opt[grid_p,:])\n",
    "B_grid2 = collect(range(0, stop=(b_max2-b_min)^(0.5), length=grid_p)).^2 .+ b_min\n",
    "for ε in 1:2\n",
    "    ε==1 ? dist=de_ss : dist=du_ss\n",
    "    fx_ip(x) =  LinearInterpolation(X_grid,dist,extrapolation_bc=Line())(x)\n",
    "    for i in 1:grid_p\n",
    "        b=B_grid2[i]\n",
    "        b_ip(x) = LinearInterpolation(X_grid, B_opt[:,ε].-b, extrapolation_bc=Line())(x)\n",
    "        rts = find_zeros(b_ip, x_min,x_max)\n",
    "        dist_b[i,ε]=sum(fx_ip.(rts))\n",
    "    end\n",
    "end\n",
    "plot( B_grid2,dist_b[:,1],label=\"employed\", title=\"Bond (safe asset) distribution\")\n",
    "plot!(B_grid2,dist_b[:,2],label=\"unemployed\")"
   ]
  },
  {
   "cell_type": "code",
   "execution_count": 181,
   "id": "05dd5208",
   "metadata": {},
   "outputs": [
    {
     "data": {
      "image/png": "[encoded data removed]"
     },
     "execution_count": 181,
     "metadata": {},
     "output_type": "execute_result"
    }
   ],
   "source": [
    "dist_b = similar(B_opt)\n",
    "\n",
    "\n",
    "\n",
    "# Creo una nueva grilla Para b\n",
    "b_max2 = minimum(B_opt[Grids_ej.grid_p,:])\n",
    "B_grid2 = collect(range(0, stop=(b_max2-Grids_ej.b_min)^(0.5), length=Grids_ej.grid_p)).^2 .+ Grids_ej.b_min\n",
    "\n",
    "\n",
    "for ε in 1:2\n",
    "    ε==1 ? dist=de_ss : dist=du_ss\n",
    "    \n",
    "    # Convierto a la distribución vectorizada de x en una función que acepte cualquier valor de x\n",
    "    fx_ip(x) =  LinearInterpolation(Grids_ej.X_grid,dist,extrapolation_bc=Line())(x)\n",
    "    \n",
    "    \n",
    "    for i in 1:Grids_ej.grid_p\n",
    "        \n",
    "        # Para cada punto en la grilla de B\n",
    "        b=B_grid2[i]\n",
    "        \n",
    "        # Busco el valor (o los valores) de x que hace que kappa(x,n)=b\n",
    "        b_ip(x) = LinearInterpolation(Grids_ej.X_grid, B_opt[:,ε].-b, extrapolation_bc=Line())(x)\n",
    "        rts = find_zeros(b_ip, Grids_ej.x_min,Grids_ej.x_max)\n",
    "\n",
    "        dist_b[i,ε]=sum(fx_ip.(rts)) # sumo la probabilidad de todos esos valores de x\n",
    "    end\n",
    "end\n",
    "plot( B_grid2,dist_b[:,1],label=\"employed\", title=\"Bond (safe asset) distribution\")\n",
    "plot!(B_grid2,dist_b[:,2],label=\"unemployed\")"
   ]
  },
  {
   "cell_type": "code",
   "execution_count": 212,
   "id": "0396c9a6",
   "metadata": {},
   "outputs": [
    {
     "data": {
      "image/png": "[encoded data removed]"
     },
     "execution_count": 212,
     "metadata": {},
     "output_type": "execute_result"
    }
   ],
   "source": [
    "puntos_grilla_B = 120\n",
    "dist_b = zeros(puntos_grilla_B, 2)\n",
    "\n",
    "\n",
    "\n",
    "# Creo una nueva grilla Para b\n",
    "b_max2 = minimum(B_opt[Grids_ej.grid_p,:])\n",
    "B_grid2 = collect(range(0, stop=(b_max2-Grids_ej.b_min)^(0.5), length=puntos_grilla_B)).^2 .+ Grids_ej.b_min\n",
    "\n",
    "\n",
    "for ε in 1:2\n",
    "    ε==1 ? dist=de_ss : dist=du_ss\n",
    "    \n",
    "    # Convierto a la distribución vectorizada de x en una función que acepte cualquier valor de x\n",
    "    fx_ip(x) =  LinearInterpolation(Grids_ej.X_grid,dist,extrapolation_bc=Line())(x)\n",
    "    \n",
    "    \n",
    "    for i in 1:puntos_grilla_B\n",
    "        \n",
    "        # Para cada punto en la grilla de B\n",
    "        b=B_grid2[i]\n",
    "        \n",
    "        # Busco el valor (o los valores) de x que hace que kappa(x,n)=b\n",
    "        b_ip(x) = LinearInterpolation(Grids_ej.X_grid, B_opt[:,ε].-b, extrapolation_bc=Line())(x)\n",
    "        rts = find_zeros(b_ip, Grids_ej.x_min,Grids_ej.x_max)\n",
    "\n",
    "        dist_b[i,ε]=sum(fx_ip.(rts)) # sumo la probabilidad de todos esos valores de x\n",
    "    end\n",
    "end\n",
    "plot( B_grid2,dist_b[:,1],label=\"employed\", title=\"Bond (safe asset) distribution\")\n",
    "plot!(B_grid2,dist_b[:,2],label=\"unemployed\")"
   ]
  },
  {
   "cell_type": "code",
   "execution_count": 209,
   "id": "7f49923a",
   "metadata": {},
   "outputs": [
    {
     "data": {
      "text/plain": [
       "1.0096972662955463"
      ]
     },
     "execution_count": 209,
     "metadata": {},
     "output_type": "execute_result"
    }
   ],
   "source": [
    "sum(dist_b[:,1])+sum(dist_b[:,2])"
   ]
  },
  {
   "cell_type": "code",
   "execution_count": null,
   "id": "2d9f00a1",
   "metadata": {},
   "outputs": [],
   "source": [
    "function allocate_mass(y_n, y_grid, grid_size)\n",
    "       \n",
    "    m = searchsortedfirst(y_grid, y_n)  # y_m > y_n > y_{m-1}\n",
    "    m = min(m, grid_size)  # max = grid size.   If y_n > x_max => the above function returns max+1.  We don't wnat that \n",
    "    \n",
    "    if isone(m)               # if y_n is too small that y_1 > y_n\n",
    "        return 2, 0           # then we force m=2 and assign 0 weight  ( m-1 = 1 and its weight is 1)\n",
    "    end\n",
    "    \n",
    "    y_m = y_grid[m]\n",
    "    y_m_1 = y_grid[m-1]\n",
    "    \n",
    "    D_y = y_m - y_m_1\n",
    "    \n",
    "    peso_m = (y_n - y_m_1) / D_y      \n",
    "    peso_m = min(max(peso_m, 0.0), 1.0)  # Por las dudas \n",
    "\n",
    "    return m, peso_m\n",
    "end\n"
   ]
  },
  {
   "cell_type": "code",
   "execution_count": null,
   "id": "e2d2953a",
   "metadata": {},
   "outputs": [],
   "source": [
    "\n",
    "function transition_mat(gxn::Array, Para, Grid)\n",
    "    @unpack X_grid, grid_p = Grid\n",
    "    @unpack Pn, Pr = Para\n",
    "    \n",
    "    T = fill(0.0,(2*grid_p,2*grid_p))\n",
    "    \n",
    "    # Loop current period t risky asset holding:\n",
    "    for x_j = 1:grid_p\n",
    "\n",
    "        # Loop over current period t employment state:\n",
    "        for ε_j = 0:1\n",
    "                \n",
    "            # Loop over possible next period t+1 business state:\n",
    "            for  z in 1:4\n",
    "              \n",
    "                # Loop over possible next period t+1 employment state:\n",
    "                for ε_i in 0:1\n",
    "                    \n",
    "                    x_prime = gxn[x_j, ε_j+1, 4*ε_i+z]  # x_prime\n",
    "                    x_i, peso_x_i = allocate_mass(x_prime, X_grid, grid_p)      #  a_i > x' > a_{i-1}\n",
    "\n",
    "                    j = ε_j*grid_p + x_j # current position\n",
    "                    i = ε_i*grid_p + x_i # next position\n",
    "                    \n",
    "                    T[i  , j] +=    peso_x_i  * Pn[ε_j+1 ,ε_i+1] * Pr[z]\n",
    "                    T[i-1, j] += (1-peso_x_i) * Pn[ε_j+1 ,ε_i+1] * Pr[z]\n",
    "                    \n",
    "                end\n",
    "            end\n",
    "        end\n",
    "    end\n",
    "    return T\n",
    "end"
   ]
  },
  {
   "cell_type": "code",
   "execution_count": 239,
   "id": "2af545c2",
   "metadata": {},
   "outputs": [
    {
     "data": {
      "text/plain": [
       "13-element Vector{Float64}:\n",
       " -6.0\n",
       " -5.990155134124149\n",
       " -5.836123058216751\n",
       " -5.6471873172181715\n",
       " -5.440205309379767\n",
       " -5.1904004547660865\n",
       " -4.962992612436336\n",
       " -4.806180550940357\n",
       " -4.764849549121382\n",
       " -4.895768772463963\n",
       " -5.110580477176115\n",
       " -5.545293387201342\n",
       " -6.0"
      ]
     },
     "execution_count": 239,
     "metadata": {},
     "output_type": "execute_result"
    }
   ],
   "source": [
    "b_min = -6.0\n",
    "\n",
    "posicion_b_problematico_final = 0\n",
    "for i in 1:length(B_opt[:,1])\n",
    "    if B_opt[i+1,2] == b_min && B_opt[i,2] > b_min\n",
    "        posicion_b_problematico_final = i\n",
    "        break\n",
    "    end\n",
    "end\n",
    "\n",
    "posicion_b_problematico_inicial = 0\n",
    "for i in 2:posicion_b_problematico_final\n",
    "    if B_opt[i-1,2] == b_min && B_opt[i,2] > b_min\n",
    "        posicion_b_problematico_inicial = i\n",
    "        break\n",
    "    end\n",
    "end\n",
    "\n",
    "B_opt[(posicion_b_problematico_inicial-1):(posicion_b_problematico_final+1),2]"
   ]
  },
  {
   "cell_type": "code",
   "execution_count": 259,
   "id": "830573b0",
   "metadata": {},
   "outputs": [],
   "source": [
    "posicion_b_problematico_final = 0\n",
    "for i in 1:(length(B_opt[:,1])-1)\n",
    "    if B_opt[i+1,1] == b_min && B_opt[i,1] > b_min\n",
    "        posicion_b_problematico_final = i\n",
    "        break\n",
    "    end\n",
    "end"
   ]
  },
  {
   "cell_type": "code",
   "execution_count": 260,
   "id": "b74f3b0f",
   "metadata": {},
   "outputs": [
    {
     "data": {
      "text/plain": [
       "0"
      ]
     },
     "execution_count": 260,
     "metadata": {},
     "output_type": "execute_result"
    }
   ],
   "source": [
    "posicion_b_problematico_final"
   ]
  },
  {
   "cell_type": "code",
   "execution_count": 250,
   "id": "d14af3a9",
   "metadata": {},
   "outputs": [
    {
     "data": {
      "text/plain": [
       "120-element Vector{Float64}:\n",
       " 4.8738343134657505e-6\n",
       " 5.265673320408195e-6\n",
       " 1.3317437322548798e-5\n",
       " 3.0390716237593237e-5\n",
       " 6.557164178625859e-5\n",
       " 0.00013537090951334303\n",
       " 0.0002613386299053913\n",
       " 0.0004735613770653747\n",
       " 0.0007986934247526287\n",
       " 0.0012431217103991371\n",
       " 0.0017779702249455073\n",
       " 0.0024014884763643948\n",
       " 0.003052192207658468\n",
       " ⋮\n",
       " 1.830698132426534e-5\n",
       " 1.6822263727943373e-5\n",
       " 1.552352998012628e-5\n",
       " 1.4406698566068964e-5\n",
       " 1.363358634224715e-5\n",
       " 1.3105449663488936e-5\n",
       " 1.2360270807926655e-5\n",
       " 1.3336929098947452e-5\n",
       " 1.576432545646934e-5\n",
       " 1.2660794087683803e-5\n",
       " 1.1021534325768913e-5\n",
       " 5.418732659799262e-5"
      ]
     },
     "execution_count": 250,
     "metadata": {},
     "output_type": "execute_result"
    }
   ],
   "source": [
    "du_ss"
   ]
  },
  {
   "cell_type": "code",
   "execution_count": 262,
   "id": "148b5d62",
   "metadata": {},
   "outputs": [
    {
     "data": {
      "text/plain": [
       "distribucion_B (generic function with 1 method)"
      ]
     },
     "execution_count": 262,
     "metadata": {},
     "output_type": "execute_result"
    }
   ],
   "source": [
    "function distribucion_B(B_opt_n, dist, b_min)\n",
    "    \n",
    "    posicion_b_problematico_final = 0\n",
    "    for i in 1:(length(B_opt[:,2])-1)\n",
    "        if B_opt_n[i+1] == b_min && B_opt_n[i] > b_min\n",
    "            posicion_b_problematico_final = i\n",
    "            break\n",
    "        end\n",
    "    end\n",
    "    \n",
    "    if posicion_b_problematico_final == 0\n",
    "        return B_opt_n, dist\n",
    "    end\n",
    "    \n",
    "    posicion_b_problematico_inicial = 0\n",
    "    for i in 2:posicion_b_problematico_final\n",
    "        if B_opt_n[i-1] == b_min && B_opt_n[i] > b_min\n",
    "            posicion_b_problematico_inicial = i\n",
    "            break\n",
    "        end\n",
    "    end\n",
    "  \n",
    "    B_opt_bueno = copy(B_opt_n)\n",
    "    dist_B_u = copy(dist)\n",
    "    deleteat!(B_opt_bueno, posicion_b_problematico_inicial:posicion_b_problematico_final)\n",
    "    deleteat!(dist_B_u, posicion_b_problematico_inicial:posicion_b_problematico_final)\n",
    "\n",
    "    B_opt_malo = B_opt_bueno[posicion_b_problematico_inicial:posicion_b_problematico_final]\n",
    "    du_a_realocar = dist_B_u[posicion_b_problematico_inicial:posicion_b_problematico_final]\n",
    "    \n",
    "    f_bmin=0.0\n",
    "    ultimo_b_min = 0\n",
    "    \n",
    "    for i in 1:length(B_opt_bueno)\n",
    "        f_bmin += dist_B_u[i]\n",
    "        if B_opt_bueno[i+1] > b_min\n",
    "            ultimo_b_min = i\n",
    "            break\n",
    "        end\n",
    "    end\n",
    "    \n",
    "    \n",
    "    deleteat!(B_opt_bueno, 2:ultimo_b_min)\n",
    "    deleteat!(dist_B_u, 2:ultimo_b_min)\n",
    "    dist_B_u[1] = f_bmin\n",
    "    \n",
    "    \n",
    "    @assert length(B_opt_bueno) == length(unique(B_opt_bueno)) \"Hay repetidos (problemáticos) en B_opt_bueno\"\n",
    "    \n",
    "    for i in 1:length(B_opt_malo)\n",
    "        b = B_opt_malo[i]\n",
    "        f_b = du_a_realocar[i]\n",
    "        \n",
    "        # Ubicar b en la grilla B_opt_bueno\n",
    "        posicion_m, peso_b_m = allocate_mass(b, B_opt_bueno, length(B_opt_bueno))      #  b_m > b_i > b_{m-1}\n",
    "        \n",
    "        dist_B_u[posicion_m]   += peso_b_m     * f_b\n",
    "        dist_B_u[posicion_m-1] += (1-peso_b_m) * f_b\n",
    "        \n",
    "    end\n",
    "    \n",
    "    return B_opt_bueno, dist_B_u\n",
    "    \n",
    "end"
   ]
  },
  {
   "cell_type": "code",
   "execution_count": 264,
   "id": "bc6b2d41",
   "metadata": {},
   "outputs": [
    {
     "data": {
      "image/png": "[encoded data removed]"
     },
     "execution_count": 264,
     "metadata": {},
     "output_type": "execute_result"
    }
   ],
   "source": [
    "B_opt_bueno, dist_B_u = distribucion_B(B_opt[:,2], du_ss, b_min)\n",
    "plot(B_opt_bueno, dist_B_u)"
   ]
  },
  {
   "cell_type": "code",
   "execution_count": 275,
   "id": "0425cf65",
   "metadata": {},
   "outputs": [
    {
     "data": {
      "image/png": "[encoded data removed]"
     },
     "execution_count": 275,
     "metadata": {},
     "output_type": "execute_result"
    }
   ],
   "source": [
    "B_opt_bueno_u, dist_B_u = distribucion_B(B_opt[:,2], du_ss, b_min)\n",
    "B_opt_bueno_e, dist_B_e = distribucion_B(B_opt[:,1], de_ss, b_min)\n",
    "\n",
    "distC_B_u=dist_B_u/(sum(dist_B_u))\n",
    "distC_B_e=dist_B_e/(sum(dist_B_e))\n",
    "\n",
    "plot(B_opt_bueno_e[5:end], distC_B_e[5:end])\n",
    "plot!(B_opt_bueno_u[5:end], distC_B_u[5:end])"
   ]
  },
  {
   "cell_type": "code",
   "execution_count": 271,
   "id": "e879f074",
   "metadata": {},
   "outputs": [
    {
     "data": {
      "image/png": "[encoded data removed]"
     },
     "execution_count": 271,
     "metadata": {},
     "output_type": "execute_result"
    }
   ],
   "source": [
    "# Creas el primer gráfico\n",
    "plot(x1, y1, label=\"Línea 1\")\n",
    "\n",
    "# Agregas la segunda línea al gráfico existente\n",
    "plot!(x2, y2, label=\"Línea 2\")"
   ]
  },
  {
   "cell_type": "code",
   "execution_count": 249,
   "id": "09a17ca5",
   "metadata": {},
   "outputs": [
    {
     "data": {
      "text/plain": [
       "11-element Vector{Float64}:\n",
       " 3.0390716237593237e-5\n",
       " 6.557164178625859e-5\n",
       " 0.00013537090951334303\n",
       " 0.0002613386299053913\n",
       " 0.0004735613770653747\n",
       " 0.0007986934247526287\n",
       " 0.0012431217103991371\n",
       " 0.0017779702249455073\n",
       " 0.0024014884763643948\n",
       " 0.003052192207658468\n",
       " 0.003642396937386591"
      ]
     },
     "execution_count": 249,
     "metadata": {},
     "output_type": "execute_result"
    }
   ],
   "source": [
    "B_opt_bueno = B_opt[:,2]\n",
    "dist_B_u = copy(du_ss)\n",
    "deleteat!(B_opt_bueno, posicion_b_problematico_inicial:posicion_b_problematico_final)\n",
    "deleteat!(dist_B_u, posicion_b_problematico_inicial:posicion_b_problematico_final)\n",
    "\n",
    "\n",
    "B_opt_malo = B_opt[posicion_b_problematico_inicial:posicion_b_problematico_final, 2]\n",
    "du_a_realocar = du_ss[posicion_b_problematico_inicial:posicion_b_problematico_final]\n",
    "#B_opt_bueno[20:40]\n"
   ]
  },
  {
   "cell_type": "code",
   "execution_count": 251,
   "id": "ade83b26",
   "metadata": {},
   "outputs": [],
   "source": [
    "# dónde está el último b_min\n",
    "\n",
    "f_bmin=0.0\n",
    "ultimo_b_min = 0\n",
    "\n",
    "for i in 1:length(B_opt_bueno)\n",
    "    f_bmin += dist_B_u[i]\n",
    "    if B_opt_bueno[i+1] > b_min\n",
    "        ultimo_b_min = i\n",
    "        break\n",
    "    end\n",
    "end\n",
    "\n",
    "\n",
    "deleteat!(B_opt_bueno, 2:ultimo_b_min)\n",
    "deleteat!(dist_B_u, 2:ultimo_b_min)\n",
    "dist_B_u[1] = f_bmin\n",
    "\n",
    "\n",
    "@assert length(B_opt_bueno) == length(unique(B_opt_bueno)) \"Hay repetidos (problemáticos) en B_opt_bueno\""
   ]
  },
  {
   "cell_type": "code",
   "execution_count": 230,
   "id": "0eac5cfc",
   "metadata": {},
   "outputs": [
    {
     "data": {
      "text/plain": [
       "0.0017905812957054981"
      ]
     },
     "execution_count": 230,
     "metadata": {},
     "output_type": "execute_result"
    }
   ],
   "source": []
  },
  {
   "cell_type": "code",
   "execution_count": 232,
   "id": "7c7b06b5",
   "metadata": {},
   "outputs": [],
   "source": []
  },
  {
   "cell_type": "code",
   "execution_count": 252,
   "id": "eb260a1e",
   "metadata": {},
   "outputs": [],
   "source": [
    "for i in 1:length(B_opt_malo)\n",
    "    b = B_opt_malo[i]\n",
    "    f_b = du_a_realocar[i]\n",
    "    \n",
    "    # Ubicar b en la grilla B_opt_bueno\n",
    "    posicion_m, peso_b_m = allocate_mass(b, B_opt_bueno, length(B_opt_bueno))      #  b_m > b_i > b_{m-1}\n",
    "    \n",
    "    dist_B_u[posicion_m]   += peso_b_m     * f_b\n",
    "    dist_B_u[posicion_m-1] += (1-peso_b_m) * f_b\n",
    "    \n",
    "end"
   ]
  },
  {
   "cell_type": "code",
   "execution_count": 253,
   "id": "bb979fa9",
   "metadata": {},
   "outputs": [
    {
     "data": {
      "image/png": "[encoded data removed]"
     },
     "execution_count": 253,
     "metadata": {},
     "output_type": "execute_result"
    }
   ],
   "source": [
    "plot(B_opt_bueno,dist_B_u)"
   ]
  },
  {
   "cell_type": "code",
   "execution_count": 254,
   "id": "f251eaa0",
   "metadata": {},
   "outputs": [
    {
     "data": {
      "text/plain": [
       "0.08725812340270166"
      ]
     },
     "execution_count": 254,
     "metadata": {},
     "output_type": "execute_result"
    }
   ],
   "source": [
    "sum(dist_B_u)"
   ]
  },
  {
   "cell_type": "code",
   "execution_count": 255,
   "id": "f19922c5",
   "metadata": {},
   "outputs": [
    {
     "data": {
      "text/plain": [
       "0.08725812340270166"
      ]
     },
     "execution_count": 255,
     "metadata": {},
     "output_type": "execute_result"
    }
   ],
   "source": [
    "sum(du_ss)"
   ]
  },
  {
   "cell_type": "code",
   "execution_count": 213,
   "id": "182efa5d",
   "metadata": {},
   "outputs": [
    {
     "data": {
      "text/plain": [
       "6.317123554703675"
      ]
     },
     "execution_count": 213,
     "metadata": {},
     "output_type": "execute_result"
    }
   ],
   "source": [
    "B_grid2' * dist_b[:,1] + B_grid2' * dist_b[:,2]"
   ]
  },
  {
   "cell_type": "code",
   "execution_count": 214,
   "id": "d88b1205",
   "metadata": {},
   "outputs": [
    {
     "data": {
      "image/png": "[encoded data removed]"
     },
     "execution_count": 214,
     "metadata": {},
     "output_type": "execute_result"
    }
   ],
   "source": [
    "n_ej=1:120\n",
    "plot( B_opt[n_ej,1],deC_ss[n_ej],label=\"n=1.0\")"
   ]
  },
  {
   "cell_type": "code",
   "execution_count": 191,
   "id": "ee097979",
   "metadata": {},
   "outputs": [
    {
     "data": {
      "text/plain": [
       "21-element Vector{Float64}:\n",
       " -6.0\n",
       " -6.0\n",
       " -6.0\n",
       " -6.0\n",
       " -6.0\n",
       " -6.0\n",
       " -6.0\n",
       " -6.0\n",
       " -6.0\n",
       " -5.666803995200965\n",
       " -4.060869817089213\n",
       " -2.4036545602591843\n",
       " -0.6732100826406935\n",
       "  1.1557191055983935\n",
       "  3.0269009408469714\n",
       "  5.010420628966543\n",
       "  7.065451556402294\n",
       "  9.179356202155759\n",
       " 11.433990570601537\n",
       " 13.73492862695116\n",
       " 16.184086873186203"
      ]
     },
     "execution_count": 191,
     "metadata": {},
     "output_type": "execute_result"
    }
   ],
   "source": [
    "B_opt[35:55,1]"
   ]
  },
  {
   "cell_type": "code",
   "execution_count": 192,
   "id": "23dc8c12",
   "metadata": {},
   "outputs": [
    {
     "data": {
      "image/png": "[encoded data removed]"
     },
     "execution_count": 192,
     "metadata": {},
     "output_type": "execute_result"
    }
   ],
   "source": [
    "n_ej=1:15\n",
    "plot( B_grid2[n_ej],dist_b[n_ej,1],label=\"employed\", title=\"Bond (safe asset) distribution\")"
   ]
  },
  {
   "cell_type": "code",
   "execution_count": 143,
   "id": "93e1eb9b",
   "metadata": {},
   "outputs": [
    {
     "data": {
      "text/plain": [
       "120"
      ]
     },
     "execution_count": 143,
     "metadata": {},
     "output_type": "execute_result"
    }
   ],
   "source": [
    "length(B_opt[perm_b,2])"
   ]
  },
  {
   "cell_type": "code",
   "execution_count": 138,
   "id": "9c59ddb4",
   "metadata": {},
   "outputs": [
    {
     "data": {
      "text/plain": [
       "89-element Vector{Float64}:\n",
       " 0.0\n",
       " 0.0\n",
       " 0.0\n",
       " 0.0\n",
       " 0.0\n",
       " 0.0\n",
       " 0.0\n",
       " 0.0\n",
       " 0.0\n",
       " 0.0\n",
       " 0.0\n",
       " 0.0\n",
       " 0.0\n",
       " ⋮\n",
       " 0.0\n",
       " 0.0\n",
       " 0.0\n",
       " 0.0\n",
       " 0.0\n",
       " 0.0\n",
       " 0.0\n",
       " 0.0\n",
       " 0.0\n",
       " 0.0\n",
       " 0.0\n",
       " 0.0"
      ]
     },
     "execution_count": 138,
     "metadata": {},
     "output_type": "execute_result"
    }
   ],
   "source": [
    "B_dom_dist = unique(B_opt[perm_b,2])\n",
    "\n",
    "duB_ss =zeros(length(B_dom_dist))"
   ]
  },
  {
   "cell_type": "code",
   "execution_count": 30,
   "id": "7452386e",
   "metadata": {
    "scrolled": true
   },
   "outputs": [
    {
     "data": {
      "image/png": "[encoded data removed]"
     },
     "execution_count": 30,
     "metadata": {},
     "output_type": "execute_result"
    }
   ],
   "source": [
    "n_ej = 1:120\n",
    "x_ej = Grids_ej.X_grid[n_ej]\n",
    "\n",
    "plot( x_ej,K_opt[n_ej,1],label=\"n=e\", title=\"k(x',n)\", legend=:bottomright, xlabel=\"x'\", ylabel=\"k'\")\n",
    "plot!(x_ej,K_opt[n_ej,2],label=\"n=u\")"
   ]
  },
  {
   "cell_type": "code",
   "execution_count": 170,
   "id": "1ae2ffef",
   "metadata": {
    "scrolled": true
   },
   "outputs": [
    {
     "data": {
      "image/png": "[encoded data removed]"
     },
     "execution_count": 170,
     "metadata": {},
     "output_type": "execute_result"
    }
   ],
   "source": [
    "# Utility Function Plots\n",
    "#1\n",
    "x_ej = -0.5:0.0005:1.0\n",
    "y_ej = u.(x_ej,1.0,0.001) # u_crra.(x_ej,4.0)\n",
    "plot(x_ej,y_ej,ylim=(-100,1))x_ej = -0.25:0.0005:1.0\n",
    "#2\n",
    "y_ej = UMg.(x_ej,1.0,-10.0) # u_crra.(x_ej,4.0)\n",
    "plot(x_ej,y_ej,ylim=(-0.01,1000))\n",
    "#3\n",
    "x_ej = -0.25:0.0005:1.0\n",
    "y_ej = UMg.(x_ej,1.0,0.01) # u_crra.(x_ej,4.0)\n",
    "plot(x_ej,y_ej,ylim=(-0.01,1000))\n",
    "#4\n",
    "x_ej = -0.25:0.0005:1.0\n",
    "y_ej = UMg.(x_ej,4.0,0.15) # u_crra.(x_ej,4.0)\n",
    "x_ej2 = UMg_inv.(y_ej,4.0,0.15) # u_crra.(x_ej,4.0)\n",
    "@show maximum(x_ej-x_ej2)\n",
    "plot(x_ej,y_ej,ylim=(-0.01,10000))"
   ]
  },
  {
   "cell_type": "code",
   "execution_count": 48,
   "id": "a16b21a2",
   "metadata": {},
   "outputs": [
    {
     "name": "stdout",
     "output_type": "stream",
     "text": [
      "esto debe aparecer al comienzo\n",
      "15\n",
      "-------------------------\n",
      "esto debe aparecer al comienzo\n",
      "14\n",
      "-------------------------\n",
      "esto debe aparecer al comienzo\n",
      "13\n",
      "-------------------------\n",
      "sol interior\n",
      "12\n",
      "-------------------------\n",
      "sol interior\n",
      "11\n",
      "-------------------------\n",
      "sol interior\n",
      "10\n",
      "-------------------------\n",
      "sol interior\n",
      "9\n",
      "-------------------------\n",
      "sol interior\n",
      "8\n",
      "-------------------------\n",
      "sol interior\n",
      "7\n",
      "-------------------------\n",
      "sol interior\n",
      "6\n",
      "-------------------------\n",
      "esto debe ser lo último que se muestre, luego el loop debe terminar\n"
     ]
    },
    {
     "data": {
      "text/plain": [
       "15-element Vector{Float64}:\n",
       " -1.0\n",
       " -1.0\n",
       " -1.0\n",
       " -1.0\n",
       " -1.0\n",
       "  0.0\n",
       "  0.0\n",
       "  0.0\n",
       "  0.0\n",
       "  0.0\n",
       "  0.0\n",
       "  0.0\n",
       "  1.0\n",
       "  1.0\n",
       "  1.0"
      ]
     },
     "execution_count": 48,
     "metadata": {},
     "output_type": "execute_result"
    }
   ],
   "source": [
    "vectorcito = zeros(15)\n",
    "for x in 15:-1:1  \n",
    "    if 150 > x^2\n",
    "        if x > 5 \n",
    "            println(\"sol interior\")\n",
    "            vectorcito[x]=0\n",
    "        else \n",
    "            println(\"esto debe ser lo último que se muestre, luego el loop debe terminar\")\n",
    "            vectorcito[1:x]=fill(-1,x)\n",
    "            break # SALIR DEL LOOP\n",
    "        end\n",
    "    else\n",
    "        println(\"esto debe aparecer al comienzo\")\n",
    "        vectorcito[x]=1\n",
    "    end\n",
    "    println(x)\n",
    "    println(\"-------------------------\")\n",
    "end\n",
    "vectorcito"
   ]
  },
  {
   "cell_type": "code",
   "execution_count": 83,
   "id": "558d355e",
   "metadata": {},
   "outputs": [
    {
     "data": {
      "text/plain": [
       "construir_h (generic function with 1 method)"
      ]
     },
     "execution_count": 83,
     "metadata": {},
     "output_type": "execute_result"
    }
   ],
   "source": [
    "function construir_h(gx::Array, r::Array, W::Float64, Para, Grid)\n",
    "    \n",
    "    @unpack Rf, n, Pn, Pr, β, γ, c_min = Para\n",
    "    @unpack K_grid, X_grid, K_mat, X_mat, grid_p, b_min = Grid\n",
    "    \n",
    "    ### STEP 1 ###\n",
    "    \n",
    "    C_next = similar(gx)\n",
    "    for ε in 0:1    # ε=0 empleado    ;    ε=1 desempleado\n",
    "        for z in 1:4\n",
    "            C_next[:, :, 4*ε+z] = \n",
    "            X_mat*(1+Rf) + K_mat*(r[z]-Rf) .+ W*n[ε+1] .- gx[:,:, 4*ε+z]\n",
    "        end\n",
    "    end\n",
    "    \n",
    "    h = Array{Float64}(undef, grid_p, grid_p, 2)\n",
    "    he = Array{Float64}(undef, grid_p, grid_p)\n",
    "    hu = similar(he)\n",
    "    for x in 1:grid_p\n",
    "        he[:,x] = β * ((r.-Rf) .* UMg.(C_next[:,x,1:4 ],γ,c_min) ) * Pr # empleado \n",
    "        hu[:,x] = β * ((r.-Rf) .* UMg.(C_next[:,x,5:8],γ,c_min) ) * Pr # desempleado \n",
    "        h[:,x,:] = [he[:,x] hu[:,x]] * Pn'\n",
    "    end\n",
    "    \n",
    "    return h\n",
    "end"
   ]
  },
  {
   "cell_type": "code",
   "execution_count": 60,
   "id": "6babcf3d",
   "metadata": {},
   "outputs": [],
   "source": [
    "r_ss = r(K_ss,Para_ej)\n",
    "h_ej = construir_h(gx,r_ss,W_ss,Para_ej,Grids_ej);"
   ]
  },
  {
   "cell_type": "code",
   "execution_count": 61,
   "id": "2cb3f721",
   "metadata": {},
   "outputs": [
    {
     "data": {
      "text/plain": [
       "3-element Vector{Float64}:\n",
       " 0.08952327473342153\n",
       " 0.0328533271950219\n",
       " 0.01171394471943804"
      ]
     },
     "execution_count": 61,
     "metadata": {},
     "output_type": "execute_result"
    }
   ],
   "source": [
    "diag(h_ej[:,:,1])[1:3]"
   ]
  },
  {
   "cell_type": "code",
   "execution_count": 62,
   "id": "da2c42a3",
   "metadata": {},
   "outputs": [
    {
     "data": {
      "text/plain": [
       "(0.08952327473342153, 0.0328533271950219, 0.01171394471943804)"
      ]
     },
     "execution_count": 62,
     "metadata": {},
     "output_type": "execute_result"
    }
   ],
   "source": [
    "h_ej[1,1,1], h_ej[2,2,1], h_ej[3,3,1]"
   ]
  },
  {
   "cell_type": "code",
   "execution_count": 89,
   "id": "6a456fb0",
   "metadata": {},
   "outputs": [
    {
     "data": {
      "text/plain": [
       "construir_kappa (generic function with 1 method)"
      ]
     },
     "execution_count": 89,
     "metadata": {},
     "output_type": "execute_result"
    }
   ],
   "source": [
    "function construir_kappa(h::Array, Grid)\n",
    "    \n",
    "    @unpack K_grid, X_grid, K_mat, X_mat, grid_p, b_min = Grid\n",
    "\n",
    "    K_opt = Array{Float64}(undef, grid_p, 2)\n",
    "    η_b = fill(0.0,size(K_opt))\n",
    "    \n",
    "    # CASO 4: k = x_max - b_min = 0\n",
    "    K_opt[1,:] = [0.0, 0.0]\n",
    "    η_b[1,:] = h[1,1,:]\n",
    "    \n",
    "    \n",
    "    for ε in 1:2    # ε=1 empleado    ;    ε=2 desempleado\n",
    "        for x in grid_p:-1:2  # Itero al revés desde valores grandes de x hacia valores más pequeños\n",
    "            \n",
    "            domain = K_grid[1:x] # Defino los valores de k posibles para un x dado\n",
    "            image = h[1:x,x,ε]   # Calculo h para todos los valores posibles de k dado x\n",
    "            \n",
    "            # CASO 1: Raíz Interior\n",
    "            if any(image .> 0.0) \n",
    "                if any(image .< 0.0) # si hay valores positivos y negativos de h\n",
    "                    K_opt[x,ε] = root_interp(domain, image, length(image)) # hallo k que hace h=0 mediante una interpolación\n",
    "                    \n",
    "                # CASO 2: h>0 para todo k   =>  k_opt = x - b_min    \n",
    "                else \n",
    "                    K_opt[2:x,ε] = K_grid[2:x] # Desde el inicio hasta este punto voy a obtener este resultado\n",
    "                    η_b[2:x,ε] = diag(h_ej[:,:,ε])[2:x]\n",
    "                    #println(\"Esto solo se debe imprimir una vez por estado laboral. La última iteración en ε=$ε fue $(x)\")\n",
    "                    break\n",
    "                end\n",
    "            \n",
    "            # CASO 3: h<0 para todo k   =>   k_opt = 0\n",
    "            else\n",
    "                K_opt[x,ε] = 0.0\n",
    "            end\n",
    "        end\n",
    "    end\n",
    "    \n",
    "    return K_opt, η_b\n",
    "end"
   ]
  },
  {
   "cell_type": "code",
   "execution_count": 90,
   "id": "06c11147",
   "metadata": {},
   "outputs": [
    {
     "data": {
      "text/plain": [
       "([0.0 0.0; 0.049855236212131615 0.049855236212131615; … ; 336.38905037813606 336.059026928652; 340.05799940638605 339.7297275385298], [0.08952327473342153 0.8600477448269933; 0.0328533271950219 0.2738553138284389; … ; 0.0 0.0; 0.0 0.0])"
      ]
     },
     "execution_count": 90,
     "metadata": {},
     "output_type": "execute_result"
    }
   ],
   "source": [
    "K_opt_ej, η_b_ej=construir_kappa(h_ej,Grids_ej)"
   ]
  },
  {
   "cell_type": "code",
   "execution_count": 92,
   "id": "942f31df",
   "metadata": {},
   "outputs": [
    {
     "data": {
      "text/plain": [
       "120×2 Matrix{Float64}:\n",
       " 0.0895233     0.860048\n",
       " 0.0328533     0.273855\n",
       " 0.0117139     0.0672092\n",
       " 0.00398726    0.00227045\n",
       " 0.0015867    -0.00926129\n",
       " 0.000787507  -0.00869668\n",
       " 0.000445168  -0.00657379\n",
       " 0.000364073  -0.00424149\n",
       " 0.000322533  -0.00256295\n",
       " 0.000306481  -0.00151312\n",
       " 0.000310707  -0.000862339\n",
       " 0.000302619  -0.000441813\n",
       " 0.000304449  -0.000166488\n",
       " ⋮            \n",
       " 0.0           0.0\n",
       " 0.0           0.0\n",
       " 0.0           0.0\n",
       " 0.0           0.0\n",
       " 0.0           0.0\n",
       " 0.0           0.0\n",
       " 0.0           0.0\n",
       " 0.0           0.0\n",
       " 0.0           0.0\n",
       " 0.0           0.0\n",
       " 0.0           0.0\n",
       " 0.0           0.0"
      ]
     },
     "execution_count": 92,
     "metadata": {},
     "output_type": "execute_result"
    }
   ],
   "source": [
    "η_b_ej"
   ]
  },
  {
   "cell_type": "code",
   "execution_count": 80,
   "id": "b3a10209",
   "metadata": {},
   "outputs": [],
   "source": [
    "function construir_gxn(K_opt::Array, gx::Array, Grid)\n",
    "    \n",
    "    @unpack K_grid, X_grid, K_mat, X_mat, grid_p, b_min = Grid\n",
    "    \n",
    "    ### STEP 2 ###\n",
    "    \n",
    "    gxn = Array{Float64}(undef, grid_p, 2, 8)\n",
    "    for ε_next in 0:1    # ε=0 empleado ; ε=1 desempleado    en t+1\n",
    "        for z_next in 1:4\n",
    "            \n",
    "            gxn[1,1,ε_next*4+z_next] = gx[1,1,ε_next*4+z_next]\n",
    "            gxn[1,2,ε_next*4+z_next] = gx[1,1,ε_next*4+z_next]\n",
    "            \n",
    "            for x in 2:grid_p\n",
    "                dominio = K_grid[1:x]\n",
    "                imagen = gx[1:x,x,ε_next*4+z_next]\n",
    "                #imagen = Interpolations.deduplicate_knots!(imagen)\n",
    "                for ε_now in 1:2\n",
    "                    gxn[x,ε_now,ε_next*4+z_next] = LinearInterpolation(dominio, imagen, extrapolation_bc=Line())(K_opt[x,ε_now])\n",
    "                end\n",
    "            end\n",
    "        end\n",
    "    end\n",
    "    \n",
    "    return gxn\n",
    "end\n",
    "gxn_ej = construir_gxn(K_opt_ej, gx, Grids_ej);"
   ]
  },
  {
   "cell_type": "code",
   "execution_count": 79,
   "id": "623e1800",
   "metadata": {},
   "outputs": [],
   "source": [
    "function construir_gxn2(K_opt::Array, gx::Array, Grid)\n",
    "    \n",
    "    @unpack K_grid, X_grid, K_mat, X_mat, grid_p, b_min = Grid\n",
    "    \n",
    "    ### STEP 2 ###\n",
    "    \n",
    "    gxn = Array{Float64}(undef, grid_p, 2, 8)\n",
    "    for ε_next in 0:1    # ε=0 empleado ; ε=1 desempleado    en t+1\n",
    "        for z_next in 1:4      \n",
    "            for x in 1:grid_p\n",
    "                dominio = K_grid\n",
    "                imagen = gx[:,x,ε_next*4+z_next]\n",
    "                #imagen = Interpolations.deduplicate_knots!(imagen)\n",
    "                for ε_now in 1:2\n",
    "                    gxn[x,ε_now,ε_next*4+z_next] = LinearInterpolation(dominio, imagen, extrapolation_bc=Line())(K_opt[x,ε_now])\n",
    "                end\n",
    "            end\n",
    "        end\n",
    "    end\n",
    "    \n",
    "    return gxn\n",
    "end\n",
    "gxn_ej2 = construir_gxn2(K_opt_ej, gx, Grids_ej);"
   ]
  },
  {
   "cell_type": "code",
   "execution_count": 81,
   "id": "d3a6eb80",
   "metadata": {},
   "outputs": [
    {
     "data": {
      "text/plain": [
       "0.0"
      ]
     },
     "execution_count": 81,
     "metadata": {},
     "output_type": "execute_result"
    }
   ],
   "source": [
    "maximum((gxn_ej2-gxn_ej1).^2)"
   ]
  },
  {
   "cell_type": "code",
   "execution_count": 93,
   "id": "e2403a82",
   "metadata": {},
   "outputs": [
    {
     "data": {
      "text/plain": [
       "EGM_final (generic function with 1 method)"
      ]
     },
     "execution_count": 93,
     "metadata": {},
     "output_type": "execute_result"
    }
   ],
   "source": [
    "function EGM_final(gxn::Array, η_b::Array, gx::Array, r::Array, W::Float64, Para, Grid)\n",
    "    \n",
    "    @unpack Rf, n, Pn, Pr, β, γ, c_min = Para\n",
    "    @unpack K_grid, X_grid, K_mat, X_mat, grid_p, b_min = Grid\n",
    "    \n",
    "\n",
    "    C_next_opt = Array{Float64}(undef, grid_p, 2, 8)\n",
    "    for ε_next in 0:1    # ε=0 empleado ; ε=1 desempleado    en t+1\n",
    "        for z_next in 1:4\n",
    "            for ε_now in 1:2   # ε=1 empleado ; ε=2 desempleado   en t\n",
    "                C_next_opt[:, ε_now, 4*ε_next+z_next] = \n",
    "                X_grid*(1+Rf) + K_opt[:,ε_now] * (r[z_next]-Rf) .+ W*n[ε_next+1] .- gxn[:,ε_now,4*ε_next+z_next]\n",
    "            end\n",
    "        end\n",
    "    end\n",
    "    # C_next_opt = max.(C_next_opt,1e-10); It might be the case that you have debt a negatve return on capital and Inada's condition guarantees this, but just in case\n",
    "\n",
    "    E_UMg = similar(K_opt); E_UMge = similar(K_opt); E_UMgu = similar(K_opt); \n",
    "    for ε in 1:2 # estado laboral en t\n",
    "        E_UMge[:,ε] = UMg.(C_next_opt[:,ε,1:4],γ,c_min) * Pr # empleado en t+1\n",
    "        E_UMgu[:,ε] = UMg.(C_next_opt[:,ε,5:8],γ,c_min) * Pr # desempleado en t+1\n",
    "        E_UMg[:,ε] = Pn[ε,1] * E_UMge[:,ε] + Pn[ε,2] * E_UMgu[:,ε]\n",
    "    end\n",
    "    C_current = UMg_inv.( β*(1+Rf)*E_UMg + η_b ,γ,c_min);\n",
    "    \n",
    "    V_1 = C_current + repeat(X_grid, outer=[1,2]) - repeat(W*n, outer=[grid_p,1]) #<-\n",
    "    perm_e =  sortperm(V_1[:,1])\n",
    "    V_1e = V_1[perm_e,1]\n",
    "    V_1e=Interpolations.deduplicate_knots!(V_1e)\n",
    "    V_3e = LinearInterpolation(V_1e, X_grid[perm_e], extrapolation_bc=Line())\n",
    "    perm_u =  sortperm(V_1[:,2])\n",
    "    V_1u = V_1[perm_u,2]\n",
    "    V_1u=Interpolations.deduplicate_knots!(V_1u)\n",
    "    V_3u = LinearInterpolation(V_1u, X_grid[perm_u], extrapolation_bc=Line())\n",
    "\n",
    "    V_2 = Array{Float64}(undef, grid_p, grid_p, 4)\n",
    "    for z in 1:4 \n",
    "        V_2[:,:,z] =  X_mat*(1+Rf) + K_mat * (r[z]-Rf)\n",
    "    end\n",
    "      \n",
    "    gx_new = similar(gx)\n",
    "    for z in 1:4\n",
    "        gx_new[:, :,z  ] =  V_3e.(V_2[:,:,z])\n",
    "        gx_new[:, :,4+z] =  V_3u.(V_2[:,:,z])\n",
    "    end\n",
    "    \n",
    "    gx_new = max.(gx_new,b_min);\n",
    "\n",
    "    return gx_new, C_next_opt\n",
    "    \n",
    "end"
   ]
  },
  {
   "cell_type": "code",
   "execution_count": 94,
   "id": "a570ec3d",
   "metadata": {},
   "outputs": [
    {
     "data": {
      "text/plain": [
       "EGM (generic function with 1 method)"
      ]
     },
     "execution_count": 94,
     "metadata": {},
     "output_type": "execute_result"
    }
   ],
   "source": [
    "function EGM(gx::Array, r::Array, W::Float64, Para, Grid; all_outputs::Bool=false)\n",
    "    \n",
    "    @assert Para.b_min == Grid.b_min \"b_min en los Parámetros es $(Para.b_min), pero en la grilla es $(Grid.b_min)\"\n",
    "    \n",
    "    ### STEP 1 ###\n",
    "    \n",
    "    h = construir_h(gx, r, W, Para, Grid)\n",
    "\n",
    "    K_opt , η_b = construir_kappa(h, Grid)\n",
    "    \n",
    "    \n",
    "    ### STEP 2 ###\n",
    "    \n",
    "    gxn = construir_gxn(K_opt, gx, Grid)\n",
    "    \n",
    "    gx_new, C_next_opt = EGM_final(gxn, η_b, gx, r, W, Para, Grid)\n",
    "\n",
    "\n",
    "    if all_outputs==false\n",
    "        return gx_new\n",
    "    else\n",
    "        return gx_new, K_opt, gxn, C_next_opt\n",
    "    end\n",
    "    \n",
    "end"
   ]
  },
  {
   "cell_type": "code",
   "execution_count": 97,
   "id": "7cbc1bed",
   "metadata": {},
   "outputs": [
    {
     "data": {
      "text/plain": [
       "120×120×8 Array{Float64, 3}:\n",
       "[:, :, 1] =\n",
       " -5.31391    -5.27465    -5.15385    …  663.129  674.723  686.417  698.21\n",
       " -5.31356    -5.2743     -5.15348       663.129  674.724  686.417  698.211\n",
       " -5.31252    -5.27325    -5.15237       663.131  674.725  686.419  698.212\n",
       " -5.31077    -5.27151    -5.15051       663.133  674.727  686.421  698.214\n",
       " -5.30833    -5.26907    -5.1479        663.136  674.73   686.424  698.217\n",
       " -5.30519    -5.26593    -5.14456    …  663.14   674.734  686.428  698.221\n",
       " -5.30136    -5.26209    -5.14047       663.145  674.739  686.433  698.226\n",
       " -5.29682    -5.25756    -5.13564       663.151  674.745  686.439  698.232\n",
       " -5.29159    -5.25232    -5.13006       663.157  674.751  686.445  698.239\n",
       " -5.28566    -5.2464     -5.12374       663.165  674.759  686.453  698.246\n",
       " -5.27903    -5.23977    -5.11668    …  663.173  674.767  686.461  698.255\n",
       " -5.27171    -5.23244    -5.10887       663.182  674.777  686.471  698.264\n",
       " -5.26369    -5.22442    -5.10032       663.193  674.787  686.481  698.274\n",
       "  ⋮                                  ⋱                             \n",
       " -0.58269    -0.534658   -0.39056       668.285  679.879  691.573  703.366\n",
       " -0.490105   -0.442073   -0.297975      668.38   679.975  691.669  703.462\n",
       " -0.396667   -0.348634   -0.204536   …  668.477  680.072  691.765  703.559\n",
       " -0.302375   -0.254342   -0.110244      668.575  680.169  691.863  703.656\n",
       " -0.20723    -0.159197   -0.0150994     668.674  680.268  691.962  703.755\n",
       " -0.111231   -0.0631987   0.0812644     668.773  680.367  692.061  703.854\n",
       " -0.0143795   0.0336619   0.178847      668.873  680.468  692.161  703.955\n",
       "  0.0837092   0.132104    0.277289   …  668.975  680.569  692.263  704.056\n",
       "  0.183011    0.231406    0.376592      669.077  680.671  692.365  704.158\n",
       "  0.283173    0.331568    0.476753      669.18   680.774  692.468  704.261\n",
       "  0.384195    0.43259     0.577775      669.283  680.878  692.572  704.365\n",
       "  0.486076    0.534471    0.679656      669.388  680.983  692.676  704.47\n",
       "\n",
       "[:, :, 2] =\n",
       " -5.31391  -5.27465  -5.15385  …  663.129  674.723  686.417  698.21\n",
       " -5.31814  -5.27887  -5.15835     663.124  674.718  686.412  698.205\n",
       " -5.3308   -5.29153  -5.17185     663.108  674.702  686.396  698.189\n",
       " -5.35191  -5.31264  -5.19435     663.081  674.675  686.369  698.162\n",
       " -5.38146  -5.34219  -5.22439     663.043  674.638  686.331  698.125\n",
       " -5.41945  -5.38019  -5.26239  …  662.995  674.589  686.283  698.077\n",
       " -5.46589  -5.42662  -5.30882     662.936  674.531  686.224  698.018\n",
       " -5.52077  -5.4815   -5.3637      662.867  674.461  686.155  697.948\n",
       " -5.58106  -5.54483  -5.42703     662.787  674.381  686.075  697.868\n",
       " -5.64618  -5.61055  -5.49879     662.696  674.29   685.984  697.777\n",
       " -5.71897  -5.68334  -5.57644  …  662.594  674.188  685.882  697.675\n",
       " -5.79941  -5.76378  -5.65689     662.482  674.076  685.77   697.563\n",
       " -5.87344  -5.84358  -5.745       662.359  673.953  685.647  697.44\n",
       "  ⋮                            ⋱                             \n",
       " -6.0      -6.0      -6.0         600.729  612.323  624.017  635.81\n",
       " -6.0      -6.0      -6.0         599.568  611.162  622.856  634.649\n",
       " -6.0      -6.0      -6.0      …  598.397  609.991  621.684  633.478\n",
       " -6.0      -6.0      -6.0         597.215  608.808  620.502  632.295\n",
       " -6.0      -6.0      -6.0         596.022  607.615  619.309  631.102\n",
       " -6.0      -6.0      -6.0         594.818  606.412  618.105  629.899\n",
       " -6.0      -6.0      -6.0         593.603  605.197  616.891  628.684\n",
       " -6.0      -6.0      -6.0      …  592.378  603.972  615.666  627.459\n",
       " -6.0      -6.0      -6.0         591.143  602.737  614.43   626.223\n",
       " -6.0      -6.0      -6.0         589.896  601.49   613.184  624.977\n",
       " -6.0      -6.0      -6.0         588.639  600.233  611.926  623.72\n",
       " -6.0      -6.0      -6.0         587.371  598.965  610.659  622.452\n",
       "\n",
       "[:, :, 3] =\n",
       " -5.31391  -5.27465  -5.15385  …  663.129  674.723  686.417  698.21\n",
       " -5.31314  -5.27388  -5.15303     663.13   674.724  686.418  698.211\n",
       " -5.31084  -5.27157  -5.15057     663.133  674.727  686.421  698.214\n",
       " -5.30699  -5.26772  -5.14647     663.138  674.732  686.426  698.219\n",
       " -5.30161  -5.26234  -5.14073     663.145  674.739  686.433  698.226\n",
       " -5.29468  -5.25542  -5.13336  …  663.153  674.748  686.441  698.235\n",
       " -5.28622  -5.24696  -5.12434     663.164  674.758  686.452  698.246\n",
       " -5.27622  -5.23696  -5.11368     663.177  674.771  686.465  698.258\n",
       " -5.26468  -5.22542  -5.10138     663.191  674.786  686.479  698.273\n",
       " -5.25161  -5.21234  -5.08744     663.208  674.802  686.496  698.289\n",
       " -5.23699  -5.19742  -5.07186  …  663.226  674.821  686.515  698.308\n",
       " -5.22084  -5.18021  -5.05465     663.247  674.841  686.535  698.328\n",
       " -5.20315  -5.16135  -5.03579     663.269  674.864  686.557  698.351\n",
       "  ⋮                            ⋱                             \n",
       "  5.50027   5.54942   5.69689     674.499  686.093  697.787  709.58\n",
       "  5.70923   5.75839   5.90586     674.71   686.305  697.999  709.792\n",
       "  5.92012   5.96927   6.11674  …  674.924  686.518  698.212  710.005\n",
       "  6.13293   6.18208   6.32955     675.139  686.734  698.427  710.221\n",
       "  6.34767   6.39682   6.54429     675.357  686.951  698.645  710.438\n",
       "  6.56433   6.61349   6.76096     675.576  687.17   698.864  710.658\n",
       "  6.78296   6.83221   6.97995     675.797  687.392  699.085  710.879\n",
       "  7.00388   7.05313   7.20087  …  676.02   687.615  699.309  711.102\n",
       "  7.22673   7.27598   7.42372     676.246  687.84   699.534  711.327\n",
       "  7.45152   7.50076   7.64851     676.473  688.067  699.761  711.554\n",
       "  7.67823   7.72748   7.87522     676.702  688.296  699.99   711.783\n",
       "  7.90687   7.95612   8.10386     676.933  688.527  700.221  712.014\n",
       "\n",
       "[:, :, 4] =\n",
       " -5.31391  -5.27465  -5.15385  …  663.129  674.723  686.417  698.21\n",
       " -5.33098  -5.29171  -5.17204     663.107  674.702  686.395  698.189\n",
       " -5.38218  -5.34291  -5.22511     663.042  674.637  686.331  698.124\n",
       " -5.46751  -5.42824  -5.31044     662.934  674.529  686.222  698.016\n",
       " -5.58366  -5.5477   -5.4299      662.783  674.377  686.071  697.864\n",
       " -5.72304  -5.68741  -5.58051  …  662.588  674.183  685.876  697.67\n",
       " -5.87836  -5.8485   -5.75086     662.35   673.945  685.638  697.432\n",
       " -6.0      -5.99444  -5.92763     662.069  673.663  685.357  697.151\n",
       " -6.0      -6.0      -6.0         661.745  673.339  685.033  696.826\n",
       " -6.0      -6.0      -6.0         661.377  672.971  684.665  696.459\n",
       " -6.0      -6.0      -6.0      …  660.966  672.561  684.254  696.048\n",
       " -6.0      -6.0      -6.0         660.512  672.106  683.8    695.594\n",
       " -6.0      -6.0      -6.0         660.015  671.609  683.303  695.096\n",
       "  ⋮                            ⋱                             \n",
       " -6.0      -6.0      -6.0         410.894  422.486  434.178  445.969\n",
       " -6.0      -6.0      -6.0         406.202  417.794  429.485  441.277\n",
       " -6.0      -6.0      -6.0      …  401.467  413.059  424.75   436.541\n",
       " -6.0      -6.0      -6.0         396.688  408.28   419.971  431.762\n",
       " -6.0      -6.0      -6.0         391.867  403.458  415.15   426.941\n",
       " -6.0      -6.0      -6.0         387.002  398.593  410.285  422.075\n",
       " -6.0      -6.0      -6.0         382.094  393.685  405.376  417.167\n",
       " -6.0      -6.0      -6.0      …  377.143  388.734  400.425  412.216\n",
       " -6.0      -6.0      -6.0         372.148  383.739  395.43   407.221\n",
       " -6.0      -6.0      -6.0         367.111  378.702  390.393  402.183\n",
       " -6.0      -6.0      -6.0         362.03   373.621  385.312  397.102\n",
       " -6.0      -6.0      -6.0         356.906  368.497  380.187  391.978\n",
       "\n",
       "[:, :, 5] =\n",
       " -6.0       -5.99777   -5.91733   …  661.863  673.458  685.151  696.945\n",
       " -6.0       -5.99756   -5.91704      661.864  673.458  685.152  696.945\n",
       " -6.0       -5.99693   -5.91617      661.865  673.459  685.153  696.947\n",
       " -6.0       -5.99587   -5.91472      661.867  673.462  685.155  696.949\n",
       " -6.0       -5.99438   -5.91269      661.87   673.465  685.158  696.952\n",
       " -6.0       -5.99248   -5.91007   …  661.874  673.469  685.162  696.956\n",
       " -6.0       -5.99015   -5.90688      661.879  673.473  685.167  696.961\n",
       " -6.0       -5.98739   -5.9031       661.885  673.479  685.173  696.966\n",
       " -6.0       -5.98421   -5.89875      661.892  673.486  685.18   696.973\n",
       " -6.0       -5.98061   -5.89381      661.899  673.493  685.187  696.981\n",
       " -6.0       -5.97658   -5.88829   …  661.907  673.502  685.196  696.989\n",
       " -5.99599   -5.97213   -5.88219      661.917  673.511  685.205  696.998\n",
       " -5.99112   -5.96726   -5.87551      661.927  673.521  685.215  697.008\n",
       "  ⋮                               ⋱                             \n",
       " -1.69747   -1.65113   -1.5121       667.019  678.613  690.307  702.1\n",
       " -1.60814   -1.5618    -1.42277      667.115  678.709  690.403  702.196\n",
       " -1.51799   -1.47165   -1.33262   …  667.212  678.806  690.5    702.293\n",
       " -1.42702   -1.38068   -1.24165      667.309  678.904  690.597  702.391\n",
       " -1.33522   -1.28888   -1.14985      667.408  679.002  690.696  702.489\n",
       " -1.2426    -1.19626   -1.05723      667.507  679.102  690.795  702.589\n",
       " -1.14916   -1.10281   -0.962948     667.608  679.202  690.896  702.689\n",
       " -1.05489   -1.00845   -0.867125  …  667.709  679.303  690.997  702.79\n",
       " -0.958895  -0.911787  -0.770465     667.811  679.405  691.099  702.893\n",
       " -0.861398  -0.81429   -0.672968     667.914  679.508  691.202  702.995\n",
       " -0.763064  -0.715956  -0.574634     668.018  679.612  691.306  703.099\n",
       " -0.663893  -0.616786  -0.475463     668.123  679.717  691.411  703.204\n",
       "\n",
       "[:, :, 6] =\n",
       " -6.0  -5.99777  -5.91733  -5.74821  …  661.863  673.458  685.151  696.945\n",
       " -6.0  -6.0      -5.92085  -5.75215     661.858  673.452  685.146  696.939\n",
       " -6.0  -6.0      -5.9314   -5.76397     661.842  673.436  685.13   696.923\n",
       " -6.0  -6.0      -5.94897  -5.78367     661.815  673.409  685.103  696.897\n",
       " -6.0  -6.0      -5.96724  -5.8101      661.778  673.372  685.066  696.859\n",
       " -6.0  -6.0      -5.99033  -5.84173  …  661.73   673.324  685.018  696.811\n",
       " -6.0  -6.0      -6.0      -5.8804      661.671  673.265  684.959  696.752\n",
       " -6.0  -6.0      -6.0      -5.9261      661.601  673.195  684.889  696.683\n",
       " -6.0  -6.0      -6.0      -5.97107     661.521  673.115  684.809  696.602\n",
       " -6.0  -6.0      -6.0      -6.0         661.43   673.024  684.718  696.511\n",
       " -6.0  -6.0      -6.0      -6.0      …  661.328  672.923  684.616  696.41\n",
       " -6.0  -6.0      -6.0      -6.0         661.216  672.81   684.504  696.297\n",
       " -6.0  -6.0      -6.0      -6.0         661.093  672.687  684.381  696.174\n",
       "  ⋮                                  ⋱                             \n",
       " -6.0  -6.0      -6.0      -6.0         599.464  611.058  622.751  634.544\n",
       " -6.0  -6.0      -6.0      -6.0         598.303  609.897  621.59   633.384\n",
       " -6.0  -6.0      -6.0      -6.0      …  597.131  608.725  620.419  632.212\n",
       " -6.0  -6.0      -6.0      -6.0         595.949  607.543  619.236  631.03\n",
       " -6.0  -6.0      -6.0      -6.0         594.756  606.35   618.043  629.837\n",
       " -6.0  -6.0      -6.0      -6.0         593.552  605.146  616.84   628.633\n",
       " -6.0  -6.0      -6.0      -6.0         592.338  603.932  615.625  627.419\n",
       " -6.0  -6.0      -6.0      -6.0      …  591.113  602.707  614.4    626.193\n",
       " -6.0  -6.0      -6.0      -6.0         589.877  601.471  613.165  624.958\n",
       " -6.0  -6.0      -6.0      -6.0         588.631  600.225  611.918  623.711\n",
       " -6.0  -6.0      -6.0      -6.0         587.373  598.967  610.661  622.454\n",
       " -6.0  -6.0      -6.0      -6.0         586.106  597.699  609.393  621.186\n",
       "\n",
       "[:, :, 7] =\n",
       " -6.0      -5.99777  -5.91733  …  661.863  673.458  685.151  696.945\n",
       " -6.0      -5.99731  -5.91669     661.864  673.459  685.152  696.946\n",
       " -6.0      -5.99591  -5.91477     661.867  673.461  685.155  696.949\n",
       " -6.0      -5.99357  -5.91157     661.872  673.466  685.16   696.954\n",
       " -6.0      -5.9903   -5.90709     661.879  673.473  685.167  696.96\n",
       " -6.0      -5.98609  -5.90132  …  661.888  673.482  685.176  696.969\n",
       " -6.0      -5.98095  -5.89428     661.898  673.493  685.186  696.98\n",
       " -5.99873  -5.97488  -5.88595     661.911  673.505  685.199  696.993\n",
       " -5.99172  -5.96787  -5.87634     661.926  673.52   685.214  697.007\n",
       " -5.98378  -5.95992  -5.86545     661.942  673.537  685.23   697.024\n",
       " -5.9749   -5.95104  -5.85328  …  661.961  673.555  685.249  697.042\n",
       " -5.96508  -5.93792  -5.83983     661.981  673.576  685.269  697.063\n",
       " -5.95434  -5.92319  -5.8251      662.004  673.598  685.292  697.085\n",
       "  ⋮                            ⋱                             \n",
       "  4.27589   4.32474   4.47129     673.233  684.828  696.521  708.315\n",
       "  4.48355   4.5324    4.67894     673.445  685.039  696.733  708.526\n",
       "  4.69311   4.74196   4.88851  …  673.658  685.253  696.946  708.74\n",
       "  4.9046    4.95345   5.1         673.874  685.468  697.162  708.955\n",
       "  5.11799   5.16684   5.31375     674.091  685.685  697.379  709.173\n",
       "  5.33373   5.38276   5.52985     674.31   685.905  697.599  709.392\n",
       "  5.55176   5.60079   5.74787     674.532  686.126  697.82   709.613\n",
       "  5.7717    5.82073   5.96782  …  674.755  686.349  698.043  709.836\n",
       "  5.99357   6.0426    6.18969     674.98   686.574  698.268  710.062\n",
       "  6.21736   6.26639   6.41347     675.207  686.801  698.495  710.289\n",
       "  6.44306   6.49209   6.63918     675.436  687.031  698.724  710.518\n",
       "  6.67069   6.71972   6.86709     675.667  687.262  698.955  710.749\n",
       "\n",
       "[:, :, 8] =\n",
       " -6.0  -5.99777  -5.91733  -5.74821  …  661.863  673.458  685.151  696.945\n",
       " -6.0  -6.0      -5.93155  -5.76413     661.842  673.436  685.13   696.923\n",
       " -6.0  -6.0      -5.96768  -5.81069     661.777  673.371  685.065  696.858\n",
       " -6.0  -6.0      -6.0      -5.88175     661.669  673.263  684.957  696.75\n",
       " -6.0  -6.0      -6.0      -5.97282     661.517  673.112  684.805  696.599\n",
       " -6.0  -6.0      -6.0      -6.0      …  661.323  672.917  684.611  696.404\n",
       " -6.0  -6.0      -6.0      -6.0         661.085  672.679  684.373  696.166\n",
       " -6.0  -6.0      -6.0      -6.0         660.804  672.398  684.092  695.885\n",
       " -6.0  -6.0      -6.0      -6.0         660.479  672.073  683.767  695.561\n",
       " -6.0  -6.0      -6.0      -6.0         660.112  671.706  683.4    695.193\n",
       " -6.0  -6.0      -6.0      -6.0      …  659.701  671.295  682.989  694.782\n",
       " -6.0  -6.0      -6.0      -6.0         659.246  670.841  682.535  694.328\n",
       " -6.0  -6.0      -6.0      -6.0         658.749  670.343  682.037  693.83\n",
       "  ⋮                                  ⋱                             \n",
       " -6.0  -6.0      -6.0      -6.0         409.629  421.221  432.912  444.704\n",
       " -6.0  -6.0      -6.0      -6.0         404.937  416.529  428.22   440.011\n",
       " -6.0  -6.0      -6.0      -6.0      …  400.202  411.793  423.485  435.276\n",
       " -6.0  -6.0      -6.0      -6.0         395.423  407.015  418.706  430.497\n",
       " -6.0  -6.0      -6.0      -6.0         390.602  402.193  413.885  425.675\n",
       " -6.0  -6.0      -6.0      -6.0         385.737  397.328  409.02   420.81\n",
       " -6.0  -6.0      -6.0      -6.0         380.829  392.42   404.111  415.902\n",
       " -6.0  -6.0      -6.0      -6.0      …  375.878  387.469  399.16   410.951\n",
       " -6.0  -6.0      -6.0      -6.0         370.883  382.474  394.165  405.956\n",
       " -6.0  -6.0      -6.0      -6.0         365.846  377.437  389.127  400.918\n",
       " -6.0  -6.0      -6.0      -6.0         360.765  372.356  384.046  395.837\n",
       " -6.0  -6.0      -6.0      -6.0         355.641  367.232  378.922  390.713"
      ]
     },
     "execution_count": 97,
     "metadata": {},
     "output_type": "execute_result"
    }
   ],
   "source": [
    "gx_old = gx\n",
    "gx_new = EGM(gx_old,r_ss,W_ss,Para_ej,Grids_ej)"
   ]
  },
  {
   "cell_type": "code",
   "execution_count": 98,
   "id": "ec467ddb",
   "metadata": {},
   "outputs": [
    {
     "data": {
      "text/plain": [
       "0.004388502683905671"
      ]
     },
     "execution_count": 98,
     "metadata": {},
     "output_type": "execute_result"
    }
   ],
   "source": [
    "maximum(abs.(gx_old - gx_new))"
   ]
  },
  {
   "cell_type": "code",
   "execution_count": 120,
   "id": "ce7ad967",
   "metadata": {},
   "outputs": [
    {
     "data": {
      "text/plain": [
       "0.0001512666299792187"
      ]
     },
     "execution_count": 120,
     "metadata": {},
     "output_type": "execute_result"
    }
   ],
   "source": [
    "gx_old = gx_new\n",
    "gx_new = EGM(gx_old,r_ss,W_ss,Para_ej,Grids_ej)\n",
    "maximum(abs.(gx_old - gx_new))"
   ]
  }
 ],
 "metadata": {
  "author": "k",
  "kernelspec": {
   "display_name": "Julia 1.6.2",
   "language": "julia",
   "name": "julia-1.6"
  },
  "language_info": {
   "file_extension": ".jl",
   "mimetype": "application/julia",
   "name": "julia",
   "version": "1.6.2"
  },
  "latex_envs": {
   "LaTeX_envs_menu_present": true,
   "autoclose": false,
   "autocomplete": true,
   "bibliofile": "biblio.bib",
   "cite_by": "apalike",
   "current_citInitial": 1,
   "eqLabelWithNumbers": true,
   "eqNumInitial": 1,
   "hotkeys": {
    "equation": "Ctrl-E",
    "itemize": "Ctrl-I"
   },
   "labels_anchors": false,
   "latex_user_defs": false,
   "report_style_numbering": false,
   "user_envs_cfg": false
  },
  "varInspector": {
   "cols": {
    "lenName": 16,
    "lenType": 16,
    "lenVar": 40
   },
   "kernels_config": {
    "python": {
     "delete_cmd_postfix": "",
     "delete_cmd_prefix": "del ",
     "library": "var_list.py",
     "varRefreshCmd": "print(var_dic_list())"
    },
    "r": {
     "delete_cmd_postfix": ") ",
     "delete_cmd_prefix": "rm(",
     "library": "var_list.r",
     "varRefreshCmd": "cat(var_dic_list()) "
    }
   },
   "types_to_exclude": [
    "module",
    "function",
    "builtin_function_or_method",
    "instance",
    "_Feature"
   ],
   "window_display": false
  }
 },
 "nbformat": 4,
 "nbformat_minor": 5
}
